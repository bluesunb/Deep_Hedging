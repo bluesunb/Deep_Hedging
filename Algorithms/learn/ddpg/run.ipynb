{
 "cells": [
  {
   "cell_type": "code",
   "execution_count": 1,
   "outputs": [],
   "source": [
    "import torch as th\n",
    "import torch.nn as nn\n",
    "import matplotlib.pyplot as plt\n",
    "\n",
    "from pprint import pprint\n",
    "from Algorithms.ddpg import config"
   ],
   "metadata": {
    "collapsed": false,
    "pycharm": {
     "name": "#%%\n"
    }
   }
  },
  {
   "cell_type": "markdown",
   "source": [
    "# 0. Plot Setting"
   ],
   "metadata": {
    "collapsed": false
   }
  },
  {
   "cell_type": "code",
   "execution_count": 2,
   "metadata": {
    "collapsed": true
   },
   "outputs": [],
   "source": [
    "import seaborn as sb\n",
    "import matplotlib\n",
    "\n",
    "sb.set_style('whitegrid')\n",
    "\n",
    "FONTSIZE = 10\n",
    "matplotlib.rcParams[\"figure.figsize\"] = (10, 5)\n",
    "matplotlib.rcParams[\"figure.dpi\"] = 100\n",
    "matplotlib.rcParams[\"figure.titlesize\"] = FONTSIZE\n",
    "matplotlib.rcParams[\"legend.fontsize\"] = FONTSIZE\n",
    "matplotlib.rcParams[\"xtick.labelsize\"] = FONTSIZE\n",
    "matplotlib.rcParams[\"ytick.labelsize\"] = FONTSIZE\n",
    "matplotlib.rcParams[\"axes.labelsize\"] = FONTSIZE\n",
    "matplotlib.rcParams[\"axes.titlesize\"] = FONTSIZE\n",
    "matplotlib.rcParams[\"savefig.bbox\"] = \"tight\"\n",
    "matplotlib.rcParams[\"savefig.pad_inches\"] = 0.1\n",
    "matplotlib.rcParams[\"lines.linewidth\"] = 2\n",
    "matplotlib.rcParams[\"axes.linewidth\"] = 1.6"
   ]
  },
  {
   "cell_type": "markdown",
   "source": [
    "# 1. Model Setting"
   ],
   "metadata": {
    "collapsed": false
   }
  },
  {
   "cell_type": "markdown",
   "source": [
    "## 1.1 Load Config"
   ],
   "metadata": {
    "collapsed": false
   }
  },
  {
   "cell_type": "code",
   "execution_count": 3,
   "outputs": [
    {
     "name": "stdout",
     "output_type": "stream",
     "text": [
      "env 'BSMarket was created!\n",
      "env 'BSMarket was created!\n"
     ]
    }
   ],
   "source": [
    "env_kwargs, model_kwargs, learn_kwargs = config.load_config('tmp_config.yaml')"
   ],
   "metadata": {
    "collapsed": false,
    "pycharm": {
     "name": "#%%\n"
    }
   }
  },
  {
   "cell_type": "code",
   "execution_count": 4,
   "outputs": [],
   "source": [
    "ntb_mode = True\n",
    "double_ddpg = True\n",
    "\n",
    "env_kwargs.update({\n",
    "    'reward_fn': 'mean var',\n",
    "    'reward_fn_kwargs': {},\n",
    "    'reward_mode': 'pnl'\n",
    "})\n",
    "\n",
    "model_kwargs.update({\n",
    "    'buffer_size': 300,\n",
    "    'learning_starts': 300,\n",
    "    'batch_size': 15,\n",
    "    'std_coeff': 0.05\n",
    "})\n",
    "\n",
    "model_kwargs['policy_kwargs'].update({\n",
    "    'ntb_mode': ntb_mode,\n",
    "    'double_ddpg': double_ddpg,\n",
    "})\n",
    "\n",
    "learn_kwargs.update({\n",
    "    'total_timesteps': 1500\n",
    "})\n",
    "\n",
    "# del model_kwargs['std_coeff']\n",
    "\n",
    "if ntb_mode:\n",
    "    actor_net_kwargs = {'bn_kwargs': {'num_features': env_kwargs['n_assets']}}\n",
    "    critic_net_kwargs = {'bn_kwargs': {'num_features': env_kwargs['n_assets']}}\n",
    "\n",
    "\n",
    "    model_kwargs['policy_kwargs'].update({\n",
    "        'net_arch': {'pi': [(nn.BatchNorm1d, 'bn'), 32, 32],\n",
    "                     'qf': [(nn.BatchNorm1d, 'bn'), 2]},\n",
    "        'actor_net_kwargs': actor_net_kwargs,\n",
    "        'critic_net_kwargs': critic_net_kwargs,\n",
    "    })\n",
    "\n",
    "    model_kwargs['policy_kwargs']['features_extractor_kwargs'].update({\n",
    "        'features_out': 64,\n",
    "        'net_arch': [32]\n",
    "    })\n",
    "\n",
    "else:\n",
    "    model_kwargs['policy_kwargs'].update({\n",
    "        'net_arch': [],\n",
    "    })\n",
    "\n",
    "    model_kwargs['policy_kwargs']['features_extractor_kwargs'].update({\n",
    "        'features_out': 2,\n",
    "        'net_arch': [32, 64]\n",
    "    })\n",
    "\n",
    "model_kwargs['policy_kwargs']['one_asset'] = (env_kwargs['n_assets']==1)\n",
    "\n",
    "# model_kwargs['policy_kwargs']['features_extractor_kwargs'].update({\n",
    "#     'features_in': 5\n",
    "# })"
   ],
   "metadata": {
    "collapsed": false,
    "pycharm": {
     "name": "#%%\n"
    }
   }
  },
  {
   "cell_type": "code",
   "execution_count": 5,
   "outputs": [
    {
     "name": "stdout",
     "output_type": "stream",
     "text": [
      "env 'BSMarket was created!\n",
      "model_kwargs['env']: <BSMarket instance>\n",
      "env 'BSMarket was created!\n",
      "learn_kwargs['eval_env']: <BSMarketEval instance>\n",
      "learn_kwargs['tb_log_name']: ddpg_220615-2134\n",
      "learn_kwargs['eval_log_path']: ../logs/tb_logs/ddpg_220615-2134_1\n"
     ]
    }
   ],
   "source": [
    "config.reconstruct_config(env_kwargs, model_kwargs, learn_kwargs)"
   ],
   "metadata": {
    "collapsed": false,
    "pycharm": {
     "name": "#%%\n"
    }
   }
  },
  {
   "cell_type": "code",
   "execution_count": 6,
   "outputs": [
    {
     "name": "stdout",
     "output_type": "stream",
     "text": [
      "{'cost': 0.02,\n",
      " 'dividend': 0.0,\n",
      " 'drift': 0.0,\n",
      " 'freq': 1,\n",
      " 'gen_name': 'gbm',\n",
      " 'init_price': 1.0,\n",
      " 'maturity': 30,\n",
      " 'n_assets': 1000,\n",
      " 'payoff': 'european',\n",
      " 'payoff_coeff': 1.0,\n",
      " 'period_unit': 365,\n",
      " 'reward_fn': 'mean var',\n",
      " 'reward_fn_kwargs': {},\n",
      " 'reward_mode': 'pnl',\n",
      " 'risk_free_interest': 0.0,\n",
      " 'strike': 1.0,\n",
      " 'volatility': 0.2}\n"
     ]
    }
   ],
   "source": [
    "pprint(env_kwargs)"
   ],
   "metadata": {
    "collapsed": false,
    "pycharm": {
     "name": "#%%\n"
    }
   }
  },
  {
   "cell_type": "code",
   "execution_count": 7,
   "outputs": [
    {
     "name": "stdout",
     "output_type": "stream",
     "text": [
      "{'action_noise': NormalActionNoise(mu=0.0, sigma=0.1),\n",
      " 'batch_size': 15,\n",
      " 'buffer_size': 300,\n",
      " 'create_eval_env': False,\n",
      " 'device': 'auto',\n",
      " 'env': <Env.env.BSMarket object at 0x000002284FB5C1F0>,\n",
      " 'gamma': 0.99,\n",
      " 'gradient_steps': -1,\n",
      " 'learning_rate': <function lr_schedule at 0x000002284F984B80>,\n",
      " 'learning_starts': 300,\n",
      " 'optimize_memory_usage': False,\n",
      " 'policy': <class 'Algorithms.ddpg.policies.DoubleDDPGPolicy'>,\n",
      " 'policy_kwargs': {'activation_fn': <class 'torch.nn.modules.activation.ReLU'>,\n",
      "                   'actor_net_kwargs': {'bn_kwargs': {'num_features': 1000}},\n",
      "                   'critic_net_kwargs': {'bn_kwargs': {'num_features': 1000}},\n",
      "                   'double_ddpg': True,\n",
      "                   'features_extractor_class': <class 'Env.feature_extractor.MarketObsExtractor'>,\n",
      "                   'features_extractor_kwargs': {'activation_fn': <class 'torch.nn.modules.activation.ReLU'>,\n",
      "                                                 'features_in': 4,\n",
      "                                                 'features_out': 64,\n",
      "                                                 'last_activation_fn': <class 'torch.nn.modules.activation.ReLU'>,\n",
      "                                                 'net_arch': [32]},\n",
      "                   'n_critics': 1,\n",
      "                   'net_arch': {'pi': [(<class 'torch.nn.modules.batchnorm.BatchNorm1d'>,\n",
      "                                        'bn'),\n",
      "                                       32,\n",
      "                                       32],\n",
      "                                'qf': [(<class 'torch.nn.modules.batchnorm.BatchNorm1d'>,\n",
      "                                        'bn'),\n",
      "                                       2]},\n",
      "                   'normalize_images': False,\n",
      "                   'ntb_mode': True,\n",
      "                   'one_asset': False,\n",
      "                   'optimizer_class': <class 'torch.optim.adam.Adam'>,\n",
      "                   'optimizer_kwargs': None,\n",
      "                   'share_features_extractor': True},\n",
      " 'replay_buffer_class': <class 'Env.buffers.CustomReplayBuffer'>,\n",
      " 'replay_buffer_kwargs': {},\n",
      " 'seed': 42,\n",
      " 'std_coeff': 0.05,\n",
      " 'tau': 0.005,\n",
      " 'tensorboard_log': '../logs/tb_logs',\n",
      " 'train_freq': (1, 'episode'),\n",
      " 'verbose': 1}\n"
     ]
    }
   ],
   "source": [
    "pprint(model_kwargs)"
   ],
   "metadata": {
    "collapsed": false,
    "pycharm": {
     "name": "#%%\n"
    }
   }
  },
  {
   "cell_type": "code",
   "execution_count": 8,
   "outputs": [
    {
     "name": "stdout",
     "output_type": "stream",
     "text": [
      "{'callback': <Algorithms.ddpg.callbacks.ReportCallbacks object at 0x000002284FAE6FD0>,\n",
      " 'eval_env': <Env.env.BSMarketEval object at 0x0000022818FF2A30>,\n",
      " 'eval_freq': 30,\n",
      " 'eval_log_path': '../logs/tb_logs/ddpg_220615-2134_1',\n",
      " 'log_interval': 30,\n",
      " 'n_eval_episodes': 1,\n",
      " 'reset_num_timesteps': True,\n",
      " 'tb_log_name': 'ddpg_220615-2134',\n",
      " 'total_timesteps': 1500}\n"
     ]
    }
   ],
   "source": [
    "pprint(learn_kwargs)"
   ],
   "metadata": {
    "collapsed": false,
    "pycharm": {
     "name": "#%%\n"
    }
   }
  },
  {
   "cell_type": "markdown",
   "source": [
    "## 1.2 Make env, model"
   ],
   "metadata": {
    "collapsed": false
   }
  },
  {
   "cell_type": "code",
   "execution_count": 9,
   "outputs": [
    {
     "name": "stdout",
     "output_type": "stream",
     "text": [
      "Using cuda device\n",
      "Wrapping the env with a `Monitor` wrapper\n",
      "Wrapping the env in a DummyVecEnv.\n"
     ]
    }
   ],
   "source": [
    "from Algorithms.ddpg import DoubleDDPG\n",
    "from stable_baselines3.ddpg import DDPG\n",
    "# from Algorithms.ddpg.double_ddpg import DDPG\n",
    "\n",
    "# model = DoubleDDPG(**model_kwargs)\n",
    "model = DoubleDDPG(**model_kwargs)"
   ],
   "metadata": {
    "collapsed": false,
    "pycharm": {
     "name": "#%%\n"
    }
   }
  },
  {
   "cell_type": "code",
   "execution_count": 10,
   "outputs": [
    {
     "data": {
      "text/plain": "DoubleDDPGPolicy(\n  (actor): CustomActor(\n    (features_extractor): MarketObsExtractor(\n      (layers): Sequential(\n        (0): BatchNorm1d(1000, eps=1e-05, momentum=0.1, affine=True, track_running_stats=True)\n        (1): Linear(in_features=4, out_features=32, bias=True)\n        (2): ReLU()\n        (3): BatchNorm1d(1000, eps=1e-05, momentum=0.1, affine=True, track_running_stats=True)\n        (4): Linear(in_features=32, out_features=64, bias=True)\n        (5): ReLU()\n      )\n    )\n    (mu): Sequential(\n      (0): BatchNorm1d(1000, eps=1e-05, momentum=0.1, affine=True, track_running_stats=True)\n      (1): Linear(in_features=64, out_features=32, bias=True)\n      (2): ReLU()\n      (3): Linear(in_features=32, out_features=32, bias=True)\n      (4): ReLU()\n      (5): Linear(in_features=32, out_features=2, bias=True)\n      (6): Tanh()\n    )\n    (flatten): Flatten(start_dim=-2, end_dim=-1)\n  )\n  (actor_target): CustomActor(\n    (features_extractor): MarketObsExtractor(\n      (layers): Sequential(\n        (0): BatchNorm1d(1000, eps=1e-05, momentum=0.1, affine=True, track_running_stats=True)\n        (1): Linear(in_features=4, out_features=32, bias=True)\n        (2): ReLU()\n        (3): BatchNorm1d(1000, eps=1e-05, momentum=0.1, affine=True, track_running_stats=True)\n        (4): Linear(in_features=32, out_features=64, bias=True)\n        (5): ReLU()\n      )\n    )\n    (mu): Sequential(\n      (0): BatchNorm1d(1000, eps=1e-05, momentum=0.1, affine=True, track_running_stats=True)\n      (1): Linear(in_features=64, out_features=32, bias=True)\n      (2): ReLU()\n      (3): Linear(in_features=32, out_features=32, bias=True)\n      (4): ReLU()\n      (5): Linear(in_features=32, out_features=2, bias=True)\n      (6): Tanh()\n    )\n    (flatten): Flatten(start_dim=-2, end_dim=-1)\n  )\n  (critic): CustomContinuousCritic(\n    (features_extractor): MarketObsExtractor(\n      (layers): Sequential(\n        (0): BatchNorm1d(1000, eps=1e-05, momentum=0.1, affine=True, track_running_stats=True)\n        (1): Linear(in_features=4, out_features=32, bias=True)\n        (2): ReLU()\n        (3): BatchNorm1d(1000, eps=1e-05, momentum=0.1, affine=True, track_running_stats=True)\n        (4): Linear(in_features=32, out_features=64, bias=True)\n        (5): ReLU()\n      )\n    )\n    (qf0): Sequential(\n      (0): BatchNorm1d(1000, eps=1e-05, momentum=0.1, affine=True, track_running_stats=True)\n      (1): Linear(in_features=65, out_features=2, bias=True)\n      (2): ReLU()\n      (3): Linear(in_features=2, out_features=1, bias=True)\n    )\n  )\n  (critic_target): CustomContinuousCritic(\n    (features_extractor): MarketObsExtractor(\n      (layers): Sequential(\n        (0): BatchNorm1d(1000, eps=1e-05, momentum=0.1, affine=True, track_running_stats=True)\n        (1): Linear(in_features=4, out_features=32, bias=True)\n        (2): ReLU()\n        (3): BatchNorm1d(1000, eps=1e-05, momentum=0.1, affine=True, track_running_stats=True)\n        (4): Linear(in_features=32, out_features=64, bias=True)\n        (5): ReLU()\n      )\n    )\n    (qf0): Sequential(\n      (0): BatchNorm1d(1000, eps=1e-05, momentum=0.1, affine=True, track_running_stats=True)\n      (1): Linear(in_features=65, out_features=2, bias=True)\n      (2): ReLU()\n      (3): Linear(in_features=2, out_features=1, bias=True)\n    )\n  )\n  (critic2): CustomContinuousCritic(\n    (features_extractor): MarketObsExtractor(\n      (layers): Sequential(\n        (0): BatchNorm1d(1000, eps=1e-05, momentum=0.1, affine=True, track_running_stats=True)\n        (1): Linear(in_features=4, out_features=32, bias=True)\n        (2): ReLU()\n        (3): BatchNorm1d(1000, eps=1e-05, momentum=0.1, affine=True, track_running_stats=True)\n        (4): Linear(in_features=32, out_features=64, bias=True)\n        (5): ReLU()\n      )\n    )\n    (qf0): Sequential(\n      (0): BatchNorm1d(1000, eps=1e-05, momentum=0.1, affine=True, track_running_stats=True)\n      (1): Linear(in_features=65, out_features=2, bias=True)\n      (2): ReLU()\n      (3): Linear(in_features=2, out_features=1, bias=True)\n    )\n  )\n  (critic2_target): CustomContinuousCritic(\n    (features_extractor): MarketObsExtractor(\n      (layers): Sequential(\n        (0): BatchNorm1d(1000, eps=1e-05, momentum=0.1, affine=True, track_running_stats=True)\n        (1): Linear(in_features=4, out_features=32, bias=True)\n        (2): ReLU()\n        (3): BatchNorm1d(1000, eps=1e-05, momentum=0.1, affine=True, track_running_stats=True)\n        (4): Linear(in_features=32, out_features=64, bias=True)\n        (5): ReLU()\n      )\n    )\n    (qf0): Sequential(\n      (0): BatchNorm1d(1000, eps=1e-05, momentum=0.1, affine=True, track_running_stats=True)\n      (1): Linear(in_features=65, out_features=2, bias=True)\n      (2): ReLU()\n      (3): Linear(in_features=2, out_features=1, bias=True)\n    )\n  )\n)"
     },
     "execution_count": 10,
     "metadata": {},
     "output_type": "execute_result"
    }
   ],
   "source": [
    "model.policy"
   ],
   "metadata": {
    "collapsed": false,
    "pycharm": {
     "name": "#%%\n"
    }
   }
  },
  {
   "cell_type": "markdown",
   "source": [
    "# 2. Learning"
   ],
   "metadata": {
    "collapsed": false
   }
  },
  {
   "cell_type": "code",
   "execution_count": 11,
   "outputs": [
    {
     "name": "stdout",
     "output_type": "stream",
     "text": [
      "Wrapping the env with a `Monitor` wrapper\n",
      "Wrapping the env in a DummyVecEnv.\n",
      "Logging to ../logs/tb_logs\\ddpg_220615-2134_1\n",
      "[Training Start]\n",
      "Eval num_timesteps=30, episode_reward=-0.02 +/- 0.00\n",
      "Episode length: 30.00 +/- 0.00\n",
      "---------------------------------\n",
      "| eval/              |          |\n",
      "|    mean_ep_length  | 30       |\n",
      "|    mean_reward     | -0.0155  |\n",
      "| time/              |          |\n",
      "|    total timesteps | 30       |\n",
      "---------------------------------\n",
      "New best mean reward!\n",
      "Eval num_timesteps=60, episode_reward=-0.02 +/- 0.00\n",
      "Episode length: 30.00 +/- 0.00\n",
      "---------------------------------\n",
      "| eval/              |          |\n",
      "|    mean_ep_length  | 30       |\n",
      "|    mean_reward     | -0.0162  |\n",
      "| time/              |          |\n",
      "|    total timesteps | 60       |\n",
      "---------------------------------\n",
      "Eval num_timesteps=90, episode_reward=-0.01 +/- 0.00\n",
      "Episode length: 30.00 +/- 0.00\n",
      "---------------------------------\n",
      "| eval/              |          |\n",
      "|    mean_ep_length  | 30       |\n",
      "|    mean_reward     | -0.0139  |\n",
      "| time/              |          |\n",
      "|    total timesteps | 90       |\n",
      "---------------------------------\n",
      "New best mean reward!\n",
      "Eval num_timesteps=120, episode_reward=-0.02 +/- 0.00\n",
      "Episode length: 30.00 +/- 0.00\n",
      "---------------------------------\n",
      "| eval/              |          |\n",
      "|    mean_ep_length  | 30       |\n",
      "|    mean_reward     | -0.0153  |\n",
      "| time/              |          |\n",
      "|    total timesteps | 120      |\n",
      "---------------------------------\n",
      "Eval num_timesteps=150, episode_reward=-0.01 +/- 0.00\n",
      "Episode length: 30.00 +/- 0.00\n",
      "---------------------------------\n",
      "| eval/              |          |\n",
      "|    mean_ep_length  | 30       |\n",
      "|    mean_reward     | -0.0148  |\n",
      "| time/              |          |\n",
      "|    total timesteps | 150      |\n",
      "---------------------------------\n",
      "Eval num_timesteps=180, episode_reward=-0.02 +/- 0.00\n",
      "Episode length: 30.00 +/- 0.00\n",
      "---------------------------------\n",
      "| eval/              |          |\n",
      "|    mean_ep_length  | 30       |\n",
      "|    mean_reward     | -0.0157  |\n",
      "| time/              |          |\n",
      "|    total timesteps | 180      |\n",
      "---------------------------------\n",
      "Eval num_timesteps=210, episode_reward=-0.02 +/- 0.00\n",
      "Episode length: 30.00 +/- 0.00\n",
      "---------------------------------\n",
      "| eval/              |          |\n",
      "|    mean_ep_length  | 30       |\n",
      "|    mean_reward     | -0.0156  |\n",
      "| time/              |          |\n",
      "|    total timesteps | 210      |\n",
      "---------------------------------\n",
      "Eval num_timesteps=240, episode_reward=-0.01 +/- 0.00\n",
      "Episode length: 30.00 +/- 0.00\n",
      "---------------------------------\n",
      "| eval/              |          |\n",
      "|    mean_ep_length  | 30       |\n",
      "|    mean_reward     | -0.0143  |\n",
      "| time/              |          |\n",
      "|    total timesteps | 240      |\n",
      "---------------------------------\n",
      "Eval num_timesteps=270, episode_reward=-0.02 +/- 0.00\n",
      "Episode length: 30.00 +/- 0.00\n",
      "---------------------------------\n",
      "| eval/              |          |\n",
      "|    mean_ep_length  | 30       |\n",
      "|    mean_reward     | -0.0153  |\n",
      "| time/              |          |\n",
      "|    total timesteps | 270      |\n",
      "---------------------------------\n",
      "Eval num_timesteps=300, episode_reward=-0.01 +/- 0.00\n",
      "Episode length: 30.00 +/- 0.00\n",
      "---------------------------------\n",
      "| eval/              |          |\n",
      "|    mean_ep_length  | 30       |\n",
      "|    mean_reward     | -0.0144  |\n",
      "| time/              |          |\n",
      "|    total timesteps | 300      |\n",
      "---------------------------------\n",
      "Eval num_timesteps=330, episode_reward=-0.02 +/- 0.00\n",
      "Episode length: 30.00 +/- 0.00\n",
      "---------------------------------\n",
      "| eval/              |          |\n",
      "|    mean_ep_length  | 30       |\n",
      "|    mean_reward     | -0.0152  |\n",
      "| time/              |          |\n",
      "|    total timesteps | 330      |\n",
      "---------------------------------\n",
      "Eval num_timesteps=360, episode_reward=-0.02 +/- 0.00\n",
      "Episode length: 30.00 +/- 0.00\n",
      "---------------------------------\n",
      "| eval/              |          |\n",
      "|    mean_ep_length  | 30       |\n",
      "|    mean_reward     | -0.0226  |\n",
      "| time/              |          |\n",
      "|    total timesteps | 360      |\n",
      "| train/             |          |\n",
      "|    actor_loss      | 0.339    |\n",
      "|    critic2_loss    | 0.0104   |\n",
      "|    critic_loss     | 0.0104   |\n",
      "|    learning_rate   | 0.00203  |\n",
      "|    mean_cost_loss  | -0.315   |\n",
      "|    n_updates       | 30       |\n",
      "|    std_cost_loss   | 0.0235   |\n",
      "---------------------------------\n",
      "Eval num_timesteps=390, episode_reward=-0.02 +/- 0.00\n",
      "Episode length: 30.00 +/- 0.00\n",
      "---------------------------------\n",
      "| eval/              |          |\n",
      "|    mean_ep_length  | 30       |\n",
      "|    mean_reward     | -0.0231  |\n",
      "| time/              |          |\n",
      "|    total timesteps | 390      |\n",
      "| train/             |          |\n",
      "|    actor_loss      | 0.329    |\n",
      "|    critic2_loss    | 0.000775 |\n",
      "|    critic_loss     | 0.00267  |\n",
      "|    learning_rate   | 0.00189  |\n",
      "|    mean_cost_loss  | -0.306   |\n",
      "|    n_updates       | 60       |\n",
      "|    std_cost_loss   | 0.0228   |\n",
      "---------------------------------\n",
      "Eval num_timesteps=420, episode_reward=-0.02 +/- 0.00\n",
      "Episode length: 30.00 +/- 0.00\n",
      "---------------------------------\n",
      "| eval/              |          |\n",
      "|    mean_ep_length  | 30       |\n",
      "|    mean_reward     | -0.0239  |\n",
      "| time/              |          |\n",
      "|    total timesteps | 420      |\n",
      "| train/             |          |\n",
      "|    actor_loss      | 0.336    |\n",
      "|    critic2_loss    | 0.000552 |\n",
      "|    critic_loss     | 0.00296  |\n",
      "|    learning_rate   | 0.00176  |\n",
      "|    mean_cost_loss  | -0.313   |\n",
      "|    n_updates       | 90       |\n",
      "|    std_cost_loss   | 0.0227   |\n",
      "---------------------------------\n",
      "Eval num_timesteps=450, episode_reward=-0.02 +/- 0.00\n",
      "Episode length: 30.00 +/- 0.00\n",
      "---------------------------------\n",
      "| eval/              |          |\n",
      "|    mean_ep_length  | 30       |\n",
      "|    mean_reward     | -0.0227  |\n",
      "| time/              |          |\n",
      "|    total timesteps | 450      |\n",
      "| train/             |          |\n",
      "|    actor_loss      | 0.33     |\n",
      "|    critic2_loss    | 0.000361 |\n",
      "|    critic_loss     | 0.00248  |\n",
      "|    learning_rate   | 0.00165  |\n",
      "|    mean_cost_loss  | -0.308   |\n",
      "|    n_updates       | 120      |\n",
      "|    std_cost_loss   | 0.0226   |\n",
      "---------------------------------\n",
      "Eval num_timesteps=480, episode_reward=-0.02 +/- 0.00\n",
      "Episode length: 30.00 +/- 0.00\n",
      "---------------------------------\n",
      "| eval/              |          |\n",
      "|    mean_ep_length  | 30       |\n",
      "|    mean_reward     | -0.0209  |\n",
      "| time/              |          |\n",
      "|    total timesteps | 480      |\n",
      "| train/             |          |\n",
      "|    actor_loss      | 0.323    |\n",
      "|    critic2_loss    | 0.000443 |\n",
      "|    critic_loss     | 0.00311  |\n",
      "|    learning_rate   | 0.00155  |\n",
      "|    mean_cost_loss  | -0.301   |\n",
      "|    n_updates       | 150      |\n",
      "|    std_cost_loss   | 0.0222   |\n",
      "---------------------------------\n",
      "Eval num_timesteps=510, episode_reward=-0.02 +/- 0.00\n",
      "Episode length: 30.00 +/- 0.00\n",
      "---------------------------------\n",
      "| eval/              |          |\n",
      "|    mean_ep_length  | 30       |\n",
      "|    mean_reward     | -0.0215  |\n",
      "| time/              |          |\n",
      "|    total timesteps | 510      |\n",
      "| train/             |          |\n",
      "|    actor_loss      | 0.32     |\n",
      "|    critic2_loss    | 0.000242 |\n",
      "|    critic_loss     | 0.00181  |\n",
      "|    learning_rate   | 0.00145  |\n",
      "|    mean_cost_loss  | -0.298   |\n",
      "|    n_updates       | 180      |\n",
      "|    std_cost_loss   | 0.022    |\n",
      "---------------------------------\n",
      "Eval num_timesteps=540, episode_reward=-0.02 +/- 0.00\n",
      "Episode length: 30.00 +/- 0.00\n",
      "---------------------------------\n",
      "| eval/              |          |\n",
      "|    mean_ep_length  | 30       |\n",
      "|    mean_reward     | -0.0222  |\n",
      "| time/              |          |\n",
      "|    total timesteps | 540      |\n",
      "| train/             |          |\n",
      "|    actor_loss      | 0.32     |\n",
      "|    critic2_loss    | 0.000233 |\n",
      "|    critic_loss     | 0.00178  |\n",
      "|    learning_rate   | 0.00136  |\n",
      "|    mean_cost_loss  | -0.298   |\n",
      "|    n_updates       | 210      |\n",
      "|    std_cost_loss   | 0.0219   |\n",
      "---------------------------------\n",
      "Eval num_timesteps=570, episode_reward=-0.02 +/- 0.00\n",
      "Episode length: 30.00 +/- 0.00\n",
      "---------------------------------\n",
      "| eval/              |          |\n",
      "|    mean_ep_length  | 30       |\n",
      "|    mean_reward     | -0.0225  |\n",
      "| time/              |          |\n",
      "|    total timesteps | 570      |\n",
      "| train/             |          |\n",
      "|    actor_loss      | 0.318    |\n",
      "|    critic2_loss    | 0.000316 |\n",
      "|    critic_loss     | 0.00244  |\n",
      "|    learning_rate   | 0.00128  |\n",
      "|    mean_cost_loss  | -0.296   |\n",
      "|    n_updates       | 240      |\n",
      "|    std_cost_loss   | 0.0217   |\n",
      "---------------------------------\n",
      "Eval num_timesteps=600, episode_reward=-0.02 +/- 0.00\n",
      "Episode length: 30.00 +/- 0.00\n",
      "---------------------------------\n",
      "| eval/              |          |\n",
      "|    mean_ep_length  | 30       |\n",
      "|    mean_reward     | -0.0229  |\n",
      "| time/              |          |\n",
      "|    total timesteps | 600      |\n",
      "| train/             |          |\n",
      "|    actor_loss      | 0.313    |\n",
      "|    critic2_loss    | 0.000332 |\n",
      "|    critic_loss     | 0.00258  |\n",
      "|    learning_rate   | 0.00121  |\n",
      "|    mean_cost_loss  | -0.292   |\n",
      "|    n_updates       | 270      |\n",
      "|    std_cost_loss   | 0.0214   |\n",
      "---------------------------------\n",
      "Eval num_timesteps=630, episode_reward=-0.02 +/- 0.00\n",
      "Episode length: 30.00 +/- 0.00\n",
      "---------------------------------\n",
      "| eval/              |          |\n",
      "|    mean_ep_length  | 30       |\n",
      "|    mean_reward     | -0.0235  |\n",
      "| time/              |          |\n",
      "|    total timesteps | 630      |\n",
      "| train/             |          |\n",
      "|    actor_loss      | 0.31     |\n",
      "|    critic2_loss    | 0.00039  |\n",
      "|    critic_loss     | 0.00301  |\n",
      "|    learning_rate   | 0.00115  |\n",
      "|    mean_cost_loss  | -0.289   |\n",
      "|    n_updates       | 300      |\n",
      "|    std_cost_loss   | 0.0213   |\n",
      "---------------------------------\n",
      "Eval num_timesteps=660, episode_reward=-0.02 +/- 0.00\n",
      "Episode length: 30.00 +/- 0.00\n",
      "---------------------------------\n",
      "| eval/              |          |\n",
      "|    mean_ep_length  | 30       |\n",
      "|    mean_reward     | -0.0231  |\n",
      "| time/              |          |\n",
      "|    total timesteps | 660      |\n",
      "| train/             |          |\n",
      "|    actor_loss      | 0.31     |\n",
      "|    critic2_loss    | 0.000197 |\n",
      "|    critic_loss     | 0.00152  |\n",
      "|    learning_rate   | 0.00108  |\n",
      "|    mean_cost_loss  | -0.289   |\n",
      "|    n_updates       | 330      |\n",
      "|    std_cost_loss   | 0.0213   |\n",
      "---------------------------------\n",
      "Eval num_timesteps=690, episode_reward=-0.02 +/- 0.00\n",
      "Episode length: 30.00 +/- 0.00\n",
      "---------------------------------\n",
      "| eval/              |          |\n",
      "|    mean_ep_length  | 30       |\n",
      "|    mean_reward     | -0.0229  |\n",
      "| time/              |          |\n",
      "|    total timesteps | 690      |\n",
      "| train/             |          |\n",
      "|    actor_loss      | 0.31     |\n",
      "|    critic2_loss    | 0.000279 |\n",
      "|    critic_loss     | 0.00215  |\n",
      "|    learning_rate   | 0.00103  |\n",
      "|    mean_cost_loss  | -0.288   |\n",
      "|    n_updates       | 360      |\n",
      "|    std_cost_loss   | 0.0212   |\n",
      "---------------------------------\n",
      "Eval num_timesteps=720, episode_reward=-0.02 +/- 0.00\n",
      "Episode length: 30.00 +/- 0.00\n",
      "---------------------------------\n",
      "| eval/              |          |\n",
      "|    mean_ep_length  | 30       |\n",
      "|    mean_reward     | -0.0215  |\n",
      "| time/              |          |\n",
      "|    total timesteps | 720      |\n",
      "| train/             |          |\n",
      "|    actor_loss      | 0.308    |\n",
      "|    critic2_loss    | 0.000359 |\n",
      "|    critic_loss     | 0.00277  |\n",
      "|    learning_rate   | 0.000979 |\n",
      "|    mean_cost_loss  | -0.287   |\n",
      "|    n_updates       | 390      |\n",
      "|    std_cost_loss   | 0.0211   |\n",
      "---------------------------------\n",
      "Eval num_timesteps=750, episode_reward=-0.02 +/- 0.00\n",
      "Episode length: 30.00 +/- 0.00\n",
      "---------------------------------\n",
      "| eval/              |          |\n",
      "|    mean_ep_length  | 30       |\n",
      "|    mean_reward     | -0.0243  |\n",
      "| time/              |          |\n",
      "|    total timesteps | 750      |\n",
      "| train/             |          |\n",
      "|    actor_loss      | 0.305    |\n",
      "|    critic2_loss    | 0.000232 |\n",
      "|    critic_loss     | 0.00179  |\n",
      "|    learning_rate   | 0.000932 |\n",
      "|    mean_cost_loss  | -0.284   |\n",
      "|    n_updates       | 420      |\n",
      "|    std_cost_loss   | 0.021    |\n",
      "---------------------------------\n",
      "Eval num_timesteps=780, episode_reward=-0.02 +/- 0.00\n",
      "Episode length: 30.00 +/- 0.00\n",
      "---------------------------------\n",
      "| eval/              |          |\n",
      "|    mean_ep_length  | 30       |\n",
      "|    mean_reward     | -0.0216  |\n",
      "| time/              |          |\n",
      "|    total timesteps | 780      |\n",
      "| train/             |          |\n",
      "|    actor_loss      | 0.305    |\n",
      "|    critic2_loss    | 0.000249 |\n",
      "|    critic_loss     | 0.00193  |\n",
      "|    learning_rate   | 0.000889 |\n",
      "|    mean_cost_loss  | -0.284   |\n",
      "|    n_updates       | 450      |\n",
      "|    std_cost_loss   | 0.021    |\n",
      "---------------------------------\n",
      "Eval num_timesteps=810, episode_reward=-0.02 +/- 0.00\n",
      "Episode length: 30.00 +/- 0.00\n",
      "---------------------------------\n",
      "| eval/              |          |\n",
      "|    mean_ep_length  | 30       |\n",
      "|    mean_reward     | -0.0221  |\n",
      "| time/              |          |\n",
      "|    total timesteps | 810      |\n",
      "| train/             |          |\n",
      "|    actor_loss      | 0.304    |\n",
      "|    critic2_loss    | 0.000347 |\n",
      "|    critic_loss     | 0.00269  |\n",
      "|    learning_rate   | 0.00085  |\n",
      "|    mean_cost_loss  | -0.283   |\n",
      "|    n_updates       | 480      |\n",
      "|    std_cost_loss   | 0.0209   |\n",
      "---------------------------------\n",
      "Eval num_timesteps=840, episode_reward=-0.02 +/- 0.00\n",
      "Episode length: 30.00 +/- 0.00\n",
      "---------------------------------\n",
      "| eval/              |          |\n",
      "|    mean_ep_length  | 30       |\n",
      "|    mean_reward     | -0.0219  |\n",
      "| time/              |          |\n",
      "|    total timesteps | 840      |\n",
      "| train/             |          |\n",
      "|    actor_loss      | 0.301    |\n",
      "|    critic2_loss    | 0.000205 |\n",
      "|    critic_loss     | 0.0016   |\n",
      "|    learning_rate   | 0.000814 |\n",
      "|    mean_cost_loss  | -0.281   |\n",
      "|    n_updates       | 510      |\n",
      "|    std_cost_loss   | 0.0208   |\n",
      "---------------------------------\n",
      "Eval num_timesteps=870, episode_reward=-0.02 +/- 0.00\n",
      "Episode length: 30.00 +/- 0.00\n",
      "---------------------------------\n",
      "| eval/              |          |\n",
      "|    mean_ep_length  | 30       |\n",
      "|    mean_reward     | -0.0221  |\n",
      "| time/              |          |\n",
      "|    total timesteps | 870      |\n",
      "| train/             |          |\n",
      "|    actor_loss      | 0.301    |\n",
      "|    critic2_loss    | 0.000262 |\n",
      "|    critic_loss     | 0.00204  |\n",
      "|    learning_rate   | 0.000781 |\n",
      "|    mean_cost_loss  | -0.28    |\n",
      "|    n_updates       | 540      |\n",
      "|    std_cost_loss   | 0.0208   |\n",
      "---------------------------------\n",
      "Eval num_timesteps=900, episode_reward=-0.02 +/- 0.00\n",
      "Episode length: 30.00 +/- 0.00\n",
      "---------------------------------\n",
      "| eval/              |          |\n",
      "|    mean_ep_length  | 30       |\n",
      "|    mean_reward     | -0.0231  |\n",
      "| time/              |          |\n",
      "|    total timesteps | 900      |\n",
      "| train/             |          |\n",
      "|    actor_loss      | 0.301    |\n",
      "|    critic2_loss    | 0.00022  |\n",
      "|    critic_loss     | 0.00172  |\n",
      "|    learning_rate   | 0.000751 |\n",
      "|    mean_cost_loss  | -0.28    |\n",
      "|    n_updates       | 570      |\n",
      "|    std_cost_loss   | 0.0208   |\n",
      "---------------------------------\n",
      "---------------------------------\n",
      "| rollout/           |          |\n",
      "|    ep_len_mean     | 30       |\n",
      "|    ep_rew_mean     | -0.109   |\n",
      "| time/              |          |\n",
      "|    episodes        | 30       |\n",
      "|    fps             | 25       |\n",
      "|    time_elapsed    | 35       |\n",
      "|    total timesteps | 900      |\n",
      "---------------------------------\n",
      "Eval num_timesteps=930, episode_reward=-0.02 +/- 0.00\n",
      "Episode length: 30.00 +/- 0.00\n",
      "---------------------------------\n",
      "| eval/              |          |\n",
      "|    mean_ep_length  | 30       |\n",
      "|    mean_reward     | -0.0218  |\n",
      "| time/              |          |\n",
      "|    total timesteps | 930      |\n",
      "| train/             |          |\n",
      "|    actor_loss      | 0.299    |\n",
      "|    critic2_loss    | 0.00041  |\n",
      "|    critic_loss     | 0.00321  |\n",
      "|    learning_rate   | 0.000723 |\n",
      "|    mean_cost_loss  | -0.278   |\n",
      "|    n_updates       | 600      |\n",
      "|    std_cost_loss   | 0.0206   |\n",
      "---------------------------------\n",
      "Eval num_timesteps=960, episode_reward=-0.02 +/- 0.00\n",
      "Episode length: 30.00 +/- 0.00\n",
      "---------------------------------\n",
      "| eval/              |          |\n",
      "|    mean_ep_length  | 30       |\n",
      "|    mean_reward     | -0.0226  |\n",
      "| time/              |          |\n",
      "|    total timesteps | 960      |\n",
      "| train/             |          |\n",
      "|    actor_loss      | 0.294    |\n",
      "|    critic2_loss    | 0.000327 |\n",
      "|    critic_loss     | 0.00256  |\n",
      "|    learning_rate   | 0.000697 |\n",
      "|    mean_cost_loss  | -0.274   |\n",
      "|    n_updates       | 630      |\n",
      "|    std_cost_loss   | 0.0204   |\n",
      "---------------------------------\n",
      "Eval num_timesteps=990, episode_reward=-0.02 +/- 0.00\n",
      "Episode length: 30.00 +/- 0.00\n",
      "---------------------------------\n",
      "| eval/              |          |\n",
      "|    mean_ep_length  | 30       |\n",
      "|    mean_reward     | -0.0227  |\n",
      "| time/              |          |\n",
      "|    total timesteps | 990      |\n",
      "| train/             |          |\n",
      "|    actor_loss      | 0.293    |\n",
      "|    critic2_loss    | 0.000305 |\n",
      "|    critic_loss     | 0.00239  |\n",
      "|    learning_rate   | 0.000674 |\n",
      "|    mean_cost_loss  | -0.272   |\n",
      "|    n_updates       | 660      |\n",
      "|    std_cost_loss   | 0.0203   |\n",
      "---------------------------------\n",
      "Eval num_timesteps=1020, episode_reward=-0.02 +/- 0.00\n",
      "Episode length: 30.00 +/- 0.00\n",
      "---------------------------------\n",
      "| eval/              |          |\n",
      "|    mean_ep_length  | 30       |\n",
      "|    mean_reward     | -0.0228  |\n",
      "| time/              |          |\n",
      "|    total timesteps | 1020     |\n",
      "| train/             |          |\n",
      "|    actor_loss      | 0.292    |\n",
      "|    critic2_loss    | 0.000283 |\n",
      "|    critic_loss     | 0.00222  |\n",
      "|    learning_rate   | 0.000652 |\n",
      "|    mean_cost_loss  | -0.272   |\n",
      "|    n_updates       | 690      |\n",
      "|    std_cost_loss   | 0.0203   |\n",
      "---------------------------------\n",
      "Eval num_timesteps=1050, episode_reward=-0.02 +/- 0.00\n",
      "Episode length: 30.00 +/- 0.00\n",
      "---------------------------------\n",
      "| eval/              |          |\n",
      "|    mean_ep_length  | 30       |\n",
      "|    mean_reward     | -0.0221  |\n",
      "| time/              |          |\n",
      "|    total timesteps | 1050     |\n",
      "| train/             |          |\n",
      "|    actor_loss      | 0.292    |\n",
      "|    critic2_loss    | 0.000298 |\n",
      "|    critic_loss     | 0.00233  |\n",
      "|    learning_rate   | 0.000633 |\n",
      "|    mean_cost_loss  | -0.272   |\n",
      "|    n_updates       | 720      |\n",
      "|    std_cost_loss   | 0.0203   |\n",
      "---------------------------------\n",
      "Eval num_timesteps=1080, episode_reward=-0.02 +/- 0.00\n",
      "Episode length: 30.00 +/- 0.00\n",
      "---------------------------------\n",
      "| eval/              |          |\n",
      "|    mean_ep_length  | 30       |\n",
      "|    mean_reward     | -0.0226  |\n",
      "| time/              |          |\n",
      "|    total timesteps | 1080     |\n",
      "| train/             |          |\n",
      "|    actor_loss      | 0.289    |\n",
      "|    critic2_loss    | 0.000348 |\n",
      "|    critic_loss     | 0.00273  |\n",
      "|    learning_rate   | 0.000615 |\n",
      "|    mean_cost_loss  | -0.269   |\n",
      "|    n_updates       | 750      |\n",
      "|    std_cost_loss   | 0.0201   |\n",
      "---------------------------------\n",
      "Eval num_timesteps=1110, episode_reward=-0.02 +/- 0.00\n",
      "Episode length: 30.00 +/- 0.00\n",
      "---------------------------------\n",
      "| eval/              |          |\n",
      "|    mean_ep_length  | 30       |\n",
      "|    mean_reward     | -0.0233  |\n",
      "| time/              |          |\n",
      "|    total timesteps | 1110     |\n",
      "| train/             |          |\n",
      "|    actor_loss      | 0.287    |\n",
      "|    critic2_loss    | 0.00022  |\n",
      "|    critic_loss     | 0.00174  |\n",
      "|    learning_rate   | 0.000599 |\n",
      "|    mean_cost_loss  | -0.267   |\n",
      "|    n_updates       | 780      |\n",
      "|    std_cost_loss   | 0.02     |\n",
      "---------------------------------\n",
      "Eval num_timesteps=1140, episode_reward=-0.02 +/- 0.00\n",
      "Episode length: 30.00 +/- 0.00\n",
      "---------------------------------\n",
      "| eval/              |          |\n",
      "|    mean_ep_length  | 30       |\n",
      "|    mean_reward     | -0.0212  |\n",
      "| time/              |          |\n",
      "|    total timesteps | 1140     |\n",
      "| train/             |          |\n",
      "|    actor_loss      | 0.288    |\n",
      "|    critic2_loss    | 0.00027  |\n",
      "|    critic_loss     | 0.00213  |\n",
      "|    learning_rate   | 0.000584 |\n",
      "|    mean_cost_loss  | -0.268   |\n",
      "|    n_updates       | 810      |\n",
      "|    std_cost_loss   | 0.0201   |\n",
      "---------------------------------\n",
      "Eval num_timesteps=1170, episode_reward=-0.02 +/- 0.00\n",
      "Episode length: 30.00 +/- 0.00\n",
      "---------------------------------\n",
      "| eval/              |          |\n",
      "|    mean_ep_length  | 30       |\n",
      "|    mean_reward     | -0.0222  |\n",
      "| time/              |          |\n",
      "|    total timesteps | 1170     |\n",
      "| train/             |          |\n",
      "|    actor_loss      | 0.286    |\n",
      "|    critic2_loss    | 0.00025  |\n",
      "|    critic_loss     | 0.00197  |\n",
      "|    learning_rate   | 0.000571 |\n",
      "|    mean_cost_loss  | -0.266   |\n",
      "|    n_updates       | 840      |\n",
      "|    std_cost_loss   | 0.0199   |\n",
      "---------------------------------\n",
      "Eval num_timesteps=1200, episode_reward=-0.02 +/- 0.00\n",
      "Episode length: 30.00 +/- 0.00\n",
      "---------------------------------\n",
      "| eval/              |          |\n",
      "|    mean_ep_length  | 30       |\n",
      "|    mean_reward     | -0.0237  |\n",
      "| time/              |          |\n",
      "|    total timesteps | 1200     |\n",
      "| train/             |          |\n",
      "|    actor_loss      | 0.286    |\n",
      "|    critic2_loss    | 0.000195 |\n",
      "|    critic_loss     | 0.00155  |\n",
      "|    learning_rate   | 0.000559 |\n",
      "|    mean_cost_loss  | -0.266   |\n",
      "|    n_updates       | 870      |\n",
      "|    std_cost_loss   | 0.02     |\n",
      "---------------------------------\n",
      "Eval num_timesteps=1230, episode_reward=-0.02 +/- 0.00\n",
      "Episode length: 30.00 +/- 0.00\n",
      "---------------------------------\n",
      "| eval/              |          |\n",
      "|    mean_ep_length  | 30       |\n",
      "|    mean_reward     | -0.0228  |\n",
      "| time/              |          |\n",
      "|    total timesteps | 1230     |\n",
      "| train/             |          |\n",
      "|    actor_loss      | 0.284    |\n",
      "|    critic2_loss    | 0.000364 |\n",
      "|    critic_loss     | 0.00288  |\n",
      "|    learning_rate   | 0.000548 |\n",
      "|    mean_cost_loss  | -0.264   |\n",
      "|    n_updates       | 900      |\n",
      "|    std_cost_loss   | 0.0198   |\n",
      "---------------------------------\n",
      "Eval num_timesteps=1260, episode_reward=-0.02 +/- 0.00\n",
      "Episode length: 30.00 +/- 0.00\n",
      "---------------------------------\n",
      "| eval/              |          |\n",
      "|    mean_ep_length  | 30       |\n",
      "|    mean_reward     | -0.0231  |\n",
      "| time/              |          |\n",
      "|    total timesteps | 1260     |\n",
      "| train/             |          |\n",
      "|    actor_loss      | 0.282    |\n",
      "|    critic2_loss    | 0.000124 |\n",
      "|    critic_loss     | 0.000986 |\n",
      "|    learning_rate   | 0.000539 |\n",
      "|    mean_cost_loss  | -0.263   |\n",
      "|    n_updates       | 930      |\n",
      "|    std_cost_loss   | 0.0197   |\n",
      "---------------------------------\n",
      "Eval num_timesteps=1290, episode_reward=-0.02 +/- 0.00\n",
      "Episode length: 30.00 +/- 0.00\n",
      "---------------------------------\n",
      "| eval/              |          |\n",
      "|    mean_ep_length  | 30       |\n",
      "|    mean_reward     | -0.0228  |\n",
      "| time/              |          |\n",
      "|    total timesteps | 1290     |\n",
      "| train/             |          |\n",
      "|    actor_loss      | 0.283    |\n",
      "|    critic2_loss    | 0.000172 |\n",
      "|    critic_loss     | 0.00137  |\n",
      "|    learning_rate   | 0.00053  |\n",
      "|    mean_cost_loss  | -0.263   |\n",
      "|    n_updates       | 960      |\n",
      "|    std_cost_loss   | 0.0198   |\n",
      "---------------------------------\n",
      "Eval num_timesteps=1320, episode_reward=-0.02 +/- 0.00\n",
      "Episode length: 30.00 +/- 0.00\n",
      "---------------------------------\n",
      "| eval/              |          |\n",
      "|    mean_ep_length  | 30       |\n",
      "|    mean_reward     | -0.0235  |\n",
      "| time/              |          |\n",
      "|    total timesteps | 1320     |\n",
      "| train/             |          |\n",
      "|    actor_loss      | 0.281    |\n",
      "|    critic2_loss    | 0.000305 |\n",
      "|    critic_loss     | 0.00244  |\n",
      "|    learning_rate   | 0.000523 |\n",
      "|    mean_cost_loss  | -0.262   |\n",
      "|    n_updates       | 990      |\n",
      "|    std_cost_loss   | 0.0197   |\n",
      "---------------------------------\n",
      "Eval num_timesteps=1350, episode_reward=-0.02 +/- 0.00\n",
      "Episode length: 30.00 +/- 0.00\n",
      "---------------------------------\n",
      "| eval/              |          |\n",
      "|    mean_ep_length  | 30       |\n",
      "|    mean_reward     | -0.0235  |\n",
      "| time/              |          |\n",
      "|    total timesteps | 1350     |\n",
      "| train/             |          |\n",
      "|    actor_loss      | 0.278    |\n",
      "|    critic2_loss    | 0.000347 |\n",
      "|    critic_loss     | 0.00277  |\n",
      "|    learning_rate   | 0.000517 |\n",
      "|    mean_cost_loss  | -0.259   |\n",
      "|    n_updates       | 1020     |\n",
      "|    std_cost_loss   | 0.0195   |\n",
      "---------------------------------\n",
      "Eval num_timesteps=1380, episode_reward=-0.02 +/- 0.00\n",
      "Episode length: 30.00 +/- 0.00\n",
      "---------------------------------\n",
      "| eval/              |          |\n",
      "|    mean_ep_length  | 30       |\n",
      "|    mean_reward     | -0.022   |\n",
      "| time/              |          |\n",
      "|    total timesteps | 1380     |\n",
      "| train/             |          |\n",
      "|    actor_loss      | 0.276    |\n",
      "|    critic2_loss    | 0.000199 |\n",
      "|    critic_loss     | 0.0016   |\n",
      "|    learning_rate   | 0.000512 |\n",
      "|    mean_cost_loss  | -0.257   |\n",
      "|    n_updates       | 1050     |\n",
      "|    std_cost_loss   | 0.0194   |\n",
      "---------------------------------\n",
      "Eval num_timesteps=1410, episode_reward=-0.02 +/- 0.00\n",
      "Episode length: 30.00 +/- 0.00\n",
      "---------------------------------\n",
      "| eval/              |          |\n",
      "|    mean_ep_length  | 30       |\n",
      "|    mean_reward     | -0.0221  |\n",
      "| time/              |          |\n",
      "|    total timesteps | 1410     |\n",
      "| train/             |          |\n",
      "|    actor_loss      | 0.277    |\n",
      "|    critic2_loss    | 0.000229 |\n",
      "|    critic_loss     | 0.00183  |\n",
      "|    learning_rate   | 0.000507 |\n",
      "|    mean_cost_loss  | -0.257   |\n",
      "|    n_updates       | 1080     |\n",
      "|    std_cost_loss   | 0.0194   |\n",
      "---------------------------------\n",
      "Eval num_timesteps=1440, episode_reward=-0.02 +/- 0.00\n",
      "Episode length: 30.00 +/- 0.00\n",
      "---------------------------------\n",
      "| eval/              |          |\n",
      "|    mean_ep_length  | 30       |\n",
      "|    mean_reward     | -0.0224  |\n",
      "| time/              |          |\n",
      "|    total timesteps | 1440     |\n",
      "| train/             |          |\n",
      "|    actor_loss      | 0.276    |\n",
      "|    critic2_loss    | 0.000242 |\n",
      "|    critic_loss     | 0.00194  |\n",
      "|    learning_rate   | 0.000504 |\n",
      "|    mean_cost_loss  | -0.256   |\n",
      "|    n_updates       | 1110     |\n",
      "|    std_cost_loss   | 0.0194   |\n",
      "---------------------------------\n",
      "Eval num_timesteps=1470, episode_reward=-0.02 +/- 0.00\n",
      "Episode length: 30.00 +/- 0.00\n",
      "---------------------------------\n",
      "| eval/              |          |\n",
      "|    mean_ep_length  | 30       |\n",
      "|    mean_reward     | -0.0229  |\n",
      "| time/              |          |\n",
      "|    total timesteps | 1470     |\n",
      "| train/             |          |\n",
      "|    actor_loss      | 0.273    |\n",
      "|    critic2_loss    | 0.0003   |\n",
      "|    critic_loss     | 0.00241  |\n",
      "|    learning_rate   | 0.000502 |\n",
      "|    mean_cost_loss  | -0.254   |\n",
      "|    n_updates       | 1140     |\n",
      "|    std_cost_loss   | 0.0192   |\n",
      "---------------------------------\n",
      "Eval num_timesteps=1500, episode_reward=-0.02 +/- 0.00\n",
      "Episode length: 30.00 +/- 0.00\n",
      "---------------------------------\n",
      "| eval/              |          |\n",
      "|    mean_ep_length  | 30       |\n",
      "|    mean_reward     | -0.0233  |\n",
      "| time/              |          |\n",
      "|    total timesteps | 1500     |\n",
      "| train/             |          |\n",
      "|    actor_loss      | 0.269    |\n",
      "|    critic2_loss    | 0.000371 |\n",
      "|    critic_loss     | 0.00298  |\n",
      "|    learning_rate   | 0.0005   |\n",
      "|    mean_cost_loss  | -0.25    |\n",
      "|    n_updates       | 1170     |\n",
      "|    std_cost_loss   | 0.019    |\n",
      "---------------------------------\n",
      "[Training End]  steps: 1500\ttimes: 66.69044804573059\n"
     ]
    }
   ],
   "source": [
    "model = model.learn(**learn_kwargs)"
   ],
   "metadata": {
    "collapsed": false,
    "pycharm": {
     "name": "#%%\n"
    }
   }
  },
  {
   "cell_type": "code",
   "execution_count": 12,
   "outputs": [
    {
     "name": "stdout",
     "output_type": "stream",
     "text": [
      "<BSMarket instance> will be save as name. env_kwargs not in kwargs!\n",
      "<BSMarketEval instance> will be save as name. eval_env_kwargs not in kwargs!\n",
      "<Algorithms.ddpg.callbacks.ReportCallbacks object at 0x000002284FAE6FD0> will be save as name. callback_kwargs not in kwargs!\n",
      "../logs/tb_logs/ddpg_220615-2134_1/config.yaml was saved.\n"
     ]
    }
   ],
   "source": [
    "config.save_config(f'{learn_kwargs[\"eval_log_path\"]}/config.yaml', env_kwargs, model_kwargs, learn_kwargs)"
   ],
   "metadata": {
    "collapsed": false,
    "pycharm": {
     "name": "#%%\n"
    }
   }
  },
  {
   "cell_type": "markdown",
   "source": [
    "# 3. P&L Evaluation"
   ],
   "metadata": {
    "collapsed": false
   }
  },
  {
   "cell_type": "code",
   "execution_count": 13,
   "outputs": [
    {
     "name": "stdout",
     "output_type": "stream",
     "text": [
      "../logs/tb_logs/ddpg_220615-2134_1/best_model\n"
     ]
    }
   ],
   "source": [
    "# model = model.load('../logs/tb_logs/ddpg_220607-2214_stable'+'/best_model')\n",
    "# model = model.load('../logs/tb_logs/ddpg_220607-2124_ntb_delta'+'/best_model')\n",
    "# model = model.load('../logs/tb_logs/ddpg_220608-2037_1'+'/best_model')\n",
    "# model = model.load('../logs/tb_logs/ddpg_220614-2216_1_ntb_pnl'+'/best_model')\n",
    "# model = model.load('../logs/tb_logs/ddpg_220614-2213_1_ddpg_pnl'+'/best_model')\n",
    "model = model.load(learn_kwargs['eval_log_path'] + '/best_model')\n",
    "print(learn_kwargs['eval_log_path'] + '/best_model')"
   ],
   "metadata": {
    "collapsed": false,
    "pycharm": {
     "name": "#%%\n"
    }
   }
  },
  {
   "cell_type": "code",
   "execution_count": 14,
   "outputs": [],
   "source": [
    "eval_env = learn_kwargs['eval_env']\n",
    "eval_env.reward_mode = 'pnl'"
   ],
   "metadata": {
    "collapsed": false,
    "pycharm": {
     "name": "#%%\n"
    }
   }
  },
  {
   "cell_type": "code",
   "execution_count": 15,
   "outputs": [],
   "source": [
    "import numpy as np\n",
    "\n",
    "# random_pnl = np.mean([eval_env.pnl_eval() for _ in range(30)], axis=0)\n",
    "# delta_pnl = np.mean([eval_env.delta_eval() for _ in range(30)], axis=0)\n",
    "# rl_pnl = np.mean([eval_env.pnl_eval(model) for _ in range(30)], axis=0)\n",
    "\n",
    "# random_pnl = np.load('best_results/random_pnl.npy')\n",
    "# delta_pnl = np.load('best_results/ntb_pnl.npy')\n",
    "rl_pnl = np.load('best_results/rl_pnl_0614.npy')\n",
    "# rl_pnl = np.load('best_results/rl_pnl_eval_cash.npy')\n",
    "# ntb_pnl = np.load('best_results/ntb_pnl_eval_cash.npy')"
   ],
   "metadata": {
    "collapsed": false,
    "pycharm": {
     "name": "#%%\n"
    }
   }
  },
  {
   "cell_type": "code",
   "execution_count": 16,
   "outputs": [],
   "source": [
    "# np.save('best_results/rl_pnl_0614', ntb_pnl)\n",
    "# np.save('best_results/delta_pnl', delta_pnl)\n",
    "# np.save('best_results/rl_pnl', rl_pnl)"
   ],
   "metadata": {
    "collapsed": false,
    "pycharm": {
     "name": "#%%\n"
    }
   }
  },
  {
   "cell_type": "code",
   "execution_count": 17,
   "outputs": [],
   "source": [
    "ntb_pnl = np.mean([eval_env.pnl_eval(model) for _ in range(30)], axis=0)"
   ],
   "metadata": {
    "collapsed": false,
    "pycharm": {
     "name": "#%%\n"
    }
   }
  },
  {
   "cell_type": "code",
   "execution_count": 23,
   "outputs": [],
   "source": [
    "import numpy as np\n",
    "\n",
    "def pnl_reward(pnl):\n",
    "    mean = np.mean(pnl)\n",
    "    std = np.std(pnl)\n",
    "    return mean - 0.02 * std , (mean, std)\n",
    "\n",
    "def sharpe_ratio(pnl):\n",
    "    return pnl.mean()/pnl.std()\n",
    "\n",
    "def var(pnl, ratio):\n",
    "    losses = np.sort(-pnl)\n",
    "    boundary = int(np.ceil(losses.shape[-1]*ratio))\n",
    "    return losses[boundary]\n",
    "\n",
    "def cvar(pnl, ratio=0.95):\n",
    "    losses = np.sort(-pnl)\n",
    "    boundary = int(np.ceil(losses.shape[-1]*ratio))\n",
    "    return np.mean(losses[boundary:], axis=-1)"
   ],
   "metadata": {
    "collapsed": false,
    "pycharm": {
     "name": "#%%\n"
    }
   }
  },
  {
   "cell_type": "code",
   "execution_count": 24,
   "outputs": [
    {
     "data": {
      "text/plain": "<Figure size 1000x500 with 1 Axes>",
      "image/png": "[encoded data removed]"
     },
     "metadata": {},
     "output_type": "display_data"
    },
    {
     "name": "stdout",
     "output_type": "stream",
     "text": [
      "ntb pnl:\t\t-0.0386, -0.0385, 0.0029\n",
      "rl pnl:\t\t-0.0000, 0.0001, 0.0061\n",
      "ntb sharpe:\t\t-13.05847\n",
      "rl sharpe:\t\t0.01507\n",
      "ntb cvar:\t\t0.04529\n",
      "rl cvar:\t\t0.01384\n"
     ]
    }
   ],
   "source": [
    "plt_kwargs = {'bins': 100,\n",
    "              # 'range': (-0.04, 0.01),\n",
    "              'alpha': 0.6}\n",
    "\n",
    "plt.xlabel('P&L')\n",
    "# plt.hist(random_pnl, bins=100, range=(-0.25, 0.05), alpha=0.6, label='random')\n",
    "# plt.hist(random_pnl, bins=100, range=(-0.1, 0.05), alpha=0.6, label='random')\n",
    "# plt.hist(delta_pnl, **plt_kwargs, label='delta')\n",
    "plt.hist(ntb_pnl,**plt_kwargs, label='DDPG+NTB')\n",
    "plt.hist(rl_pnl, **plt_kwargs, label='DDPG')\n",
    "# plt.ylim(0, 150)\n",
    "plt.legend()\n",
    "plt.show()\n",
    "\n",
    "# r1, (m1, s1) = pnl_reward(random_pnl)\n",
    "r2, (m2, s2) = pnl_reward(ntb_pnl)\n",
    "r3, (m3, s3) = pnl_reward(rl_pnl)\n",
    "# print(f'random:\\t{r1:.4f}, {m1:.4f}, {s1:.4f}')\n",
    "print(f'ntb pnl:\\t\\t{r2:.4f}, {m2:.4f}, {s2:.4f}')\n",
    "print(f'rl pnl:\\t\\t{r3:.4f}, {m3:.4f}, {s3:.4f}')\n",
    "# print((r2-r1))\n",
    "# print((r3-r2))\n",
    "\n",
    "print(f'ntb sharpe:\\t\\t{sharpe_ratio(ntb_pnl):.5f}')\n",
    "print(f'rl sharpe:\\t\\t{sharpe_ratio(rl_pnl):.5f}')\n",
    "\n",
    "print(f'ntb cvar:\\t\\t{cvar(ntb_pnl):.5f}')\n",
    "print(f'rl cvar:\\t\\t{cvar(rl_pnl):.5f}')"
   ],
   "metadata": {
    "collapsed": false,
    "pycharm": {
     "name": "#%%\n"
    }
   }
  },
  {
   "cell_type": "code",
   "execution_count": 12,
   "outputs": [
    {
     "data": {
      "text/plain": "(-0.022955209587592933, 0.00333743451844443)"
     },
     "execution_count": 12,
     "metadata": {},
     "output_type": "execute_result"
    }
   ],
   "source": [
    "ntb_pnl.mean(), ntb_pnl.std()"
   ],
   "metadata": {
    "collapsed": false,
    "pycharm": {
     "name": "#%%\n"
    }
   }
  },
  {
   "cell_type": "code",
   "execution_count": 13,
   "outputs": [
    {
     "data": {
      "text/plain": "(-0.022750967764943068, 0.006194732383409264)"
     },
     "execution_count": 13,
     "metadata": {},
     "output_type": "execute_result"
    }
   ],
   "source": [
    "rl_pnl.mean(), rl_pnl.std()"
   ],
   "metadata": {
    "collapsed": false,
    "pycharm": {
     "name": "#%%\n"
    }
   }
  },
  {
   "cell_type": "code",
   "execution_count": 25,
   "outputs": [],
   "source": [
    "np.save('best_results/ntb_pnl_0614', ntb_pnl)"
   ],
   "metadata": {
    "collapsed": false,
    "pycharm": {
     "name": "#%%\n"
    }
   }
  },
  {
   "cell_type": "code",
   "execution_count": 31,
   "outputs": [],
   "source": [
    "np.save('best_results/rl_pnl_eval_cash', rl_pnl,)\n",
    "np.save('best_results/ntb_pnl_eval_cash', ntb_pnl,)"
   ],
   "metadata": {
    "collapsed": false,
    "pycharm": {
     "name": "#%%\n"
    }
   }
  },
  {
   "cell_type": "code",
   "execution_count": 55,
   "outputs": [
    {
     "name": "stdout",
     "output_type": "stream",
     "text": [
      "-0.023253765816845084\n",
      "-0.02307192182905543\n"
     ]
    }
   ],
   "source": [
    "from Utils.prices import pnl_entropic_loss\n",
    "\n",
    "def loss(pnl, aversion=0.0):\n",
    "    return np.mean((1-np.exp(-aversion * pnl))/(aversion+1e-7))\n",
    "\n",
    "print(loss(ntb_pnl, aversion=1.1))\n",
    "print(loss(rl_pnl, aversion=1.1))"
   ],
   "metadata": {
    "collapsed": false,
    "pycharm": {
     "name": "#%%\n"
    }
   }
  },
  {
   "cell_type": "code",
   "execution_count": 14,
   "outputs": [
    {
     "name": "stdout",
     "output_type": "stream",
     "text": [
      "0.02867360759284007 0.03344846486958373\n"
     ]
    }
   ],
   "source": [
    "import pandas as pd\n",
    "\n",
    "ntb_loss = pd.Series(-ntb_pnl)\n",
    "rl_loss = pd.Series(-rl_pnl)\n",
    "\n",
    "var95_ntb = ntb_loss.quantile(0.95)\n",
    "var95_rl = rl_loss.quantile(0.95)\n",
    "\n",
    "print(var95_ntb, var95_rl)"
   ],
   "metadata": {
    "collapsed": false,
    "pycharm": {
     "name": "#%%\n"
    }
   }
  },
  {
   "cell_type": "code",
   "execution_count": 15,
   "outputs": [
    {
     "name": "stdout",
     "output_type": "stream",
     "text": [
      "0.030563063997726295\n"
     ]
    }
   ],
   "source": [
    "print(ntb_loss[ntb_loss >= var95_ntb].mean())"
   ],
   "metadata": {
    "collapsed": false,
    "pycharm": {
     "name": "#%%\n"
    }
   }
  },
  {
   "cell_type": "code",
   "execution_count": 16,
   "outputs": [
    {
     "name": "stdout",
     "output_type": "stream",
     "text": [
      "0.03678241960186988\n"
     ]
    }
   ],
   "source": [
    "print(rl_loss[rl_loss >= var95_rl].mean())"
   ],
   "metadata": {
    "collapsed": false,
    "pycharm": {
     "name": "#%%\n"
    }
   }
  },
  {
   "cell_type": "code",
   "execution_count": 23,
   "outputs": [
    {
     "name": "stdout",
     "output_type": "stream",
     "text": [
      "0.030563063997726295 0.03678241960186988\n"
     ]
    }
   ],
   "source": [
    "print(cvar(ntb_pnl, 0.95), cvar(rl_pnl, 0.95))"
   ],
   "metadata": {
    "collapsed": false,
    "pycharm": {
     "name": "#%%\n"
    }
   }
  },
  {
   "cell_type": "code",
   "execution_count": 27,
   "outputs": [
    {
     "data": {
      "text/plain": "4"
     },
     "execution_count": 27,
     "metadata": {},
     "output_type": "execute_result"
    }
   ],
   "source": [
    "th.randn(3,4).shape[-1]"
   ],
   "metadata": {
    "collapsed": false,
    "pycharm": {
     "name": "#%%\n"
    }
   }
  },
  {
   "cell_type": "code",
   "execution_count": 18,
   "outputs": [],
   "source": [
    "rl_pnl = ntb_pnl.copy()"
   ],
   "metadata": {
    "collapsed": false,
    "pycharm": {
     "name": "#%%\n"
    }
   }
  },
  {
   "cell_type": "markdown",
   "source": [
    "## New Problem\n",
    "\n",
    "총 얼마 썼는가?\n"
   ],
   "metadata": {
    "collapsed": false
   }
  },
  {
   "cell_type": "code",
   "execution_count": 32,
   "outputs": [],
   "source": [
    "import numpy as np\n",
    "\n",
    "def cash_eval(env, model=None):\n",
    "    obs = env.reset()\n",
    "    done, info = False, {}\n",
    "    cash = 0\n",
    "    while not done:\n",
    "        if model:\n",
    "            action, _ = model.predict(obs, deterministic=False)\n",
    "        else:\n",
    "            action = env.action_space.sample()\n",
    "\n",
    "        obs, reward, done, info = env.cashflow_pnl(action)\n",
    "        cash += info['raw_reward']\n",
    "        print(np.mean(info['raw_reward']))\n",
    "\n",
    "    return cash"
   ],
   "metadata": {
    "collapsed": false,
    "pycharm": {
     "name": "#%%\n"
    }
   }
  },
  {
   "cell_type": "code",
   "execution_count": 22,
   "outputs": [],
   "source": [
    "ntb_cash = np.load('best_results/ntb_cash_0614.npy')"
   ],
   "metadata": {
    "collapsed": false,
    "pycharm": {
     "name": "#%%\n"
    }
   }
  },
  {
   "cell_type": "code",
   "execution_count": 23,
   "outputs": [],
   "source": [
    "rl_cash = np.mean([cash_eval(eval_env, model) for _ in range(30)], axis=0)"
   ],
   "metadata": {
    "collapsed": false,
    "pycharm": {
     "name": "#%%\n"
    }
   }
  },
  {
   "cell_type": "code",
   "execution_count": 25,
   "outputs": [
    {
     "data": {
      "text/plain": "<Figure size 1000x500 with 1 Axes>",
      "image/png": "[encoded data removed]"
     },
     "metadata": {},
     "output_type": "display_data"
    },
    {
     "name": "stdout",
     "output_type": "stream",
     "text": [
      "ntb_pnl:\t-0.0152, -0.0151, 0.0030\n",
      "rl:\t\t-0.0230, -0.0229, 0.0057\n"
     ]
    }
   ],
   "source": [
    "plt_kwargs = {'bins': 100,\n",
    "              'range': (-0.04, -0.01),\n",
    "              'alpha': 0.6}\n",
    "\n",
    "plt.xlabel('P&L')\n",
    "plt.hist(ntb_cash,**plt_kwargs, label='ntb')\n",
    "plt.hist(rl_cash, **plt_kwargs, label='rl')\n",
    "# plt.ylim(0, 150)\n",
    "plt.legend()\n",
    "plt.show()\n",
    "\n",
    "# r1, (m1, s1) = pnl_reward(random_pnl)\n",
    "r2, (m2, s2) = pnl_reward(ntb_cash)\n",
    "r3, (m3, s3) = pnl_reward(rl_cash)\n",
    "# print(f'random:\\t{r1:.4f}, {m1:.4f}, {s1:.4f}')\n",
    "print(f'ntb_pnl:\\t{r2:.4f}, {m2:.4f}, {s2:.4f}')\n",
    "print(f'rl:\\t\\t{r3:.4f}, {m3:.4f}, {s3:.4f}')\n",
    "# print((r2-r1))"
   ],
   "metadata": {
    "collapsed": false,
    "pycharm": {
     "name": "#%%\n"
    }
   }
  },
  {
   "cell_type": "code",
   "execution_count": 53,
   "outputs": [],
   "source": [
    "np.save('best_results/ntb_cash_0614', ntb_cash)"
   ],
   "metadata": {
    "collapsed": false,
    "pycharm": {
     "name": "#%%\n"
    }
   }
  },
  {
   "cell_type": "code",
   "execution_count": null,
   "outputs": [],
   "source": [],
   "metadata": {
    "collapsed": false,
    "pycharm": {
     "name": "#%%\n"
    }
   }
  }
 ],
 "metadata": {
  "kernelspec": {
   "display_name": "Python 3",
   "language": "python",
   "name": "python3"
  },
  "language_info": {
   "codemirror_mode": {
    "name": "ipython",
    "version": 2
   },
   "file_extension": ".py",
   "mimetype": "text/x-python",
   "name": "python",
   "nbconvert_exporter": "python",
   "pygments_lexer": "ipython2",
   "version": "2.7.6"
  }
 },
 "nbformat": 4,
 "nbformat_minor": 0
}