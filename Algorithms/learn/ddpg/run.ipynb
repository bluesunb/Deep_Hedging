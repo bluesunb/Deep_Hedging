{
 "cells": [
  {
   "cell_type": "code",
   "execution_count": 1,
   "outputs": [],
   "source": [
    "import matplotlib.pyplot as plt\n",
    "\n",
    "from pprint import pprint\n",
    "from Algorithms.ddpg import config"
   ],
   "metadata": {
    "collapsed": false,
    "pycharm": {
     "name": "#%%\n"
    }
   }
  },
  {
   "cell_type": "markdown",
   "source": [
    "# 0. Plot Setting"
   ],
   "metadata": {
    "collapsed": false
   }
  },
  {
   "cell_type": "code",
   "execution_count": 2,
   "metadata": {
    "collapsed": true
   },
   "outputs": [],
   "source": [
    "import seaborn as sb\n",
    "import matplotlib\n",
    "\n",
    "sb.set_style('whitegrid')\n",
    "\n",
    "FONTSIZE = 10\n",
    "matplotlib.rcParams[\"figure.figsize\"] = (10, 5)\n",
    "matplotlib.rcParams[\"figure.dpi\"] = 100\n",
    "matplotlib.rcParams[\"figure.titlesize\"] = FONTSIZE\n",
    "matplotlib.rcParams[\"legend.fontsize\"] = FONTSIZE\n",
    "matplotlib.rcParams[\"xtick.labelsize\"] = FONTSIZE\n",
    "matplotlib.rcParams[\"ytick.labelsize\"] = FONTSIZE\n",
    "matplotlib.rcParams[\"axes.labelsize\"] = FONTSIZE\n",
    "matplotlib.rcParams[\"axes.titlesize\"] = FONTSIZE\n",
    "matplotlib.rcParams[\"savefig.bbox\"] = \"tight\"\n",
    "matplotlib.rcParams[\"savefig.pad_inches\"] = 0.1\n",
    "matplotlib.rcParams[\"lines.linewidth\"] = 2\n",
    "matplotlib.rcParams[\"axes.linewidth\"] = 1.6"
   ]
  },
  {
   "cell_type": "markdown",
   "source": [
    "# 1. Model Setting"
   ],
   "metadata": {
    "collapsed": false
   }
  },
  {
   "cell_type": "markdown",
   "source": [
    "## 1.1 Load Config"
   ],
   "metadata": {
    "collapsed": false
   }
  },
  {
   "cell_type": "code",
   "execution_count": 25,
   "outputs": [
    {
     "name": "stdout",
     "output_type": "stream",
     "text": [
      "env 'BSMarket was created!\n",
      "env 'BSMarket was created!\n"
     ]
    }
   ],
   "source": [
    "env_kwargs, model_kwargs, learn_kwargs = config.load_config('tmp_config.yaml')"
   ],
   "metadata": {
    "collapsed": false,
    "pycharm": {
     "name": "#%%\n"
    }
   }
  },
  {
   "cell_type": "code",
   "execution_count": 26,
   "outputs": [],
   "source": [
    "from Algorithms.ddpg.policies import DoubleTD3Policy\n",
    "from Algorithms.ddpg.policies_legacy import DoubleDDPGPolicy\n",
    "\n",
    "model_kwargs.update({\n",
    "    'buffer_size': 300,\n",
    "    'learning_starts': 300,\n",
    "    'batch_size': 15,\n",
    "    'std_coeff': env_kwargs['cost']\n",
    "})\n",
    "\n",
    "model_kwargs['policy_kwargs'].update({\n",
    "    'net_arch': [],\n",
    "    'ntb_mode': False,\n",
    "})\n",
    "\n",
    "model_kwargs['policy_kwargs']['features_extractor_kwargs'].update({\n",
    "    'features_out': 2\n",
    "})\n",
    "\n",
    "learn_kwargs.update({\n",
    "    'total_timesteps': 1500\n",
    "})\n",
    "\n",
    "# model_kwargs.update({\n",
    "#     'policy': DoubleTD3Policy,\n",
    "#     'buffer_size': 300,\n",
    "#     'learning_starts': 300,\n",
    "#     'batch_size': 15,\n",
    "#     'std_coeff': env_kwargs['cost']\n",
    "# })\n",
    "#\n",
    "# del model_kwargs['policy_kwargs']['ntb_mode']\n",
    "# del model_kwargs['policy_kwargs']['actor_net_kwargs']\n",
    "# del model_kwargs['policy_kwargs']['critic_net_kwargs']\n",
    "#\n",
    "# model_kwargs['policy_kwargs'].update({\n",
    "#     'net_arch': []\n",
    "# })\n",
    "#\n",
    "# model_kwargs['policy_kwargs']['features_extractor_kwargs'].update({\n",
    "#     'features_out': 2,\n",
    "# })\n",
    "#\n",
    "# learn_kwargs.update({\n",
    "#     'total_timesteps': 1500\n",
    "# })"
   ],
   "metadata": {
    "collapsed": false,
    "pycharm": {
     "name": "#%%\n"
    }
   }
  },
  {
   "cell_type": "code",
   "execution_count": 27,
   "outputs": [
    {
     "name": "stdout",
     "output_type": "stream",
     "text": [
      "env 'BSMarket was created!\n",
      "model_kwargs['env']: <BSMarket instance>\n",
      "env 'BSMarket was created!\n",
      "learn_kwargs['eval_env']: <BSMarketEval instance>\n",
      "learn_kwargs['tb_log_name']: ddpg_220607-2232\n",
      "learn_kwargs['eval_log_path']: ../logs/tb_logs/ddpg_220607-2232_1\n"
     ]
    }
   ],
   "source": [
    "config.reconstruct_config(env_kwargs, model_kwargs, learn_kwargs)"
   ],
   "metadata": {
    "collapsed": false,
    "pycharm": {
     "name": "#%%\n"
    }
   }
  },
  {
   "cell_type": "code",
   "execution_count": 28,
   "outputs": [
    {
     "name": "stdout",
     "output_type": "stream",
     "text": [
      "{'cost': 0.02,\n",
      " 'dividend': 0.0,\n",
      " 'drift': 0.0,\n",
      " 'freq': 1,\n",
      " 'gen_name': 'gbm',\n",
      " 'init_price': 1.0,\n",
      " 'n_assets': 1000,\n",
      " 'n_periods': 30,\n",
      " 'payoff': 'european',\n",
      " 'period_unit': 365,\n",
      " 'reward_mode': 'pnl',\n",
      " 'risk_free_interest': 0.0,\n",
      " 'strike': 1.0,\n",
      " 'volatility': 0.2}\n"
     ]
    }
   ],
   "source": [
    "pprint(env_kwargs)"
   ],
   "metadata": {
    "collapsed": false,
    "pycharm": {
     "name": "#%%\n"
    }
   }
  },
  {
   "cell_type": "code",
   "execution_count": 29,
   "outputs": [
    {
     "name": "stdout",
     "output_type": "stream",
     "text": [
      "{'action_noise': NormalActionNoise(mu=0.0, sigma=0.1),\n",
      " 'batch_size': 15,\n",
      " 'buffer_size': 300,\n",
      " 'create_eval_env': False,\n",
      " 'device': 'auto',\n",
      " 'env': <Env.env.BSMarket object at 0x0000028D7C8A8910>,\n",
      " 'gamma': 0.99,\n",
      " 'gradient_steps': -1,\n",
      " 'learning_rate': <function lr_schedule at 0x0000028CAD210280>,\n",
      " 'learning_starts': 300,\n",
      " 'optimize_memory_usage': False,\n",
      " 'policy': <class 'Algorithms.ddpg.policies_legacy.DoubleDDPGPolicy'>,\n",
      " 'policy_kwargs': {'activation_fn': <class 'torch.nn.modules.activation.ReLU'>,\n",
      "                   'actor_net_kwargs': None,\n",
      "                   'critic_net_kwargs': None,\n",
      "                   'features_extractor_class': <class 'Env.feature_extractor.MarketObsExtractor'>,\n",
      "                   'features_extractor_kwargs': {'activation_fn': <class 'torch.nn.modules.activation.ReLU'>,\n",
      "                                                 'features_in': 4,\n",
      "                                                 'features_out': 2,\n",
      "                                                 'last_activation_fn': <class 'torch.nn.modules.activation.ReLU'>,\n",
      "                                                 'net_arch': [32, 64]},\n",
      "                   'n_critics': 1,\n",
      "                   'net_arch': [],\n",
      "                   'normalize_images': False,\n",
      "                   'ntb_mode': False,\n",
      "                   'optimizer_class': <class 'torch.optim.adam.Adam'>,\n",
      "                   'optimizer_kwargs': None,\n",
      "                   'share_features_extractor': True},\n",
      " 'replay_buffer_class': <class 'Env.buffers.CustomReplayBuffer'>,\n",
      " 'replay_buffer_kwargs': {},\n",
      " 'seed': 42,\n",
      " 'std_coeff': 0.02,\n",
      " 'tau': 0.005,\n",
      " 'tensorboard_log': '../logs/tb_logs',\n",
      " 'train_freq': (1, 'episode'),\n",
      " 'verbose': 1}\n"
     ]
    }
   ],
   "source": [
    "pprint(model_kwargs)"
   ],
   "metadata": {
    "collapsed": false,
    "pycharm": {
     "name": "#%%\n"
    }
   }
  },
  {
   "cell_type": "code",
   "execution_count": 30,
   "outputs": [
    {
     "name": "stdout",
     "output_type": "stream",
     "text": [
      "{'callback': <Algorithms.ddpg.callbacks.ReportCallbacks object at 0x0000028D7C897490>,\n",
      " 'eval_env': <Env.env.BSMarketEval object at 0x0000028D4A7BBD90>,\n",
      " 'eval_freq': 30,\n",
      " 'eval_log_path': '../logs/tb_logs/ddpg_220607-2232_1',\n",
      " 'log_interval': 30,\n",
      " 'n_eval_episodes': 1,\n",
      " 'reset_num_timesteps': True,\n",
      " 'tb_log_name': 'ddpg_220607-2232',\n",
      " 'total_timesteps': 1500}\n"
     ]
    }
   ],
   "source": [
    "pprint(learn_kwargs)"
   ],
   "metadata": {
    "collapsed": false,
    "pycharm": {
     "name": "#%%\n"
    }
   }
  },
  {
   "cell_type": "markdown",
   "source": [
    "## 1.2 Make env, model"
   ],
   "metadata": {
    "collapsed": false
   }
  },
  {
   "cell_type": "code",
   "execution_count": 31,
   "outputs": [
    {
     "name": "stdout",
     "output_type": "stream",
     "text": [
      "Using cuda device\n",
      "Wrapping the env with a `Monitor` wrapper\n",
      "Wrapping the env in a DummyVecEnv.\n"
     ]
    }
   ],
   "source": [
    "from Algorithms.ddpg import DDPG\n",
    "# from Algorithms.ddpg.double_ddpg import DDPG\n",
    "\n",
    "model = DDPG(**model_kwargs)"
   ],
   "metadata": {
    "collapsed": false,
    "pycharm": {
     "name": "#%%\n"
    }
   }
  },
  {
   "cell_type": "code",
   "execution_count": 32,
   "outputs": [
    {
     "data": {
      "text/plain": "DoubleDDPGPolicy(\n  (actor): CustomActor(\n    (features_extractor): MarketObsExtractor(\n      (layers): Sequential(\n        (0): BatchNorm1d(1000, eps=1e-05, momentum=0.1, affine=True, track_running_stats=True)\n        (1): Linear(in_features=4, out_features=32, bias=True)\n        (2): ReLU()\n        (3): BatchNorm1d(1000, eps=1e-05, momentum=0.1, affine=True, track_running_stats=True)\n        (4): Linear(in_features=32, out_features=64, bias=True)\n        (5): ReLU()\n        (6): BatchNorm1d(1000, eps=1e-05, momentum=0.1, affine=True, track_running_stats=True)\n        (7): Linear(in_features=64, out_features=2, bias=True)\n        (8): ReLU()\n      )\n    )\n    (mu): Sequential(\n      (0): Linear(in_features=2, out_features=1, bias=True)\n      (1): Tanh()\n    )\n    (flatten): Flatten(start_dim=-2, end_dim=-1)\n  )\n  (actor_target): CustomActor(\n    (features_extractor): MarketObsExtractor(\n      (layers): Sequential(\n        (0): BatchNorm1d(1000, eps=1e-05, momentum=0.1, affine=True, track_running_stats=True)\n        (1): Linear(in_features=4, out_features=32, bias=True)\n        (2): ReLU()\n        (3): BatchNorm1d(1000, eps=1e-05, momentum=0.1, affine=True, track_running_stats=True)\n        (4): Linear(in_features=32, out_features=64, bias=True)\n        (5): ReLU()\n        (6): BatchNorm1d(1000, eps=1e-05, momentum=0.1, affine=True, track_running_stats=True)\n        (7): Linear(in_features=64, out_features=2, bias=True)\n        (8): ReLU()\n      )\n    )\n    (mu): Sequential(\n      (0): Linear(in_features=2, out_features=1, bias=True)\n      (1): Tanh()\n    )\n    (flatten): Flatten(start_dim=-2, end_dim=-1)\n  )\n  (critic): CustomContinuousCritic(\n    (features_extractor): MarketObsExtractor(\n      (layers): Sequential(\n        (0): BatchNorm1d(1000, eps=1e-05, momentum=0.1, affine=True, track_running_stats=True)\n        (1): Linear(in_features=4, out_features=32, bias=True)\n        (2): ReLU()\n        (3): BatchNorm1d(1000, eps=1e-05, momentum=0.1, affine=True, track_running_stats=True)\n        (4): Linear(in_features=32, out_features=64, bias=True)\n        (5): ReLU()\n        (6): BatchNorm1d(1000, eps=1e-05, momentum=0.1, affine=True, track_running_stats=True)\n        (7): Linear(in_features=64, out_features=2, bias=True)\n        (8): ReLU()\n      )\n    )\n    (qf0): Sequential(\n      (0): Linear(in_features=3, out_features=1, bias=True)\n    )\n  )\n  (critic2): CustomContinuousCritic(\n    (features_extractor): MarketObsExtractor(\n      (layers): Sequential(\n        (0): BatchNorm1d(1000, eps=1e-05, momentum=0.1, affine=True, track_running_stats=True)\n        (1): Linear(in_features=4, out_features=32, bias=True)\n        (2): ReLU()\n        (3): BatchNorm1d(1000, eps=1e-05, momentum=0.1, affine=True, track_running_stats=True)\n        (4): Linear(in_features=32, out_features=64, bias=True)\n        (5): ReLU()\n        (6): BatchNorm1d(1000, eps=1e-05, momentum=0.1, affine=True, track_running_stats=True)\n        (7): Linear(in_features=64, out_features=2, bias=True)\n        (8): ReLU()\n      )\n    )\n    (qf0): Sequential(\n      (0): Linear(in_features=3, out_features=1, bias=True)\n    )\n  )\n  (critic_target): CustomContinuousCritic(\n    (features_extractor): MarketObsExtractor(\n      (layers): Sequential(\n        (0): BatchNorm1d(1000, eps=1e-05, momentum=0.1, affine=True, track_running_stats=True)\n        (1): Linear(in_features=4, out_features=32, bias=True)\n        (2): ReLU()\n        (3): BatchNorm1d(1000, eps=1e-05, momentum=0.1, affine=True, track_running_stats=True)\n        (4): Linear(in_features=32, out_features=64, bias=True)\n        (5): ReLU()\n        (6): BatchNorm1d(1000, eps=1e-05, momentum=0.1, affine=True, track_running_stats=True)\n        (7): Linear(in_features=64, out_features=2, bias=True)\n        (8): ReLU()\n      )\n    )\n    (qf0): Sequential(\n      (0): Linear(in_features=3, out_features=1, bias=True)\n    )\n  )\n  (critic2_target): CustomContinuousCritic(\n    (features_extractor): MarketObsExtractor(\n      (layers): Sequential(\n        (0): BatchNorm1d(1000, eps=1e-05, momentum=0.1, affine=True, track_running_stats=True)\n        (1): Linear(in_features=4, out_features=32, bias=True)\n        (2): ReLU()\n        (3): BatchNorm1d(1000, eps=1e-05, momentum=0.1, affine=True, track_running_stats=True)\n        (4): Linear(in_features=32, out_features=64, bias=True)\n        (5): ReLU()\n        (6): BatchNorm1d(1000, eps=1e-05, momentum=0.1, affine=True, track_running_stats=True)\n        (7): Linear(in_features=64, out_features=2, bias=True)\n        (8): ReLU()\n      )\n    )\n    (qf0): Sequential(\n      (0): Linear(in_features=3, out_features=1, bias=True)\n    )\n  )\n)"
     },
     "execution_count": 32,
     "metadata": {},
     "output_type": "execute_result"
    }
   ],
   "source": [
    "model.policy"
   ],
   "metadata": {
    "collapsed": false,
    "pycharm": {
     "name": "#%%\n"
    }
   }
  },
  {
   "cell_type": "markdown",
   "source": [
    "# 2. Learning"
   ],
   "metadata": {
    "collapsed": false
   }
  },
  {
   "cell_type": "code",
   "execution_count": 11,
   "outputs": [
    {
     "name": "stdout",
     "output_type": "stream",
     "text": [
      "Wrapping the env with a `Monitor` wrapper\n",
      "Wrapping the env in a DummyVecEnv.\n",
      "Logging to ../logs/tb_logs\\ddpg_220607-2214_1\n",
      "[Training Start]\n",
      "Eval num_timesteps=30, episode_reward=-0.02 +/- 0.00\n",
      "Episode length: 30.00 +/- 0.00\n",
      "---------------------------------\n",
      "| eval/              |          |\n",
      "|    mean_ep_length  | 30       |\n",
      "|    mean_reward     | -0.021   |\n",
      "| time/              |          |\n",
      "|    total timesteps | 30       |\n",
      "---------------------------------\n",
      "New best mean reward!\n",
      "Eval num_timesteps=60, episode_reward=-0.02 +/- 0.00\n",
      "Episode length: 30.00 +/- 0.00\n",
      "---------------------------------\n",
      "| eval/              |          |\n",
      "|    mean_ep_length  | 30       |\n",
      "|    mean_reward     | -0.0222  |\n",
      "| time/              |          |\n",
      "|    total timesteps | 60       |\n",
      "---------------------------------\n",
      "Eval num_timesteps=90, episode_reward=-0.02 +/- 0.00\n",
      "Episode length: 30.00 +/- 0.00\n",
      "---------------------------------\n",
      "| eval/              |          |\n",
      "|    mean_ep_length  | 30       |\n",
      "|    mean_reward     | -0.0235  |\n",
      "| time/              |          |\n",
      "|    total timesteps | 90       |\n",
      "---------------------------------\n",
      "Eval num_timesteps=120, episode_reward=-0.02 +/- 0.00\n",
      "Episode length: 30.00 +/- 0.00\n",
      "---------------------------------\n",
      "| eval/              |          |\n",
      "|    mean_ep_length  | 30       |\n",
      "|    mean_reward     | -0.0243  |\n",
      "| time/              |          |\n",
      "|    total timesteps | 120      |\n",
      "---------------------------------\n",
      "Eval num_timesteps=150, episode_reward=-0.02 +/- 0.00\n",
      "Episode length: 30.00 +/- 0.00\n",
      "---------------------------------\n",
      "| eval/              |          |\n",
      "|    mean_ep_length  | 30       |\n",
      "|    mean_reward     | -0.0226  |\n",
      "| time/              |          |\n",
      "|    total timesteps | 150      |\n",
      "---------------------------------\n",
      "Eval num_timesteps=180, episode_reward=-0.03 +/- 0.00\n",
      "Episode length: 30.00 +/- 0.00\n",
      "---------------------------------\n",
      "| eval/              |          |\n",
      "|    mean_ep_length  | 30       |\n",
      "|    mean_reward     | -0.0255  |\n",
      "| time/              |          |\n",
      "|    total timesteps | 180      |\n",
      "---------------------------------\n",
      "Eval num_timesteps=210, episode_reward=-0.02 +/- 0.00\n",
      "Episode length: 30.00 +/- 0.00\n",
      "---------------------------------\n",
      "| eval/              |          |\n",
      "|    mean_ep_length  | 30       |\n",
      "|    mean_reward     | -0.0223  |\n",
      "| time/              |          |\n",
      "|    total timesteps | 210      |\n",
      "---------------------------------\n",
      "Eval num_timesteps=240, episode_reward=-0.02 +/- 0.00\n",
      "Episode length: 30.00 +/- 0.00\n",
      "---------------------------------\n",
      "| eval/              |          |\n",
      "|    mean_ep_length  | 30       |\n",
      "|    mean_reward     | -0.0204  |\n",
      "| time/              |          |\n",
      "|    total timesteps | 240      |\n",
      "---------------------------------\n",
      "New best mean reward!\n",
      "Eval num_timesteps=270, episode_reward=-0.02 +/- 0.00\n",
      "Episode length: 30.00 +/- 0.00\n",
      "---------------------------------\n",
      "| eval/              |          |\n",
      "|    mean_ep_length  | 30       |\n",
      "|    mean_reward     | -0.0218  |\n",
      "| time/              |          |\n",
      "|    total timesteps | 270      |\n",
      "---------------------------------\n",
      "Eval num_timesteps=300, episode_reward=-0.02 +/- 0.00\n",
      "Episode length: 30.00 +/- 0.00\n",
      "---------------------------------\n",
      "| eval/              |          |\n",
      "|    mean_ep_length  | 30       |\n",
      "|    mean_reward     | -0.0209  |\n",
      "| time/              |          |\n",
      "|    total timesteps | 300      |\n",
      "---------------------------------\n",
      "Eval num_timesteps=330, episode_reward=-0.03 +/- 0.00\n",
      "Episode length: 30.00 +/- 0.00\n",
      "---------------------------------\n",
      "| eval/              |          |\n",
      "|    mean_ep_length  | 30       |\n",
      "|    mean_reward     | -0.0251  |\n",
      "| time/              |          |\n",
      "|    total timesteps | 330      |\n",
      "---------------------------------\n",
      "Eval num_timesteps=360, episode_reward=-0.00 +/- 0.00\n",
      "Episode length: 30.00 +/- 0.00\n",
      "---------------------------------\n",
      "| eval/              |          |\n",
      "|    mean_ep_length  | 30       |\n",
      "|    mean_reward     | -0.00211 |\n",
      "| time/              |          |\n",
      "|    total timesteps | 360      |\n",
      "| train/             |          |\n",
      "|    actor_loss      | 1.68     |\n",
      "|    critic2_loss    | 3.01     |\n",
      "|    critic_loss     | 3.24     |\n",
      "|    learning_rate   | 0.00203  |\n",
      "|    mean_cost_loss  | -1.65    |\n",
      "|    n_updates       | 30       |\n",
      "|    std_cost_loss   | 0.029    |\n",
      "---------------------------------\n",
      "New best mean reward!\n",
      "Eval num_timesteps=390, episode_reward=0.00 +/- 0.00\n",
      "Episode length: 30.00 +/- 0.00\n",
      "---------------------------------\n",
      "| eval/              |          |\n",
      "|    mean_ep_length  | 30       |\n",
      "|    mean_reward     | 0.000249 |\n",
      "| time/              |          |\n",
      "|    total timesteps | 390      |\n",
      "| train/             |          |\n",
      "|    actor_loss      | 2.31     |\n",
      "|    critic2_loss    | 5.29     |\n",
      "|    critic_loss     | 5.43     |\n",
      "|    learning_rate   | 0.00189  |\n",
      "|    mean_cost_loss  | -2.27    |\n",
      "|    n_updates       | 60       |\n",
      "|    std_cost_loss   | 0.0389   |\n",
      "---------------------------------\n",
      "New best mean reward!\n",
      "Eval num_timesteps=420, episode_reward=-0.00 +/- 0.00\n",
      "Episode length: 30.00 +/- 0.00\n",
      "----------------------------------\n",
      "| eval/              |           |\n",
      "|    mean_ep_length  | 30        |\n",
      "|    mean_reward     | -0.000189 |\n",
      "| time/              |           |\n",
      "|    total timesteps | 420       |\n",
      "| train/             |           |\n",
      "|    actor_loss      | 2.05      |\n",
      "|    critic2_loss    | 4.42      |\n",
      "|    critic_loss     | 4.26      |\n",
      "|    learning_rate   | 0.00176   |\n",
      "|    mean_cost_loss  | -2.02     |\n",
      "|    n_updates       | 90        |\n",
      "|    std_cost_loss   | 0.0309    |\n",
      "----------------------------------\n",
      "Eval num_timesteps=450, episode_reward=0.00 +/- 0.00\n",
      "Episode length: 30.00 +/- 0.00\n",
      "---------------------------------\n",
      "| eval/              |          |\n",
      "|    mean_ep_length  | 30       |\n",
      "|    mean_reward     | 0.000413 |\n",
      "| time/              |          |\n",
      "|    total timesteps | 450      |\n",
      "| train/             |          |\n",
      "|    actor_loss      | 1.65     |\n",
      "|    critic2_loss    | 3.11     |\n",
      "|    critic_loss     | 2.83     |\n",
      "|    learning_rate   | 0.00165  |\n",
      "|    mean_cost_loss  | -1.63    |\n",
      "|    n_updates       | 120      |\n",
      "|    std_cost_loss   | 0.0175   |\n",
      "---------------------------------\n",
      "New best mean reward!\n",
      "Eval num_timesteps=480, episode_reward=0.00 +/- 0.00\n",
      "Episode length: 30.00 +/- 0.00\n",
      "---------------------------------\n",
      "| eval/              |          |\n",
      "|    mean_ep_length  | 30       |\n",
      "|    mean_reward     | 0.00159  |\n",
      "| time/              |          |\n",
      "|    total timesteps | 480      |\n",
      "| train/             |          |\n",
      "|    actor_loss      | 1.26     |\n",
      "|    critic2_loss    | 2        |\n",
      "|    critic_loss     | 1.71     |\n",
      "|    learning_rate   | 0.00155  |\n",
      "|    mean_cost_loss  | -1.25    |\n",
      "|    n_updates       | 150      |\n",
      "|    std_cost_loss   | 0.0123   |\n",
      "---------------------------------\n",
      "New best mean reward!\n",
      "Eval num_timesteps=510, episode_reward=0.00 +/- 0.00\n",
      "Episode length: 30.00 +/- 0.00\n",
      "---------------------------------\n",
      "| eval/              |          |\n",
      "|    mean_ep_length  | 30       |\n",
      "|    mean_reward     | 0.000497 |\n",
      "| time/              |          |\n",
      "|    total timesteps | 510      |\n",
      "| train/             |          |\n",
      "|    actor_loss      | 0.938    |\n",
      "|    critic2_loss    | 1.2      |\n",
      "|    critic_loss     | 0.975    |\n",
      "|    learning_rate   | 0.00145  |\n",
      "|    mean_cost_loss  | -0.916   |\n",
      "|    n_updates       | 180      |\n",
      "|    std_cost_loss   | 0.0226   |\n",
      "---------------------------------\n",
      "Eval num_timesteps=540, episode_reward=0.00 +/- 0.00\n",
      "Episode length: 30.00 +/- 0.00\n",
      "---------------------------------\n",
      "| eval/              |          |\n",
      "|    mean_ep_length  | 30       |\n",
      "|    mean_reward     | 0.000697 |\n",
      "| time/              |          |\n",
      "|    total timesteps | 540      |\n",
      "| train/             |          |\n",
      "|    actor_loss      | 0.664    |\n",
      "|    critic2_loss    | 0.677    |\n",
      "|    critic_loss     | 0.54     |\n",
      "|    learning_rate   | 0.00136  |\n",
      "|    mean_cost_loss  | -0.637   |\n",
      "|    n_updates       | 210      |\n",
      "|    std_cost_loss   | 0.027    |\n",
      "---------------------------------\n",
      "Eval num_timesteps=570, episode_reward=0.00 +/- 0.00\n",
      "Episode length: 30.00 +/- 0.00\n",
      "---------------------------------\n",
      "| eval/              |          |\n",
      "|    mean_ep_length  | 30       |\n",
      "|    mean_reward     | 0.00103  |\n",
      "| time/              |          |\n",
      "|    total timesteps | 570      |\n",
      "| train/             |          |\n",
      "|    actor_loss      | 0.45     |\n",
      "|    critic2_loss    | 0.353    |\n",
      "|    critic_loss     | 0.289    |\n",
      "|    learning_rate   | 0.00128  |\n",
      "|    mean_cost_loss  | -0.42    |\n",
      "|    n_updates       | 240      |\n",
      "|    std_cost_loss   | 0.0293   |\n",
      "---------------------------------\n",
      "Eval num_timesteps=600, episode_reward=0.00 +/- 0.00\n",
      "Episode length: 30.00 +/- 0.00\n",
      "---------------------------------\n",
      "| eval/              |          |\n",
      "|    mean_ep_length  | 30       |\n",
      "|    mean_reward     | 1e-05    |\n",
      "| time/              |          |\n",
      "|    total timesteps | 600      |\n",
      "| train/             |          |\n",
      "|    actor_loss      | 0.291    |\n",
      "|    critic2_loss    | 0.168    |\n",
      "|    critic_loss     | 0.151    |\n",
      "|    learning_rate   | 0.00121  |\n",
      "|    mean_cost_loss  | -0.261   |\n",
      "|    n_updates       | 270      |\n",
      "|    std_cost_loss   | 0.0305   |\n",
      "---------------------------------\n",
      "Eval num_timesteps=630, episode_reward=0.00 +/- 0.00\n",
      "Episode length: 30.00 +/- 0.00\n",
      "---------------------------------\n",
      "| eval/              |          |\n",
      "|    mean_ep_length  | 30       |\n",
      "|    mean_reward     | 0.00206  |\n",
      "| time/              |          |\n",
      "|    total timesteps | 630      |\n",
      "| train/             |          |\n",
      "|    actor_loss      | 0.187    |\n",
      "|    critic2_loss    | 0.0565   |\n",
      "|    critic_loss     | 0.0619   |\n",
      "|    learning_rate   | 0.00115  |\n",
      "|    mean_cost_loss  | -0.155   |\n",
      "|    n_updates       | 300      |\n",
      "|    std_cost_loss   | 0.0312   |\n",
      "---------------------------------\n",
      "New best mean reward!\n",
      "Eval num_timesteps=660, episode_reward=0.00 +/- 0.00\n",
      "Episode length: 30.00 +/- 0.00\n",
      "---------------------------------\n",
      "| eval/              |          |\n",
      "|    mean_ep_length  | 30       |\n",
      "|    mean_reward     | 0.000401 |\n",
      "| time/              |          |\n",
      "|    total timesteps | 660      |\n",
      "| train/             |          |\n",
      "|    actor_loss      | 0.124    |\n",
      "|    critic2_loss    | 0.00871  |\n",
      "|    critic_loss     | 0.0214   |\n",
      "|    learning_rate   | 0.00108  |\n",
      "|    mean_cost_loss  | -0.0922  |\n",
      "|    n_updates       | 330      |\n",
      "|    std_cost_loss   | 0.0316   |\n",
      "---------------------------------\n",
      "Eval num_timesteps=690, episode_reward=0.00 +/- 0.00\n",
      "Episode length: 30.00 +/- 0.00\n",
      "---------------------------------\n",
      "| eval/              |          |\n",
      "|    mean_ep_length  | 30       |\n",
      "|    mean_reward     | 0.00191  |\n",
      "| time/              |          |\n",
      "|    total timesteps | 690      |\n",
      "| train/             |          |\n",
      "|    actor_loss      | 0.0822   |\n",
      "|    critic2_loss    | 0.00326  |\n",
      "|    critic_loss     | 0.0215   |\n",
      "|    learning_rate   | 0.00103  |\n",
      "|    mean_cost_loss  | -0.0502  |\n",
      "|    n_updates       | 360      |\n",
      "|    std_cost_loss   | 0.032    |\n",
      "---------------------------------\n",
      "Eval num_timesteps=720, episode_reward=0.00 +/- 0.00\n",
      "Episode length: 30.00 +/- 0.00\n",
      "---------------------------------\n",
      "| eval/              |          |\n",
      "|    mean_ep_length  | 30       |\n",
      "|    mean_reward     | 0.00139  |\n",
      "| time/              |          |\n",
      "|    total timesteps | 720      |\n",
      "| train/             |          |\n",
      "|    actor_loss      | 0.0486   |\n",
      "|    critic2_loss    | 0.0011   |\n",
      "|    critic_loss     | 0.0222   |\n",
      "|    learning_rate   | 0.000979 |\n",
      "|    mean_cost_loss  | -0.0164  |\n",
      "|    n_updates       | 390      |\n",
      "|    std_cost_loss   | 0.0322   |\n",
      "---------------------------------\n",
      "Eval num_timesteps=750, episode_reward=0.00 +/- 0.00\n",
      "Episode length: 30.00 +/- 0.00\n",
      "---------------------------------\n",
      "| eval/              |          |\n",
      "|    mean_ep_length  | 30       |\n",
      "|    mean_reward     | 0.00056  |\n",
      "| time/              |          |\n",
      "|    total timesteps | 750      |\n",
      "| train/             |          |\n",
      "|    actor_loss      | 0.0204   |\n",
      "|    critic2_loss    | 0.00133  |\n",
      "|    critic_loss     | 0.0256   |\n",
      "|    learning_rate   | 0.000932 |\n",
      "|    mean_cost_loss  | 0.012    |\n",
      "|    n_updates       | 420      |\n",
      "|    std_cost_loss   | 0.0325   |\n",
      "---------------------------------\n",
      "Eval num_timesteps=780, episode_reward=-0.00 +/- 0.00\n",
      "Episode length: 30.00 +/- 0.00\n",
      "----------------------------------\n",
      "| eval/              |           |\n",
      "|    mean_ep_length  | 30        |\n",
      "|    mean_reward     | -0.000481 |\n",
      "| time/              |           |\n",
      "|    total timesteps | 780       |\n",
      "| train/             |           |\n",
      "|    actor_loss      | -0.00546  |\n",
      "|    critic2_loss    | 0.00264   |\n",
      "|    critic_loss     | 0.0301    |\n",
      "|    learning_rate   | 0.000889  |\n",
      "|    mean_cost_loss  | 0.0381    |\n",
      "|    n_updates       | 450       |\n",
      "|    std_cost_loss   | 0.0326    |\n",
      "----------------------------------\n",
      "Eval num_timesteps=810, episode_reward=0.00 +/- 0.00\n",
      "Episode length: 30.00 +/- 0.00\n",
      "---------------------------------\n",
      "| eval/              |          |\n",
      "|    mean_ep_length  | 30       |\n",
      "|    mean_reward     | 0.00327  |\n",
      "| time/              |          |\n",
      "|    total timesteps | 810      |\n",
      "| train/             |          |\n",
      "|    actor_loss      | -0.0282  |\n",
      "|    critic2_loss    | 0.00588  |\n",
      "|    critic_loss     | 0.0299   |\n",
      "|    learning_rate   | 0.00085  |\n",
      "|    mean_cost_loss  | 0.061    |\n",
      "|    n_updates       | 480      |\n",
      "|    std_cost_loss   | 0.0328   |\n",
      "---------------------------------\n",
      "New best mean reward!\n",
      "Eval num_timesteps=840, episode_reward=0.00 +/- 0.00\n",
      "Episode length: 30.00 +/- 0.00\n",
      "---------------------------------\n",
      "| eval/              |          |\n",
      "|    mean_ep_length  | 30       |\n",
      "|    mean_reward     | 0.00129  |\n",
      "| time/              |          |\n",
      "|    total timesteps | 840      |\n",
      "| train/             |          |\n",
      "|    actor_loss      | -0.0463  |\n",
      "|    critic2_loss    | 0.00887  |\n",
      "|    critic_loss     | 0.0343   |\n",
      "|    learning_rate   | 0.000814 |\n",
      "|    mean_cost_loss  | 0.0792   |\n",
      "|    n_updates       | 510      |\n",
      "|    std_cost_loss   | 0.0329   |\n",
      "---------------------------------\n",
      "Eval num_timesteps=870, episode_reward=0.00 +/- 0.00\n",
      "Episode length: 30.00 +/- 0.00\n",
      "---------------------------------\n",
      "| eval/              |          |\n",
      "|    mean_ep_length  | 30       |\n",
      "|    mean_reward     | 0.00134  |\n",
      "| time/              |          |\n",
      "|    total timesteps | 870      |\n",
      "| train/             |          |\n",
      "|    actor_loss      | -0.0632  |\n",
      "|    critic2_loss    | 0.0115   |\n",
      "|    critic_loss     | 0.0376   |\n",
      "|    learning_rate   | 0.000781 |\n",
      "|    mean_cost_loss  | 0.0962   |\n",
      "|    n_updates       | 540      |\n",
      "|    std_cost_loss   | 0.0331   |\n",
      "---------------------------------\n",
      "Eval num_timesteps=900, episode_reward=-0.00 +/- 0.00\n",
      "Episode length: 30.00 +/- 0.00\n",
      "----------------------------------\n",
      "| eval/              |           |\n",
      "|    mean_ep_length  | 30        |\n",
      "|    mean_reward     | -0.000404 |\n",
      "| time/              |           |\n",
      "|    total timesteps | 900       |\n",
      "| train/             |           |\n",
      "|    actor_loss      | -0.0793   |\n",
      "|    critic2_loss    | 0.0151    |\n",
      "|    critic_loss     | 0.0434    |\n",
      "|    learning_rate   | 0.000751  |\n",
      "|    mean_cost_loss  | 0.112     |\n",
      "|    n_updates       | 570       |\n",
      "|    std_cost_loss   | 0.0332    |\n",
      "----------------------------------\n",
      "---------------------------------\n",
      "| rollout/           |          |\n",
      "|    ep_len_mean     | 30       |\n",
      "|    ep_rew_mean     | -0.0846  |\n",
      "| time/              |          |\n",
      "|    episodes        | 30       |\n",
      "|    fps             | 20       |\n",
      "|    time_elapsed    | 43       |\n",
      "|    total timesteps | 900      |\n",
      "---------------------------------\n",
      "Eval num_timesteps=930, episode_reward=0.00 +/- 0.00\n",
      "Episode length: 30.00 +/- 0.00\n",
      "---------------------------------\n",
      "| eval/              |          |\n",
      "|    mean_ep_length  | 30       |\n",
      "|    mean_reward     | 0.000553 |\n",
      "| time/              |          |\n",
      "|    total timesteps | 930      |\n",
      "| train/             |          |\n",
      "|    actor_loss      | -0.0943  |\n",
      "|    critic2_loss    | 0.0196   |\n",
      "|    critic_loss     | 0.0442   |\n",
      "|    learning_rate   | 0.000723 |\n",
      "|    mean_cost_loss  | 0.128    |\n",
      "|    n_updates       | 600      |\n",
      "|    std_cost_loss   | 0.0333   |\n",
      "---------------------------------\n",
      "Eval num_timesteps=960, episode_reward=0.00 +/- 0.00\n",
      "Episode length: 30.00 +/- 0.00\n",
      "---------------------------------\n",
      "| eval/              |          |\n",
      "|    mean_ep_length  | 30       |\n",
      "|    mean_reward     | 0.00312  |\n",
      "| time/              |          |\n",
      "|    total timesteps | 960      |\n",
      "| train/             |          |\n",
      "|    actor_loss      | -0.106   |\n",
      "|    critic2_loss    | 0.0219   |\n",
      "|    critic_loss     | 0.0491   |\n",
      "|    learning_rate   | 0.000697 |\n",
      "|    mean_cost_loss  | 0.14     |\n",
      "|    n_updates       | 630      |\n",
      "|    std_cost_loss   | 0.0334   |\n",
      "---------------------------------\n",
      "Eval num_timesteps=990, episode_reward=0.00 +/- 0.00\n",
      "Episode length: 30.00 +/- 0.00\n",
      "---------------------------------\n",
      "| eval/              |          |\n",
      "|    mean_ep_length  | 30       |\n",
      "|    mean_reward     | 0.00176  |\n",
      "| time/              |          |\n",
      "|    total timesteps | 990      |\n",
      "| train/             |          |\n",
      "|    actor_loss      | -0.119   |\n",
      "|    critic2_loss    | 0.026    |\n",
      "|    critic_loss     | 0.0515   |\n",
      "|    learning_rate   | 0.000674 |\n",
      "|    mean_cost_loss  | 0.152    |\n",
      "|    n_updates       | 660      |\n",
      "|    std_cost_loss   | 0.0335   |\n",
      "---------------------------------\n",
      "Eval num_timesteps=1020, episode_reward=-0.00 +/- 0.00\n",
      "Episode length: 30.00 +/- 0.00\n",
      "----------------------------------\n",
      "| eval/              |           |\n",
      "|    mean_ep_length  | 30        |\n",
      "|    mean_reward     | -0.000319 |\n",
      "| time/              |           |\n",
      "|    total timesteps | 1020      |\n",
      "| train/             |           |\n",
      "|    actor_loss      | -0.13     |\n",
      "|    critic2_loss    | 0.031     |\n",
      "|    critic_loss     | 0.0519    |\n",
      "|    learning_rate   | 0.000652  |\n",
      "|    mean_cost_loss  | 0.163     |\n",
      "|    n_updates       | 690       |\n",
      "|    std_cost_loss   | 0.0336    |\n",
      "----------------------------------\n",
      "Eval num_timesteps=1050, episode_reward=0.00 +/- 0.00\n",
      "Episode length: 30.00 +/- 0.00\n",
      "---------------------------------\n",
      "| eval/              |          |\n",
      "|    mean_ep_length  | 30       |\n",
      "|    mean_reward     | 0.000408 |\n",
      "| time/              |          |\n",
      "|    total timesteps | 1050     |\n",
      "| train/             |          |\n",
      "|    actor_loss      | -0.138   |\n",
      "|    critic2_loss    | 0.0334   |\n",
      "|    critic_loss     | 0.0553   |\n",
      "|    learning_rate   | 0.000633 |\n",
      "|    mean_cost_loss  | 0.172    |\n",
      "|    n_updates       | 720      |\n",
      "|    std_cost_loss   | 0.0336   |\n",
      "---------------------------------\n",
      "Eval num_timesteps=1080, episode_reward=0.00 +/- 0.00\n",
      "Episode length: 30.00 +/- 0.00\n",
      "---------------------------------\n",
      "| eval/              |          |\n",
      "|    mean_ep_length  | 30       |\n",
      "|    mean_reward     | 0.00278  |\n",
      "| time/              |          |\n",
      "|    total timesteps | 1080     |\n",
      "| train/             |          |\n",
      "|    actor_loss      | -0.145   |\n",
      "|    critic2_loss    | 0.0365   |\n",
      "|    critic_loss     | 0.0569   |\n",
      "|    learning_rate   | 0.000615 |\n",
      "|    mean_cost_loss  | 0.179    |\n",
      "|    n_updates       | 750      |\n",
      "|    std_cost_loss   | 0.0337   |\n",
      "---------------------------------\n",
      "Eval num_timesteps=1110, episode_reward=0.00 +/- 0.00\n",
      "Episode length: 30.00 +/- 0.00\n",
      "---------------------------------\n",
      "| eval/              |          |\n",
      "|    mean_ep_length  | 30       |\n",
      "|    mean_reward     | 0.00125  |\n",
      "| time/              |          |\n",
      "|    total timesteps | 1110     |\n",
      "| train/             |          |\n",
      "|    actor_loss      | -0.152   |\n",
      "|    critic2_loss    | 0.0398   |\n",
      "|    critic_loss     | 0.0591   |\n",
      "|    learning_rate   | 0.000599 |\n",
      "|    mean_cost_loss  | 0.185    |\n",
      "|    n_updates       | 780      |\n",
      "|    std_cost_loss   | 0.0338   |\n",
      "---------------------------------\n",
      "Eval num_timesteps=1140, episode_reward=0.00 +/- 0.00\n",
      "Episode length: 30.00 +/- 0.00\n",
      "---------------------------------\n",
      "| eval/              |          |\n",
      "|    mean_ep_length  | 30       |\n",
      "|    mean_reward     | 0.00228  |\n",
      "| time/              |          |\n",
      "|    total timesteps | 1140     |\n",
      "| train/             |          |\n",
      "|    actor_loss      | -0.158   |\n",
      "|    critic2_loss    | 0.0416   |\n",
      "|    critic_loss     | 0.0622   |\n",
      "|    learning_rate   | 0.000584 |\n",
      "|    mean_cost_loss  | 0.192    |\n",
      "|    n_updates       | 810      |\n",
      "|    std_cost_loss   | 0.0339   |\n",
      "---------------------------------\n",
      "Eval num_timesteps=1170, episode_reward=0.00 +/- 0.00\n",
      "Episode length: 30.00 +/- 0.00\n",
      "---------------------------------\n",
      "| eval/              |          |\n",
      "|    mean_ep_length  | 30       |\n",
      "|    mean_reward     | 0.00226  |\n",
      "| time/              |          |\n",
      "|    total timesteps | 1170     |\n",
      "| train/             |          |\n",
      "|    actor_loss      | -0.164   |\n",
      "|    critic2_loss    | 0.0457   |\n",
      "|    critic_loss     | 0.0612   |\n",
      "|    learning_rate   | 0.000571 |\n",
      "|    mean_cost_loss  | 0.197    |\n",
      "|    n_updates       | 840      |\n",
      "|    std_cost_loss   | 0.0339   |\n",
      "---------------------------------\n",
      "Eval num_timesteps=1200, episode_reward=0.00 +/- 0.00\n",
      "Episode length: 30.00 +/- 0.00\n",
      "---------------------------------\n",
      "| eval/              |          |\n",
      "|    mean_ep_length  | 30       |\n",
      "|    mean_reward     | 0.00134  |\n",
      "| time/              |          |\n",
      "|    total timesteps | 1200     |\n",
      "| train/             |          |\n",
      "|    actor_loss      | -0.167   |\n",
      "|    critic2_loss    | 0.0455   |\n",
      "|    critic_loss     | 0.0669   |\n",
      "|    learning_rate   | 0.000559 |\n",
      "|    mean_cost_loss  | 0.201    |\n",
      "|    n_updates       | 870      |\n",
      "|    std_cost_loss   | 0.034    |\n",
      "---------------------------------\n",
      "Eval num_timesteps=1230, episode_reward=0.00 +/- 0.00\n",
      "Episode length: 30.00 +/- 0.00\n",
      "---------------------------------\n",
      "| eval/              |          |\n",
      "|    mean_ep_length  | 30       |\n",
      "|    mean_reward     | 0.000405 |\n",
      "| time/              |          |\n",
      "|    total timesteps | 1230     |\n",
      "| train/             |          |\n",
      "|    actor_loss      | -0.173   |\n",
      "|    critic2_loss    | 0.049    |\n",
      "|    critic_loss     | 0.0664   |\n",
      "|    learning_rate   | 0.000548 |\n",
      "|    mean_cost_loss  | 0.207    |\n",
      "|    n_updates       | 900      |\n",
      "|    std_cost_loss   | 0.034    |\n",
      "---------------------------------\n",
      "Eval num_timesteps=1260, episode_reward=0.00 +/- 0.00\n",
      "Episode length: 30.00 +/- 0.00\n",
      "---------------------------------\n",
      "| eval/              |          |\n",
      "|    mean_ep_length  | 30       |\n",
      "|    mean_reward     | 0.00033  |\n",
      "| time/              |          |\n",
      "|    total timesteps | 1260     |\n",
      "| train/             |          |\n",
      "|    actor_loss      | -0.177   |\n",
      "|    critic2_loss    | 0.0509   |\n",
      "|    critic_loss     | 0.0668   |\n",
      "|    learning_rate   | 0.000539 |\n",
      "|    mean_cost_loss  | 0.211    |\n",
      "|    n_updates       | 930      |\n",
      "|    std_cost_loss   | 0.0341   |\n",
      "---------------------------------\n",
      "Eval num_timesteps=1290, episode_reward=0.00 +/- 0.00\n",
      "Episode length: 30.00 +/- 0.00\n",
      "---------------------------------\n",
      "| eval/              |          |\n",
      "|    mean_ep_length  | 30       |\n",
      "|    mean_reward     | 0.00131  |\n",
      "| time/              |          |\n",
      "|    total timesteps | 1290     |\n",
      "| train/             |          |\n",
      "|    actor_loss      | -0.181   |\n",
      "|    critic2_loss    | 0.0525   |\n",
      "|    critic_loss     | 0.0692   |\n",
      "|    learning_rate   | 0.00053  |\n",
      "|    mean_cost_loss  | 0.215    |\n",
      "|    n_updates       | 960      |\n",
      "|    std_cost_loss   | 0.0342   |\n",
      "---------------------------------\n",
      "Eval num_timesteps=1320, episode_reward=0.00 +/- 0.00\n",
      "Episode length: 30.00 +/- 0.00\n",
      "---------------------------------\n",
      "| eval/              |          |\n",
      "|    mean_ep_length  | 30       |\n",
      "|    mean_reward     | 0.00169  |\n",
      "| time/              |          |\n",
      "|    total timesteps | 1320     |\n",
      "| train/             |          |\n",
      "|    actor_loss      | -0.185   |\n",
      "|    critic2_loss    | 0.0542   |\n",
      "|    critic_loss     | 0.0692   |\n",
      "|    learning_rate   | 0.000523 |\n",
      "|    mean_cost_loss  | 0.219    |\n",
      "|    n_updates       | 990      |\n",
      "|    std_cost_loss   | 0.0342   |\n",
      "---------------------------------\n",
      "Eval num_timesteps=1350, episode_reward=0.00 +/- 0.00\n",
      "Episode length: 30.00 +/- 0.00\n",
      "---------------------------------\n",
      "| eval/              |          |\n",
      "|    mean_ep_length  | 30       |\n",
      "|    mean_reward     | 0.00089  |\n",
      "| time/              |          |\n",
      "|    total timesteps | 1350     |\n",
      "| train/             |          |\n",
      "|    actor_loss      | -0.187   |\n",
      "|    critic2_loss    | 0.0548   |\n",
      "|    critic_loss     | 0.0709   |\n",
      "|    learning_rate   | 0.000517 |\n",
      "|    mean_cost_loss  | 0.221    |\n",
      "|    n_updates       | 1020     |\n",
      "|    std_cost_loss   | 0.0343   |\n",
      "---------------------------------\n",
      "Eval num_timesteps=1380, episode_reward=0.00 +/- 0.00\n",
      "Episode length: 30.00 +/- 0.00\n",
      "---------------------------------\n",
      "| eval/              |          |\n",
      "|    mean_ep_length  | 30       |\n",
      "|    mean_reward     | 0.000646 |\n",
      "| time/              |          |\n",
      "|    total timesteps | 1380     |\n",
      "| train/             |          |\n",
      "|    actor_loss      | -0.19    |\n",
      "|    critic2_loss    | 0.0565   |\n",
      "|    critic_loss     | 0.0734   |\n",
      "|    learning_rate   | 0.000512 |\n",
      "|    mean_cost_loss  | 0.224    |\n",
      "|    n_updates       | 1050     |\n",
      "|    std_cost_loss   | 0.0343   |\n",
      "---------------------------------\n",
      "Eval num_timesteps=1410, episode_reward=0.00 +/- 0.00\n",
      "Episode length: 30.00 +/- 0.00\n",
      "---------------------------------\n",
      "| eval/              |          |\n",
      "|    mean_ep_length  | 30       |\n",
      "|    mean_reward     | 0.00284  |\n",
      "| time/              |          |\n",
      "|    total timesteps | 1410     |\n",
      "| train/             |          |\n",
      "|    actor_loss      | -0.195   |\n",
      "|    critic2_loss    | 0.0588   |\n",
      "|    critic_loss     | 0.0723   |\n",
      "|    learning_rate   | 0.000507 |\n",
      "|    mean_cost_loss  | 0.229    |\n",
      "|    n_updates       | 1080     |\n",
      "|    std_cost_loss   | 0.0344   |\n",
      "---------------------------------\n",
      "Eval num_timesteps=1440, episode_reward=0.00 +/- 0.00\n",
      "Episode length: 30.00 +/- 0.00\n",
      "---------------------------------\n",
      "| eval/              |          |\n",
      "|    mean_ep_length  | 30       |\n",
      "|    mean_reward     | 0.000855 |\n",
      "| time/              |          |\n",
      "|    total timesteps | 1440     |\n",
      "| train/             |          |\n",
      "|    actor_loss      | -0.197   |\n",
      "|    critic2_loss    | 0.058    |\n",
      "|    critic_loss     | 0.0751   |\n",
      "|    learning_rate   | 0.000504 |\n",
      "|    mean_cost_loss  | 0.231    |\n",
      "|    n_updates       | 1110     |\n",
      "|    std_cost_loss   | 0.0344   |\n",
      "---------------------------------\n",
      "Eval num_timesteps=1470, episode_reward=0.00 +/- 0.00\n",
      "Episode length: 30.00 +/- 0.00\n",
      "---------------------------------\n",
      "| eval/              |          |\n",
      "|    mean_ep_length  | 30       |\n",
      "|    mean_reward     | 0.000574 |\n",
      "| time/              |          |\n",
      "|    total timesteps | 1470     |\n",
      "| train/             |          |\n",
      "|    actor_loss      | -0.2     |\n",
      "|    critic2_loss    | 0.0599   |\n",
      "|    critic_loss     | 0.074    |\n",
      "|    learning_rate   | 0.000502 |\n",
      "|    mean_cost_loss  | 0.234    |\n",
      "|    n_updates       | 1140     |\n",
      "|    std_cost_loss   | 0.0345   |\n",
      "---------------------------------\n",
      "Eval num_timesteps=1500, episode_reward=0.00 +/- 0.00\n",
      "Episode length: 30.00 +/- 0.00\n",
      "---------------------------------\n",
      "| eval/              |          |\n",
      "|    mean_ep_length  | 30       |\n",
      "|    mean_reward     | 0.00133  |\n",
      "| time/              |          |\n",
      "|    total timesteps | 1500     |\n",
      "| train/             |          |\n",
      "|    actor_loss      | -0.201   |\n",
      "|    critic2_loss    | 0.0616   |\n",
      "|    critic_loss     | 0.0733   |\n",
      "|    learning_rate   | 0.0005   |\n",
      "|    mean_cost_loss  | 0.236    |\n",
      "|    n_updates       | 1170     |\n",
      "|    std_cost_loss   | 0.0345   |\n",
      "---------------------------------\n",
      "[Training End]  steps: 1500\ttimes: 100.2240834236145\n"
     ]
    }
   ],
   "source": [
    "model = model.learn(**learn_kwargs)"
   ],
   "metadata": {
    "collapsed": false,
    "pycharm": {
     "name": "#%%\n"
    }
   }
  },
  {
   "cell_type": "code",
   "execution_count": 12,
   "outputs": [
    {
     "name": "stdout",
     "output_type": "stream",
     "text": [
      "<BSMarket instance> will be save as name. env_kwargs not in kwargs!\n",
      "<BSMarketEval instance> will be save as name. eval_env_kwargs not in kwargs!\n",
      "<Algorithms.ddpg.callbacks.ReportCallbacks object at 0x0000028CAD33CFA0> will be save as name. callback_kwargs not in kwargs!\n",
      "../logs/tb_logs/ddpg_220607-2214_1/config.yaml was saved.\n"
     ]
    }
   ],
   "source": [
    "config.save_config(f'{learn_kwargs[\"eval_log_path\"]}/config.yaml', env_kwargs, model_kwargs, learn_kwargs)"
   ],
   "metadata": {
    "collapsed": false,
    "pycharm": {
     "name": "#%%\n"
    }
   }
  },
  {
   "cell_type": "markdown",
   "source": [
    "# 3. P&L Evaluation"
   ],
   "metadata": {
    "collapsed": false
   }
  },
  {
   "cell_type": "code",
   "execution_count": 33,
   "outputs": [],
   "source": [
    "model = model.load('../logs/tb_logs/ddpg_220607-2214_1'+'/best_model')"
   ],
   "metadata": {
    "collapsed": false,
    "pycharm": {
     "name": "#%%\n"
    }
   }
  },
  {
   "cell_type": "code",
   "execution_count": 34,
   "outputs": [
    {
     "data": {
      "text/plain": "<Env.env.BSMarketEval at 0x28d4a7bbd90>"
     },
     "execution_count": 34,
     "metadata": {},
     "output_type": "execute_result"
    }
   ],
   "source": [
    "eval_env = learn_kwargs['eval_env']\n",
    "eval_env"
   ],
   "metadata": {
    "collapsed": false,
    "pycharm": {
     "name": "#%%\n"
    }
   }
  },
  {
   "cell_type": "code",
   "execution_count": 36,
   "outputs": [],
   "source": [
    "random_pnl = eval_env.pnl_eval()\n",
    "delta_pnl = eval_env.delta_eval()"
   ],
   "metadata": {
    "collapsed": false,
    "pycharm": {
     "name": "#%%\n"
    }
   }
  },
  {
   "cell_type": "code",
   "execution_count": 38,
   "outputs": [
    {
     "data": {
      "text/plain": "-0.21054590340761983"
     },
     "execution_count": 38,
     "metadata": {},
     "output_type": "execute_result"
    }
   ],
   "source": [
    "random_pnl.mean()"
   ],
   "metadata": {
    "collapsed": false,
    "pycharm": {
     "name": "#%%\n"
    }
   }
  },
  {
   "cell_type": "code",
   "execution_count": 39,
   "outputs": [
    {
     "data": {
      "text/plain": "-0.029680267234441747"
     },
     "execution_count": 39,
     "metadata": {},
     "output_type": "execute_result"
    }
   ],
   "source": [
    "delta_pnl.mean()"
   ],
   "metadata": {
    "collapsed": false,
    "pycharm": {
     "name": "#%%\n"
    }
   }
  },
  {
   "cell_type": "code",
   "execution_count": 40,
   "outputs": [],
   "source": [
    "rl_pnl = eval_env.pnl_eval(model)"
   ],
   "metadata": {
    "collapsed": false,
    "pycharm": {
     "name": "#%%\n"
    }
   }
  },
  {
   "cell_type": "code",
   "execution_count": 41,
   "outputs": [
    {
     "data": {
      "text/plain": "0.0011812028750596332"
     },
     "execution_count": 41,
     "metadata": {},
     "output_type": "execute_result"
    }
   ],
   "source": [
    "rl_pnl.mean()"
   ],
   "metadata": {
    "collapsed": false,
    "pycharm": {
     "name": "#%%\n"
    }
   }
  },
  {
   "cell_type": "code",
   "execution_count": 43,
   "outputs": [],
   "source": [
    "import numpy as np\n",
    "\n",
    "def pnl_reward(pnl):\n",
    "    mean = np.mean(pnl)\n",
    "    std = np.std(pnl)\n",
    "    return mean - 0.02 * std , (mean, std)"
   ],
   "metadata": {
    "collapsed": false,
    "pycharm": {
     "name": "#%%\n"
    }
   }
  },
  {
   "cell_type": "code",
   "execution_count": 58,
   "outputs": [
    {
     "data": {
      "text/plain": "<Figure size 1000x500 with 1 Axes>",
      "image/png": "[encoded data removed]"
     },
     "metadata": {},
     "output_type": "display_data"
    },
    {
     "name": "stdout",
     "output_type": "stream",
     "text": [
      "random:\t-0.2119, -0.2105, 0.0680\n",
      "delta:\t\t-0.0309, -0.0297, 0.0632\n",
      "rl:\t\t0.0005, 0.0012, 0.0348\n",
      "5.848138259862849\n",
      "64.68934922494776\n"
     ]
    }
   ],
   "source": [
    "plt.xlabel('P&L')\n",
    "# plt.hist(random_pnl, bins=100, range=(-0.25, 0.05), alpha=0.6, label='random')\n",
    "plt.hist(random_pnl, bins=100, range=(-0.2, 0.05), alpha=0.6, label='random')\n",
    "plt.hist(delta_pnl, bins=100, range=(-0.2, 0.05), alpha=0.6, label='delta')\n",
    "plt.hist(rl_pnl, bins=100, range=(-0.2, 0.05), alpha=0.6, label='rl')\n",
    "plt.ylim(0, 150)\n",
    "plt.legend()\n",
    "plt.show()\n",
    "\n",
    "r1, (m1, s1) = pnl_reward(random_pnl)\n",
    "r2, (m2, s2) = pnl_reward(delta_pnl)\n",
    "r3, (m3, s3) = pnl_reward(rl_pnl)\n",
    "print(f'random:\\t{r1:.4f}, {m1:.4f}, {s1:.4f}')\n",
    "print(f'delta:\\t\\t{r2:.4f}, {m2:.4f}, {s2:.4f}')\n",
    "print(f'rl:\\t\\t{r3:.4f}, {m3:.4f}, {s3:.4f}')\n",
    "print((r2-r1)/abs(r2))\n",
    "print((r3-r2)/abs(r3))"
   ],
   "metadata": {
    "collapsed": false,
    "pycharm": {
     "name": "#%%\n"
    }
   }
  },
  {
   "cell_type": "code",
   "execution_count": null,
   "outputs": [],
   "source": [],
   "metadata": {
    "collapsed": false,
    "pycharm": {
     "name": "#%%\n"
    }
   }
  }
 ],
 "metadata": {
  "kernelspec": {
   "display_name": "Python 3",
   "language": "python",
   "name": "python3"
  },
  "language_info": {
   "codemirror_mode": {
    "name": "ipython",
    "version": 2
   },
   "file_extension": ".py",
   "mimetype": "text/x-python",
   "name": "python",
   "nbconvert_exporter": "python",
   "pygments_lexer": "ipython2",
   "version": "2.7.6"
  }
 },
 "nbformat": 4,
 "nbformat_minor": 0
}