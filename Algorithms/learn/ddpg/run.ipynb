{
 "cells": [
  {
   "cell_type": "code",
   "execution_count": 1,
   "outputs": [],
   "source": [
    "import torch as th\n",
    "import torch.nn as nn\n",
    "import matplotlib.pyplot as plt\n",
    "\n",
    "from pprint import pprint\n",
    "from Algorithms.ddpg import config"
   ],
   "metadata": {
    "collapsed": false,
    "pycharm": {
     "name": "#%%\n"
    }
   }
  },
  {
   "cell_type": "markdown",
   "source": [
    "# 0. Plot Setting"
   ],
   "metadata": {
    "collapsed": false
   }
  },
  {
   "cell_type": "code",
   "execution_count": 2,
   "metadata": {
    "collapsed": true
   },
   "outputs": [],
   "source": [
    "import seaborn as sb\n",
    "import matplotlib\n",
    "\n",
    "sb.set_style('whitegrid')\n",
    "\n",
    "FONTSIZE = 10\n",
    "matplotlib.rcParams[\"figure.figsize\"] = (10, 5)\n",
    "matplotlib.rcParams[\"figure.dpi\"] = 100\n",
    "matplotlib.rcParams[\"figure.titlesize\"] = FONTSIZE\n",
    "matplotlib.rcParams[\"legend.fontsize\"] = FONTSIZE\n",
    "matplotlib.rcParams[\"xtick.labelsize\"] = FONTSIZE\n",
    "matplotlib.rcParams[\"ytick.labelsize\"] = FONTSIZE\n",
    "matplotlib.rcParams[\"axes.labelsize\"] = FONTSIZE\n",
    "matplotlib.rcParams[\"axes.titlesize\"] = FONTSIZE\n",
    "matplotlib.rcParams[\"savefig.bbox\"] = \"tight\"\n",
    "matplotlib.rcParams[\"savefig.pad_inches\"] = 0.1\n",
    "matplotlib.rcParams[\"lines.linewidth\"] = 2\n",
    "matplotlib.rcParams[\"axes.linewidth\"] = 1.6"
   ]
  },
  {
   "cell_type": "markdown",
   "source": [
    "# 1. Model Setting"
   ],
   "metadata": {
    "collapsed": false
   }
  },
  {
   "cell_type": "markdown",
   "source": [
    "## 1.1 Load Config"
   ],
   "metadata": {
    "collapsed": false
   }
  },
  {
   "cell_type": "code",
   "execution_count": 3,
   "outputs": [
    {
     "name": "stdout",
     "output_type": "stream",
     "text": [
      "env 'BSMarket was created!\n",
      "env 'BSMarket was created!\n"
     ]
    }
   ],
   "source": [
    "env_kwargs, model_kwargs, learn_kwargs = config.load_config('tmp_config.yaml')"
   ],
   "metadata": {
    "collapsed": false,
    "pycharm": {
     "name": "#%%\n"
    }
   }
  },
  {
   "cell_type": "code",
   "execution_count": 4,
   "outputs": [],
   "source": [
    "ntb_mode = False\n",
    "\n",
    "env_kwargs.update({\n",
    "    'reward_fn': 'mean var',\n",
    "    'reward_fn_kwargs': {}\n",
    "})\n",
    "\n",
    "model_kwargs.update({\n",
    "    'buffer_size': 300,\n",
    "    'learning_starts': 300,\n",
    "    'batch_size': 15,\n",
    "    'std_coeff': 1e-2\n",
    "})\n",
    "\n",
    "model_kwargs['policy_kwargs'].update({\n",
    "    'ntb_mode': ntb_mode,\n",
    "})\n",
    "\n",
    "learn_kwargs.update({\n",
    "    'total_timesteps': 1500\n",
    "})\n",
    "\n",
    "# del model_kwargs['std_coeff']\n",
    "\n",
    "if ntb_mode:\n",
    "    actor_net_kwargs = {'bn_kwargs': {'num_features': env_kwargs['n_assets']}}\n",
    "    critic_net_kwargs = {'bn_kwargs': {'num_features': env_kwargs['n_assets']}}\n",
    "\n",
    "\n",
    "    model_kwargs['policy_kwargs'].update({\n",
    "        'net_arch': {'pi': [(nn.BatchNorm1d, 'bn'), 32, 32],\n",
    "                     'qf': [(nn.BatchNorm1d, 'bn'), 2]},\n",
    "        'actor_net_kwargs': actor_net_kwargs,\n",
    "        'critic_net_kwargs': critic_net_kwargs,\n",
    "    })\n",
    "\n",
    "    model_kwargs['policy_kwargs']['features_extractor_kwargs'].update({\n",
    "        'features_out': 64,\n",
    "        'net_arch': [32]\n",
    "    })\n",
    "\n",
    "else:\n",
    "    model_kwargs['policy_kwargs'].update({\n",
    "        'net_arch': [],\n",
    "    })\n",
    "\n",
    "    model_kwargs['policy_kwargs']['features_extractor_kwargs'].update({\n",
    "        'features_out': 2,\n",
    "        'net_arch': [32, 64]\n",
    "    })\n",
    "\n",
    "# model_kwargs['policy_kwargs']['features_extractor_kwargs'].update({\n",
    "#     'features_in': 5\n",
    "# })"
   ],
   "metadata": {
    "collapsed": false,
    "pycharm": {
     "name": "#%%\n"
    }
   }
  },
  {
   "cell_type": "code",
   "execution_count": 5,
   "outputs": [
    {
     "name": "stdout",
     "output_type": "stream",
     "text": [
      "env 'BSMarket was created!\n",
      "model_kwargs['env']: <BSMarket instance>\n",
      "env 'BSMarket was created!\n",
      "learn_kwargs['eval_env']: <BSMarketEval instance>\n",
      "learn_kwargs['tb_log_name']: ddpg_220613-1058\n",
      "learn_kwargs['eval_log_path']: ../logs/tb_logs/ddpg_220613-1058_1\n"
     ]
    }
   ],
   "source": [
    "config.reconstruct_config(env_kwargs, model_kwargs, learn_kwargs)"
   ],
   "metadata": {
    "collapsed": false,
    "pycharm": {
     "name": "#%%\n"
    }
   }
  },
  {
   "cell_type": "code",
   "execution_count": 6,
   "outputs": [
    {
     "name": "stdout",
     "output_type": "stream",
     "text": [
      "{'cost': 0.02,\n",
      " 'dividend': 0.0,\n",
      " 'drift': 0.0,\n",
      " 'freq': 1,\n",
      " 'gen_name': 'gbm',\n",
      " 'init_price': 1.0,\n",
      " 'n_assets': 1000,\n",
      " 'n_periods': 30,\n",
      " 'payoff': 'european',\n",
      " 'payoff_coeff': 1.0,\n",
      " 'period_unit': 365,\n",
      " 'reward_fn': 'mean var',\n",
      " 'reward_fn_kwargs': {},\n",
      " 'reward_mode': 'pnl',\n",
      " 'risk_free_interest': 0.0,\n",
      " 'strike': 1.0,\n",
      " 'volatility': 0.2}\n"
     ]
    }
   ],
   "source": [
    "pprint(env_kwargs)"
   ],
   "metadata": {
    "collapsed": false,
    "pycharm": {
     "name": "#%%\n"
    }
   }
  },
  {
   "cell_type": "code",
   "execution_count": 7,
   "outputs": [
    {
     "name": "stdout",
     "output_type": "stream",
     "text": [
      "{'action_noise': NormalActionNoise(mu=0.0, sigma=0.1),\n",
      " 'batch_size': 15,\n",
      " 'buffer_size': 300,\n",
      " 'create_eval_env': False,\n",
      " 'device': 'auto',\n",
      " 'env': <Env.env.BSMarket object at 0x000001D99C467100>,\n",
      " 'gamma': 0.99,\n",
      " 'gradient_steps': -1,\n",
      " 'learning_rate': <function lr_schedule at 0x000001D99C2A2040>,\n",
      " 'learning_starts': 300,\n",
      " 'optimize_memory_usage': False,\n",
      " 'policy': <class 'Algorithms.ddpg.policies.DoubleDDPGPolicy'>,\n",
      " 'policy_kwargs': {'activation_fn': <class 'torch.nn.modules.activation.ReLU'>,\n",
      "                   'actor_net_kwargs': None,\n",
      "                   'critic_net_kwargs': None,\n",
      "                   'features_extractor_class': <class 'Env.feature_extractor.MarketObsExtractor'>,\n",
      "                   'features_extractor_kwargs': {'activation_fn': <class 'torch.nn.modules.activation.ReLU'>,\n",
      "                                                 'features_in': 4,\n",
      "                                                 'features_out': 2,\n",
      "                                                 'last_activation_fn': <class 'torch.nn.modules.activation.ReLU'>,\n",
      "                                                 'net_arch': [32, 64]},\n",
      "                   'n_critics': 1,\n",
      "                   'net_arch': [],\n",
      "                   'normalize_images': False,\n",
      "                   'ntb_mode': False,\n",
      "                   'optimizer_class': <class 'torch.optim.adam.Adam'>,\n",
      "                   'optimizer_kwargs': None,\n",
      "                   'share_features_extractor': True},\n",
      " 'replay_buffer_class': <class 'Env.buffers.CustomReplayBuffer'>,\n",
      " 'replay_buffer_kwargs': {},\n",
      " 'seed': 42,\n",
      " 'std_coeff': 0.01,\n",
      " 'tau': 0.005,\n",
      " 'tensorboard_log': '../logs/tb_logs',\n",
      " 'train_freq': (1, 'episode'),\n",
      " 'verbose': 1}\n"
     ]
    }
   ],
   "source": [
    "pprint(model_kwargs)"
   ],
   "metadata": {
    "collapsed": false,
    "pycharm": {
     "name": "#%%\n"
    }
   }
  },
  {
   "cell_type": "code",
   "execution_count": 8,
   "outputs": [
    {
     "name": "stdout",
     "output_type": "stream",
     "text": [
      "{'callback': <Algorithms.ddpg.callbacks.ReportCallbacks object at 0x000001D99C467340>,\n",
      " 'eval_env': <Env.env.BSMarketEval object at 0x000001D99C467850>,\n",
      " 'eval_freq': 30,\n",
      " 'eval_log_path': '../logs/tb_logs/ddpg_220613-1058_1',\n",
      " 'log_interval': 30,\n",
      " 'n_eval_episodes': 1,\n",
      " 'reset_num_timesteps': True,\n",
      " 'tb_log_name': 'ddpg_220613-1058',\n",
      " 'total_timesteps': 1500}\n"
     ]
    }
   ],
   "source": [
    "pprint(learn_kwargs)"
   ],
   "metadata": {
    "collapsed": false,
    "pycharm": {
     "name": "#%%\n"
    }
   }
  },
  {
   "cell_type": "markdown",
   "source": [
    "## 1.2 Make env, model"
   ],
   "metadata": {
    "collapsed": false
   }
  },
  {
   "cell_type": "code",
   "execution_count": 9,
   "outputs": [
    {
     "name": "stdout",
     "output_type": "stream",
     "text": [
      "Using cuda device\n",
      "Wrapping the env with a `Monitor` wrapper\n",
      "Wrapping the env in a DummyVecEnv.\n"
     ]
    }
   ],
   "source": [
    "from Algorithms.ddpg import DoubleDDPG\n",
    "from stable_baselines3.ddpg import DDPG\n",
    "# from Algorithms.ddpg.double_ddpg import DDPG\n",
    "\n",
    "# model = DoubleDDPG(**model_kwargs)\n",
    "model = DoubleDDPG(**model_kwargs)"
   ],
   "metadata": {
    "collapsed": false,
    "pycharm": {
     "name": "#%%\n"
    }
   }
  },
  {
   "cell_type": "code",
   "execution_count": 10,
   "outputs": [
    {
     "data": {
      "text/plain": "DoubleDDPGPolicy(\n  (actor): CustomActor(\n    (features_extractor): MarketObsExtractor(\n      (layers): Sequential(\n        (0): BatchNorm1d(1000, eps=1e-05, momentum=0.1, affine=True, track_running_stats=True)\n        (1): Linear(in_features=4, out_features=32, bias=True)\n        (2): ReLU()\n        (3): BatchNorm1d(1000, eps=1e-05, momentum=0.1, affine=True, track_running_stats=True)\n        (4): Linear(in_features=32, out_features=64, bias=True)\n        (5): ReLU()\n        (6): BatchNorm1d(1000, eps=1e-05, momentum=0.1, affine=True, track_running_stats=True)\n        (7): Linear(in_features=64, out_features=2, bias=True)\n        (8): ReLU()\n      )\n    )\n    (mu): Sequential(\n      (0): Linear(in_features=2, out_features=1, bias=True)\n      (1): Tanh()\n    )\n    (flatten): Flatten(start_dim=-2, end_dim=-1)\n  )\n  (actor_target): CustomActor(\n    (features_extractor): MarketObsExtractor(\n      (layers): Sequential(\n        (0): BatchNorm1d(1000, eps=1e-05, momentum=0.1, affine=True, track_running_stats=True)\n        (1): Linear(in_features=4, out_features=32, bias=True)\n        (2): ReLU()\n        (3): BatchNorm1d(1000, eps=1e-05, momentum=0.1, affine=True, track_running_stats=True)\n        (4): Linear(in_features=32, out_features=64, bias=True)\n        (5): ReLU()\n        (6): BatchNorm1d(1000, eps=1e-05, momentum=0.1, affine=True, track_running_stats=True)\n        (7): Linear(in_features=64, out_features=2, bias=True)\n        (8): ReLU()\n      )\n    )\n    (mu): Sequential(\n      (0): Linear(in_features=2, out_features=1, bias=True)\n      (1): Tanh()\n    )\n    (flatten): Flatten(start_dim=-2, end_dim=-1)\n  )\n  (critic): CustomContinuousCritic(\n    (features_extractor): MarketObsExtractor(\n      (layers): Sequential(\n        (0): BatchNorm1d(1000, eps=1e-05, momentum=0.1, affine=True, track_running_stats=True)\n        (1): Linear(in_features=4, out_features=32, bias=True)\n        (2): ReLU()\n        (3): BatchNorm1d(1000, eps=1e-05, momentum=0.1, affine=True, track_running_stats=True)\n        (4): Linear(in_features=32, out_features=64, bias=True)\n        (5): ReLU()\n        (6): BatchNorm1d(1000, eps=1e-05, momentum=0.1, affine=True, track_running_stats=True)\n        (7): Linear(in_features=64, out_features=2, bias=True)\n        (8): ReLU()\n      )\n    )\n    (qf0): Sequential(\n      (0): Linear(in_features=3, out_features=1, bias=True)\n    )\n  )\n  (critic2): CustomContinuousCritic(\n    (features_extractor): MarketObsExtractor(\n      (layers): Sequential(\n        (0): BatchNorm1d(1000, eps=1e-05, momentum=0.1, affine=True, track_running_stats=True)\n        (1): Linear(in_features=4, out_features=32, bias=True)\n        (2): ReLU()\n        (3): BatchNorm1d(1000, eps=1e-05, momentum=0.1, affine=True, track_running_stats=True)\n        (4): Linear(in_features=32, out_features=64, bias=True)\n        (5): ReLU()\n        (6): BatchNorm1d(1000, eps=1e-05, momentum=0.1, affine=True, track_running_stats=True)\n        (7): Linear(in_features=64, out_features=2, bias=True)\n        (8): ReLU()\n      )\n    )\n    (qf0): Sequential(\n      (0): Linear(in_features=3, out_features=1, bias=True)\n    )\n  )\n  (critic_target): CustomContinuousCritic(\n    (features_extractor): MarketObsExtractor(\n      (layers): Sequential(\n        (0): BatchNorm1d(1000, eps=1e-05, momentum=0.1, affine=True, track_running_stats=True)\n        (1): Linear(in_features=4, out_features=32, bias=True)\n        (2): ReLU()\n        (3): BatchNorm1d(1000, eps=1e-05, momentum=0.1, affine=True, track_running_stats=True)\n        (4): Linear(in_features=32, out_features=64, bias=True)\n        (5): ReLU()\n        (6): BatchNorm1d(1000, eps=1e-05, momentum=0.1, affine=True, track_running_stats=True)\n        (7): Linear(in_features=64, out_features=2, bias=True)\n        (8): ReLU()\n      )\n    )\n    (qf0): Sequential(\n      (0): Linear(in_features=3, out_features=1, bias=True)\n    )\n  )\n  (critic2_target): CustomContinuousCritic(\n    (features_extractor): MarketObsExtractor(\n      (layers): Sequential(\n        (0): BatchNorm1d(1000, eps=1e-05, momentum=0.1, affine=True, track_running_stats=True)\n        (1): Linear(in_features=4, out_features=32, bias=True)\n        (2): ReLU()\n        (3): BatchNorm1d(1000, eps=1e-05, momentum=0.1, affine=True, track_running_stats=True)\n        (4): Linear(in_features=32, out_features=64, bias=True)\n        (5): ReLU()\n        (6): BatchNorm1d(1000, eps=1e-05, momentum=0.1, affine=True, track_running_stats=True)\n        (7): Linear(in_features=64, out_features=2, bias=True)\n        (8): ReLU()\n      )\n    )\n    (qf0): Sequential(\n      (0): Linear(in_features=3, out_features=1, bias=True)\n    )\n  )\n)"
     },
     "execution_count": 10,
     "metadata": {},
     "output_type": "execute_result"
    }
   ],
   "source": [
    "model.policy"
   ],
   "metadata": {
    "collapsed": false,
    "pycharm": {
     "name": "#%%\n"
    }
   }
  },
  {
   "cell_type": "markdown",
   "source": [
    "# 2. Learning"
   ],
   "metadata": {
    "collapsed": false
   }
  },
  {
   "cell_type": "code",
   "execution_count": 11,
   "outputs": [
    {
     "name": "stdout",
     "output_type": "stream",
     "text": [
      "Wrapping the env with a `Monitor` wrapper\n",
      "Wrapping the env in a DummyVecEnv.\n",
      "Logging to ../logs/tb_logs\\ddpg_220613-1058_1\n",
      "[Training Start]\n",
      "Eval num_timesteps=30, episode_reward=-0.03 +/- 0.00\n",
      "Episode length: 29.00 +/- 0.00\n",
      "---------------------------------\n",
      "| eval/              |          |\n",
      "|    mean_ep_length  | 29       |\n",
      "|    mean_reward     | -0.0252  |\n",
      "| time/              |          |\n",
      "|    total timesteps | 30       |\n",
      "---------------------------------\n",
      "New best mean reward!\n",
      "Eval num_timesteps=60, episode_reward=-0.02 +/- 0.00\n",
      "Episode length: 29.00 +/- 0.00\n",
      "---------------------------------\n",
      "| eval/              |          |\n",
      "|    mean_ep_length  | 29       |\n",
      "|    mean_reward     | -0.0243  |\n",
      "| time/              |          |\n",
      "|    total timesteps | 60       |\n",
      "---------------------------------\n",
      "New best mean reward!\n",
      "Eval num_timesteps=90, episode_reward=-0.03 +/- 0.00\n",
      "Episode length: 29.00 +/- 0.00\n",
      "---------------------------------\n",
      "| eval/              |          |\n",
      "|    mean_ep_length  | 29       |\n",
      "|    mean_reward     | -0.0256  |\n",
      "| time/              |          |\n",
      "|    total timesteps | 90       |\n",
      "---------------------------------\n",
      "Eval num_timesteps=120, episode_reward=-0.03 +/- 0.00\n",
      "Episode length: 29.00 +/- 0.00\n",
      "---------------------------------\n",
      "| eval/              |          |\n",
      "|    mean_ep_length  | 29       |\n",
      "|    mean_reward     | -0.0262  |\n",
      "| time/              |          |\n",
      "|    total timesteps | 120      |\n",
      "---------------------------------\n",
      "Eval num_timesteps=150, episode_reward=-0.03 +/- 0.00\n",
      "Episode length: 29.00 +/- 0.00\n",
      "---------------------------------\n",
      "| eval/              |          |\n",
      "|    mean_ep_length  | 29       |\n",
      "|    mean_reward     | -0.0255  |\n",
      "| time/              |          |\n",
      "|    total timesteps | 150      |\n",
      "---------------------------------\n",
      "Eval num_timesteps=180, episode_reward=-0.03 +/- 0.00\n",
      "Episode length: 29.00 +/- 0.00\n",
      "---------------------------------\n",
      "| eval/              |          |\n",
      "|    mean_ep_length  | 29       |\n",
      "|    mean_reward     | -0.0275  |\n",
      "| time/              |          |\n",
      "|    total timesteps | 180      |\n",
      "---------------------------------\n",
      "Eval num_timesteps=210, episode_reward=-0.03 +/- 0.00\n",
      "Episode length: 29.00 +/- 0.00\n",
      "---------------------------------\n",
      "| eval/              |          |\n",
      "|    mean_ep_length  | 29       |\n",
      "|    mean_reward     | -0.0278  |\n",
      "| time/              |          |\n",
      "|    total timesteps | 210      |\n",
      "---------------------------------\n",
      "Eval num_timesteps=240, episode_reward=-0.03 +/- 0.00\n",
      "Episode length: 29.00 +/- 0.00\n",
      "---------------------------------\n",
      "| eval/              |          |\n",
      "|    mean_ep_length  | 29       |\n",
      "|    mean_reward     | -0.0255  |\n",
      "| time/              |          |\n",
      "|    total timesteps | 240      |\n",
      "---------------------------------\n",
      "Eval num_timesteps=270, episode_reward=-0.02 +/- 0.00\n",
      "Episode length: 29.00 +/- 0.00\n",
      "---------------------------------\n",
      "| eval/              |          |\n",
      "|    mean_ep_length  | 29       |\n",
      "|    mean_reward     | -0.0226  |\n",
      "| time/              |          |\n",
      "|    total timesteps | 270      |\n",
      "---------------------------------\n",
      "New best mean reward!\n",
      "Eval num_timesteps=300, episode_reward=-0.02 +/- 0.00\n",
      "Episode length: 29.00 +/- 0.00\n",
      "---------------------------------\n",
      "| eval/              |          |\n",
      "|    mean_ep_length  | 29       |\n",
      "|    mean_reward     | -0.0248  |\n",
      "| time/              |          |\n",
      "|    total timesteps | 300      |\n",
      "---------------------------------\n",
      "Eval num_timesteps=330, episode_reward=-0.00 +/- 0.00\n",
      "Episode length: 29.00 +/- 0.00\n",
      "---------------------------------\n",
      "| eval/              |          |\n",
      "|    mean_ep_length  | 29       |\n",
      "|    mean_reward     | -0.00318 |\n",
      "| time/              |          |\n",
      "|    total timesteps | 330      |\n",
      "| train/             |          |\n",
      "|    actor_loss      | 1.65     |\n",
      "|    critic2_loss    | 3        |\n",
      "|    critic_loss     | 3.22     |\n",
      "|    learning_rate   | 0.00208  |\n",
      "|    mean_cost_loss  | -1.64    |\n",
      "|    n_updates       | 29       |\n",
      "|    std_cost_loss   | 0.0144   |\n",
      "---------------------------------\n",
      "New best mean reward!\n",
      "Eval num_timesteps=360, episode_reward=0.00 +/- 0.00\n",
      "Episode length: 29.00 +/- 0.00\n",
      "---------------------------------\n",
      "| eval/              |          |\n",
      "|    mean_ep_length  | 29       |\n",
      "|    mean_reward     | 0.0013   |\n",
      "| time/              |          |\n",
      "|    total timesteps | 360      |\n",
      "| train/             |          |\n",
      "|    actor_loss      | 2.3      |\n",
      "|    critic2_loss    | 5.36     |\n",
      "|    critic_loss     | 5.51     |\n",
      "|    learning_rate   | 0.00194  |\n",
      "|    mean_cost_loss  | -2.28    |\n",
      "|    n_updates       | 58       |\n",
      "|    std_cost_loss   | 0.0195   |\n",
      "---------------------------------\n",
      "New best mean reward!\n",
      "Eval num_timesteps=390, episode_reward=0.00 +/- 0.00\n",
      "Episode length: 29.00 +/- 0.00\n",
      "---------------------------------\n",
      "| eval/              |          |\n",
      "|    mean_ep_length  | 29       |\n",
      "|    mean_reward     | 0.000842 |\n",
      "| time/              |          |\n",
      "|    total timesteps | 390      |\n",
      "| train/             |          |\n",
      "|    actor_loss      | 2.04     |\n",
      "|    critic2_loss    | 4.51     |\n",
      "|    critic_loss     | 4.35     |\n",
      "|    learning_rate   | 0.00182  |\n",
      "|    mean_cost_loss  | -2.02    |\n",
      "|    n_updates       | 87       |\n",
      "|    std_cost_loss   | 0.0155   |\n",
      "---------------------------------\n",
      "Eval num_timesteps=420, episode_reward=-0.00 +/- 0.00\n",
      "Episode length: 29.00 +/- 0.00\n",
      "---------------------------------\n",
      "| eval/              |          |\n",
      "|    mean_ep_length  | 29       |\n",
      "|    mean_reward     | -0.00032 |\n",
      "| time/              |          |\n",
      "|    total timesteps | 420      |\n",
      "| train/             |          |\n",
      "|    actor_loss      | 1.64     |\n",
      "|    critic2_loss    | 3.18     |\n",
      "|    critic_loss     | 2.89     |\n",
      "|    learning_rate   | 0.0017   |\n",
      "|    mean_cost_loss  | -1.63    |\n",
      "|    n_updates       | 116      |\n",
      "|    std_cost_loss   | 0.00868  |\n",
      "---------------------------------\n",
      "Eval num_timesteps=450, episode_reward=-0.00 +/- 0.00\n",
      "Episode length: 29.00 +/- 0.00\n",
      "---------------------------------\n",
      "| eval/              |          |\n",
      "|    mean_ep_length  | 29       |\n",
      "|    mean_reward     | -0.00181 |\n",
      "| time/              |          |\n",
      "|    total timesteps | 450      |\n",
      "| train/             |          |\n",
      "|    actor_loss      | 1.26     |\n",
      "|    critic2_loss    | 2.01     |\n",
      "|    critic_loss     | 1.72     |\n",
      "|    learning_rate   | 0.0016   |\n",
      "|    mean_cost_loss  | -1.25    |\n",
      "|    n_updates       | 145      |\n",
      "|    std_cost_loss   | 0.00618  |\n",
      "---------------------------------\n",
      "Eval num_timesteps=480, episode_reward=-0.00 +/- 0.00\n",
      "Episode length: 29.00 +/- 0.00\n",
      "----------------------------------\n",
      "| eval/              |           |\n",
      "|    mean_ep_length  | 29        |\n",
      "|    mean_reward     | -0.000839 |\n",
      "| time/              |           |\n",
      "|    total timesteps | 480       |\n",
      "| train/             |           |\n",
      "|    actor_loss      | 0.923     |\n",
      "|    critic2_loss    | 1.21      |\n",
      "|    critic_loss     | 0.992     |\n",
      "|    learning_rate   | 0.0015    |\n",
      "|    mean_cost_loss  | -0.912    |\n",
      "|    n_updates       | 174       |\n",
      "|    std_cost_loss   | 0.0113    |\n",
      "----------------------------------\n",
      "Eval num_timesteps=510, episode_reward=0.00 +/- 0.00\n",
      "Episode length: 29.00 +/- 0.00\n",
      "---------------------------------\n",
      "| eval/              |          |\n",
      "|    mean_ep_length  | 29       |\n",
      "|    mean_reward     | 0.00135  |\n",
      "| time/              |          |\n",
      "|    total timesteps | 510      |\n",
      "| train/             |          |\n",
      "|    actor_loss      | 0.646    |\n",
      "|    critic2_loss    | 0.665    |\n",
      "|    critic_loss     | 0.528    |\n",
      "|    learning_rate   | 0.00141  |\n",
      "|    mean_cost_loss  | -0.632   |\n",
      "|    n_updates       | 203      |\n",
      "|    std_cost_loss   | 0.0135   |\n",
      "---------------------------------\n",
      "New best mean reward!\n",
      "Eval num_timesteps=540, episode_reward=-0.00 +/- 0.00\n",
      "Episode length: 29.00 +/- 0.00\n",
      "---------------------------------\n",
      "| eval/              |          |\n",
      "|    mean_ep_length  | 29       |\n",
      "|    mean_reward     | -0.00114 |\n",
      "| time/              |          |\n",
      "|    total timesteps | 540      |\n",
      "| train/             |          |\n",
      "|    actor_loss      | 0.43     |\n",
      "|    critic2_loss    | 0.358    |\n",
      "|    critic_loss     | 0.289    |\n",
      "|    learning_rate   | 0.00133  |\n",
      "|    mean_cost_loss  | -0.415   |\n",
      "|    n_updates       | 232      |\n",
      "|    std_cost_loss   | 0.0146   |\n",
      "---------------------------------\n",
      "Eval num_timesteps=570, episode_reward=-0.00 +/- 0.00\n",
      "Episode length: 29.00 +/- 0.00\n",
      "----------------------------------\n",
      "| eval/              |           |\n",
      "|    mean_ep_length  | 29        |\n",
      "|    mean_reward     | -0.000848 |\n",
      "| time/              |           |\n",
      "|    total timesteps | 570       |\n",
      "| train/             |           |\n",
      "|    actor_loss      | 0.271     |\n",
      "|    critic2_loss    | 0.188     |\n",
      "|    critic_loss     | 0.166     |\n",
      "|    learning_rate   | 0.00126   |\n",
      "|    mean_cost_loss  | -0.256    |\n",
      "|    n_updates       | 261       |\n",
      "|    std_cost_loss   | 0.0152    |\n",
      "----------------------------------\n",
      "Eval num_timesteps=600, episode_reward=0.00 +/- 0.00\n",
      "Episode length: 29.00 +/- 0.00\n",
      "---------------------------------\n",
      "| eval/              |          |\n",
      "|    mean_ep_length  | 29       |\n",
      "|    mean_reward     | 0.00184  |\n",
      "| time/              |          |\n",
      "|    total timesteps | 600      |\n",
      "| train/             |          |\n",
      "|    actor_loss      | 0.161    |\n",
      "|    critic2_loss    | 0.0795   |\n",
      "|    critic_loss     | 0.0836   |\n",
      "|    learning_rate   | 0.00119  |\n",
      "|    mean_cost_loss  | -0.146   |\n",
      "|    n_updates       | 290      |\n",
      "|    std_cost_loss   | 0.0156   |\n",
      "---------------------------------\n",
      "New best mean reward!\n",
      "Eval num_timesteps=630, episode_reward=-0.00 +/- 0.00\n",
      "Episode length: 29.00 +/- 0.00\n",
      "----------------------------------\n",
      "| eval/              |           |\n",
      "|    mean_ep_length  | 29        |\n",
      "|    mean_reward     | -0.000277 |\n",
      "| time/              |           |\n",
      "|    total timesteps | 630       |\n",
      "| train/             |           |\n",
      "|    actor_loss      | 0.0949    |\n",
      "|    critic2_loss    | 0.0242    |\n",
      "|    critic_loss     | 0.0368    |\n",
      "|    learning_rate   | 0.00113   |\n",
      "|    mean_cost_loss  | -0.0791   |\n",
      "|    n_updates       | 319       |\n",
      "|    std_cost_loss   | 0.0158    |\n",
      "----------------------------------\n",
      "Eval num_timesteps=660, episode_reward=-0.00 +/- 0.00\n",
      "Episode length: 29.00 +/- 0.00\n",
      "----------------------------------\n",
      "| eval/              |           |\n",
      "|    mean_ep_length  | 29        |\n",
      "|    mean_reward     | -0.000274 |\n",
      "| time/              |           |\n",
      "|    total timesteps | 660       |\n",
      "| train/             |           |\n",
      "|    actor_loss      | 0.0556    |\n",
      "|    critic2_loss    | 0.0021    |\n",
      "|    critic_loss     | 0.0165    |\n",
      "|    learning_rate   | 0.00107   |\n",
      "|    mean_cost_loss  | -0.0396   |\n",
      "|    n_updates       | 348       |\n",
      "|    std_cost_loss   | 0.0159    |\n",
      "----------------------------------\n",
      "Eval num_timesteps=690, episode_reward=0.00 +/- 0.00\n",
      "Episode length: 29.00 +/- 0.00\n",
      "---------------------------------\n",
      "| eval/              |          |\n",
      "|    mean_ep_length  | 29       |\n",
      "|    mean_reward     | 1.9e-05  |\n",
      "| time/              |          |\n",
      "|    total timesteps | 690      |\n",
      "| train/             |          |\n",
      "|    actor_loss      | 0.0277   |\n",
      "|    critic2_loss    | 0.00102  |\n",
      "|    critic_loss     | 0.0198   |\n",
      "|    learning_rate   | 0.00102  |\n",
      "|    mean_cost_loss  | -0.0116  |\n",
      "|    n_updates       | 377      |\n",
      "|    std_cost_loss   | 0.0161   |\n",
      "---------------------------------\n",
      "Eval num_timesteps=720, episode_reward=-0.00 +/- 0.00\n",
      "Episode length: 29.00 +/- 0.00\n",
      "---------------------------------\n",
      "| eval/              |          |\n",
      "|    mean_ep_length  | 29       |\n",
      "|    mean_reward     | -0.00173 |\n",
      "| time/              |          |\n",
      "|    total timesteps | 720      |\n",
      "| train/             |          |\n",
      "|    actor_loss      | 0.00282  |\n",
      "|    critic2_loss    | 0.00155  |\n",
      "|    critic_loss     | 0.0234   |\n",
      "|    learning_rate   | 0.000969 |\n",
      "|    mean_cost_loss  | 0.0133   |\n",
      "|    n_updates       | 406      |\n",
      "|    std_cost_loss   | 0.0162   |\n",
      "---------------------------------\n",
      "Eval num_timesteps=750, episode_reward=0.00 +/- 0.00\n",
      "Episode length: 29.00 +/- 0.00\n",
      "---------------------------------\n",
      "| eval/              |          |\n",
      "|    mean_ep_length  | 29       |\n",
      "|    mean_reward     | 0.00128  |\n",
      "| time/              |          |\n",
      "|    total timesteps | 750      |\n",
      "| train/             |          |\n",
      "|    actor_loss      | -0.0193  |\n",
      "|    critic2_loss    | 0.00331  |\n",
      "|    critic_loss     | 0.0256   |\n",
      "|    learning_rate   | 0.000925 |\n",
      "|    mean_cost_loss  | 0.0356   |\n",
      "|    n_updates       | 435      |\n",
      "|    std_cost_loss   | 0.0163   |\n",
      "---------------------------------\n",
      "Eval num_timesteps=780, episode_reward=0.00 +/- 0.00\n",
      "Episode length: 29.00 +/- 0.00\n",
      "---------------------------------\n",
      "| eval/              |          |\n",
      "|    mean_ep_length  | 29       |\n",
      "|    mean_reward     | 0.000452 |\n",
      "| time/              |          |\n",
      "|    total timesteps | 780      |\n",
      "| train/             |          |\n",
      "|    actor_loss      | -0.0385  |\n",
      "|    critic2_loss    | 0.0055   |\n",
      "|    critic_loss     | 0.0303   |\n",
      "|    learning_rate   | 0.000884 |\n",
      "|    mean_cost_loss  | 0.0548   |\n",
      "|    n_updates       | 464      |\n",
      "|    std_cost_loss   | 0.0163   |\n",
      "---------------------------------\n",
      "Eval num_timesteps=810, episode_reward=0.00 +/- 0.00\n",
      "Episode length: 29.00 +/- 0.00\n",
      "---------------------------------\n",
      "| eval/              |          |\n",
      "|    mean_ep_length  | 29       |\n",
      "|    mean_reward     | 0.00103  |\n",
      "| time/              |          |\n",
      "|    total timesteps | 810      |\n",
      "| train/             |          |\n",
      "|    actor_loss      | -0.0565  |\n",
      "|    critic2_loss    | 0.00843  |\n",
      "|    critic_loss     | 0.0326   |\n",
      "|    learning_rate   | 0.000846 |\n",
      "|    mean_cost_loss  | 0.0729   |\n",
      "|    n_updates       | 493      |\n",
      "|    std_cost_loss   | 0.0164   |\n",
      "---------------------------------\n",
      "Eval num_timesteps=840, episode_reward=0.00 +/- 0.00\n",
      "Episode length: 29.00 +/- 0.00\n",
      "---------------------------------\n",
      "| eval/              |          |\n",
      "|    mean_ep_length  | 29       |\n",
      "|    mean_reward     | 0.00207  |\n",
      "| time/              |          |\n",
      "|    total timesteps | 840      |\n",
      "| train/             |          |\n",
      "|    actor_loss      | -0.0731  |\n",
      "|    critic2_loss    | 0.0113   |\n",
      "|    critic_loss     | 0.0376   |\n",
      "|    learning_rate   | 0.000812 |\n",
      "|    mean_cost_loss  | 0.0895   |\n",
      "|    n_updates       | 522      |\n",
      "|    std_cost_loss   | 0.0165   |\n",
      "---------------------------------\n",
      "New best mean reward!\n",
      "Eval num_timesteps=870, episode_reward=0.00 +/- 0.00\n",
      "Episode length: 29.00 +/- 0.00\n",
      "---------------------------------\n",
      "| eval/              |          |\n",
      "|    mean_ep_length  | 29       |\n",
      "|    mean_reward     | 0.00125  |\n",
      "| time/              |          |\n",
      "|    total timesteps | 870      |\n",
      "| train/             |          |\n",
      "|    actor_loss      | -0.0882  |\n",
      "|    critic2_loss    | 0.0148   |\n",
      "|    critic_loss     | 0.0406   |\n",
      "|    learning_rate   | 0.00078  |\n",
      "|    mean_cost_loss  | 0.105    |\n",
      "|    n_updates       | 551      |\n",
      "|    std_cost_loss   | 0.0165   |\n",
      "---------------------------------\n",
      "---------------------------------\n",
      "| rollout/           |          |\n",
      "|    ep_len_mean     | 29       |\n",
      "|    ep_rew_mean     | -0.0843  |\n",
      "| time/              |          |\n",
      "|    episodes        | 30       |\n",
      "|    fps             | 24       |\n",
      "|    time_elapsed    | 36       |\n",
      "|    total timesteps | 870      |\n",
      "---------------------------------\n",
      "Eval num_timesteps=900, episode_reward=0.00 +/- 0.00\n",
      "Episode length: 29.00 +/- 0.00\n",
      "---------------------------------\n",
      "| eval/              |          |\n",
      "|    mean_ep_length  | 29       |\n",
      "|    mean_reward     | 0.000844 |\n",
      "| time/              |          |\n",
      "|    total timesteps | 900      |\n",
      "| train/             |          |\n",
      "|    actor_loss      | -0.115   |\n",
      "|    critic2_loss    | 0.0224   |\n",
      "|    critic_loss     | 0.047    |\n",
      "|    learning_rate   | 0.000724 |\n",
      "|    mean_cost_loss  | 0.132    |\n",
      "|    n_updates       | 609      |\n",
      "|    std_cost_loss   | 0.0166   |\n",
      "---------------------------------\n",
      "Eval num_timesteps=930, episode_reward=-0.00 +/- 0.00\n",
      "Episode length: 29.00 +/- 0.00\n",
      "----------------------------------\n",
      "| eval/              |           |\n",
      "|    mean_ep_length  | 29        |\n",
      "|    mean_reward     | -0.000596 |\n",
      "| time/              |           |\n",
      "|    total timesteps | 930       |\n",
      "| train/             |           |\n",
      "|    actor_loss      | -0.127    |\n",
      "|    critic2_loss    | 0.0257    |\n",
      "|    critic_loss     | 0.0507    |\n",
      "|    learning_rate   | 0.000699  |\n",
      "|    mean_cost_loss  | 0.144     |\n",
      "|    n_updates       | 638       |\n",
      "|    std_cost_loss   | 0.0167    |\n",
      "----------------------------------\n",
      "Eval num_timesteps=960, episode_reward=-0.00 +/- 0.00\n",
      "Episode length: 29.00 +/- 0.00\n",
      "----------------------------------\n",
      "| eval/              |           |\n",
      "|    mean_ep_length  | 29        |\n",
      "|    mean_reward     | -0.000735 |\n",
      "| time/              |           |\n",
      "|    total timesteps | 960       |\n",
      "| train/             |           |\n",
      "|    actor_loss      | -0.138    |\n",
      "|    critic2_loss    | 0.0291    |\n",
      "|    critic_loss     | 0.0535    |\n",
      "|    learning_rate   | 0.000676  |\n",
      "|    mean_cost_loss  | 0.155     |\n",
      "|    n_updates       | 667       |\n",
      "|    std_cost_loss   | 0.0167    |\n",
      "----------------------------------\n",
      "Eval num_timesteps=990, episode_reward=-0.00 +/- 0.00\n",
      "Episode length: 29.00 +/- 0.00\n",
      "----------------------------------\n",
      "| eval/              |           |\n",
      "|    mean_ep_length  | 29        |\n",
      "|    mean_reward     | -0.000465 |\n",
      "| time/              |           |\n",
      "|    total timesteps | 990       |\n",
      "| train/             |           |\n",
      "|    actor_loss      | -0.148    |\n",
      "|    critic2_loss    | 0.0325    |\n",
      "|    critic_loss     | 0.0546    |\n",
      "|    learning_rate   | 0.000655  |\n",
      "|    mean_cost_loss  | 0.165     |\n",
      "|    n_updates       | 696       |\n",
      "|    std_cost_loss   | 0.0167    |\n",
      "----------------------------------\n",
      "Eval num_timesteps=1020, episode_reward=0.00 +/- 0.00\n",
      "Episode length: 29.00 +/- 0.00\n",
      "---------------------------------\n",
      "| eval/              |          |\n",
      "|    mean_ep_length  | 29       |\n",
      "|    mean_reward     | 0.000762 |\n",
      "| time/              |          |\n",
      "|    total timesteps | 1020     |\n",
      "| train/             |          |\n",
      "|    actor_loss      | -0.156   |\n",
      "|    critic2_loss    | 0.035    |\n",
      "|    critic_loss     | 0.0576   |\n",
      "|    learning_rate   | 0.000636 |\n",
      "|    mean_cost_loss  | 0.173    |\n",
      "|    n_updates       | 725      |\n",
      "|    std_cost_loss   | 0.0168   |\n",
      "---------------------------------\n",
      "Eval num_timesteps=1050, episode_reward=-0.00 +/- 0.00\n",
      "Episode length: 29.00 +/- 0.00\n",
      "---------------------------------\n",
      "| eval/              |          |\n",
      "|    mean_ep_length  | 29       |\n",
      "|    mean_reward     | -0.00169 |\n",
      "| time/              |          |\n",
      "|    total timesteps | 1050     |\n",
      "| train/             |          |\n",
      "|    actor_loss      | -0.163   |\n",
      "|    critic2_loss    | 0.0383   |\n",
      "|    critic_loss     | 0.0592   |\n",
      "|    learning_rate   | 0.000619 |\n",
      "|    mean_cost_loss  | 0.18     |\n",
      "|    n_updates       | 754      |\n",
      "|    std_cost_loss   | 0.0168   |\n",
      "---------------------------------\n",
      "Eval num_timesteps=1080, episode_reward=-0.00 +/- 0.00\n",
      "Episode length: 29.00 +/- 0.00\n",
      "----------------------------------\n",
      "| eval/              |           |\n",
      "|    mean_ep_length  | 29        |\n",
      "|    mean_reward     | -0.000439 |\n",
      "| time/              |           |\n",
      "|    total timesteps | 1080      |\n",
      "| train/             |           |\n",
      "|    actor_loss      | -0.169    |\n",
      "|    critic2_loss    | 0.0409    |\n",
      "|    critic_loss     | 0.0615    |\n",
      "|    learning_rate   | 0.000603  |\n",
      "|    mean_cost_loss  | 0.186     |\n",
      "|    n_updates       | 783       |\n",
      "|    std_cost_loss   | 0.0168    |\n",
      "----------------------------------\n",
      "Eval num_timesteps=1110, episode_reward=-0.00 +/- 0.00\n",
      "Episode length: 29.00 +/- 0.00\n",
      "----------------------------------\n",
      "| eval/              |           |\n",
      "|    mean_ep_length  | 29        |\n",
      "|    mean_reward     | -0.000849 |\n",
      "| time/              |           |\n",
      "|    total timesteps | 1110      |\n",
      "| train/             |           |\n",
      "|    actor_loss      | -0.175    |\n",
      "|    critic2_loss    | 0.0444    |\n",
      "|    critic_loss     | 0.0627    |\n",
      "|    learning_rate   | 0.000588  |\n",
      "|    mean_cost_loss  | 0.192     |\n",
      "|    n_updates       | 812       |\n",
      "|    std_cost_loss   | 0.0169    |\n",
      "----------------------------------\n",
      "Eval num_timesteps=1140, episode_reward=0.00 +/- 0.00\n",
      "Episode length: 29.00 +/- 0.00\n",
      "---------------------------------\n",
      "| eval/              |          |\n",
      "|    mean_ep_length  | 29       |\n",
      "|    mean_reward     | 0.00148  |\n",
      "| time/              |          |\n",
      "|    total timesteps | 1140     |\n",
      "| train/             |          |\n",
      "|    actor_loss      | -0.18    |\n",
      "|    critic2_loss    | 0.0465   |\n",
      "|    critic_loss     | 0.0645   |\n",
      "|    learning_rate   | 0.000575 |\n",
      "|    mean_cost_loss  | 0.197    |\n",
      "|    n_updates       | 841      |\n",
      "|    std_cost_loss   | 0.0169   |\n",
      "---------------------------------\n",
      "Eval num_timesteps=1170, episode_reward=0.00 +/- 0.00\n",
      "Episode length: 29.00 +/- 0.00\n",
      "---------------------------------\n",
      "| eval/              |          |\n",
      "|    mean_ep_length  | 29       |\n",
      "|    mean_reward     | 0.0029   |\n",
      "| time/              |          |\n",
      "|    total timesteps | 1170     |\n",
      "| train/             |          |\n",
      "|    actor_loss      | -0.185   |\n",
      "|    critic2_loss    | 0.0481   |\n",
      "|    critic_loss     | 0.0662   |\n",
      "|    learning_rate   | 0.000563 |\n",
      "|    mean_cost_loss  | 0.202    |\n",
      "|    n_updates       | 870      |\n",
      "|    std_cost_loss   | 0.0169   |\n",
      "---------------------------------\n",
      "New best mean reward!\n",
      "Eval num_timesteps=1200, episode_reward=0.00 +/- 0.00\n",
      "Episode length: 29.00 +/- 0.00\n",
      "---------------------------------\n",
      "| eval/              |          |\n",
      "|    mean_ep_length  | 29       |\n",
      "|    mean_reward     | 0.00187  |\n",
      "| time/              |          |\n",
      "|    total timesteps | 1200     |\n",
      "| train/             |          |\n",
      "|    actor_loss      | -0.189   |\n",
      "|    critic2_loss    | 0.0495   |\n",
      "|    critic_loss     | 0.0683   |\n",
      "|    learning_rate   | 0.000552 |\n",
      "|    mean_cost_loss  | 0.206    |\n",
      "|    n_updates       | 899      |\n",
      "|    std_cost_loss   | 0.017    |\n",
      "---------------------------------\n",
      "Eval num_timesteps=1230, episode_reward=-0.00 +/- 0.00\n",
      "Episode length: 29.00 +/- 0.00\n",
      "---------------------------------\n",
      "| eval/              |          |\n",
      "|    mean_ep_length  | 29       |\n",
      "|    mean_reward     | -0.00105 |\n",
      "| time/              |          |\n",
      "|    total timesteps | 1230     |\n",
      "| train/             |          |\n",
      "|    actor_loss      | -0.193   |\n",
      "|    critic2_loss    | 0.0523   |\n",
      "|    critic_loss     | 0.0689   |\n",
      "|    learning_rate   | 0.000542 |\n",
      "|    mean_cost_loss  | 0.21     |\n",
      "|    n_updates       | 928      |\n",
      "|    std_cost_loss   | 0.017    |\n",
      "---------------------------------\n",
      "Eval num_timesteps=1260, episode_reward=-0.00 +/- 0.00\n",
      "Episode length: 29.00 +/- 0.00\n",
      "---------------------------------\n",
      "| eval/              |          |\n",
      "|    mean_ep_length  | 29       |\n",
      "|    mean_reward     | -0.00147 |\n",
      "| time/              |          |\n",
      "|    total timesteps | 1260     |\n",
      "| train/             |          |\n",
      "|    actor_loss      | -0.195   |\n",
      "|    critic2_loss    | 0.054    |\n",
      "|    critic_loss     | 0.0693   |\n",
      "|    learning_rate   | 0.000534 |\n",
      "|    mean_cost_loss  | 0.212    |\n",
      "|    n_updates       | 957      |\n",
      "|    std_cost_loss   | 0.017    |\n",
      "---------------------------------\n",
      "Eval num_timesteps=1290, episode_reward=0.00 +/- 0.00\n",
      "Episode length: 29.00 +/- 0.00\n",
      "---------------------------------\n",
      "| eval/              |          |\n",
      "|    mean_ep_length  | 29       |\n",
      "|    mean_reward     | 0.00048  |\n",
      "| time/              |          |\n",
      "|    total timesteps | 1290     |\n",
      "| train/             |          |\n",
      "|    actor_loss      | -0.199   |\n",
      "|    critic2_loss    | 0.0533   |\n",
      "|    critic_loss     | 0.0745   |\n",
      "|    learning_rate   | 0.000526 |\n",
      "|    mean_cost_loss  | 0.216    |\n",
      "|    n_updates       | 986      |\n",
      "|    std_cost_loss   | 0.017    |\n",
      "---------------------------------\n",
      "Eval num_timesteps=1320, episode_reward=0.00 +/- 0.00\n",
      "Episode length: 29.00 +/- 0.00\n",
      "---------------------------------\n",
      "| eval/              |          |\n",
      "|    mean_ep_length  | 29       |\n",
      "|    mean_reward     | 0.000423 |\n",
      "| time/              |          |\n",
      "|    total timesteps | 1320     |\n",
      "| train/             |          |\n",
      "|    actor_loss      | -0.204   |\n",
      "|    critic2_loss    | 0.0567   |\n",
      "|    critic_loss     | 0.073    |\n",
      "|    learning_rate   | 0.00052  |\n",
      "|    mean_cost_loss  | 0.221    |\n",
      "|    n_updates       | 1015     |\n",
      "|    std_cost_loss   | 0.0171   |\n",
      "---------------------------------\n",
      "Eval num_timesteps=1350, episode_reward=0.00 +/- 0.00\n",
      "Episode length: 29.00 +/- 0.00\n",
      "---------------------------------\n",
      "| eval/              |          |\n",
      "|    mean_ep_length  | 29       |\n",
      "|    mean_reward     | 0.000368 |\n",
      "| time/              |          |\n",
      "|    total timesteps | 1350     |\n",
      "| train/             |          |\n",
      "|    actor_loss      | -0.209   |\n",
      "|    critic2_loss    | 0.058    |\n",
      "|    critic_loss     | 0.0735   |\n",
      "|    learning_rate   | 0.000514 |\n",
      "|    mean_cost_loss  | 0.226    |\n",
      "|    n_updates       | 1044     |\n",
      "|    std_cost_loss   | 0.0171   |\n",
      "---------------------------------\n",
      "Eval num_timesteps=1380, episode_reward=0.00 +/- 0.00\n",
      "Episode length: 29.00 +/- 0.00\n",
      "---------------------------------\n",
      "| eval/              |          |\n",
      "|    mean_ep_length  | 29       |\n",
      "|    mean_reward     | 0.00112  |\n",
      "| time/              |          |\n",
      "|    total timesteps | 1380     |\n",
      "| train/             |          |\n",
      "|    actor_loss      | -0.211   |\n",
      "|    critic2_loss    | 0.0602   |\n",
      "|    critic_loss     | 0.0733   |\n",
      "|    learning_rate   | 0.00051  |\n",
      "|    mean_cost_loss  | 0.228    |\n",
      "|    n_updates       | 1073     |\n",
      "|    std_cost_loss   | 0.0171   |\n",
      "---------------------------------\n",
      "Eval num_timesteps=1410, episode_reward=-0.00 +/- 0.00\n",
      "Episode length: 29.00 +/- 0.00\n",
      "----------------------------------\n",
      "| eval/              |           |\n",
      "|    mean_ep_length  | 29        |\n",
      "|    mean_reward     | -0.000273 |\n",
      "| time/              |           |\n",
      "|    total timesteps | 1410      |\n",
      "| train/             |           |\n",
      "|    actor_loss      | -0.212    |\n",
      "|    critic2_loss    | 0.0587    |\n",
      "|    critic_loss     | 0.0779    |\n",
      "|    learning_rate   | 0.000506  |\n",
      "|    mean_cost_loss  | 0.229     |\n",
      "|    n_updates       | 1102      |\n",
      "|    std_cost_loss   | 0.0171    |\n",
      "----------------------------------\n",
      "Eval num_timesteps=1440, episode_reward=-0.00 +/- 0.00\n",
      "Episode length: 29.00 +/- 0.00\n",
      "---------------------------------\n",
      "| eval/              |          |\n",
      "|    mean_ep_length  | 29       |\n",
      "|    mean_reward     | -0.00117 |\n",
      "| time/              |          |\n",
      "|    total timesteps | 1440     |\n",
      "| train/             |          |\n",
      "|    actor_loss      | -0.217   |\n",
      "|    critic2_loss    | 0.0623   |\n",
      "|    critic_loss     | 0.0758   |\n",
      "|    learning_rate   | 0.000503 |\n",
      "|    mean_cost_loss  | 0.234    |\n",
      "|    n_updates       | 1131     |\n",
      "|    std_cost_loss   | 0.0172   |\n",
      "---------------------------------\n",
      "Eval num_timesteps=1470, episode_reward=0.00 +/- 0.00\n",
      "Episode length: 29.00 +/- 0.00\n",
      "---------------------------------\n",
      "| eval/              |          |\n",
      "|    mean_ep_length  | 29       |\n",
      "|    mean_reward     | 0.000229 |\n",
      "| time/              |          |\n",
      "|    total timesteps | 1470     |\n",
      "| train/             |          |\n",
      "|    actor_loss      | -0.22    |\n",
      "|    critic2_loss    | 0.0629   |\n",
      "|    critic_loss     | 0.0776   |\n",
      "|    learning_rate   | 0.000501 |\n",
      "|    mean_cost_loss  | 0.237    |\n",
      "|    n_updates       | 1160     |\n",
      "|    std_cost_loss   | 0.0172   |\n",
      "---------------------------------\n",
      "Eval num_timesteps=1500, episode_reward=0.00 +/- 0.00\n",
      "Episode length: 29.00 +/- 0.00\n",
      "---------------------------------\n",
      "| eval/              |          |\n",
      "|    mean_ep_length  | 29       |\n",
      "|    mean_reward     | 0.00157  |\n",
      "| time/              |          |\n",
      "|    total timesteps | 1500     |\n",
      "| train/             |          |\n",
      "|    actor_loss      | -0.222   |\n",
      "|    critic2_loss    | 0.0624   |\n",
      "|    critic_loss     | 0.0799   |\n",
      "|    learning_rate   | 0.0005   |\n",
      "|    mean_cost_loss  | 0.239    |\n",
      "|    n_updates       | 1189     |\n",
      "|    std_cost_loss   | 0.0172   |\n",
      "---------------------------------\n",
      "[Training End]  steps: 1508\ttimes: 65.44841837882996\n"
     ]
    }
   ],
   "source": [
    "model = model.learn(**learn_kwargs)"
   ],
   "metadata": {
    "collapsed": false,
    "pycharm": {
     "name": "#%%\n"
    }
   }
  },
  {
   "cell_type": "code",
   "execution_count": 12,
   "outputs": [
    {
     "name": "stdout",
     "output_type": "stream",
     "text": [
      "<BSMarket instance> will be save as name. env_kwargs not in kwargs!\n",
      "<BSMarketEval instance> will be save as name. eval_env_kwargs not in kwargs!\n",
      "<Algorithms.ddpg.callbacks.ReportCallbacks object at 0x000001D99C467340> will be save as name. callback_kwargs not in kwargs!\n",
      "../logs/tb_logs/ddpg_220613-1058_1/config.yaml was saved.\n"
     ]
    }
   ],
   "source": [
    "config.save_config(f'{learn_kwargs[\"eval_log_path\"]}/config.yaml', env_kwargs, model_kwargs, learn_kwargs)"
   ],
   "metadata": {
    "collapsed": false,
    "pycharm": {
     "name": "#%%\n"
    }
   }
  },
  {
   "cell_type": "markdown",
   "source": [
    "# 3. P&L Evaluation"
   ],
   "metadata": {
    "collapsed": false
   }
  },
  {
   "cell_type": "code",
   "execution_count": 13,
   "outputs": [
    {
     "name": "stdout",
     "output_type": "stream",
     "text": [
      "../logs/tb_logs/ddpg_220613-1058_1/best_model\n"
     ]
    }
   ],
   "source": [
    "# model = model.load('../logs/tb_logs/ddpg_220607-2214_stable'+'/best_model')\n",
    "# model = model.load('../logs/tb_logs/ddpg_220607-2124_ntb_delta'+'/best_model')\n",
    "# model = model.load('../logs/tb_logs/ddpg_220608-2037_1'+'/best_model')\n",
    "# model = model.load('../logs/tb_logs/ddpg_220613-0155_1'+'/best_model')\n",
    "model = model.load(learn_kwargs['eval_log_path'] + '/best_model')\n",
    "print(learn_kwargs['eval_log_path'] + '/best_model')"
   ],
   "metadata": {
    "collapsed": false,
    "pycharm": {
     "name": "#%%\n"
    }
   }
  },
  {
   "cell_type": "code",
   "execution_count": 14,
   "outputs": [
    {
     "data": {
      "text/plain": "<Env.env.BSMarketEval at 0x1d99c467850>"
     },
     "execution_count": 14,
     "metadata": {},
     "output_type": "execute_result"
    }
   ],
   "source": [
    "eval_env = learn_kwargs['eval_env']\n",
    "eval_env"
   ],
   "metadata": {
    "collapsed": false,
    "pycharm": {
     "name": "#%%\n"
    }
   }
  },
  {
   "cell_type": "code",
   "execution_count": 15,
   "outputs": [],
   "source": [
    "import numpy as np\n",
    "\n",
    "# random_pnl = np.mean([eval_env.pnl_eval() for _ in range(30)], axis=0)\n",
    "# delta_pnl = np.mean([eval_env.delta_eval() for _ in range(30)], axis=0)\n",
    "# rl_pnl = np.mean([eval_env.pnl_eval(model) for _ in range(30)], axis=0)\n",
    "\n",
    "# random_pnl = np.load('best_results/random_pnl.npy')\n",
    "delta_pnl = np.load('best_results/ntb_pnl.npy')\n",
    "rl_pnl = np.load('best_results/rl_pnl.npy')"
   ],
   "metadata": {
    "collapsed": false,
    "pycharm": {
     "name": "#%%\n"
    }
   }
  },
  {
   "cell_type": "code",
   "execution_count": 16,
   "outputs": [],
   "source": [
    "# np.save('best_results/random_pnl', random_pnl)\n",
    "# np.save('best_results/delta_pnl', delta_pnl)\n",
    "# np.save('best_results/rl_pnl', rl_pnl)"
   ],
   "metadata": {
    "collapsed": false,
    "pycharm": {
     "name": "#%%\n"
    }
   }
  },
  {
   "cell_type": "code",
   "execution_count": 17,
   "outputs": [],
   "source": [
    "ntb_pnl = np.mean([eval_env.pnl_eval(model) for _ in range(30)], axis=0)"
   ],
   "metadata": {
    "collapsed": false,
    "pycharm": {
     "name": "#%%\n"
    }
   }
  },
  {
   "cell_type": "code",
   "execution_count": 18,
   "outputs": [],
   "source": [
    "import numpy as np\n",
    "\n",
    "def pnl_reward(pnl):\n",
    "    mean = np.mean(pnl)\n",
    "    std = np.std(pnl)\n",
    "    return mean - 0.02 * std , (mean, std)"
   ],
   "metadata": {
    "collapsed": false,
    "pycharm": {
     "name": "#%%\n"
    }
   }
  },
  {
   "cell_type": "code",
   "execution_count": 19,
   "outputs": [
    {
     "data": {
      "text/plain": "<Figure size 1000x500 with 1 Axes>",
      "image/png": "[encoded data removed]"
     },
     "metadata": {},
     "output_type": "display_data"
    },
    {
     "name": "stdout",
     "output_type": "stream",
     "text": [
      "delta:\t-0.0163, -0.0161, 0.0089\n",
      "ntb_pnl:\t\t-0.0002, -0.0000, 0.0060\n",
      "rl:\t\t-0.0002, -0.0000, 0.0060\n",
      "0.01610462486462368\n",
      "1.8008073763561361e-06\n"
     ]
    }
   ],
   "source": [
    "plt_kwargs = {'bins': 100,\n",
    "              'range': (-0.1, 0.02),\n",
    "              'alpha': 0.6}\n",
    "\n",
    "plt.xlabel('P&L')\n",
    "# plt.hist(random_pnl, bins=100, range=(-0.25, 0.05), alpha=0.6, label='random')\n",
    "# plt.hist(random_pnl, bins=100, range=(-0.1, 0.05), alpha=0.6, label='random')\n",
    "plt.hist(delta_pnl, **plt_kwargs, label='delta')\n",
    "plt.hist(ntb_pnl,**plt_kwargs, label='ntb')\n",
    "plt.hist(rl_pnl, **plt_kwargs, label='rl')\n",
    "plt.ylim(0, 150)\n",
    "plt.legend()\n",
    "plt.show()\n",
    "\n",
    "r1, (m1, s1) = pnl_reward(delta_pnl)\n",
    "r2, (m2, s2) = pnl_reward(ntb_pnl)\n",
    "r3, (m3, s3) = pnl_reward(rl_pnl)\n",
    "print(f'delta:\\t{r1:.4f}, {m1:.4f}, {s1:.4f}')\n",
    "print(f'ntb_pnl:\\t\\t{r2:.4f}, {m2:.4f}, {s2:.4f}')\n",
    "print(f'rl:\\t\\t{r3:.4f}, {m3:.4f}, {s3:.4f}')\n",
    "print((r2-r1))\n",
    "print((r3-r2))"
   ],
   "metadata": {
    "collapsed": false,
    "pycharm": {
     "name": "#%%\n"
    }
   }
  },
  {
   "cell_type": "code",
   "execution_count": null,
   "outputs": [],
   "source": [],
   "metadata": {
    "collapsed": false,
    "pycharm": {
     "name": "#%%\n"
    }
   }
  },
  {
   "cell_type": "code",
   "execution_count": 17,
   "outputs": [
    {
     "data": {
      "text/plain": "<Figure size 1000x500 with 1 Axes>",
      "image/png": "[encoded data removed]"
     },
     "metadata": {},
     "output_type": "display_data"
    }
   ],
   "source": [
    "plt.hist(delta_pnl, bins=100, range=(-0.1, 0.05), alpha=0.6, label='delta')\n",
    "plt.hist(np.mean([eval_env.delta_eval2() for _ in range(30)], axis=0), bins=100, range=(-0.1, 0.05), alpha=0.6, label='delta2')\n",
    "plt.hist(np.load('best_results/delta_pnl.npy'), bins=100, range=(-0.1, 0.05), alpha=0.6, label='best_delta')\n",
    "plt.hist(ntb_pnl, bins=100, range=(-0.1, 0.05), alpha=0.6, label='ntb')\n",
    "plt.hist(rl_pnl, bins=100, range=(-0.1, 0.05), alpha=0.6, label='rl')\n",
    "plt.legend()\n",
    "plt.show()"
   ],
   "metadata": {
    "collapsed": false,
    "pycharm": {
     "name": "#%%\n"
    }
   }
  },
  {
   "cell_type": "code",
   "execution_count": null,
   "outputs": [],
   "source": [],
   "metadata": {
    "collapsed": false,
    "pycharm": {
     "name": "#%%\n"
    }
   }
  }
 ],
 "metadata": {
  "kernelspec": {
   "display_name": "Python 3",
   "language": "python",
   "name": "python3"
  },
  "language_info": {
   "codemirror_mode": {
    "name": "ipython",
    "version": 2
   },
   "file_extension": ".py",
   "mimetype": "text/x-python",
   "name": "python",
   "nbconvert_exporter": "python",
   "pygments_lexer": "ipython2",
   "version": "2.7.6"
  }
 },
 "nbformat": 4,
 "nbformat_minor": 0
}