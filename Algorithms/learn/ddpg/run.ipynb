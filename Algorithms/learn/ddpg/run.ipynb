{
 "cells": [
  {
   "cell_type": "code",
   "execution_count": 1,
   "outputs": [],
   "source": [
    "import torch as th\n",
    "import torch.nn as nn\n",
    "import matplotlib.pyplot as plt\n",
    "\n",
    "from pprint import pprint\n",
    "from Algorithms.ddpg import config"
   ],
   "metadata": {
    "collapsed": false,
    "pycharm": {
     "name": "#%%\n"
    }
   }
  },
  {
   "cell_type": "markdown",
   "source": [
    "# 0. Plot Setting"
   ],
   "metadata": {
    "collapsed": false
   }
  },
  {
   "cell_type": "code",
   "execution_count": 2,
   "metadata": {
    "collapsed": true
   },
   "outputs": [],
   "source": [
    "import seaborn as sb\n",
    "import matplotlib\n",
    "\n",
    "sb.set_style('whitegrid')\n",
    "\n",
    "FONTSIZE = 10\n",
    "matplotlib.rcParams[\"figure.figsize\"] = (10, 5)\n",
    "matplotlib.rcParams[\"figure.dpi\"] = 100\n",
    "matplotlib.rcParams[\"figure.titlesize\"] = FONTSIZE\n",
    "matplotlib.rcParams[\"legend.fontsize\"] = FONTSIZE\n",
    "matplotlib.rcParams[\"xtick.labelsize\"] = FONTSIZE\n",
    "matplotlib.rcParams[\"ytick.labelsize\"] = FONTSIZE\n",
    "matplotlib.rcParams[\"axes.labelsize\"] = FONTSIZE\n",
    "matplotlib.rcParams[\"axes.titlesize\"] = FONTSIZE\n",
    "matplotlib.rcParams[\"savefig.bbox\"] = \"tight\"\n",
    "matplotlib.rcParams[\"savefig.pad_inches\"] = 0.1\n",
    "matplotlib.rcParams[\"lines.linewidth\"] = 2\n",
    "matplotlib.rcParams[\"axes.linewidth\"] = 1.6"
   ]
  },
  {
   "cell_type": "markdown",
   "source": [
    "# 1. Model Setting"
   ],
   "metadata": {
    "collapsed": false
   }
  },
  {
   "cell_type": "markdown",
   "source": [
    "## 1.1 Load Config"
   ],
   "metadata": {
    "collapsed": false
   }
  },
  {
   "cell_type": "code",
   "execution_count": 3,
   "outputs": [
    {
     "name": "stdout",
     "output_type": "stream",
     "text": [
      "env 'BSMarket was created!\n",
      "env 'BSMarket was created!\n"
     ]
    }
   ],
   "source": [
    "env_kwargs, model_kwargs, learn_kwargs = config.load_config('tmp_config.yaml')"
   ],
   "metadata": {
    "collapsed": false,
    "pycharm": {
     "name": "#%%\n"
    }
   }
  },
  {
   "cell_type": "code",
   "execution_count": 4,
   "outputs": [],
   "source": [
    "ntb_mode = False\n",
    "\n",
    "model_kwargs.update({\n",
    "    'buffer_size': 300,\n",
    "    'learning_starts': 300,\n",
    "    'batch_size': 15,\n",
    "    'std_coeff': 1e-2\n",
    "})\n",
    "\n",
    "model_kwargs['policy_kwargs'].update({\n",
    "    'ntb_mode': ntb_mode,\n",
    "})\n",
    "\n",
    "learn_kwargs.update({\n",
    "    'total_timesteps': 1500\n",
    "})\n",
    "\n",
    "if ntb_mode:\n",
    "    actor_net_kwargs = {'bn_kwargs': {'num_features': env_kwargs['n_assets']}}\n",
    "    critic_net_kwargs = {'bn_kwargs': {'num_features': env_kwargs['n_assets']}}\n",
    "\n",
    "    model_kwargs['policy_kwargs'].update({\n",
    "        'net_arch': {'pi': [(nn.BatchNorm1d, 'bn'), 32, 32],\n",
    "                     'qf': [(nn.BatchNorm1d, 'bn'), 2]},\n",
    "        'actor_net_kwargs': actor_net_kwargs,\n",
    "        'critic_net_kwargs': critic_net_kwargs,\n",
    "    })\n",
    "\n",
    "    model_kwargs['policy_kwargs']['features_extractor_kwargs'].update({\n",
    "        'features_out': 64,\n",
    "        'net_arch': [32]\n",
    "    })\n",
    "\n",
    "else:\n",
    "    model_kwargs['policy_kwargs'].update({\n",
    "        'net_arch': [],\n",
    "    })\n",
    "\n",
    "    model_kwargs['policy_kwargs']['features_extractor_kwargs'].update({\n",
    "        'features_out': 2,\n",
    "        'net_arch': [32, 64]\n",
    "    })"
   ],
   "metadata": {
    "collapsed": false,
    "pycharm": {
     "name": "#%%\n"
    }
   }
  },
  {
   "cell_type": "code",
   "execution_count": 6,
   "outputs": [
    {
     "name": "stdout",
     "output_type": "stream",
     "text": [
      "env 'BSMarket was created!\n",
      "model_kwargs['env']: <BSMarket instance>\n",
      "env 'BSMarket was created!\n",
      "learn_kwargs['eval_env']: <BSMarketEval instance>\n",
      "learn_kwargs['tb_log_name']: ddpg_220612-1428\n",
      "learn_kwargs['eval_log_path']: ../logs/tb_logs/ddpg_220612-1428_1\n"
     ]
    }
   ],
   "source": [
    "config.reconstruct_config(env_kwargs, model_kwargs, learn_kwargs)"
   ],
   "metadata": {
    "collapsed": false,
    "pycharm": {
     "name": "#%%\n"
    }
   }
  },
  {
   "cell_type": "code",
   "execution_count": 7,
   "outputs": [
    {
     "name": "stdout",
     "output_type": "stream",
     "text": [
      "{'cost': 0.02,\n",
      " 'dividend': 0.0,\n",
      " 'drift': 0.0,\n",
      " 'freq': 1,\n",
      " 'gen_name': 'gbm',\n",
      " 'init_price': 1.0,\n",
      " 'n_assets': 1000,\n",
      " 'n_periods': 30,\n",
      " 'payoff': 'european',\n",
      " 'payoff_coeff': 1.0,\n",
      " 'period_unit': 365,\n",
      " 'reward_mode': 'pnl',\n",
      " 'risk_free_interest': 0.0,\n",
      " 'strike': 1.0,\n",
      " 'volatility': 0.2}\n"
     ]
    }
   ],
   "source": [
    "pprint(env_kwargs)"
   ],
   "metadata": {
    "collapsed": false,
    "pycharm": {
     "name": "#%%\n"
    }
   }
  },
  {
   "cell_type": "code",
   "execution_count": 8,
   "outputs": [
    {
     "name": "stdout",
     "output_type": "stream",
     "text": [
      "{'action_noise': NormalActionNoise(mu=0.0, sigma=0.1),\n",
      " 'batch_size': 15,\n",
      " 'buffer_size': 300,\n",
      " 'create_eval_env': False,\n",
      " 'device': 'auto',\n",
      " 'env': <Env.env.BSMarket object at 0x000002F35FB1D3A0>,\n",
      " 'gamma': 0.99,\n",
      " 'gradient_steps': -1,\n",
      " 'learning_rate': <function lr_schedule at 0x000002F35E855280>,\n",
      " 'learning_starts': 300,\n",
      " 'optimize_memory_usage': False,\n",
      " 'policy': <class 'Algorithms.ddpg.policies.DoubleDDPGPolicy'>,\n",
      " 'policy_kwargs': {'activation_fn': <class 'torch.nn.modules.activation.ReLU'>,\n",
      "                   'actor_net_kwargs': None,\n",
      "                   'critic_net_kwargs': None,\n",
      "                   'features_extractor_class': <class 'Env.feature_extractor.MarketObsExtractor'>,\n",
      "                   'features_extractor_kwargs': {'activation_fn': <class 'torch.nn.modules.activation.ReLU'>,\n",
      "                                                 'features_in': 4,\n",
      "                                                 'features_out': 2,\n",
      "                                                 'last_activation_fn': <class 'torch.nn.modules.activation.ReLU'>,\n",
      "                                                 'net_arch': [32, 64]},\n",
      "                   'n_critics': 1,\n",
      "                   'net_arch': [],\n",
      "                   'normalize_images': False,\n",
      "                   'ntb_mode': False,\n",
      "                   'optimizer_class': <class 'torch.optim.adam.Adam'>,\n",
      "                   'optimizer_kwargs': None,\n",
      "                   'share_features_extractor': True},\n",
      " 'replay_buffer_class': <class 'Env.buffers.CustomReplayBuffer'>,\n",
      " 'replay_buffer_kwargs': {},\n",
      " 'seed': 42,\n",
      " 'std_coeff': 0.01,\n",
      " 'tau': 0.005,\n",
      " 'tensorboard_log': '../logs/tb_logs',\n",
      " 'train_freq': (1, 'episode'),\n",
      " 'verbose': 1}\n"
     ]
    }
   ],
   "source": [
    "pprint(model_kwargs)"
   ],
   "metadata": {
    "collapsed": false,
    "pycharm": {
     "name": "#%%\n"
    }
   }
  },
  {
   "cell_type": "code",
   "execution_count": 9,
   "outputs": [
    {
     "name": "stdout",
     "output_type": "stream",
     "text": [
      "{'callback': <Algorithms.ddpg.callbacks.ReportCallbacks object at 0x000002F35FB098B0>,\n",
      " 'eval_env': <Env.env.BSMarketEval object at 0x000002F35FB1D430>,\n",
      " 'eval_freq': 30,\n",
      " 'eval_log_path': '../logs/tb_logs/ddpg_220612-1428_1',\n",
      " 'log_interval': 30,\n",
      " 'n_eval_episodes': 1,\n",
      " 'reset_num_timesteps': True,\n",
      " 'tb_log_name': 'ddpg_220612-1428',\n",
      " 'total_timesteps': 1500}\n"
     ]
    }
   ],
   "source": [
    "pprint(learn_kwargs)"
   ],
   "metadata": {
    "collapsed": false,
    "pycharm": {
     "name": "#%%\n"
    }
   }
  },
  {
   "cell_type": "markdown",
   "source": [
    "## 1.2 Make env, model"
   ],
   "metadata": {
    "collapsed": false
   }
  },
  {
   "cell_type": "code",
   "execution_count": 10,
   "outputs": [
    {
     "name": "stdout",
     "output_type": "stream",
     "text": [
      "Using cuda device\n",
      "Wrapping the env with a `Monitor` wrapper\n",
      "Wrapping the env in a DummyVecEnv.\n"
     ]
    }
   ],
   "source": [
    "from Algorithms.ddpg import DDPG\n",
    "# from Algorithms.ddpg.double_ddpg import DDPG\n",
    "\n",
    "model = DDPG(**model_kwargs)"
   ],
   "metadata": {
    "collapsed": false,
    "pycharm": {
     "name": "#%%\n"
    }
   }
  },
  {
   "cell_type": "code",
   "execution_count": 11,
   "outputs": [
    {
     "data": {
      "text/plain": "DoubleDDPGPolicy(\n  (actor): CustomActor(\n    (features_extractor): MarketObsExtractor(\n      (layers): Sequential(\n        (0): BatchNorm1d(1000, eps=1e-05, momentum=0.1, affine=True, track_running_stats=True)\n        (1): Linear(in_features=4, out_features=32, bias=True)\n        (2): ReLU()\n        (3): BatchNorm1d(1000, eps=1e-05, momentum=0.1, affine=True, track_running_stats=True)\n        (4): Linear(in_features=32, out_features=64, bias=True)\n        (5): ReLU()\n        (6): BatchNorm1d(1000, eps=1e-05, momentum=0.1, affine=True, track_running_stats=True)\n        (7): Linear(in_features=64, out_features=2, bias=True)\n        (8): ReLU()\n      )\n    )\n    (mu): Sequential(\n      (0): Linear(in_features=2, out_features=1, bias=True)\n      (1): Tanh()\n    )\n    (flatten): Flatten(start_dim=-2, end_dim=-1)\n  )\n  (actor_target): CustomActor(\n    (features_extractor): MarketObsExtractor(\n      (layers): Sequential(\n        (0): BatchNorm1d(1000, eps=1e-05, momentum=0.1, affine=True, track_running_stats=True)\n        (1): Linear(in_features=4, out_features=32, bias=True)\n        (2): ReLU()\n        (3): BatchNorm1d(1000, eps=1e-05, momentum=0.1, affine=True, track_running_stats=True)\n        (4): Linear(in_features=32, out_features=64, bias=True)\n        (5): ReLU()\n        (6): BatchNorm1d(1000, eps=1e-05, momentum=0.1, affine=True, track_running_stats=True)\n        (7): Linear(in_features=64, out_features=2, bias=True)\n        (8): ReLU()\n      )\n    )\n    (mu): Sequential(\n      (0): Linear(in_features=2, out_features=1, bias=True)\n      (1): Tanh()\n    )\n    (flatten): Flatten(start_dim=-2, end_dim=-1)\n  )\n  (critic): CustomContinuousCritic(\n    (features_extractor): MarketObsExtractor(\n      (layers): Sequential(\n        (0): BatchNorm1d(1000, eps=1e-05, momentum=0.1, affine=True, track_running_stats=True)\n        (1): Linear(in_features=4, out_features=32, bias=True)\n        (2): ReLU()\n        (3): BatchNorm1d(1000, eps=1e-05, momentum=0.1, affine=True, track_running_stats=True)\n        (4): Linear(in_features=32, out_features=64, bias=True)\n        (5): ReLU()\n        (6): BatchNorm1d(1000, eps=1e-05, momentum=0.1, affine=True, track_running_stats=True)\n        (7): Linear(in_features=64, out_features=2, bias=True)\n        (8): ReLU()\n      )\n    )\n    (qf0): Sequential(\n      (0): Linear(in_features=3, out_features=1, bias=True)\n    )\n  )\n  (critic2): CustomContinuousCritic(\n    (features_extractor): MarketObsExtractor(\n      (layers): Sequential(\n        (0): BatchNorm1d(1000, eps=1e-05, momentum=0.1, affine=True, track_running_stats=True)\n        (1): Linear(in_features=4, out_features=32, bias=True)\n        (2): ReLU()\n        (3): BatchNorm1d(1000, eps=1e-05, momentum=0.1, affine=True, track_running_stats=True)\n        (4): Linear(in_features=32, out_features=64, bias=True)\n        (5): ReLU()\n        (6): BatchNorm1d(1000, eps=1e-05, momentum=0.1, affine=True, track_running_stats=True)\n        (7): Linear(in_features=64, out_features=2, bias=True)\n        (8): ReLU()\n      )\n    )\n    (qf0): Sequential(\n      (0): Linear(in_features=3, out_features=1, bias=True)\n    )\n  )\n  (critic_target): CustomContinuousCritic(\n    (features_extractor): MarketObsExtractor(\n      (layers): Sequential(\n        (0): BatchNorm1d(1000, eps=1e-05, momentum=0.1, affine=True, track_running_stats=True)\n        (1): Linear(in_features=4, out_features=32, bias=True)\n        (2): ReLU()\n        (3): BatchNorm1d(1000, eps=1e-05, momentum=0.1, affine=True, track_running_stats=True)\n        (4): Linear(in_features=32, out_features=64, bias=True)\n        (5): ReLU()\n        (6): BatchNorm1d(1000, eps=1e-05, momentum=0.1, affine=True, track_running_stats=True)\n        (7): Linear(in_features=64, out_features=2, bias=True)\n        (8): ReLU()\n      )\n    )\n    (qf0): Sequential(\n      (0): Linear(in_features=3, out_features=1, bias=True)\n    )\n  )\n  (critic2_target): CustomContinuousCritic(\n    (features_extractor): MarketObsExtractor(\n      (layers): Sequential(\n        (0): BatchNorm1d(1000, eps=1e-05, momentum=0.1, affine=True, track_running_stats=True)\n        (1): Linear(in_features=4, out_features=32, bias=True)\n        (2): ReLU()\n        (3): BatchNorm1d(1000, eps=1e-05, momentum=0.1, affine=True, track_running_stats=True)\n        (4): Linear(in_features=32, out_features=64, bias=True)\n        (5): ReLU()\n        (6): BatchNorm1d(1000, eps=1e-05, momentum=0.1, affine=True, track_running_stats=True)\n        (7): Linear(in_features=64, out_features=2, bias=True)\n        (8): ReLU()\n      )\n    )\n    (qf0): Sequential(\n      (0): Linear(in_features=3, out_features=1, bias=True)\n    )\n  )\n)"
     },
     "execution_count": 11,
     "metadata": {},
     "output_type": "execute_result"
    }
   ],
   "source": [
    "model.policy"
   ],
   "metadata": {
    "collapsed": false,
    "pycharm": {
     "name": "#%%\n"
    }
   }
  },
  {
   "cell_type": "markdown",
   "source": [
    "# 2. Learning"
   ],
   "metadata": {
    "collapsed": false
   }
  },
  {
   "cell_type": "code",
   "execution_count": 11,
   "outputs": [
    {
     "name": "stdout",
     "output_type": "stream",
     "text": [
      "Wrapping the env with a `Monitor` wrapper\n",
      "Wrapping the env in a DummyVecEnv.\n",
      "Logging to ../logs/tb_logs\\ddpg_220609-1512_1\n",
      "[Training Start]\n",
      "Eval num_timesteps=30, episode_reward=-0.03 +/- 0.00\n",
      "Episode length: 29.00 +/- 0.00\n",
      "---------------------------------\n",
      "| eval/              |          |\n",
      "|    mean_ep_length  | 29       |\n",
      "|    mean_reward     | -0.0306  |\n",
      "| time/              |          |\n",
      "|    total timesteps | 30       |\n",
      "---------------------------------\n",
      "New best mean reward!\n",
      "Eval num_timesteps=60, episode_reward=-0.03 +/- 0.00\n",
      "Episode length: 29.00 +/- 0.00\n",
      "---------------------------------\n",
      "| eval/              |          |\n",
      "|    mean_ep_length  | 29       |\n",
      "|    mean_reward     | -0.0314  |\n",
      "| time/              |          |\n",
      "|    total timesteps | 60       |\n",
      "---------------------------------\n",
      "Eval num_timesteps=90, episode_reward=-0.03 +/- 0.00\n",
      "Episode length: 29.00 +/- 0.00\n",
      "---------------------------------\n",
      "| eval/              |          |\n",
      "|    mean_ep_length  | 29       |\n",
      "|    mean_reward     | -0.0302  |\n",
      "| time/              |          |\n",
      "|    total timesteps | 90       |\n",
      "---------------------------------\n",
      "New best mean reward!\n",
      "Eval num_timesteps=120, episode_reward=-0.03 +/- 0.00\n",
      "Episode length: 29.00 +/- 0.00\n",
      "---------------------------------\n",
      "| eval/              |          |\n",
      "|    mean_ep_length  | 29       |\n",
      "|    mean_reward     | -0.0336  |\n",
      "| time/              |          |\n",
      "|    total timesteps | 120      |\n",
      "---------------------------------\n",
      "Eval num_timesteps=150, episode_reward=-0.04 +/- 0.00\n",
      "Episode length: 29.00 +/- 0.00\n",
      "---------------------------------\n",
      "| eval/              |          |\n",
      "|    mean_ep_length  | 29       |\n",
      "|    mean_reward     | -0.0352  |\n",
      "| time/              |          |\n",
      "|    total timesteps | 150      |\n",
      "---------------------------------\n",
      "Eval num_timesteps=180, episode_reward=-0.03 +/- 0.00\n",
      "Episode length: 29.00 +/- 0.00\n",
      "---------------------------------\n",
      "| eval/              |          |\n",
      "|    mean_ep_length  | 29       |\n",
      "|    mean_reward     | -0.0322  |\n",
      "| time/              |          |\n",
      "|    total timesteps | 180      |\n",
      "---------------------------------\n",
      "Eval num_timesteps=210, episode_reward=-0.03 +/- 0.00\n",
      "Episode length: 29.00 +/- 0.00\n",
      "---------------------------------\n",
      "| eval/              |          |\n",
      "|    mean_ep_length  | 29       |\n",
      "|    mean_reward     | -0.0337  |\n",
      "| time/              |          |\n",
      "|    total timesteps | 210      |\n",
      "---------------------------------\n",
      "Eval num_timesteps=240, episode_reward=-0.03 +/- 0.00\n",
      "Episode length: 29.00 +/- 0.00\n",
      "---------------------------------\n",
      "| eval/              |          |\n",
      "|    mean_ep_length  | 29       |\n",
      "|    mean_reward     | -0.0302  |\n",
      "| time/              |          |\n",
      "|    total timesteps | 240      |\n",
      "---------------------------------\n",
      "Eval num_timesteps=270, episode_reward=-0.03 +/- 0.00\n",
      "Episode length: 29.00 +/- 0.00\n",
      "---------------------------------\n",
      "| eval/              |          |\n",
      "|    mean_ep_length  | 29       |\n",
      "|    mean_reward     | -0.0291  |\n",
      "| time/              |          |\n",
      "|    total timesteps | 270      |\n",
      "---------------------------------\n",
      "New best mean reward!\n",
      "Eval num_timesteps=300, episode_reward=-0.03 +/- 0.00\n",
      "Episode length: 29.00 +/- 0.00\n",
      "---------------------------------\n",
      "| eval/              |          |\n",
      "|    mean_ep_length  | 29       |\n",
      "|    mean_reward     | -0.0341  |\n",
      "| time/              |          |\n",
      "|    total timesteps | 300      |\n",
      "---------------------------------\n",
      "Eval num_timesteps=330, episode_reward=-0.01 +/- 0.00\n",
      "Episode length: 29.00 +/- 0.00\n",
      "---------------------------------\n",
      "| eval/              |          |\n",
      "|    mean_ep_length  | 29       |\n",
      "|    mean_reward     | -0.00651 |\n",
      "| time/              |          |\n",
      "|    total timesteps | 330      |\n",
      "| train/             |          |\n",
      "|    actor_loss      | 1.65     |\n",
      "|    critic2_loss    | 3.01     |\n",
      "|    critic_loss     | 3.23     |\n",
      "|    learning_rate   | 0.00208  |\n",
      "|    mean_cost_loss  | -1.64    |\n",
      "|    n_updates       | 29       |\n",
      "|    std_cost_loss   | 0.0072   |\n",
      "---------------------------------\n",
      "New best mean reward!\n",
      "Eval num_timesteps=360, episode_reward=-0.00 +/- 0.00\n",
      "Episode length: 29.00 +/- 0.00\n",
      "---------------------------------\n",
      "| eval/              |          |\n",
      "|    mean_ep_length  | 29       |\n",
      "|    mean_reward     | -0.00233 |\n",
      "| time/              |          |\n",
      "|    total timesteps | 360      |\n",
      "| train/             |          |\n",
      "|    actor_loss      | 2.3      |\n",
      "|    critic2_loss    | 5.39     |\n",
      "|    critic_loss     | 5.53     |\n",
      "|    learning_rate   | 0.00194  |\n",
      "|    mean_cost_loss  | -2.29    |\n",
      "|    n_updates       | 58       |\n",
      "|    std_cost_loss   | 0.00981  |\n",
      "---------------------------------\n",
      "New best mean reward!\n",
      "Eval num_timesteps=390, episode_reward=-0.00 +/- 0.00\n",
      "Episode length: 29.00 +/- 0.00\n",
      "---------------------------------\n",
      "| eval/              |          |\n",
      "|    mean_ep_length  | 29       |\n",
      "|    mean_reward     | -0.00468 |\n",
      "| time/              |          |\n",
      "|    total timesteps | 390      |\n",
      "| train/             |          |\n",
      "|    actor_loss      | 2.03     |\n",
      "|    critic2_loss    | 4.49     |\n",
      "|    critic_loss     | 4.33     |\n",
      "|    learning_rate   | 0.00182  |\n",
      "|    mean_cost_loss  | -2.02    |\n",
      "|    n_updates       | 87       |\n",
      "|    std_cost_loss   | 0.00777  |\n",
      "---------------------------------\n",
      "Eval num_timesteps=420, episode_reward=-0.00 +/- 0.00\n",
      "Episode length: 29.00 +/- 0.00\n",
      "---------------------------------\n",
      "| eval/              |          |\n",
      "|    mean_ep_length  | 29       |\n",
      "|    mean_reward     | -0.00273 |\n",
      "| time/              |          |\n",
      "|    total timesteps | 420      |\n",
      "| train/             |          |\n",
      "|    actor_loss      | 1.64     |\n",
      "|    critic2_loss    | 3.17     |\n",
      "|    critic_loss     | 2.89     |\n",
      "|    learning_rate   | 0.0017   |\n",
      "|    mean_cost_loss  | -1.63    |\n",
      "|    n_updates       | 116      |\n",
      "|    std_cost_loss   | 0.00438  |\n",
      "---------------------------------\n",
      "Eval num_timesteps=450, episode_reward=-0.01 +/- 0.00\n",
      "Episode length: 29.00 +/- 0.00\n",
      "---------------------------------\n",
      "| eval/              |          |\n",
      "|    mean_ep_length  | 29       |\n",
      "|    mean_reward     | -0.0052  |\n",
      "| time/              |          |\n",
      "|    total timesteps | 450      |\n",
      "| train/             |          |\n",
      "|    actor_loss      | 1.26     |\n",
      "|    critic2_loss    | 2.05     |\n",
      "|    critic_loss     | 1.76     |\n",
      "|    learning_rate   | 0.0016   |\n",
      "|    mean_cost_loss  | -1.26    |\n",
      "|    n_updates       | 145      |\n",
      "|    std_cost_loss   | 0.00304  |\n",
      "---------------------------------\n",
      "Eval num_timesteps=480, episode_reward=-0.00 +/- 0.00\n",
      "Episode length: 29.00 +/- 0.00\n",
      "---------------------------------\n",
      "| eval/              |          |\n",
      "|    mean_ep_length  | 29       |\n",
      "|    mean_reward     | -0.00456 |\n",
      "| time/              |          |\n",
      "|    total timesteps | 480      |\n",
      "| train/             |          |\n",
      "|    actor_loss      | 0.925    |\n",
      "|    critic2_loss    | 1.25     |\n",
      "|    critic_loss     | 1.02     |\n",
      "|    learning_rate   | 0.0015   |\n",
      "|    mean_cost_loss  | -0.919   |\n",
      "|    n_updates       | 174      |\n",
      "|    std_cost_loss   | 0.00563  |\n",
      "---------------------------------\n",
      "Eval num_timesteps=510, episode_reward=-0.00 +/- 0.00\n",
      "Episode length: 29.00 +/- 0.00\n",
      "---------------------------------\n",
      "| eval/              |          |\n",
      "|    mean_ep_length  | 29       |\n",
      "|    mean_reward     | -0.00275 |\n",
      "| time/              |          |\n",
      "|    total timesteps | 510      |\n",
      "| train/             |          |\n",
      "|    actor_loss      | 0.644    |\n",
      "|    critic2_loss    | 0.703    |\n",
      "|    critic_loss     | 0.556    |\n",
      "|    learning_rate   | 0.00141  |\n",
      "|    mean_cost_loss  | -0.637   |\n",
      "|    n_updates       | 203      |\n",
      "|    std_cost_loss   | 0.00675  |\n",
      "---------------------------------\n",
      "Eval num_timesteps=540, episode_reward=-0.00 +/- 0.00\n",
      "Episode length: 29.00 +/- 0.00\n",
      "---------------------------------\n",
      "| eval/              |          |\n",
      "|    mean_ep_length  | 29       |\n",
      "|    mean_reward     | -0.00414 |\n",
      "| time/              |          |\n",
      "|    total timesteps | 540      |\n",
      "| train/             |          |\n",
      "|    actor_loss      | 0.426    |\n",
      "|    critic2_loss    | 0.355    |\n",
      "|    critic_loss     | 0.283    |\n",
      "|    learning_rate   | 0.00133  |\n",
      "|    mean_cost_loss  | -0.418   |\n",
      "|    n_updates       | 232      |\n",
      "|    std_cost_loss   | 0.00732  |\n",
      "---------------------------------\n",
      "Eval num_timesteps=570, episode_reward=-0.00 +/- 0.00\n",
      "Episode length: 29.00 +/- 0.00\n",
      "---------------------------------\n",
      "| eval/              |          |\n",
      "|    mean_ep_length  | 29       |\n",
      "|    mean_reward     | -0.00269 |\n",
      "| time/              |          |\n",
      "|    total timesteps | 570      |\n",
      "| train/             |          |\n",
      "|    actor_loss      | 0.265    |\n",
      "|    critic2_loss    | 0.175    |\n",
      "|    critic_loss     | 0.151    |\n",
      "|    learning_rate   | 0.00126  |\n",
      "|    mean_cost_loss  | -0.257   |\n",
      "|    n_updates       | 261      |\n",
      "|    std_cost_loss   | 0.00762  |\n",
      "---------------------------------\n",
      "Eval num_timesteps=600, episode_reward=-0.00 +/- 0.00\n",
      "Episode length: 29.00 +/- 0.00\n",
      "---------------------------------\n",
      "| eval/              |          |\n",
      "|    mean_ep_length  | 29       |\n",
      "|    mean_reward     | -0.00351 |\n",
      "| time/              |          |\n",
      "|    total timesteps | 600      |\n",
      "| train/             |          |\n",
      "|    actor_loss      | 0.158    |\n",
      "|    critic2_loss    | 0.0703   |\n",
      "|    critic_loss     | 0.0718   |\n",
      "|    learning_rate   | 0.00119  |\n",
      "|    mean_cost_loss  | -0.15    |\n",
      "|    n_updates       | 290      |\n",
      "|    std_cost_loss   | 0.0078   |\n",
      "---------------------------------\n",
      "Eval num_timesteps=630, episode_reward=-0.00 +/- 0.00\n",
      "Episode length: 29.00 +/- 0.00\n",
      "---------------------------------\n",
      "| eval/              |          |\n",
      "|    mean_ep_length  | 29       |\n",
      "|    mean_reward     | -0.00265 |\n",
      "| time/              |          |\n",
      "|    total timesteps | 630      |\n",
      "| train/             |          |\n",
      "|    actor_loss      | 0.0908   |\n",
      "|    critic2_loss    | 0.033    |\n",
      "|    critic_loss     | 0.0451   |\n",
      "|    learning_rate   | 0.00113  |\n",
      "|    mean_cost_loss  | -0.0828  |\n",
      "|    n_updates       | 319      |\n",
      "|    std_cost_loss   | 0.00791  |\n",
      "---------------------------------\n",
      "Eval num_timesteps=660, episode_reward=-0.00 +/- 0.00\n",
      "Episode length: 29.00 +/- 0.00\n",
      "---------------------------------\n",
      "| eval/              |          |\n",
      "|    mean_ep_length  | 29       |\n",
      "|    mean_reward     | -0.00319 |\n",
      "| time/              |          |\n",
      "|    total timesteps | 660      |\n",
      "| train/             |          |\n",
      "|    actor_loss      | 0.0478   |\n",
      "|    critic2_loss    | 0.00266  |\n",
      "|    critic_loss     | 0.0161   |\n",
      "|    learning_rate   | 0.00107  |\n",
      "|    mean_cost_loss  | -0.0398  |\n",
      "|    n_updates       | 348      |\n",
      "|    std_cost_loss   | 0.00799  |\n",
      "---------------------------------\n",
      "Eval num_timesteps=690, episode_reward=-0.00 +/- 0.00\n",
      "Episode length: 29.00 +/- 0.00\n",
      "---------------------------------\n",
      "| eval/              |          |\n",
      "|    mean_ep_length  | 29       |\n",
      "|    mean_reward     | -0.00372 |\n",
      "| time/              |          |\n",
      "|    total timesteps | 690      |\n",
      "| train/             |          |\n",
      "|    actor_loss      | 0.0188   |\n",
      "|    critic2_loss    | 0.00117  |\n",
      "|    critic_loss     | 0.0186   |\n",
      "|    learning_rate   | 0.00102  |\n",
      "|    mean_cost_loss  | -0.0107  |\n",
      "|    n_updates       | 377      |\n",
      "|    std_cost_loss   | 0.00805  |\n",
      "---------------------------------\n",
      "Eval num_timesteps=720, episode_reward=-0.00 +/- 0.00\n",
      "Episode length: 29.00 +/- 0.00\n",
      "---------------------------------\n",
      "| eval/              |          |\n",
      "|    mean_ep_length  | 29       |\n",
      "|    mean_reward     | -0.00393 |\n",
      "| time/              |          |\n",
      "|    total timesteps | 720      |\n",
      "| train/             |          |\n",
      "|    actor_loss      | -0.00613 |\n",
      "|    critic2_loss    | 0.00158  |\n",
      "|    critic_loss     | 0.0219   |\n",
      "|    learning_rate   | 0.000969 |\n",
      "|    mean_cost_loss  | 0.0142   |\n",
      "|    n_updates       | 406      |\n",
      "|    std_cost_loss   | 0.0081   |\n",
      "---------------------------------\n",
      "Eval num_timesteps=750, episode_reward=-0.00 +/- 0.00\n",
      "Episode length: 29.00 +/- 0.00\n",
      "---------------------------------\n",
      "| eval/              |          |\n",
      "|    mean_ep_length  | 29       |\n",
      "|    mean_reward     | -0.00356 |\n",
      "| time/              |          |\n",
      "|    total timesteps | 750      |\n",
      "| train/             |          |\n",
      "|    actor_loss      | -0.0287  |\n",
      "|    critic2_loss    | 0.00279  |\n",
      "|    critic_loss     | 0.026    |\n",
      "|    learning_rate   | 0.000925 |\n",
      "|    mean_cost_loss  | 0.0368   |\n",
      "|    n_updates       | 435      |\n",
      "|    std_cost_loss   | 0.00815  |\n",
      "---------------------------------\n",
      "Eval num_timesteps=780, episode_reward=-0.00 +/- 0.00\n",
      "Episode length: 29.00 +/- 0.00\n",
      "---------------------------------\n",
      "| eval/              |          |\n",
      "|    mean_ep_length  | 29       |\n",
      "|    mean_reward     | -0.00449 |\n",
      "| time/              |          |\n",
      "|    total timesteps | 780      |\n",
      "| train/             |          |\n",
      "|    actor_loss      | -0.0498  |\n",
      "|    critic2_loss    | 0.00501  |\n",
      "|    critic_loss     | 0.0293   |\n",
      "|    learning_rate   | 0.000884 |\n",
      "|    mean_cost_loss  | 0.058    |\n",
      "|    n_updates       | 464      |\n",
      "|    std_cost_loss   | 0.00819  |\n",
      "---------------------------------\n",
      "Eval num_timesteps=810, episode_reward=-0.00 +/- 0.00\n",
      "Episode length: 29.00 +/- 0.00\n",
      "---------------------------------\n",
      "| eval/              |          |\n",
      "|    mean_ep_length  | 29       |\n",
      "|    mean_reward     | -0.0045  |\n",
      "| time/              |          |\n",
      "|    total timesteps | 810      |\n",
      "| train/             |          |\n",
      "|    actor_loss      | -0.0688  |\n",
      "|    critic2_loss    | 0.00776  |\n",
      "|    critic_loss     | 0.0322   |\n",
      "|    learning_rate   | 0.000846 |\n",
      "|    mean_cost_loss  | 0.0771   |\n",
      "|    n_updates       | 493      |\n",
      "|    std_cost_loss   | 0.00823  |\n",
      "---------------------------------\n",
      "Eval num_timesteps=840, episode_reward=-0.00 +/- 0.00\n",
      "Episode length: 29.00 +/- 0.00\n",
      "----------------------------------\n",
      "| eval/              |           |\n",
      "|    mean_ep_length  | 29        |\n",
      "|    mean_reward     | -0.000747 |\n",
      "| time/              |           |\n",
      "|    total timesteps | 840       |\n",
      "| train/             |           |\n",
      "|    actor_loss      | -0.0845   |\n",
      "|    critic2_loss    | 0.0109    |\n",
      "|    critic_loss     | 0.0356    |\n",
      "|    learning_rate   | 0.000812  |\n",
      "|    mean_cost_loss  | 0.0928    |\n",
      "|    n_updates       | 522       |\n",
      "|    std_cost_loss   | 0.00826   |\n",
      "----------------------------------\n",
      "New best mean reward!\n",
      "Eval num_timesteps=870, episode_reward=-0.00 +/- 0.00\n",
      "Episode length: 29.00 +/- 0.00\n",
      "---------------------------------\n",
      "| eval/              |          |\n",
      "|    mean_ep_length  | 29       |\n",
      "|    mean_reward     | -0.00321 |\n",
      "| time/              |          |\n",
      "|    total timesteps | 870      |\n",
      "| train/             |          |\n",
      "|    actor_loss      | -0.0999  |\n",
      "|    critic2_loss    | 0.0139   |\n",
      "|    critic_loss     | 0.0417   |\n",
      "|    learning_rate   | 0.00078  |\n",
      "|    mean_cost_loss  | 0.108    |\n",
      "|    n_updates       | 551      |\n",
      "|    std_cost_loss   | 0.00829  |\n",
      "---------------------------------\n",
      "---------------------------------\n",
      "| rollout/           |          |\n",
      "|    ep_len_mean     | 29       |\n",
      "|    ep_rew_mean     | -0.0845  |\n",
      "| time/              |          |\n",
      "|    episodes        | 30       |\n",
      "|    fps             | 24       |\n",
      "|    time_elapsed    | 36       |\n",
      "|    total timesteps | 870      |\n",
      "---------------------------------\n",
      "Eval num_timesteps=900, episode_reward=-0.00 +/- 0.00\n",
      "Episode length: 29.00 +/- 0.00\n",
      "---------------------------------\n",
      "| eval/              |          |\n",
      "|    mean_ep_length  | 29       |\n",
      "|    mean_reward     | -0.00321 |\n",
      "| time/              |          |\n",
      "|    total timesteps | 900      |\n",
      "| train/             |          |\n",
      "|    actor_loss      | -0.129   |\n",
      "|    critic2_loss    | 0.0216   |\n",
      "|    critic_loss     | 0.0467   |\n",
      "|    learning_rate   | 0.000724 |\n",
      "|    mean_cost_loss  | 0.138    |\n",
      "|    n_updates       | 609      |\n",
      "|    std_cost_loss   | 0.00834  |\n",
      "---------------------------------\n",
      "Eval num_timesteps=930, episode_reward=-0.00 +/- 0.00\n",
      "Episode length: 29.00 +/- 0.00\n",
      "---------------------------------\n",
      "| eval/              |          |\n",
      "|    mean_ep_length  | 29       |\n",
      "|    mean_reward     | -0.00346 |\n",
      "| time/              |          |\n",
      "|    total timesteps | 930      |\n",
      "| train/             |          |\n",
      "|    actor_loss      | -0.141   |\n",
      "|    critic2_loss    | 0.0252   |\n",
      "|    critic_loss     | 0.0487   |\n",
      "|    learning_rate   | 0.000699 |\n",
      "|    mean_cost_loss  | 0.149    |\n",
      "|    n_updates       | 638      |\n",
      "|    std_cost_loss   | 0.00836  |\n",
      "---------------------------------\n",
      "Eval num_timesteps=960, episode_reward=-0.00 +/- 0.00\n",
      "Episode length: 29.00 +/- 0.00\n",
      "---------------------------------\n",
      "| eval/              |          |\n",
      "|    mean_ep_length  | 29       |\n",
      "|    mean_reward     | -0.00276 |\n",
      "| time/              |          |\n",
      "|    total timesteps | 960      |\n",
      "| train/             |          |\n",
      "|    actor_loss      | -0.151   |\n",
      "|    critic2_loss    | 0.0284   |\n",
      "|    critic_loss     | 0.0527   |\n",
      "|    learning_rate   | 0.000676 |\n",
      "|    mean_cost_loss  | 0.16     |\n",
      "|    n_updates       | 667      |\n",
      "|    std_cost_loss   | 0.00838  |\n",
      "---------------------------------\n",
      "Eval num_timesteps=990, episode_reward=-0.00 +/- 0.00\n",
      "Episode length: 29.00 +/- 0.00\n",
      "---------------------------------\n",
      "| eval/              |          |\n",
      "|    mean_ep_length  | 29       |\n",
      "|    mean_reward     | -0.00218 |\n",
      "| time/              |          |\n",
      "|    total timesteps | 990      |\n",
      "| train/             |          |\n",
      "|    actor_loss      | -0.161   |\n",
      "|    critic2_loss    | 0.032    |\n",
      "|    critic_loss     | 0.0539   |\n",
      "|    learning_rate   | 0.000655 |\n",
      "|    mean_cost_loss  | 0.17     |\n",
      "|    n_updates       | 696      |\n",
      "|    std_cost_loss   | 0.0084   |\n",
      "---------------------------------\n",
      "Eval num_timesteps=1020, episode_reward=-0.00 +/- 0.00\n",
      "Episode length: 29.00 +/- 0.00\n",
      "---------------------------------\n",
      "| eval/              |          |\n",
      "|    mean_ep_length  | 29       |\n",
      "|    mean_reward     | -0.00324 |\n",
      "| time/              |          |\n",
      "|    total timesteps | 1020     |\n",
      "| train/             |          |\n",
      "|    actor_loss      | -0.169   |\n",
      "|    critic2_loss    | 0.0354   |\n",
      "|    critic_loss     | 0.0562   |\n",
      "|    learning_rate   | 0.000636 |\n",
      "|    mean_cost_loss  | 0.178    |\n",
      "|    n_updates       | 725      |\n",
      "|    std_cost_loss   | 0.00842  |\n",
      "---------------------------------\n",
      "Eval num_timesteps=1050, episode_reward=-0.00 +/- 0.00\n",
      "Episode length: 29.00 +/- 0.00\n",
      "---------------------------------\n",
      "| eval/              |          |\n",
      "|    mean_ep_length  | 29       |\n",
      "|    mean_reward     | -0.00377 |\n",
      "| time/              |          |\n",
      "|    total timesteps | 1050     |\n",
      "| train/             |          |\n",
      "|    actor_loss      | -0.177   |\n",
      "|    critic2_loss    | 0.0376   |\n",
      "|    critic_loss     | 0.0587   |\n",
      "|    learning_rate   | 0.000619 |\n",
      "|    mean_cost_loss  | 0.185    |\n",
      "|    n_updates       | 754      |\n",
      "|    std_cost_loss   | 0.00843  |\n",
      "---------------------------------\n",
      "Eval num_timesteps=1080, episode_reward=-0.00 +/- 0.00\n",
      "Episode length: 29.00 +/- 0.00\n",
      "---------------------------------\n",
      "| eval/              |          |\n",
      "|    mean_ep_length  | 29       |\n",
      "|    mean_reward     | -0.00367 |\n",
      "| time/              |          |\n",
      "|    total timesteps | 1080     |\n",
      "| train/             |          |\n",
      "|    actor_loss      | -0.184   |\n",
      "|    critic2_loss    | 0.041    |\n",
      "|    critic_loss     | 0.0608   |\n",
      "|    learning_rate   | 0.000603 |\n",
      "|    mean_cost_loss  | 0.192    |\n",
      "|    n_updates       | 783      |\n",
      "|    std_cost_loss   | 0.00845  |\n",
      "---------------------------------\n",
      "Eval num_timesteps=1110, episode_reward=-0.00 +/- 0.00\n",
      "Episode length: 29.00 +/- 0.00\n",
      "---------------------------------\n",
      "| eval/              |          |\n",
      "|    mean_ep_length  | 29       |\n",
      "|    mean_reward     | -0.00396 |\n",
      "| time/              |          |\n",
      "|    total timesteps | 1110     |\n",
      "| train/             |          |\n",
      "|    actor_loss      | -0.19    |\n",
      "|    critic2_loss    | 0.0438   |\n",
      "|    critic_loss     | 0.0622   |\n",
      "|    learning_rate   | 0.000588 |\n",
      "|    mean_cost_loss  | 0.199    |\n",
      "|    n_updates       | 812      |\n",
      "|    std_cost_loss   | 0.00847  |\n",
      "---------------------------------\n",
      "Eval num_timesteps=1140, episode_reward=-0.00 +/- 0.00\n",
      "Episode length: 29.00 +/- 0.00\n",
      "---------------------------------\n",
      "| eval/              |          |\n",
      "|    mean_ep_length  | 29       |\n",
      "|    mean_reward     | -0.00469 |\n",
      "| time/              |          |\n",
      "|    total timesteps | 1140     |\n",
      "| train/             |          |\n",
      "|    actor_loss      | -0.195   |\n",
      "|    critic2_loss    | 0.0466   |\n",
      "|    critic_loss     | 0.0639   |\n",
      "|    learning_rate   | 0.000575 |\n",
      "|    mean_cost_loss  | 0.204    |\n",
      "|    n_updates       | 841      |\n",
      "|    std_cost_loss   | 0.00848  |\n",
      "---------------------------------\n",
      "Eval num_timesteps=1170, episode_reward=-0.01 +/- 0.00\n",
      "Episode length: 29.00 +/- 0.00\n",
      "---------------------------------\n",
      "| eval/              |          |\n",
      "|    mean_ep_length  | 29       |\n",
      "|    mean_reward     | -0.00544 |\n",
      "| time/              |          |\n",
      "|    total timesteps | 1170     |\n",
      "| train/             |          |\n",
      "|    actor_loss      | -0.2     |\n",
      "|    critic2_loss    | 0.0477   |\n",
      "|    critic_loss     | 0.0662   |\n",
      "|    learning_rate   | 0.000563 |\n",
      "|    mean_cost_loss  | 0.208    |\n",
      "|    n_updates       | 870      |\n",
      "|    std_cost_loss   | 0.0085   |\n",
      "---------------------------------\n",
      "Eval num_timesteps=1200, episode_reward=-0.01 +/- 0.00\n",
      "Episode length: 29.00 +/- 0.00\n",
      "---------------------------------\n",
      "| eval/              |          |\n",
      "|    mean_ep_length  | 29       |\n",
      "|    mean_reward     | -0.00614 |\n",
      "| time/              |          |\n",
      "|    total timesteps | 1200     |\n",
      "| train/             |          |\n",
      "|    actor_loss      | -0.205   |\n",
      "|    critic2_loss    | 0.0511   |\n",
      "|    critic_loss     | 0.0671   |\n",
      "|    learning_rate   | 0.000552 |\n",
      "|    mean_cost_loss  | 0.213    |\n",
      "|    n_updates       | 899      |\n",
      "|    std_cost_loss   | 0.00851  |\n",
      "---------------------------------\n",
      "Eval num_timesteps=1230, episode_reward=-0.00 +/- 0.00\n",
      "Episode length: 29.00 +/- 0.00\n",
      "---------------------------------\n",
      "| eval/              |          |\n",
      "|    mean_ep_length  | 29       |\n",
      "|    mean_reward     | -0.00362 |\n",
      "| time/              |          |\n",
      "|    total timesteps | 1230     |\n",
      "| train/             |          |\n",
      "|    actor_loss      | -0.21    |\n",
      "|    critic2_loss    | 0.0524   |\n",
      "|    critic_loss     | 0.0675   |\n",
      "|    learning_rate   | 0.000542 |\n",
      "|    mean_cost_loss  | 0.218    |\n",
      "|    n_updates       | 928      |\n",
      "|    std_cost_loss   | 0.00852  |\n",
      "---------------------------------\n",
      "Eval num_timesteps=1260, episode_reward=-0.00 +/- 0.00\n",
      "Episode length: 29.00 +/- 0.00\n",
      "---------------------------------\n",
      "| eval/              |          |\n",
      "|    mean_ep_length  | 29       |\n",
      "|    mean_reward     | -0.0036  |\n",
      "| time/              |          |\n",
      "|    total timesteps | 1260     |\n",
      "| train/             |          |\n",
      "|    actor_loss      | -0.213   |\n",
      "|    critic2_loss    | 0.0539   |\n",
      "|    critic_loss     | 0.0707   |\n",
      "|    learning_rate   | 0.000534 |\n",
      "|    mean_cost_loss  | 0.221    |\n",
      "|    n_updates       | 957      |\n",
      "|    std_cost_loss   | 0.00854  |\n",
      "---------------------------------\n",
      "Eval num_timesteps=1290, episode_reward=-0.00 +/- 0.00\n",
      "Episode length: 29.00 +/- 0.00\n",
      "---------------------------------\n",
      "| eval/              |          |\n",
      "|    mean_ep_length  | 29       |\n",
      "|    mean_reward     | -0.00376 |\n",
      "| time/              |          |\n",
      "|    total timesteps | 1290     |\n",
      "| train/             |          |\n",
      "|    actor_loss      | -0.217   |\n",
      "|    critic2_loss    | 0.0563   |\n",
      "|    critic_loss     | 0.0706   |\n",
      "|    learning_rate   | 0.000526 |\n",
      "|    mean_cost_loss  | 0.225    |\n",
      "|    n_updates       | 986      |\n",
      "|    std_cost_loss   | 0.00855  |\n",
      "---------------------------------\n",
      "Eval num_timesteps=1320, episode_reward=-0.00 +/- 0.00\n",
      "Episode length: 29.00 +/- 0.00\n",
      "---------------------------------\n",
      "| eval/              |          |\n",
      "|    mean_ep_length  | 29       |\n",
      "|    mean_reward     | -0.00391 |\n",
      "| time/              |          |\n",
      "|    total timesteps | 1320     |\n",
      "| train/             |          |\n",
      "|    actor_loss      | -0.219   |\n",
      "|    critic2_loss    | 0.0568   |\n",
      "|    critic_loss     | 0.0727   |\n",
      "|    learning_rate   | 0.00052  |\n",
      "|    mean_cost_loss  | 0.228    |\n",
      "|    n_updates       | 1015     |\n",
      "|    std_cost_loss   | 0.00857  |\n",
      "---------------------------------\n",
      "Eval num_timesteps=1350, episode_reward=-0.00 +/- 0.00\n",
      "Episode length: 29.00 +/- 0.00\n",
      "---------------------------------\n",
      "| eval/              |          |\n",
      "|    mean_ep_length  | 29       |\n",
      "|    mean_reward     | -0.00266 |\n",
      "| time/              |          |\n",
      "|    total timesteps | 1350     |\n",
      "| train/             |          |\n",
      "|    actor_loss      | -0.222   |\n",
      "|    critic2_loss    | 0.0575   |\n",
      "|    critic_loss     | 0.0734   |\n",
      "|    learning_rate   | 0.000514 |\n",
      "|    mean_cost_loss  | 0.23     |\n",
      "|    n_updates       | 1044     |\n",
      "|    std_cost_loss   | 0.00858  |\n",
      "---------------------------------\n",
      "Eval num_timesteps=1380, episode_reward=-0.00 +/- 0.00\n",
      "Episode length: 29.00 +/- 0.00\n",
      "---------------------------------\n",
      "| eval/              |          |\n",
      "|    mean_ep_length  | 29       |\n",
      "|    mean_reward     | -0.00227 |\n",
      "| time/              |          |\n",
      "|    total timesteps | 1380     |\n",
      "| train/             |          |\n",
      "|    actor_loss      | -0.223   |\n",
      "|    critic2_loss    | 0.0588   |\n",
      "|    critic_loss     | 0.0746   |\n",
      "|    learning_rate   | 0.00051  |\n",
      "|    mean_cost_loss  | 0.232    |\n",
      "|    n_updates       | 1073     |\n",
      "|    std_cost_loss   | 0.00859  |\n",
      "---------------------------------\n",
      "Eval num_timesteps=1410, episode_reward=-0.00 +/- 0.00\n",
      "Episode length: 29.00 +/- 0.00\n",
      "---------------------------------\n",
      "| eval/              |          |\n",
      "|    mean_ep_length  | 29       |\n",
      "|    mean_reward     | -0.00247 |\n",
      "| time/              |          |\n",
      "|    total timesteps | 1410     |\n",
      "| train/             |          |\n",
      "|    actor_loss      | -0.226   |\n",
      "|    critic2_loss    | 0.0603   |\n",
      "|    critic_loss     | 0.0748   |\n",
      "|    learning_rate   | 0.000506 |\n",
      "|    mean_cost_loss  | 0.234    |\n",
      "|    n_updates       | 1102     |\n",
      "|    std_cost_loss   | 0.0086   |\n",
      "---------------------------------\n",
      "Eval num_timesteps=1440, episode_reward=-0.00 +/- 0.00\n",
      "Episode length: 29.00 +/- 0.00\n",
      "---------------------------------\n",
      "| eval/              |          |\n",
      "|    mean_ep_length  | 29       |\n",
      "|    mean_reward     | -0.00305 |\n",
      "| time/              |          |\n",
      "|    total timesteps | 1440     |\n",
      "| train/             |          |\n",
      "|    actor_loss      | -0.227   |\n",
      "|    critic2_loss    | 0.0599   |\n",
      "|    critic_loss     | 0.0776   |\n",
      "|    learning_rate   | 0.000503 |\n",
      "|    mean_cost_loss  | 0.235    |\n",
      "|    n_updates       | 1131     |\n",
      "|    std_cost_loss   | 0.00862  |\n",
      "---------------------------------\n",
      "Eval num_timesteps=1470, episode_reward=-0.00 +/- 0.00\n",
      "Episode length: 29.00 +/- 0.00\n",
      "---------------------------------\n",
      "| eval/              |          |\n",
      "|    mean_ep_length  | 29       |\n",
      "|    mean_reward     | -0.00356 |\n",
      "| time/              |          |\n",
      "|    total timesteps | 1470     |\n",
      "| train/             |          |\n",
      "|    actor_loss      | -0.23    |\n",
      "|    critic2_loss    | 0.0622   |\n",
      "|    critic_loss     | 0.0777   |\n",
      "|    learning_rate   | 0.000501 |\n",
      "|    mean_cost_loss  | 0.238    |\n",
      "|    n_updates       | 1160     |\n",
      "|    std_cost_loss   | 0.00863  |\n",
      "---------------------------------\n",
      "Eval num_timesteps=1500, episode_reward=-0.00 +/- 0.00\n",
      "Episode length: 29.00 +/- 0.00\n",
      "---------------------------------\n",
      "| eval/              |          |\n",
      "|    mean_ep_length  | 29       |\n",
      "|    mean_reward     | -0.00255 |\n",
      "| time/              |          |\n",
      "|    total timesteps | 1500     |\n",
      "| train/             |          |\n",
      "|    actor_loss      | -0.233   |\n",
      "|    critic2_loss    | 0.0636   |\n",
      "|    critic_loss     | 0.077    |\n",
      "|    learning_rate   | 0.0005   |\n",
      "|    mean_cost_loss  | 0.242    |\n",
      "|    n_updates       | 1189     |\n",
      "|    std_cost_loss   | 0.00864  |\n",
      "---------------------------------\n",
      "[Training End]  steps: 1508\ttimes: 58.829785108566284\n"
     ]
    }
   ],
   "source": [
    "model = model.learn(**learn_kwargs)"
   ],
   "metadata": {
    "collapsed": false,
    "pycharm": {
     "name": "#%%\n"
    }
   }
  },
  {
   "cell_type": "code",
   "execution_count": 12,
   "outputs": [
    {
     "name": "stdout",
     "output_type": "stream",
     "text": [
      "<BSMarket instance> will be save as name. env_kwargs not in kwargs!\n",
      "<BSMarketEval instance> will be save as name. eval_env_kwargs not in kwargs!\n",
      "<Algorithms.ddpg.callbacks.ReportCallbacks object at 0x00000208501FE550> will be save as name. callback_kwargs not in kwargs!\n",
      "../logs/tb_logs/ddpg_220609-1512_1/config.yaml was saved.\n"
     ]
    }
   ],
   "source": [
    "config.save_config(f'{learn_kwargs[\"eval_log_path\"]}/config.yaml', env_kwargs, model_kwargs, learn_kwargs)"
   ],
   "metadata": {
    "collapsed": false,
    "pycharm": {
     "name": "#%%\n"
    }
   }
  },
  {
   "cell_type": "markdown",
   "source": [
    "# 3. P&L Evaluation"
   ],
   "metadata": {
    "collapsed": false
   }
  },
  {
   "cell_type": "code",
   "execution_count": 11,
   "outputs": [],
   "source": [
    "# model = model.load('../logs/tb_logs/ddpg_220607-2214_stable'+'/best_model')\n",
    "# model = model.load('../logs/tb_logs/ddpg_220607-2124_ntb_delta'+'/best_model')\n",
    "# model = model.load('../logs/tb_logs/ddpg_220608-2037_1'+'/best_model')\n",
    "model = model.load('../logs/tb_logs/ddpg_220608-2109_ntb_delta'+'/best_model')\n",
    "# model = model.load(learn_kwargs['eval_log_path'] + '/best_model')\n",
    "# print(learn_kwargs['eval_log_path'] + '/best_model')"
   ],
   "metadata": {
    "collapsed": false,
    "pycharm": {
     "name": "#%%\n"
    }
   }
  },
  {
   "cell_type": "code",
   "execution_count": 12,
   "outputs": [
    {
     "data": {
      "text/plain": "<Env.env.BSMarketEval at 0x1979d7d5700>"
     },
     "execution_count": 12,
     "metadata": {},
     "output_type": "execute_result"
    }
   ],
   "source": [
    "eval_env = learn_kwargs['eval_env']\n",
    "eval_env"
   ],
   "metadata": {
    "collapsed": false,
    "pycharm": {
     "name": "#%%\n"
    }
   }
  },
  {
   "cell_type": "code",
   "execution_count": 14,
   "outputs": [],
   "source": [
    "import numpy as np\n",
    "\n",
    "# random_pnl = np.mean([eval_env.pnl_eval() for _ in range(30)], axis=0)\n",
    "# delta_pnl = np.mean([eval_env.delta_eval() for _ in range(30)], axis=0)\n",
    "# rl_pnl = np.mean([eval_env.pnl_eval(model) for _ in range(30)], axis=0)\n",
    "\n",
    "# random_pnl = np.load('best_results/random_pnl.npy')\n",
    "delta_pnl = np.load('best_results/delta_pnl.npy')\n",
    "rl_pnl = np.load('best_results/rl_pnl.npy')"
   ],
   "metadata": {
    "collapsed": false,
    "pycharm": {
     "name": "#%%\n"
    }
   }
  },
  {
   "cell_type": "code",
   "execution_count": 15,
   "outputs": [],
   "source": [
    "# np.save('best_results/random_pnl', random_pnl)\n",
    "# np.save('best_results/delta_pnl', delta_pnl)\n",
    "# np.save('best_results/rl_pnl', rl_pnl)"
   ],
   "metadata": {
    "collapsed": false,
    "pycharm": {
     "name": "#%%\n"
    }
   }
  },
  {
   "cell_type": "code",
   "execution_count": 16,
   "outputs": [],
   "source": [
    "ntb_pnl = np.mean([eval_env.pnl_eval(model) for _ in range(30)], axis=0)"
   ],
   "metadata": {
    "collapsed": false,
    "pycharm": {
     "name": "#%%\n"
    }
   }
  },
  {
   "cell_type": "code",
   "execution_count": 17,
   "outputs": [],
   "source": [
    "import numpy as np\n",
    "\n",
    "def pnl_reward(pnl):\n",
    "    mean = np.mean(pnl)\n",
    "    std = np.std(pnl)\n",
    "    return mean - 0.02 * std , (mean, std)"
   ],
   "metadata": {
    "collapsed": false,
    "pycharm": {
     "name": "#%%\n"
    }
   }
  },
  {
   "cell_type": "code",
   "execution_count": 18,
   "outputs": [
    {
     "data": {
      "text/plain": "<Figure size 1000x500 with 1 Axes>",
      "image/png": "[encoded data removed]"
     },
     "metadata": {},
     "output_type": "display_data"
    },
    {
     "name": "stdout",
     "output_type": "stream",
     "text": [
      "delta:\t-0.0309, -0.0307, 0.0114\n",
      "ntb_pnl:\t\t-0.0163, -0.0161, 0.0089\n",
      "rl:\t\t-0.0002, -0.0000, 0.0060\n",
      "0.014618505642230033\n",
      "0.016106425672000036\n"
     ]
    }
   ],
   "source": [
    "plt.xlabel('P&L')\n",
    "# plt.hist(random_pnl, bins=100, range=(-0.25, 0.05), alpha=0.6, label='random')\n",
    "# plt.hist(random_pnl, bins=100, range=(-0.1, 0.05), alpha=0.6, label='random')\n",
    "plt.hist(delta_pnl, bins=100, range=(-0.1, 0.05), alpha=0.6, label='delta')\n",
    "plt.hist(ntb_pnl, bins=100, range=(-0.1, 0.05), alpha=0.6, label='ntb')\n",
    "plt.hist(rl_pnl, bins=100, range=(-0.1, 0.05), alpha=0.6, label='rl')\n",
    "plt.ylim(0, 150)\n",
    "plt.legend()\n",
    "plt.show()\n",
    "\n",
    "r1, (m1, s1) = pnl_reward(delta_pnl)\n",
    "r2, (m2, s2) = pnl_reward(ntb_pnl)\n",
    "r3, (m3, s3) = pnl_reward(rl_pnl)\n",
    "print(f'delta:\\t{r1:.4f}, {m1:.4f}, {s1:.4f}')\n",
    "print(f'ntb_pnl:\\t\\t{r2:.4f}, {m2:.4f}, {s2:.4f}')\n",
    "print(f'rl:\\t\\t{r3:.4f}, {m3:.4f}, {s3:.4f}')\n",
    "print((r2-r1))\n",
    "print((r3-r2))"
   ],
   "metadata": {
    "collapsed": false,
    "pycharm": {
     "name": "#%%\n"
    }
   }
  },
  {
   "cell_type": "code",
   "execution_count": 17,
   "outputs": [
    {
     "data": {
      "text/plain": "<Figure size 1000x500 with 1 Axes>",
      "image/png": "[encoded data removed]"
     },
     "metadata": {},
     "output_type": "display_data"
    }
   ],
   "source": [
    "plt.hist(delta_pnl, bins=100, range=(-0.1, 0.05), alpha=0.6, label='delta')\n",
    "plt.hist(np.mean([eval_env.delta_eval2() for _ in range(30)], axis=0), bins=100, range=(-0.1, 0.05), alpha=0.6, label='delta2')\n",
    "plt.hist(np.load('best_results/delta_pnl.npy'), bins=100, range=(-0.1, 0.05), alpha=0.6, label='best_delta')\n",
    "plt.hist(ntb_pnl, bins=100, range=(-0.1, 0.05), alpha=0.6, label='ntb')\n",
    "plt.hist(rl_pnl, bins=100, range=(-0.1, 0.05), alpha=0.6, label='rl')\n",
    "plt.legend()\n",
    "plt.show()"
   ],
   "metadata": {
    "collapsed": false,
    "pycharm": {
     "name": "#%%\n"
    }
   }
  },
  {
   "cell_type": "code",
   "execution_count": null,
   "outputs": [],
   "source": [],
   "metadata": {
    "collapsed": false,
    "pycharm": {
     "name": "#%%\n"
    }
   }
  }
 ],
 "metadata": {
  "kernelspec": {
   "display_name": "Python 3",
   "language": "python",
   "name": "python3"
  },
  "language_info": {
   "codemirror_mode": {
    "name": "ipython",
    "version": 2
   },
   "file_extension": ".py",
   "mimetype": "text/x-python",
   "name": "python",
   "nbconvert_exporter": "python",
   "pygments_lexer": "ipython2",
   "version": "2.7.6"
  }
 },
 "nbformat": 4,
 "nbformat_minor": 0
}