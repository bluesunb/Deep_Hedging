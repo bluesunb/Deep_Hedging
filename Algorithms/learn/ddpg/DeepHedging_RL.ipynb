{
 "nbformat": 4,
 "nbformat_minor": 0,
 "metadata": {
  "colab": {
   "name": "DeepHedging_RL.ipynb",
   "provenance": []
  },
  "kernelspec": {
   "name": "python3",
   "display_name": "Python 3"
  },
  "language_info": {
   "name": "python"
  },
  "accelerator": "GPU"
 },
 "cells": [
  {
   "cell_type": "code",
   "source": [
    "!pip install stable-baselines3\n",
    "!pip install -U pyyaml"
   ],
   "metadata": {
    "id": "vcF1L6CvWbkS"
   },
   "execution_count": null,
   "outputs": []
  },
  {
   "cell_type": "code",
   "execution_count": 2,
   "metadata": {
    "colab": {
     "base_uri": "https://localhost:8080/"
    },
    "id": "jsSmH_rqVNb2",
    "outputId": "23f06efa-c6ec-41a5-b412-14680b4414e1"
   },
   "outputs": [
    {
     "output_type": "stream",
     "name": "stdout",
     "text": [
      "Cloning into 'Deep_Hedging'...\n",
      "remote: Enumerating objects: 166, done.\u001B[K\n",
      "remote: Counting objects: 100% (166/166), done.\u001B[K\n",
      "remote: Compressing objects: 100% (104/104), done.\u001B[K\n",
      "remote: Total 166 (delta 54), reused 151 (delta 39), pack-reused 0\u001B[K\n",
      "Receiving objects: 100% (166/166), 194.00 KiB | 9.24 MiB/s, done.\n",
      "Resolving deltas: 100% (54/54), done.\n"
     ]
    }
   ],
   "source": [
    "! git clone https://github.com/bluesunb/Deep_Hedging.git"
   ]
  },
  {
   "cell_type": "code",
   "source": [
    "! mv Deep_Hedging/* ./"
   ],
   "metadata": {
    "id": "4r2ifVQHciIh"
   },
   "execution_count": 3,
   "outputs": []
  },
  {
   "cell_type": "code",
   "source": [
    "!rm -rf Deep_Hedging"
   ],
   "metadata": {
    "id": "qTmpPiA3Syf8"
   },
   "execution_count": 4,
   "outputs": []
  },
  {
   "cell_type": "code",
   "source": [
    "import numpy as np\n",
    "import matplotlib.pyplot as plt\n",
    "\n",
    "from Algorithms.learn.utils import config"
   ],
   "metadata": {
    "id": "RPspHclFW01K"
   },
   "execution_count": 4,
   "outputs": []
  },
  {
   "cell_type": "markdown",
   "source": [
    "# 0. Plot Setting"
   ],
   "metadata": {
    "id": "sGaMoAu-jk4b"
   }
  },
  {
   "cell_type": "code",
   "source": [
    "import seaborn as sb\n",
    "import matplotlib\n",
    "\n",
    "sb.set_style('darkgrid')\n",
    "\n",
    "FONTSIZE = 10\n",
    "matplotlib.rcParams[\"figure.figsize\"] = (10, 5)\n",
    "matplotlib.rcParams[\"figure.dpi\"] = 100\n",
    "matplotlib.rcParams[\"figure.titlesize\"] = FONTSIZE\n",
    "matplotlib.rcParams[\"legend.fontsize\"] = FONTSIZE\n",
    "matplotlib.rcParams[\"xtick.labelsize\"] = FONTSIZE\n",
    "matplotlib.rcParams[\"ytick.labelsize\"] = FONTSIZE\n",
    "matplotlib.rcParams[\"axes.labelsize\"] = FONTSIZE\n",
    "matplotlib.rcParams[\"axes.titlesize\"] = FONTSIZE\n",
    "matplotlib.rcParams[\"savefig.bbox\"] = \"tight\"\n",
    "matplotlib.rcParams[\"savefig.pad_inches\"] = 0.1\n",
    "matplotlib.rcParams[\"lines.linewidth\"] = 2\n",
    "matplotlib.rcParams[\"axes.linewidth\"] = 1.6"
   ],
   "metadata": {
    "id": "yXXufGhjJ0LQ"
   },
   "execution_count": 5,
   "outputs": []
  },
  {
   "cell_type": "markdown",
   "source": [
    "# 1. Model Setting"
   ],
   "metadata": {
    "id": "clmbZaQajs7U"
   }
  },
  {
   "cell_type": "markdown",
   "source": [
    "## 1.1 Load config"
   ],
   "metadata": {
    "id": "r2IVZwLKju6g"
   }
  },
  {
   "cell_type": "code",
   "source": [
    "# def_config = config.default_config()"
   ],
   "metadata": {
    "id": "Eyiln9Gddf-q"
   },
   "execution_count": 6,
   "outputs": []
  },
  {
   "cell_type": "code",
   "source": [
    "# config.save_config('/content/Algorithms/learn/tmp_config.yaml', **def_config)"
   ],
   "metadata": {
    "id": "Elc3JsQBkEqf"
   },
   "execution_count": 7,
   "outputs": []
  },
  {
   "cell_type": "code",
   "source": [
    "env_kwargs, model_kwargs, learn_kwargs = config.load_config('config.yaml')"
   ],
   "metadata": {
    "colab": {
     "base_uri": "https://localhost:8080/"
    },
    "id": "qLy3xh-0kRTt",
    "outputId": "97335cd2-ef49-425a-f88e-3180c0d491c1"
   },
   "execution_count": 8,
   "outputs": [
    {
     "output_type": "stream",
     "name": "stdout",
     "text": [
      "env 'BSMarket was created!\n",
      "env 'BSMarket was created!\n"
     ]
    }
   ]
  },
  {
   "cell_type": "code",
   "source": [
    "env_kwargs"
   ],
   "metadata": {
    "colab": {
     "base_uri": "https://localhost:8080/"
    },
    "id": "fqKGzZwmj2ZY",
    "outputId": "24943a23-3ffb-4c03-916f-5c543e306383"
   },
   "execution_count": 9,
   "outputs": [
    {
     "output_type": "execute_result",
     "data": {
      "text/plain": [
       "{'cost': 0.02,\n",
       " 'dividend': 0.0,\n",
       " 'drift': 0.0,\n",
       " 'freq': 1,\n",
       " 'gen_name': 'gbm',\n",
       " 'init_price': 1.0,\n",
       " 'n_assets': 1000,\n",
       " 'n_periods': 30,\n",
       " 'payoff': 'european',\n",
       " 'period_unit': 365,\n",
       " 'reward_mode': 'pnl',\n",
       " 'risk_free_interest': 0.0,\n",
       " 'strike': 1.0,\n",
       " 'volatility': 0.2}"
      ]
     },
     "metadata": {},
     "execution_count": 9
    }
   ]
  },
  {
   "cell_type": "code",
   "source": [
    "model_kwargs"
   ],
   "metadata": {
    "colab": {
     "base_uri": "https://localhost:8080/"
    },
    "id": "8kr6c7c7dhra",
    "outputId": "6d54f09a-be67-4f97-b454-28f37fdbbad7"
   },
   "execution_count": 10,
   "outputs": [
    {
     "output_type": "execute_result",
     "data": {
      "text/plain": [
       "{'action_noise': NormalActionNoise(mu=0.0, sigma=0.1),\n",
       " 'batch_size': 15,\n",
       " 'buffer_size': 500,\n",
       " 'create_eval_env': False,\n",
       " 'device': 'auto',\n",
       " 'env': <Env.env.BSMarket at 0x7fd453abdcd0>,\n",
       " 'gamma': 0.99,\n",
       " 'gradient_steps': -1,\n",
       " 'learning_rate': <function Algorithms.learn.utils.config.lr_schedule>,\n",
       " 'learning_starts': 500,\n",
       " 'optimize_memory_usage': False,\n",
       " 'policy': Algorithms.policies.DoubleTD3Policy,\n",
       " 'policy_kwargs': {'activation_fn': torch.nn.modules.activation.ReLU,\n",
       "  'features_extractor_class': Env.feature_extractor.BatchNormExtractor,\n",
       "  'features_extractor_kwargs': {'activation_fn': torch.nn.modules.activation.ReLU,\n",
       "   'features_in': 4,\n",
       "   'features_out': 2,\n",
       "   'net_arch': [32, 64]},\n",
       "  'n_critics': 1,\n",
       "  'net_arch': [],\n",
       "  'normalize_images': False,\n",
       "  'optimizer_class': torch.optim.adam.Adam,\n",
       "  'optimizer_kwargs': None,\n",
       "  'share_features_extractor': True},\n",
       " 'replay_buffer_class': None,\n",
       " 'replay_buffer_kwargs': None,\n",
       " 'seed': 42,\n",
       " 'tau': 0.005,\n",
       " 'tensorboard_log': 'logs/tb_logs',\n",
       " 'train_freq': (1, 'episode'),\n",
       " 'verbose': 1}"
      ]
     },
     "metadata": {},
     "execution_count": 10
    }
   ]
  },
  {
   "cell_type": "code",
   "source": [
    "learn_kwargs"
   ],
   "metadata": {
    "colab": {
     "base_uri": "https://localhost:8080/"
    },
    "id": "xpM5xG6Sdx2N",
    "outputId": "8a8f701e-1f67-4cec-f273-9c266ba5f580"
   },
   "execution_count": 11,
   "outputs": [
    {
     "output_type": "execute_result",
     "data": {
      "text/plain": [
       "{'callback': <Algorithms.learn.utils.callbacks.ReportCallbacks at 0x7fd52dac3090>,\n",
       " 'eval_env': <Env.env.BSMarket at 0x7fd453ad6810>,\n",
       " 'eval_freq': 30,\n",
       " 'eval_log_path': 'logs/tb_logs/ddpg_220523-0959_1',\n",
       " 'log_interval': 30,\n",
       " 'n_eval_episodes': 1,\n",
       " 'reset_num_timesteps': True,\n",
       " 'tb_log_name': 'ddpg_220523-0959',\n",
       " 'total_timesteps': 5000}"
      ]
     },
     "metadata": {},
     "execution_count": 11
    }
   ]
  },
  {
   "cell_type": "code",
   "source": [
    "# config.save_config('/content/Algorithms/learn/tmp_config.yaml', env_kwargs, model_kwargs, learn_kwargs)"
   ],
   "metadata": {
    "id": "MkBSQgdEKtRG"
   },
   "execution_count": null,
   "outputs": []
  },
  {
   "cell_type": "code",
   "source": [
    "# env_kwargs, model_kwargs, learn_kwargs = config.load_config('/content/Algorithms/learn/tmp_config.yaml')"
   ],
   "metadata": {
    "colab": {
     "base_uri": "https://localhost:8080/"
    },
    "id": "HlHDQyK9K8fB",
    "outputId": "84aedda3-08ef-4081-f37a-9bdd192768f0"
   },
   "execution_count": null,
   "outputs": [
    {
     "output_type": "stream",
     "name": "stdout",
     "text": [
      "env 'BSMarket was created!\n",
      "env 'BSMarket was created!\n"
     ]
    }
   ]
  },
  {
   "cell_type": "code",
   "source": [
    "model_kwargs.update({\n",
    "    'buffer_size': 100,\n",
    "    'learning_starts': 100,\n",
    "    'batch_size': 15,\n",
    "})\n",
    "\n",
    "learn_kwargs.update({\n",
    "    'total_timesteps': 1500\n",
    "})"
   ],
   "metadata": {
    "id": "p5ZXwo3VvDJ3"
   },
   "execution_count": 12,
   "outputs": []
  },
  {
   "cell_type": "code",
   "source": [
    "config.reconstruct_config(env_kwargs, model_kwargs, learn_kwargs)"
   ],
   "metadata": {
    "colab": {
     "base_uri": "https://localhost:8080/"
    },
    "id": "baDKPR2mv5tJ",
    "outputId": "2a80ff81-8a00-4d07-c18c-e89dbafeca4c"
   },
   "execution_count": 13,
   "outputs": [
    {
     "output_type": "stream",
     "name": "stdout",
     "text": [
      "env 'BSMarket was created!\n",
      "model_kwargs['env']: <BSMarket instance>\n",
      "env 'BSMarket was created!\n",
      "learn_kwargs['eval_env']: <BSMarket instance>\n",
      "learn_kwargs['tb_log_name']: ddpg_220525-0622\n",
      "learn_kwargs['eval_log_path']: logs/tb_logs/ddpg_220525-0622_1\n"
     ]
    }
   ]
  },
  {
   "cell_type": "markdown",
   "source": [
    "## 1.2 Construct env, model"
   ],
   "metadata": {
    "id": "_CesRCyQnsNi"
   }
  },
  {
   "cell_type": "code",
   "source": [
    "from Algorithms import DDPG\n",
    "\n",
    "model = DDPG(**model_kwargs)"
   ],
   "metadata": {
    "colab": {
     "base_uri": "https://localhost:8080/"
    },
    "id": "jUW6brePd0Ee",
    "outputId": "d2d8bb1e-efed-4dee-bbcf-40ba4805ad1e"
   },
   "execution_count": 14,
   "outputs": [
    {
     "output_type": "stream",
     "name": "stdout",
     "text": [
      "Using cuda device\n",
      "Wrapping the env with a `Monitor` wrapper\n",
      "Wrapping the env in a DummyVecEnv.\n"
     ]
    }
   ]
  },
  {
   "cell_type": "markdown",
   "source": [
    "## 1.3 Before Learning Plot"
   ],
   "metadata": {
    "id": "POXjJNZFnxuk"
   }
  },
  {
   "cell_type": "code",
   "source": [
    "env = model_kwargs['env']\n",
    "total_pnl = env.pnl_eval(model)"
   ],
   "metadata": {
    "id": "6GtNVeNXU6DK"
   },
   "execution_count": 15,
   "outputs": []
  },
  {
   "cell_type": "code",
   "source": [
    "plt.hist(total_pnl, bins=100, range=(-0.2, 0.2), alpha=0.6)\n",
    "plt.show()\n",
    "print(np.mean(total_pnl) - env_kwargs['cost'] * np.std(total_pnl))\n",
    "print()"
   ],
   "metadata": {
    "colab": {
     "base_uri": "https://localhost:8080/",
     "height": 420
    },
    "id": "P1f2ukn-n1qV",
    "outputId": "ca715503-3a4e-4c2b-b365-78b966dc3ebd"
   },
   "execution_count": 16,
   "outputs": [
    {
     "output_type": "display_data",
     "data": {
      "text/plain": [
       "<Figure size 1000x500 with 1 Axes>"
      ],
      "image/png": "[encoded data removed]"
     },
     "metadata": {}
    },
    {
     "output_type": "stream",
     "name": "stdout",
     "text": [
      "-0.029328340185614577\n",
      "\n"
     ]
    }
   ]
  },
  {
   "cell_type": "markdown",
   "source": [
    "# 2. Learning"
   ],
   "metadata": {
    "id": "FmVia8sCn6Vw"
   }
  },
  {
   "cell_type": "code",
   "source": [
    "model = model.learn(**learn_kwargs)"
   ],
   "metadata": {
    "colab": {
     "base_uri": "https://localhost:8080/"
    },
    "id": "VxmZhUd8n2Dc",
    "outputId": "2d7cd22c-469f-4083-fd71-78411aa7f133"
   },
   "execution_count": 17,
   "outputs": [
    {
     "output_type": "stream",
     "name": "stdout",
     "text": [
      "Wrapping the env with a `Monitor` wrapper\n",
      "Wrapping the env in a DummyVecEnv.\n",
      "Logging to logs/tb_logs/ddpg_220525-0622_1\n",
      "[Training Start]\n",
      "Eval num_timesteps=30, episode_reward=-0.68 +/- 0.00\n",
      "Episode length: 30.00 +/- 0.00\n",
      "---------------------------------\n",
      "| eval/              |          |\n",
      "|    mean_ep_length  | 30       |\n",
      "|    mean_reward     | -0.678   |\n",
      "| time/              |          |\n",
      "|    total_timesteps | 30       |\n",
      "---------------------------------\n",
      "New best mean reward!\n",
      "Eval num_timesteps=60, episode_reward=-0.68 +/- 0.00\n",
      "Episode length: 30.00 +/- 0.00\n",
      "---------------------------------\n",
      "| eval/              |          |\n",
      "|    mean_ep_length  | 30       |\n",
      "|    mean_reward     | -0.684   |\n",
      "| time/              |          |\n",
      "|    total_timesteps | 60       |\n",
      "---------------------------------\n",
      "Eval num_timesteps=90, episode_reward=-0.69 +/- 0.00\n",
      "Episode length: 30.00 +/- 0.00\n",
      "---------------------------------\n",
      "| eval/              |          |\n",
      "|    mean_ep_length  | 30       |\n",
      "|    mean_reward     | -0.685   |\n",
      "| time/              |          |\n",
      "|    total_timesteps | 90       |\n",
      "---------------------------------\n",
      "Eval num_timesteps=120, episode_reward=-0.68 +/- 0.00\n",
      "Episode length: 30.00 +/- 0.00\n",
      "---------------------------------\n",
      "| eval/              |          |\n",
      "|    mean_ep_length  | 30       |\n",
      "|    mean_reward     | -0.677   |\n",
      "| time/              |          |\n",
      "|    total_timesteps | 120      |\n",
      "---------------------------------\n",
      "New best mean reward!\n",
      "Eval num_timesteps=150, episode_reward=-0.75 +/- 0.00\n",
      "Episode length: 30.00 +/- 0.00\n",
      "---------------------------------\n",
      "| eval/              |          |\n",
      "|    mean_ep_length  | 30       |\n",
      "|    mean_reward     | -0.755   |\n",
      "| time/              |          |\n",
      "|    total_timesteps | 150      |\n",
      "| train/             |          |\n",
      "|    actor_loss      | 0.000341 |\n",
      "|    critic2_loss    | 0.734    |\n",
      "|    critic_loss     | 0.305    |\n",
      "|    learning_rate   | 0.00442  |\n",
      "|    n_updates       | 30       |\n",
      "---------------------------------\n",
      "Eval num_timesteps=180, episode_reward=-0.74 +/- 0.00\n",
      "Episode length: 30.00 +/- 0.00\n",
      "---------------------------------\n",
      "| eval/              |          |\n",
      "|    mean_ep_length  | 30       |\n",
      "|    mean_reward     | -0.743   |\n",
      "| time/              |          |\n",
      "|    total_timesteps | 180      |\n",
      "| train/             |          |\n",
      "|    actor_loss      | 0        |\n",
      "|    critic2_loss    | 3.22     |\n",
      "|    critic_loss     | 1.94     |\n",
      "|    learning_rate   | 0.00429  |\n",
      "|    n_updates       | 60       |\n",
      "---------------------------------\n",
      "Eval num_timesteps=210, episode_reward=-0.75 +/- 0.00\n",
      "Episode length: 30.00 +/- 0.00\n",
      "---------------------------------\n",
      "| eval/              |          |\n",
      "|    mean_ep_length  | 30       |\n",
      "|    mean_reward     | -0.753   |\n",
      "| time/              |          |\n",
      "|    total_timesteps | 210      |\n",
      "| train/             |          |\n",
      "|    actor_loss      | 0        |\n",
      "|    critic2_loss    | 2.08     |\n",
      "|    critic_loss     | 0.525    |\n",
      "|    learning_rate   | 0.00416  |\n",
      "|    n_updates       | 90       |\n",
      "---------------------------------\n",
      "Eval num_timesteps=240, episode_reward=-0.76 +/- 0.00\n",
      "Episode length: 30.00 +/- 0.00\n",
      "---------------------------------\n",
      "| eval/              |          |\n",
      "|    mean_ep_length  | 30       |\n",
      "|    mean_reward     | -0.756   |\n",
      "| time/              |          |\n",
      "|    total_timesteps | 240      |\n",
      "| train/             |          |\n",
      "|    actor_loss      | 0        |\n",
      "|    critic2_loss    | 0.861    |\n",
      "|    critic_loss     | 0.509    |\n",
      "|    learning_rate   | 0.00403  |\n",
      "|    n_updates       | 120      |\n",
      "---------------------------------\n",
      "Eval num_timesteps=270, episode_reward=-0.76 +/- 0.00\n",
      "Episode length: 30.00 +/- 0.00\n",
      "---------------------------------\n",
      "| eval/              |          |\n",
      "|    mean_ep_length  | 30       |\n",
      "|    mean_reward     | -0.762   |\n",
      "| time/              |          |\n",
      "|    total_timesteps | 270      |\n",
      "| train/             |          |\n",
      "|    actor_loss      | 0        |\n",
      "|    critic2_loss    | 1.22     |\n",
      "|    critic_loss     | 0.543    |\n",
      "|    learning_rate   | 0.00391  |\n",
      "|    n_updates       | 150      |\n",
      "---------------------------------\n",
      "Eval num_timesteps=300, episode_reward=-0.76 +/- 0.00\n",
      "Episode length: 30.00 +/- 0.00\n",
      "---------------------------------\n",
      "| eval/              |          |\n",
      "|    mean_ep_length  | 30       |\n",
      "|    mean_reward     | -0.756   |\n",
      "| time/              |          |\n",
      "|    total_timesteps | 300      |\n",
      "| train/             |          |\n",
      "|    actor_loss      | 0        |\n",
      "|    critic2_loss    | 1.17     |\n",
      "|    critic_loss     | 0.535    |\n",
      "|    learning_rate   | 0.00379  |\n",
      "|    n_updates       | 180      |\n",
      "---------------------------------\n",
      "Eval num_timesteps=330, episode_reward=-0.75 +/- 0.00\n",
      "Episode length: 30.00 +/- 0.00\n",
      "---------------------------------\n",
      "| eval/              |          |\n",
      "|    mean_ep_length  | 30       |\n",
      "|    mean_reward     | -0.755   |\n",
      "| time/              |          |\n",
      "|    total_timesteps | 330      |\n",
      "| train/             |          |\n",
      "|    actor_loss      | 0        |\n",
      "|    critic2_loss    | 0.997    |\n",
      "|    critic_loss     | 0.507    |\n",
      "|    learning_rate   | 0.00368  |\n",
      "|    n_updates       | 210      |\n",
      "---------------------------------\n",
      "Eval num_timesteps=360, episode_reward=-0.75 +/- 0.00\n",
      "Episode length: 30.00 +/- 0.00\n",
      "---------------------------------\n",
      "| eval/              |          |\n",
      "|    mean_ep_length  | 30       |\n",
      "|    mean_reward     | -0.754   |\n",
      "| time/              |          |\n",
      "|    total_timesteps | 360      |\n",
      "| train/             |          |\n",
      "|    actor_loss      | 0        |\n",
      "|    critic2_loss    | 0.743    |\n",
      "|    critic_loss     | 0.411    |\n",
      "|    learning_rate   | 0.00356  |\n",
      "|    n_updates       | 240      |\n",
      "---------------------------------\n",
      "Eval num_timesteps=390, episode_reward=-0.76 +/- 0.00\n",
      "Episode length: 30.00 +/- 0.00\n",
      "---------------------------------\n",
      "| eval/              |          |\n",
      "|    mean_ep_length  | 30       |\n",
      "|    mean_reward     | -0.761   |\n",
      "| time/              |          |\n",
      "|    total_timesteps | 390      |\n",
      "| train/             |          |\n",
      "|    actor_loss      | 0        |\n",
      "|    critic2_loss    | 0.897    |\n",
      "|    critic_loss     | 0.555    |\n",
      "|    learning_rate   | 0.00346  |\n",
      "|    n_updates       | 270      |\n",
      "---------------------------------\n",
      "Eval num_timesteps=420, episode_reward=-0.75 +/- 0.00\n",
      "Episode length: 30.00 +/- 0.00\n",
      "---------------------------------\n",
      "| eval/              |          |\n",
      "|    mean_ep_length  | 30       |\n",
      "|    mean_reward     | -0.75    |\n",
      "| time/              |          |\n",
      "|    total_timesteps | 420      |\n",
      "| train/             |          |\n",
      "|    actor_loss      | 0        |\n",
      "|    critic2_loss    | 1.29     |\n",
      "|    critic_loss     | 0.533    |\n",
      "|    learning_rate   | 0.00335  |\n",
      "|    n_updates       | 300      |\n",
      "---------------------------------\n",
      "Eval num_timesteps=450, episode_reward=-0.75 +/- 0.00\n",
      "Episode length: 30.00 +/- 0.00\n",
      "---------------------------------\n",
      "| eval/              |          |\n",
      "|    mean_ep_length  | 30       |\n",
      "|    mean_reward     | -0.754   |\n",
      "| time/              |          |\n",
      "|    total_timesteps | 450      |\n",
      "| train/             |          |\n",
      "|    actor_loss      | 0        |\n",
      "|    critic2_loss    | 0.585    |\n",
      "|    critic_loss     | 0.376    |\n",
      "|    learning_rate   | 0.00325  |\n",
      "|    n_updates       | 330      |\n",
      "---------------------------------\n",
      "Eval num_timesteps=480, episode_reward=-0.76 +/- 0.00\n",
      "Episode length: 30.00 +/- 0.00\n",
      "---------------------------------\n",
      "| eval/              |          |\n",
      "|    mean_ep_length  | 30       |\n",
      "|    mean_reward     | -0.758   |\n",
      "| time/              |          |\n",
      "|    total_timesteps | 480      |\n",
      "| train/             |          |\n",
      "|    actor_loss      | 0        |\n",
      "|    critic2_loss    | 0.868    |\n",
      "|    critic_loss     | 0.459    |\n",
      "|    learning_rate   | 0.00315  |\n",
      "|    n_updates       | 360      |\n",
      "---------------------------------\n",
      "Eval num_timesteps=510, episode_reward=-0.76 +/- 0.00\n",
      "Episode length: 30.00 +/- 0.00\n",
      "---------------------------------\n",
      "| eval/              |          |\n",
      "|    mean_ep_length  | 30       |\n",
      "|    mean_reward     | -0.756   |\n",
      "| time/              |          |\n",
      "|    total_timesteps | 510      |\n",
      "| train/             |          |\n",
      "|    actor_loss      | 0        |\n",
      "|    critic2_loss    | 0.667    |\n",
      "|    critic_loss     | 0.319    |\n",
      "|    learning_rate   | 0.00306  |\n",
      "|    n_updates       | 390      |\n",
      "---------------------------------\n",
      "Eval num_timesteps=540, episode_reward=-0.76 +/- 0.00\n",
      "Episode length: 30.00 +/- 0.00\n",
      "---------------------------------\n",
      "| eval/              |          |\n",
      "|    mean_ep_length  | 30       |\n",
      "|    mean_reward     | -0.757   |\n",
      "| time/              |          |\n",
      "|    total_timesteps | 540      |\n",
      "| train/             |          |\n",
      "|    actor_loss      | 0        |\n",
      "|    critic2_loss    | 0.584    |\n",
      "|    critic_loss     | 0.276    |\n",
      "|    learning_rate   | 0.00296  |\n",
      "|    n_updates       | 420      |\n",
      "---------------------------------\n",
      "Eval num_timesteps=570, episode_reward=-0.76 +/- 0.00\n",
      "Episode length: 30.00 +/- 0.00\n",
      "---------------------------------\n",
      "| eval/              |          |\n",
      "|    mean_ep_length  | 30       |\n",
      "|    mean_reward     | -0.756   |\n",
      "| time/              |          |\n",
      "|    total_timesteps | 570      |\n",
      "| train/             |          |\n",
      "|    actor_loss      | 0        |\n",
      "|    critic2_loss    | 0.763    |\n",
      "|    critic_loss     | 0.42     |\n",
      "|    learning_rate   | 0.00287  |\n",
      "|    n_updates       | 450      |\n",
      "---------------------------------\n",
      "Eval num_timesteps=600, episode_reward=-0.76 +/- 0.00\n",
      "Episode length: 30.00 +/- 0.00\n",
      "---------------------------------\n",
      "| eval/              |          |\n",
      "|    mean_ep_length  | 30       |\n",
      "|    mean_reward     | -0.758   |\n",
      "| time/              |          |\n",
      "|    total_timesteps | 600      |\n",
      "| train/             |          |\n",
      "|    actor_loss      | 0        |\n",
      "|    critic2_loss    | 0.557    |\n",
      "|    critic_loss     | 0.413    |\n",
      "|    learning_rate   | 0.00279  |\n",
      "|    n_updates       | 480      |\n",
      "---------------------------------\n",
      "Eval num_timesteps=630, episode_reward=-0.75 +/- 0.00\n",
      "Episode length: 30.00 +/- 0.00\n",
      "---------------------------------\n",
      "| eval/              |          |\n",
      "|    mean_ep_length  | 30       |\n",
      "|    mean_reward     | -0.752   |\n",
      "| time/              |          |\n",
      "|    total_timesteps | 630      |\n",
      "| train/             |          |\n",
      "|    actor_loss      | 0        |\n",
      "|    critic2_loss    | 0.489    |\n",
      "|    critic_loss     | 0.326    |\n",
      "|    learning_rate   | 0.0027   |\n",
      "|    n_updates       | 510      |\n",
      "---------------------------------\n",
      "Eval num_timesteps=660, episode_reward=-0.76 +/- 0.00\n",
      "Episode length: 30.00 +/- 0.00\n",
      "---------------------------------\n",
      "| eval/              |          |\n",
      "|    mean_ep_length  | 30       |\n",
      "|    mean_reward     | -0.759   |\n",
      "| time/              |          |\n",
      "|    total_timesteps | 660      |\n",
      "| train/             |          |\n",
      "|    actor_loss      | 0        |\n",
      "|    critic2_loss    | 0.546    |\n",
      "|    critic_loss     | 0.401    |\n",
      "|    learning_rate   | 0.00262  |\n",
      "|    n_updates       | 540      |\n",
      "---------------------------------\n",
      "Eval num_timesteps=690, episode_reward=-0.76 +/- 0.00\n",
      "Episode length: 30.00 +/- 0.00\n",
      "---------------------------------\n",
      "| eval/              |          |\n",
      "|    mean_ep_length  | 30       |\n",
      "|    mean_reward     | -0.757   |\n",
      "| time/              |          |\n",
      "|    total_timesteps | 690      |\n",
      "| train/             |          |\n",
      "|    actor_loss      | 0        |\n",
      "|    critic2_loss    | 0.27     |\n",
      "|    critic_loss     | 0.13     |\n",
      "|    learning_rate   | 0.00254  |\n",
      "|    n_updates       | 570      |\n",
      "---------------------------------\n",
      "Eval num_timesteps=720, episode_reward=-0.76 +/- 0.00\n",
      "Episode length: 30.00 +/- 0.00\n",
      "---------------------------------\n",
      "| eval/              |          |\n",
      "|    mean_ep_length  | 30       |\n",
      "|    mean_reward     | -0.755   |\n",
      "| time/              |          |\n",
      "|    total_timesteps | 720      |\n",
      "| train/             |          |\n",
      "|    actor_loss      | 0        |\n",
      "|    critic2_loss    | 0.547    |\n",
      "|    critic_loss     | 0.338    |\n",
      "|    learning_rate   | 0.00246  |\n",
      "|    n_updates       | 600      |\n",
      "---------------------------------\n",
      "Eval num_timesteps=750, episode_reward=-0.75 +/- 0.00\n",
      "Episode length: 30.00 +/- 0.00\n",
      "---------------------------------\n",
      "| eval/              |          |\n",
      "|    mean_ep_length  | 30       |\n",
      "|    mean_reward     | -0.746   |\n",
      "| time/              |          |\n",
      "|    total_timesteps | 750      |\n",
      "| train/             |          |\n",
      "|    actor_loss      | 0        |\n",
      "|    critic2_loss    | 0.609    |\n",
      "|    critic_loss     | 0.449    |\n",
      "|    learning_rate   | 0.00239  |\n",
      "|    n_updates       | 630      |\n",
      "---------------------------------\n",
      "Eval num_timesteps=780, episode_reward=-0.75 +/- 0.00\n",
      "Episode length: 30.00 +/- 0.00\n",
      "---------------------------------\n",
      "| eval/              |          |\n",
      "|    mean_ep_length  | 30       |\n",
      "|    mean_reward     | -0.754   |\n",
      "| time/              |          |\n",
      "|    total_timesteps | 780      |\n",
      "| train/             |          |\n",
      "|    actor_loss      | 0        |\n",
      "|    critic2_loss    | 0.302    |\n",
      "|    critic_loss     | 0.219    |\n",
      "|    learning_rate   | 0.00232  |\n",
      "|    n_updates       | 660      |\n",
      "---------------------------------\n",
      "Eval num_timesteps=810, episode_reward=-0.76 +/- 0.00\n",
      "Episode length: 30.00 +/- 0.00\n",
      "---------------------------------\n",
      "| eval/              |          |\n",
      "|    mean_ep_length  | 30       |\n",
      "|    mean_reward     | -0.756   |\n",
      "| time/              |          |\n",
      "|    total_timesteps | 810      |\n",
      "| train/             |          |\n",
      "|    actor_loss      | 0        |\n",
      "|    critic2_loss    | 0.41     |\n",
      "|    critic_loss     | 0.262    |\n",
      "|    learning_rate   | 0.00225  |\n",
      "|    n_updates       | 690      |\n",
      "---------------------------------\n",
      "Eval num_timesteps=840, episode_reward=-0.76 +/- 0.00\n",
      "Episode length: 30.00 +/- 0.00\n",
      "---------------------------------\n",
      "| eval/              |          |\n",
      "|    mean_ep_length  | 30       |\n",
      "|    mean_reward     | -0.762   |\n",
      "| time/              |          |\n",
      "|    total_timesteps | 840      |\n",
      "| train/             |          |\n",
      "|    actor_loss      | 0        |\n",
      "|    critic2_loss    | 0.248    |\n",
      "|    critic_loss     | 0.152    |\n",
      "|    learning_rate   | 0.00218  |\n",
      "|    n_updates       | 720      |\n",
      "---------------------------------\n",
      "Eval num_timesteps=870, episode_reward=-0.76 +/- 0.00\n",
      "Episode length: 30.00 +/- 0.00\n",
      "---------------------------------\n",
      "| eval/              |          |\n",
      "|    mean_ep_length  | 30       |\n",
      "|    mean_reward     | -0.761   |\n",
      "| time/              |          |\n",
      "|    total_timesteps | 870      |\n",
      "| train/             |          |\n",
      "|    actor_loss      | 0        |\n",
      "|    critic2_loss    | 0.224    |\n",
      "|    critic_loss     | 0.13     |\n",
      "|    learning_rate   | 0.00211  |\n",
      "|    n_updates       | 750      |\n",
      "---------------------------------\n",
      "Eval num_timesteps=900, episode_reward=-0.75 +/- 0.00\n",
      "Episode length: 30.00 +/- 0.00\n",
      "---------------------------------\n",
      "| eval/              |          |\n",
      "|    mean_ep_length  | 30       |\n",
      "|    mean_reward     | -0.749   |\n",
      "| time/              |          |\n",
      "|    total_timesteps | 900      |\n",
      "| train/             |          |\n",
      "|    actor_loss      | 0        |\n",
      "|    critic2_loss    | 0.296    |\n",
      "|    critic_loss     | 0.21     |\n",
      "|    learning_rate   | 0.00205  |\n",
      "|    n_updates       | 780      |\n",
      "---------------------------------\n",
      "---------------------------------\n",
      "| rollout/           |          |\n",
      "|    ep_len_mean     | 30       |\n",
      "|    ep_rew_mean     | -0.788   |\n",
      "| time/              |          |\n",
      "|    episodes        | 30       |\n",
      "|    fps             | 43       |\n",
      "|    time_elapsed    | 20       |\n",
      "|    total_timesteps | 900      |\n",
      "---------------------------------\n",
      "Eval num_timesteps=930, episode_reward=-0.76 +/- 0.00\n",
      "Episode length: 30.00 +/- 0.00\n",
      "---------------------------------\n",
      "| eval/              |          |\n",
      "|    mean_ep_length  | 30       |\n",
      "|    mean_reward     | -0.755   |\n",
      "| time/              |          |\n",
      "|    total_timesteps | 930      |\n",
      "| train/             |          |\n",
      "|    actor_loss      | 0        |\n",
      "|    critic2_loss    | 0.41     |\n",
      "|    critic_loss     | 0.296    |\n",
      "|    learning_rate   | 0.00199  |\n",
      "|    n_updates       | 810      |\n",
      "---------------------------------\n",
      "Eval num_timesteps=960, episode_reward=-0.75 +/- 0.00\n",
      "Episode length: 30.00 +/- 0.00\n",
      "---------------------------------\n",
      "| eval/              |          |\n",
      "|    mean_ep_length  | 30       |\n",
      "|    mean_reward     | -0.754   |\n",
      "| time/              |          |\n",
      "|    total_timesteps | 960      |\n",
      "| train/             |          |\n",
      "|    actor_loss      | 0        |\n",
      "|    critic2_loss    | 0.36     |\n",
      "|    critic_loss     | 0.278    |\n",
      "|    learning_rate   | 0.00193  |\n",
      "|    n_updates       | 840      |\n",
      "---------------------------------\n",
      "Eval num_timesteps=990, episode_reward=-0.75 +/- 0.00\n",
      "Episode length: 30.00 +/- 0.00\n",
      "---------------------------------\n",
      "| eval/              |          |\n",
      "|    mean_ep_length  | 30       |\n",
      "|    mean_reward     | -0.754   |\n",
      "| time/              |          |\n",
      "|    total_timesteps | 990      |\n",
      "| train/             |          |\n",
      "|    actor_loss      | 0        |\n",
      "|    critic2_loss    | 0.674    |\n",
      "|    critic_loss     | 0.554    |\n",
      "|    learning_rate   | 0.00187  |\n",
      "|    n_updates       | 870      |\n",
      "---------------------------------\n",
      "Eval num_timesteps=1020, episode_reward=-0.75 +/- 0.00\n",
      "Episode length: 30.00 +/- 0.00\n",
      "---------------------------------\n",
      "| eval/              |          |\n",
      "|    mean_ep_length  | 30       |\n",
      "|    mean_reward     | -0.746   |\n",
      "| time/              |          |\n",
      "|    total_timesteps | 1020     |\n",
      "| train/             |          |\n",
      "|    actor_loss      | 0        |\n",
      "|    critic2_loss    | 0.338    |\n",
      "|    critic_loss     | 0.267    |\n",
      "|    learning_rate   | 0.00181  |\n",
      "|    n_updates       | 900      |\n",
      "---------------------------------\n",
      "Eval num_timesteps=1050, episode_reward=-0.77 +/- 0.00\n",
      "Episode length: 30.00 +/- 0.00\n",
      "---------------------------------\n",
      "| eval/              |          |\n",
      "|    mean_ep_length  | 30       |\n",
      "|    mean_reward     | -0.765   |\n",
      "| time/              |          |\n",
      "|    total_timesteps | 1050     |\n",
      "| train/             |          |\n",
      "|    actor_loss      | 0        |\n",
      "|    critic2_loss    | 0.284    |\n",
      "|    critic_loss     | 0.218    |\n",
      "|    learning_rate   | 0.00176  |\n",
      "|    n_updates       | 930      |\n",
      "---------------------------------\n",
      "Eval num_timesteps=1080, episode_reward=-0.77 +/- 0.00\n",
      "Episode length: 30.00 +/- 0.00\n",
      "---------------------------------\n",
      "| eval/              |          |\n",
      "|    mean_ep_length  | 30       |\n",
      "|    mean_reward     | -0.767   |\n",
      "| time/              |          |\n",
      "|    total_timesteps | 1080     |\n",
      "| train/             |          |\n",
      "|    actor_loss      | 0        |\n",
      "|    critic2_loss    | 0.244    |\n",
      "|    critic_loss     | 0.18     |\n",
      "|    learning_rate   | 0.0017   |\n",
      "|    n_updates       | 960      |\n",
      "---------------------------------\n",
      "Eval num_timesteps=1110, episode_reward=-0.76 +/- 0.00\n",
      "Episode length: 30.00 +/- 0.00\n",
      "---------------------------------\n",
      "| eval/              |          |\n",
      "|    mean_ep_length  | 30       |\n",
      "|    mean_reward     | -0.763   |\n",
      "| time/              |          |\n",
      "|    total_timesteps | 1110     |\n",
      "| train/             |          |\n",
      "|    actor_loss      | 0        |\n",
      "|    critic2_loss    | 0.323    |\n",
      "|    critic_loss     | 0.251    |\n",
      "|    learning_rate   | 0.00165  |\n",
      "|    n_updates       | 990      |\n",
      "---------------------------------\n",
      "Eval num_timesteps=1140, episode_reward=-0.76 +/- 0.00\n",
      "Episode length: 30.00 +/- 0.00\n",
      "---------------------------------\n",
      "| eval/              |          |\n",
      "|    mean_ep_length  | 30       |\n",
      "|    mean_reward     | -0.759   |\n",
      "| time/              |          |\n",
      "|    total_timesteps | 1140     |\n",
      "| train/             |          |\n",
      "|    actor_loss      | 0        |\n",
      "|    critic2_loss    | 0.486    |\n",
      "|    critic_loss     | 0.35     |\n",
      "|    learning_rate   | 0.0016   |\n",
      "|    n_updates       | 1020     |\n",
      "---------------------------------\n",
      "Eval num_timesteps=1170, episode_reward=-0.77 +/- 0.00\n",
      "Episode length: 30.00 +/- 0.00\n",
      "---------------------------------\n",
      "| eval/              |          |\n",
      "|    mean_ep_length  | 30       |\n",
      "|    mean_reward     | -0.769   |\n",
      "| time/              |          |\n",
      "|    total_timesteps | 1170     |\n",
      "| train/             |          |\n",
      "|    actor_loss      | 0        |\n",
      "|    critic2_loss    | 0.312    |\n",
      "|    critic_loss     | 0.236    |\n",
      "|    learning_rate   | 0.00155  |\n",
      "|    n_updates       | 1050     |\n",
      "---------------------------------\n",
      "Eval num_timesteps=1200, episode_reward=-0.75 +/- 0.00\n",
      "Episode length: 30.00 +/- 0.00\n",
      "---------------------------------\n",
      "| eval/              |          |\n",
      "|    mean_ep_length  | 30       |\n",
      "|    mean_reward     | -0.749   |\n",
      "| time/              |          |\n",
      "|    total_timesteps | 1200     |\n",
      "| train/             |          |\n",
      "|    actor_loss      | 0        |\n",
      "|    critic2_loss    | 0.206    |\n",
      "|    critic_loss     | 0.152    |\n",
      "|    learning_rate   | 0.00151  |\n",
      "|    n_updates       | 1080     |\n",
      "---------------------------------\n",
      "Eval num_timesteps=1230, episode_reward=-0.76 +/- 0.00\n",
      "Episode length: 30.00 +/- 0.00\n",
      "---------------------------------\n",
      "| eval/              |          |\n",
      "|    mean_ep_length  | 30       |\n",
      "|    mean_reward     | -0.757   |\n",
      "| time/              |          |\n",
      "|    total_timesteps | 1230     |\n",
      "| train/             |          |\n",
      "|    actor_loss      | 0        |\n",
      "|    critic2_loss    | 0.226    |\n",
      "|    critic_loss     | 0.191    |\n",
      "|    learning_rate   | 0.00146  |\n",
      "|    n_updates       | 1110     |\n",
      "---------------------------------\n",
      "Eval num_timesteps=1260, episode_reward=-0.76 +/- 0.00\n",
      "Episode length: 30.00 +/- 0.00\n",
      "---------------------------------\n",
      "| eval/              |          |\n",
      "|    mean_ep_length  | 30       |\n",
      "|    mean_reward     | -0.757   |\n",
      "| time/              |          |\n",
      "|    total_timesteps | 1260     |\n",
      "| train/             |          |\n",
      "|    actor_loss      | 0        |\n",
      "|    critic2_loss    | 0.308    |\n",
      "|    critic_loss     | 0.225    |\n",
      "|    learning_rate   | 0.00142  |\n",
      "|    n_updates       | 1140     |\n",
      "---------------------------------\n",
      "Eval num_timesteps=1290, episode_reward=-0.75 +/- 0.00\n",
      "Episode length: 30.00 +/- 0.00\n",
      "---------------------------------\n",
      "| eval/              |          |\n",
      "|    mean_ep_length  | 30       |\n",
      "|    mean_reward     | -0.754   |\n",
      "| time/              |          |\n",
      "|    total_timesteps | 1290     |\n",
      "| train/             |          |\n",
      "|    actor_loss      | 0        |\n",
      "|    critic2_loss    | 0.478    |\n",
      "|    critic_loss     | 0.324    |\n",
      "|    learning_rate   | 0.00137  |\n",
      "|    n_updates       | 1170     |\n",
      "---------------------------------\n",
      "Eval num_timesteps=1320, episode_reward=-0.76 +/- 0.00\n",
      "Episode length: 30.00 +/- 0.00\n",
      "---------------------------------\n",
      "| eval/              |          |\n",
      "|    mean_ep_length  | 30       |\n",
      "|    mean_reward     | -0.76    |\n",
      "| time/              |          |\n",
      "|    total_timesteps | 1320     |\n",
      "| train/             |          |\n",
      "|    actor_loss      | 0        |\n",
      "|    critic2_loss    | 0.415    |\n",
      "|    critic_loss     | 0.341    |\n",
      "|    learning_rate   | 0.00133  |\n",
      "|    n_updates       | 1200     |\n",
      "---------------------------------\n",
      "Eval num_timesteps=1350, episode_reward=-0.76 +/- 0.00\n",
      "Episode length: 30.00 +/- 0.00\n",
      "---------------------------------\n",
      "| eval/              |          |\n",
      "|    mean_ep_length  | 30       |\n",
      "|    mean_reward     | -0.763   |\n",
      "| time/              |          |\n",
      "|    total_timesteps | 1350     |\n",
      "| train/             |          |\n",
      "|    actor_loss      | 0        |\n",
      "|    critic2_loss    | 0.517    |\n",
      "|    critic_loss     | 0.479    |\n",
      "|    learning_rate   | 0.00129  |\n",
      "|    n_updates       | 1230     |\n",
      "---------------------------------\n",
      "Eval num_timesteps=1380, episode_reward=-0.76 +/- 0.00\n",
      "Episode length: 30.00 +/- 0.00\n",
      "---------------------------------\n",
      "| eval/              |          |\n",
      "|    mean_ep_length  | 30       |\n",
      "|    mean_reward     | -0.758   |\n",
      "| time/              |          |\n",
      "|    total_timesteps | 1380     |\n",
      "| train/             |          |\n",
      "|    actor_loss      | 0        |\n",
      "|    critic2_loss    | 0.2      |\n",
      "|    critic_loss     | 0.215    |\n",
      "|    learning_rate   | 0.00125  |\n",
      "|    n_updates       | 1260     |\n",
      "---------------------------------\n",
      "Eval num_timesteps=1410, episode_reward=-0.76 +/- 0.00\n",
      "Episode length: 30.00 +/- 0.00\n",
      "---------------------------------\n",
      "| eval/              |          |\n",
      "|    mean_ep_length  | 30       |\n",
      "|    mean_reward     | -0.765   |\n",
      "| time/              |          |\n",
      "|    total_timesteps | 1410     |\n",
      "| train/             |          |\n",
      "|    actor_loss      | 0        |\n",
      "|    critic2_loss    | 0.297    |\n",
      "|    critic_loss     | 0.307    |\n",
      "|    learning_rate   | 0.00121  |\n",
      "|    n_updates       | 1290     |\n",
      "---------------------------------\n",
      "Eval num_timesteps=1440, episode_reward=-0.76 +/- 0.00\n",
      "Episode length: 30.00 +/- 0.00\n",
      "---------------------------------\n",
      "| eval/              |          |\n",
      "|    mean_ep_length  | 30       |\n",
      "|    mean_reward     | -0.757   |\n",
      "| time/              |          |\n",
      "|    total_timesteps | 1440     |\n",
      "| train/             |          |\n",
      "|    actor_loss      | 0        |\n",
      "|    critic2_loss    | 0.352    |\n",
      "|    critic_loss     | 0.338    |\n",
      "|    learning_rate   | 0.00118  |\n",
      "|    n_updates       | 1320     |\n",
      "---------------------------------\n",
      "Eval num_timesteps=1470, episode_reward=-0.76 +/- 0.00\n",
      "Episode length: 30.00 +/- 0.00\n",
      "---------------------------------\n",
      "| eval/              |          |\n",
      "|    mean_ep_length  | 30       |\n",
      "|    mean_reward     | -0.763   |\n",
      "| time/              |          |\n",
      "|    total_timesteps | 1470     |\n",
      "| train/             |          |\n",
      "|    actor_loss      | 0        |\n",
      "|    critic2_loss    | 0.36     |\n",
      "|    critic_loss     | 0.273    |\n",
      "|    learning_rate   | 0.00114  |\n",
      "|    n_updates       | 1350     |\n",
      "---------------------------------\n",
      "Eval num_timesteps=1500, episode_reward=-0.76 +/- 0.00\n",
      "Episode length: 30.00 +/- 0.00\n",
      "---------------------------------\n",
      "| eval/              |          |\n",
      "|    mean_ep_length  | 30       |\n",
      "|    mean_reward     | -0.757   |\n",
      "| time/              |          |\n",
      "|    total_timesteps | 1500     |\n",
      "| train/             |          |\n",
      "|    actor_loss      | 0        |\n",
      "|    critic2_loss    | 0.245    |\n",
      "|    critic_loss     | 0.252    |\n",
      "|    learning_rate   | 0.00111  |\n",
      "|    n_updates       | 1380     |\n",
      "---------------------------------\n",
      "[Training End]  steps: 1500\ttimes: 30.484084367752075\n"
     ]
    }
   ]
  },
  {
   "cell_type": "code",
   "source": [
    "config_path = learn_kwargs['eval_log_path'] + '/config.yaml'\n",
    "config.save_config(config_path, env_kwargs, model_kwargs, learn_kwargs)"
   ],
   "metadata": {
    "colab": {
     "base_uri": "https://localhost:8080/"
    },
    "id": "fWhIRgfMpVh2",
    "outputId": "646fb39e-3e16-4ef6-b966-79a2e1c3b9f4"
   },
   "execution_count": null,
   "outputs": [
    {
     "output_type": "stream",
     "name": "stdout",
     "text": [
      "logs/tb_logs/ddpg_220523-0959_1/config.yaml was saved.\n"
     ]
    }
   ]
  },
  {
   "cell_type": "code",
   "source": [
    "total_pnl_after = env.pnl_eval(model)"
   ],
   "metadata": {
    "id": "-PrG-QSEn8bP"
   },
   "execution_count": 18,
   "outputs": []
  },
  {
   "cell_type": "code",
   "source": [
    "plt.hist(total_pnl, bins=100, range=(-0.2, 0.2), alpha=0.6, label='before train')\n",
    "plt.hist(total_pnl_after, bins=100, range=(-0.2, 0.2), alpha=0.6, label='after train')\n",
    "plt.legend()\n",
    "plt.show()\n",
    "\n",
    "before = np.mean(total_pnl) - env_kwargs['cost'] * np.std(total_pnl)\n",
    "after = np.mean(total_pnl_after) - env_kwargs['cost'] * np.std(total_pnl_after)\n",
    "print(f\"before: {before:.4f}\")\n",
    "print(f\"after: {after:.4f}\")\n",
    "print(f'enhanced: {(after - before)/abs(after)*100 :.3f}%')"
   ],
   "metadata": {
    "colab": {
     "base_uri": "https://localhost:8080/",
     "height": 439
    },
    "id": "tqD1WMyDpA-Z",
    "outputId": "9a2adfc5-329c-43de-eb30-00cb855641eb"
   },
   "execution_count": 19,
   "outputs": [
    {
     "output_type": "display_data",
     "data": {
      "text/plain": [
       "<Figure size 1000x500 with 1 Axes>"
      ],
      "image/png": "[encoded data removed]"
     },
     "metadata": {}
    },
    {
     "output_type": "stream",
     "name": "stdout",
     "text": [
      "before: -0.0293\n",
      "after: -0.0287\n",
      "enhanced: 2.234%\n"
     ]
    }
   ]
  },
  {
   "cell_type": "code",
   "source": [
    " np.mean(total_pnl), env_kwargs['cost'] * np.std(total_pnl)"
   ],
   "metadata": {
    "colab": {
     "base_uri": "https://localhost:8080/"
    },
    "id": "cVkh-0iei8rF",
    "outputId": "97e4b463-a88f-4f54-ab2d-7adf2381d134"
   },
   "execution_count": null,
   "outputs": [
    {
     "output_type": "execute_result",
     "data": {
      "text/plain": [
       "(-0.02783777303378837, 0.0014905671518262048)"
      ]
     },
     "metadata": {},
     "execution_count": 15
    }
   ]
  },
  {
   "cell_type": "code",
   "source": [
    "np.mean(total_pnl_after), env_kwargs['cost'] * np.std(total_pnl_after)"
   ],
   "metadata": {
    "colab": {
     "base_uri": "https://localhost:8080/"
    },
    "id": "Pp9r_gWIi6oX",
    "outputId": "b20fd59d-74c3-4728-c6a7-893a0bd8c0c5"
   },
   "execution_count": null,
   "outputs": [
    {
     "output_type": "execute_result",
     "data": {
      "text/plain": [
       "(-0.02785680034586587, 0.0014762725800121443)"
      ]
     },
     "metadata": {},
     "execution_count": 16
    }
   ]
  },
  {
   "cell_type": "code",
   "source": [
    "! zip -r ddpg_220525-0622_1 /content/logs/tb_logs/ddpg_220525-0622_1/"
   ],
   "metadata": {
    "colab": {
     "base_uri": "https://localhost:8080/"
    },
    "id": "hYnfcte3Qv0P",
    "outputId": "f110aa37-1830-4c3f-8af4-5d2a7f3a245c"
   },
   "execution_count": 20,
   "outputs": [
    {
     "output_type": "stream",
     "name": "stdout",
     "text": [
      "  adding: content/logs/tb_logs/ddpg_220525-0622_1/ (stored 0%)\n",
      "  adding: content/logs/tb_logs/ddpg_220525-0622_1/events.out.tfevents.1653459773.0960933f8871.320.0 (deflated 73%)\n",
      "  adding: content/logs/tb_logs/ddpg_220525-0622_1/.ipynb_checkpoints/ (stored 0%)\n",
      "  adding: content/logs/tb_logs/ddpg_220525-0622_1/evaluations.npz (deflated 61%)\n"
     ]
    }
   ]
  },
  {
   "cell_type": "code",
   "source": [
    ""
   ],
   "metadata": {
    "id": "P3bcdJouqZJ-"
   },
   "execution_count": null,
   "outputs": []
  }
 ]
}