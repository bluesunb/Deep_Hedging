{
 "cells": [
  {
   "cell_type": "code",
   "execution_count": 1,
   "outputs": [],
   "source": [
    "import torch as th\n",
    "import torch.nn as nn\n",
    "import matplotlib.pyplot as plt\n",
    "\n",
    "from pprint import pprint\n",
    "from Algorithms.ddpg import config"
   ],
   "metadata": {
    "collapsed": false,
    "pycharm": {
     "name": "#%%\n"
    }
   }
  },
  {
   "cell_type": "markdown",
   "source": [
    "# 0. Plot Setting"
   ],
   "metadata": {
    "collapsed": false
   }
  },
  {
   "cell_type": "code",
   "execution_count": 2,
   "metadata": {
    "collapsed": true
   },
   "outputs": [],
   "source": [
    "import seaborn as sb\n",
    "import matplotlib\n",
    "\n",
    "sb.set_style('whitegrid')\n",
    "\n",
    "FONTSIZE = 10\n",
    "matplotlib.rcParams[\"figure.figsize\"] = (10, 5)\n",
    "matplotlib.rcParams[\"figure.dpi\"] = 100\n",
    "matplotlib.rcParams[\"figure.titlesize\"] = FONTSIZE\n",
    "matplotlib.rcParams[\"legend.fontsize\"] = FONTSIZE\n",
    "matplotlib.rcParams[\"xtick.labelsize\"] = FONTSIZE\n",
    "matplotlib.rcParams[\"ytick.labelsize\"] = FONTSIZE\n",
    "matplotlib.rcParams[\"axes.labelsize\"] = FONTSIZE\n",
    "matplotlib.rcParams[\"axes.titlesize\"] = FONTSIZE\n",
    "matplotlib.rcParams[\"savefig.bbox\"] = \"tight\"\n",
    "matplotlib.rcParams[\"savefig.pad_inches\"] = 0.1\n",
    "matplotlib.rcParams[\"lines.linewidth\"] = 2\n",
    "matplotlib.rcParams[\"axes.linewidth\"] = 1.6"
   ]
  },
  {
   "cell_type": "markdown",
   "source": [
    "# 1. Model Setting"
   ],
   "metadata": {
    "collapsed": false
   }
  },
  {
   "cell_type": "markdown",
   "source": [
    "## 1.1 Load Config"
   ],
   "metadata": {
    "collapsed": false
   }
  },
  {
   "cell_type": "code",
   "execution_count": 3,
   "outputs": [
    {
     "name": "stdout",
     "output_type": "stream",
     "text": [
      "env 'BSMarket was created!\n",
      "env 'BSMarket was created!\n"
     ]
    }
   ],
   "source": [
    "env_kwargs, model_kwargs, learn_kwargs = config.load_config('tmp_config_one.yaml')"
   ],
   "metadata": {
    "collapsed": false,
    "pycharm": {
     "name": "#%%\n"
    }
   }
  },
  {
   "cell_type": "code",
   "execution_count": 4,
   "outputs": [],
   "source": [
    "ntb_mode = True\n",
    "double_ddpg = True\n",
    "\n",
    "env_kwargs.update({\n",
    "    'n_assets': 1,\n",
    "    'reward_fn': 'mean var',\n",
    "    'reward_fn_kwargs': {},\n",
    "    'reward_mode': 'pnl'\n",
    "})\n",
    "\n",
    "model_kwargs.update({\n",
    "    # 'buffer_size': 100*10,\n",
    "    'buffer_size': 5000,\n",
    "    # 'learning_starts': 500,\n",
    "    'learning_starts': 1000,\n",
    "    # 'batch_size': 10,\n",
    "    # 'batch_size': 15,\n",
    "    'batch_size': 1000,\n",
    "    'train_freq': (33, 'episode'),\n",
    "    'std_coeff': 0.01,\n",
    "    'gradient_steps': 30,\n",
    "    'verbose': 0,\n",
    "})\n",
    "\n",
    "model_kwargs['policy_kwargs'].update({\n",
    "    'ntb_mode': ntb_mode,\n",
    "    'double_ddpg': double_ddpg,\n",
    "})\n",
    "\n",
    "learn_kwargs.update({\n",
    "    'total_timesteps': 300*250,\n",
    "    'eval_freq': 300,\n",
    "})\n",
    "\n",
    "# del model_kwargs['std_coeff']\n",
    "\n",
    "model_kwargs['policy_kwargs']['one_asset'] = True\n",
    "if model_kwargs['policy_kwargs']['one_asset']:\n",
    "    model_kwargs['replay_buffer_class'] = None\n",
    "    model_kwargs['replay_buffer_kwargs'] = None\n",
    "    model_kwargs['policy_kwargs']['features_extractor_kwargs'].update({\n",
    "        'flat_obs': True\n",
    "    })\n",
    "\n",
    "if ntb_mode:\n",
    "    features_out = 64\n",
    "    model_kwargs['policy_kwargs']['features_extractor_kwargs'].update({\n",
    "        'features_out': features_out,\n",
    "        'net_arch': [32]\n",
    "    })\n",
    "\n",
    "    actor_net_kwargs = {'bn_kwargs': {'num_features': features_out}}\n",
    "    critic_net_kwargs = {'bn_kwargs': {'num_features': features_out+1}}\n",
    "    # critic_net_kwargs = {'bn_kwargs': {'num_features': features_out}}\n",
    "\n",
    "    model_kwargs['policy_kwargs'].update({\n",
    "        'net_arch': {'pi': [(nn.BatchNorm1d, 'bn'), 32, 32],\n",
    "                     'qf': [(nn.BatchNorm1d, 'bn'), 2]},\n",
    "        'actor_net_kwargs': actor_net_kwargs,\n",
    "        'critic_net_kwargs': critic_net_kwargs,\n",
    "    })\n",
    "\n",
    "else:\n",
    "    features_out = 64\n",
    "    model_kwargs['policy_kwargs']['features_extractor_kwargs'].update({\n",
    "        'features_out': features_out,\n",
    "        'net_arch': [32]\n",
    "    })\n",
    "\n",
    "    actor_net_kwargs = {'bn_kwargs': {'num_features': features_out}}\n",
    "    critic_net_kwargs = {'bn_kwargs': {'num_features': features_out+1}}\n",
    "    # critic_net_kwargs = {'bn_kwargs': {'num_features': features_out}}\n",
    "\n",
    "    model_kwargs['policy_kwargs'].update({\n",
    "        'net_arch': {'pi': [(nn.BatchNorm1d, 'bn'), 64, 32],\n",
    "                     'qf': [(nn.BatchNorm1d, 'bn'), 32,]},\n",
    "        'actor_net_kwargs': actor_net_kwargs,\n",
    "        'critic_net_kwargs': critic_net_kwargs,\n",
    "    })\n",
    "    # model_kwargs['policy_kwargs'].update({\n",
    "    #     'net_arch': [],\n",
    "    # })\n",
    "    #\n",
    "    # model_kwargs['policy_kwargs']['features_extractor_kwargs'].update({\n",
    "    #     'features_out': 2,\n",
    "    #     'net_arch': [32, 64]\n",
    "    # })"
   ],
   "metadata": {
    "collapsed": false,
    "pycharm": {
     "name": "#%%\n"
    }
   }
  },
  {
   "cell_type": "code",
   "execution_count": 5,
   "outputs": [
    {
     "name": "stdout",
     "output_type": "stream",
     "text": [
      "env 'BSMarket was created!\n",
      "model_kwargs['env']: <BSMarket instance>\n",
      "env 'BSMarket was created!\n",
      "learn_kwargs['eval_env']: <BSMarketEval instance>\n",
      "learn_kwargs['tb_log_name']: ddpg_220616-2131\n",
      "learn_kwargs['eval_log_path']: ../logs/tb_logs/ddpg_220616-2131_1\n"
     ]
    }
   ],
   "source": [
    "config.reconstruct_config(env_kwargs, model_kwargs, learn_kwargs)"
   ],
   "metadata": {
    "collapsed": false,
    "pycharm": {
     "name": "#%%\n"
    }
   }
  },
  {
   "cell_type": "code",
   "execution_count": 6,
   "outputs": [
    {
     "name": "stdout",
     "output_type": "stream",
     "text": [
      "{'cost': 0.02,\n",
      " 'dividend': 0.0,\n",
      " 'drift': 0.0,\n",
      " 'freq': 1,\n",
      " 'gen_name': 'gbm',\n",
      " 'init_price': 1.0,\n",
      " 'maturity': 30,\n",
      " 'n_assets': 1,\n",
      " 'payoff': 'european',\n",
      " 'payoff_coeff': 1.0,\n",
      " 'period_unit': 365,\n",
      " 'reward_fn': 'mean var',\n",
      " 'reward_fn_kwargs': {},\n",
      " 'reward_mode': 'pnl',\n",
      " 'risk_free_interest': 0.0,\n",
      " 'strike': 1.0,\n",
      " 'volatility': 0.2}\n"
     ]
    }
   ],
   "source": [
    "pprint(env_kwargs)"
   ],
   "metadata": {
    "collapsed": false,
    "pycharm": {
     "name": "#%%\n"
    }
   }
  },
  {
   "cell_type": "code",
   "execution_count": 7,
   "outputs": [
    {
     "name": "stdout",
     "output_type": "stream",
     "text": [
      "{'action_noise': NormalActionNoise(mu=0.0, sigma=0.08),\n",
      " 'batch_size': 1000,\n",
      " 'buffer_size': 5000,\n",
      " 'create_eval_env': False,\n",
      " 'device': 'auto',\n",
      " 'env': <Env.env.BSMarket object at 0x00000201BE7DE520>,\n",
      " 'gamma': 0.99,\n",
      " 'gradient_steps': 30,\n",
      " 'learning_rate': <function lr_schedule at 0x00000201BE7AFE50>,\n",
      " 'learning_starts': 1000,\n",
      " 'optimize_memory_usage': False,\n",
      " 'policy': <class 'Algorithms.ddpg.policies.DoubleDDPGPolicy'>,\n",
      " 'policy_kwargs': {'activation_fn': <class 'torch.nn.modules.activation.ReLU'>,\n",
      "                   'actor_net_kwargs': {'bn_kwargs': {'num_features': 64}},\n",
      "                   'critic_net_kwargs': {'bn_kwargs': {'num_features': 65}},\n",
      "                   'double_ddpg': True,\n",
      "                   'features_extractor_class': <class 'Env.feature_extractor.MarketObsExtractor'>,\n",
      "                   'features_extractor_kwargs': {'activation_fn': <class 'torch.nn.modules.activation.ReLU'>,\n",
      "                                                 'features_in': 4,\n",
      "                                                 'features_out': 64,\n",
      "                                                 'flat_obs': True,\n",
      "                                                 'last_activation_fn': <class 'torch.nn.modules.activation.ReLU'>,\n",
      "                                                 'net_arch': [32]},\n",
      "                   'n_critics': 1,\n",
      "                   'net_arch': {'pi': [(<class 'torch.nn.modules.batchnorm.BatchNorm1d'>,\n",
      "                                        'bn'),\n",
      "                                       32,\n",
      "                                       32],\n",
      "                                'qf': [(<class 'torch.nn.modules.batchnorm.BatchNorm1d'>,\n",
      "                                        'bn'),\n",
      "                                       2]},\n",
      "                   'normalize_images': False,\n",
      "                   'ntb_mode': True,\n",
      "                   'one_asset': True,\n",
      "                   'optimizer_class': <class 'torch.optim.adam.Adam'>,\n",
      "                   'optimizer_kwargs': None,\n",
      "                   'share_features_extractor': True},\n",
      " 'replay_buffer_class': None,\n",
      " 'replay_buffer_kwargs': None,\n",
      " 'seed': 42,\n",
      " 'std_coeff': 0.01,\n",
      " 'tau': 0.005,\n",
      " 'tensorboard_log': '../logs/tb_logs',\n",
      " 'train_freq': (33, 'episode'),\n",
      " 'verbose': 0}\n"
     ]
    }
   ],
   "source": [
    "pprint(model_kwargs)"
   ],
   "metadata": {
    "collapsed": false,
    "pycharm": {
     "name": "#%%\n"
    }
   }
  },
  {
   "cell_type": "code",
   "execution_count": 8,
   "outputs": [
    {
     "name": "stdout",
     "output_type": "stream",
     "text": [
      "{'callback': <Algorithms.ddpg.callbacks.ReportCallbacks object at 0x00000201BE7DE0D0>,\n",
      " 'eval_env': <Env.env.BSMarketEval object at 0x00000201BE7DE610>,\n",
      " 'eval_freq': 300,\n",
      " 'eval_log_path': '../logs/tb_logs/ddpg_220616-2131_1',\n",
      " 'log_interval': 30,\n",
      " 'n_eval_episodes': 1,\n",
      " 'reset_num_timesteps': True,\n",
      " 'tb_log_name': 'ddpg_220616-2131',\n",
      " 'total_timesteps': 75000}\n"
     ]
    }
   ],
   "source": [
    "pprint(learn_kwargs)"
   ],
   "metadata": {
    "collapsed": false,
    "pycharm": {
     "name": "#%%\n"
    }
   }
  },
  {
   "cell_type": "code",
   "execution_count": 9,
   "outputs": [
    {
     "name": "stdout",
     "output_type": "stream",
     "text": [
      "1\n",
      "pnl\n",
      "<function mean_variance_reward at 0x00000201A6735C10>\n"
     ]
    }
   ],
   "source": [
    "print(learn_kwargs['eval_env'].n_assets)\n",
    "print(learn_kwargs['eval_env'].reward_mode)\n",
    "print(learn_kwargs['eval_env'].reward_fn)"
   ],
   "metadata": {
    "collapsed": false,
    "pycharm": {
     "name": "#%%\n"
    }
   }
  },
  {
   "cell_type": "markdown",
   "source": [
    "## 1.2 Make env, model"
   ],
   "metadata": {
    "collapsed": false
   }
  },
  {
   "cell_type": "code",
   "execution_count": 10,
   "outputs": [],
   "source": [
    "from Algorithms.ddpg import DoubleDDPG\n",
    "from Algorithms.ddpg.double_ddpg import QDDPG\n",
    "from stable_baselines3.ddpg import DDPG\n",
    "# from Algorithms.ddpg.double_ddpg import DDPG\n",
    "\n",
    "# model = DDPG(**model_kwargs)\n",
    "model = QDDPG(**model_kwargs)\n",
    "# model = DoubleDDPG(**model_kwargs)"
   ],
   "metadata": {
    "collapsed": false,
    "pycharm": {
     "name": "#%%\n"
    }
   }
  },
  {
   "cell_type": "code",
   "execution_count": 11,
   "outputs": [
    {
     "data": {
      "text/plain": "DoubleDDPGPolicy(\n  (actor): FlattenActor(\n    (features_extractor): MarketObsExtractor(\n      (layers): Sequential(\n        (0): BatchNorm1d(4, eps=1e-05, momentum=0.1, affine=True, track_running_stats=True)\n        (1): Linear(in_features=4, out_features=32, bias=True)\n        (2): ReLU()\n        (3): BatchNorm1d(32, eps=1e-05, momentum=0.1, affine=True, track_running_stats=True)\n        (4): Linear(in_features=32, out_features=64, bias=True)\n        (5): ReLU()\n      )\n    )\n    (mu): Sequential(\n      (0): BatchNorm1d(64, eps=1e-05, momentum=0.1, affine=True, track_running_stats=True)\n      (1): Linear(in_features=64, out_features=32, bias=True)\n      (2): ReLU()\n      (3): Linear(in_features=32, out_features=32, bias=True)\n      (4): ReLU()\n      (5): Linear(in_features=32, out_features=2, bias=True)\n      (6): Tanh()\n    )\n  )\n  (actor_target): FlattenActor(\n    (features_extractor): MarketObsExtractor(\n      (layers): Sequential(\n        (0): BatchNorm1d(4, eps=1e-05, momentum=0.1, affine=True, track_running_stats=True)\n        (1): Linear(in_features=4, out_features=32, bias=True)\n        (2): ReLU()\n        (3): BatchNorm1d(32, eps=1e-05, momentum=0.1, affine=True, track_running_stats=True)\n        (4): Linear(in_features=32, out_features=64, bias=True)\n        (5): ReLU()\n      )\n    )\n    (mu): Sequential(\n      (0): BatchNorm1d(64, eps=1e-05, momentum=0.1, affine=True, track_running_stats=True)\n      (1): Linear(in_features=64, out_features=32, bias=True)\n      (2): ReLU()\n      (3): Linear(in_features=32, out_features=32, bias=True)\n      (4): ReLU()\n      (5): Linear(in_features=32, out_features=2, bias=True)\n      (6): Tanh()\n    )\n  )\n  (critic): FlattenCritic(\n    (features_extractor): MarketObsExtractor(\n      (layers): Sequential(\n        (0): BatchNorm1d(4, eps=1e-05, momentum=0.1, affine=True, track_running_stats=True)\n        (1): Linear(in_features=4, out_features=32, bias=True)\n        (2): ReLU()\n        (3): BatchNorm1d(32, eps=1e-05, momentum=0.1, affine=True, track_running_stats=True)\n        (4): Linear(in_features=32, out_features=64, bias=True)\n        (5): ReLU()\n      )\n    )\n    (qf0): Sequential(\n      (0): BatchNorm1d(65, eps=1e-05, momentum=0.1, affine=True, track_running_stats=True)\n      (1): Linear(in_features=65, out_features=2, bias=True)\n      (2): ReLU()\n      (3): Linear(in_features=2, out_features=1, bias=True)\n    )\n  )\n  (critic_target): FlattenCritic(\n    (features_extractor): MarketObsExtractor(\n      (layers): Sequential(\n        (0): BatchNorm1d(4, eps=1e-05, momentum=0.1, affine=True, track_running_stats=True)\n        (1): Linear(in_features=4, out_features=32, bias=True)\n        (2): ReLU()\n        (3): BatchNorm1d(32, eps=1e-05, momentum=0.1, affine=True, track_running_stats=True)\n        (4): Linear(in_features=32, out_features=64, bias=True)\n        (5): ReLU()\n      )\n    )\n    (qf0): Sequential(\n      (0): BatchNorm1d(65, eps=1e-05, momentum=0.1, affine=True, track_running_stats=True)\n      (1): Linear(in_features=65, out_features=2, bias=True)\n      (2): ReLU()\n      (3): Linear(in_features=2, out_features=1, bias=True)\n    )\n  )\n  (critic2): FlattenCritic(\n    (features_extractor): MarketObsExtractor(\n      (layers): Sequential(\n        (0): BatchNorm1d(4, eps=1e-05, momentum=0.1, affine=True, track_running_stats=True)\n        (1): Linear(in_features=4, out_features=32, bias=True)\n        (2): ReLU()\n        (3): BatchNorm1d(32, eps=1e-05, momentum=0.1, affine=True, track_running_stats=True)\n        (4): Linear(in_features=32, out_features=64, bias=True)\n        (5): ReLU()\n      )\n    )\n    (qf0): Sequential(\n      (0): BatchNorm1d(65, eps=1e-05, momentum=0.1, affine=True, track_running_stats=True)\n      (1): Linear(in_features=65, out_features=2, bias=True)\n      (2): ReLU()\n      (3): Linear(in_features=2, out_features=1, bias=True)\n    )\n  )\n  (critic2_target): FlattenCritic(\n    (features_extractor): MarketObsExtractor(\n      (layers): Sequential(\n        (0): BatchNorm1d(4, eps=1e-05, momentum=0.1, affine=True, track_running_stats=True)\n        (1): Linear(in_features=4, out_features=32, bias=True)\n        (2): ReLU()\n        (3): BatchNorm1d(32, eps=1e-05, momentum=0.1, affine=True, track_running_stats=True)\n        (4): Linear(in_features=32, out_features=64, bias=True)\n        (5): ReLU()\n      )\n    )\n    (qf0): Sequential(\n      (0): BatchNorm1d(65, eps=1e-05, momentum=0.1, affine=True, track_running_stats=True)\n      (1): Linear(in_features=65, out_features=2, bias=True)\n      (2): ReLU()\n      (3): Linear(in_features=2, out_features=1, bias=True)\n    )\n  )\n)"
     },
     "execution_count": 11,
     "metadata": {},
     "output_type": "execute_result"
    }
   ],
   "source": [
    "model.policy"
   ],
   "metadata": {
    "collapsed": false,
    "pycharm": {
     "name": "#%%\n"
    }
   }
  },
  {
   "cell_type": "markdown",
   "source": [
    "# 2. Learning"
   ],
   "metadata": {
    "collapsed": false
   }
  },
  {
   "cell_type": "code",
   "execution_count": 12,
   "outputs": [
    {
     "name": "stdout",
     "output_type": "stream",
     "text": [
      "[Training Start]\n",
      "Eval num_timesteps=300, episode_reward=-0.03 +/- 0.00\n",
      "Episode length: 30.00 +/- 0.00\n",
      "New best mean reward!\n",
      "Eval num_timesteps=600, episode_reward=-0.05 +/- 0.00\n",
      "Episode length: 30.00 +/- 0.00\n",
      "Eval num_timesteps=900, episode_reward=-0.07 +/- 0.00\n",
      "Episode length: 30.00 +/- 0.00\n",
      "Eval num_timesteps=1200, episode_reward=-0.05 +/- 0.00\n",
      "Episode length: 30.00 +/- 0.00\n",
      "Eval num_timesteps=1500, episode_reward=-0.04 +/- 0.00\n",
      "Episode length: 30.00 +/- 0.00\n",
      "Eval num_timesteps=1800, episode_reward=-0.07 +/- 0.00\n",
      "Episode length: 30.00 +/- 0.00\n",
      "Eval num_timesteps=2100, episode_reward=-0.04 +/- 0.00\n",
      "Episode length: 30.00 +/- 0.00\n",
      "Eval num_timesteps=2400, episode_reward=-0.02 +/- 0.00\n",
      "Episode length: 30.00 +/- 0.00\n",
      "New best mean reward!\n",
      "Eval num_timesteps=2700, episode_reward=-0.09 +/- 0.00\n",
      "Episode length: 30.00 +/- 0.00\n",
      "Eval num_timesteps=3000, episode_reward=-0.05 +/- 0.00\n",
      "Episode length: 30.00 +/- 0.00\n",
      "Eval num_timesteps=3300, episode_reward=-0.02 +/- 0.00\n",
      "Episode length: 30.00 +/- 0.00\n",
      "New best mean reward!\n",
      "Eval num_timesteps=3600, episode_reward=-0.03 +/- 0.00\n",
      "Episode length: 30.00 +/- 0.00\n",
      "Eval num_timesteps=3900, episode_reward=-0.03 +/- 0.00\n",
      "Episode length: 30.00 +/- 0.00\n",
      "Eval num_timesteps=4200, episode_reward=-0.03 +/- 0.00\n",
      "Episode length: 30.00 +/- 0.00\n",
      "Eval num_timesteps=4500, episode_reward=-0.02 +/- 0.00\n",
      "Episode length: 30.00 +/- 0.00\n",
      "Eval num_timesteps=4800, episode_reward=-0.05 +/- 0.00\n",
      "Episode length: 30.00 +/- 0.00\n",
      "Eval num_timesteps=5100, episode_reward=-0.07 +/- 0.00\n",
      "Episode length: 30.00 +/- 0.00\n",
      "Eval num_timesteps=5400, episode_reward=-0.04 +/- 0.00\n",
      "Episode length: 30.00 +/- 0.00\n",
      "Eval num_timesteps=5700, episode_reward=-0.03 +/- 0.00\n",
      "Episode length: 30.00 +/- 0.00\n",
      "Eval num_timesteps=6000, episode_reward=-0.08 +/- 0.00\n",
      "Episode length: 30.00 +/- 0.00\n",
      "Eval num_timesteps=6300, episode_reward=-0.03 +/- 0.00\n",
      "Episode length: 30.00 +/- 0.00\n",
      "Eval num_timesteps=6600, episode_reward=-0.04 +/- 0.00\n",
      "Episode length: 30.00 +/- 0.00\n",
      "Eval num_timesteps=6900, episode_reward=-0.03 +/- 0.00\n",
      "Episode length: 30.00 +/- 0.00\n",
      "Eval num_timesteps=7200, episode_reward=-0.00 +/- 0.00\n",
      "Episode length: 30.00 +/- 0.00\n",
      "New best mean reward!\n",
      "Eval num_timesteps=7500, episode_reward=-0.03 +/- 0.00\n",
      "Episode length: 30.00 +/- 0.00\n",
      "Eval num_timesteps=7800, episode_reward=-0.04 +/- 0.00\n",
      "Episode length: 30.00 +/- 0.00\n",
      "Eval num_timesteps=8100, episode_reward=-0.05 +/- 0.00\n",
      "Episode length: 30.00 +/- 0.00\n",
      "Eval num_timesteps=8400, episode_reward=-0.02 +/- 0.00\n",
      "Episode length: 30.00 +/- 0.00\n",
      "Eval num_timesteps=8700, episode_reward=-0.01 +/- 0.00\n",
      "Episode length: 30.00 +/- 0.00\n",
      "Eval num_timesteps=9000, episode_reward=-0.01 +/- 0.00\n",
      "Episode length: 30.00 +/- 0.00\n",
      "Eval num_timesteps=9300, episode_reward=-0.03 +/- 0.00\n",
      "Episode length: 30.00 +/- 0.00\n",
      "Eval num_timesteps=9600, episode_reward=-0.05 +/- 0.00\n",
      "Episode length: 30.00 +/- 0.00\n",
      "Eval num_timesteps=9900, episode_reward=-0.03 +/- 0.00\n",
      "Episode length: 30.00 +/- 0.00\n",
      "Eval num_timesteps=10200, episode_reward=-0.01 +/- 0.00\n",
      "Episode length: 30.00 +/- 0.00\n",
      "Eval num_timesteps=10500, episode_reward=-0.03 +/- 0.00\n",
      "Episode length: 30.00 +/- 0.00\n",
      "Eval num_timesteps=10800, episode_reward=-0.04 +/- 0.00\n",
      "Episode length: 30.00 +/- 0.00\n",
      "Eval num_timesteps=11100, episode_reward=-0.00 +/- 0.00\n",
      "Episode length: 30.00 +/- 0.00\n",
      "Eval num_timesteps=11400, episode_reward=-0.05 +/- 0.00\n",
      "Episode length: 30.00 +/- 0.00\n",
      "Eval num_timesteps=11700, episode_reward=-0.06 +/- 0.00\n",
      "Episode length: 30.00 +/- 0.00\n",
      "Eval num_timesteps=12000, episode_reward=-0.02 +/- 0.00\n",
      "Episode length: 30.00 +/- 0.00\n",
      "Eval num_timesteps=12300, episode_reward=-0.02 +/- 0.00\n",
      "Episode length: 30.00 +/- 0.00\n",
      "Eval num_timesteps=12600, episode_reward=-0.02 +/- 0.00\n",
      "Episode length: 30.00 +/- 0.00\n",
      "Eval num_timesteps=12900, episode_reward=-0.03 +/- 0.00\n",
      "Episode length: 30.00 +/- 0.00\n",
      "Eval num_timesteps=13200, episode_reward=-0.05 +/- 0.00\n",
      "Episode length: 30.00 +/- 0.00\n",
      "Eval num_timesteps=13500, episode_reward=-0.02 +/- 0.00\n",
      "Episode length: 30.00 +/- 0.00\n",
      "Eval num_timesteps=13800, episode_reward=-0.02 +/- 0.00\n",
      "Episode length: 30.00 +/- 0.00\n",
      "Eval num_timesteps=14100, episode_reward=-0.04 +/- 0.00\n",
      "Episode length: 30.00 +/- 0.00\n",
      "Eval num_timesteps=14400, episode_reward=-0.02 +/- 0.00\n",
      "Episode length: 30.00 +/- 0.00\n",
      "Eval num_timesteps=14700, episode_reward=-0.02 +/- 0.00\n",
      "Episode length: 30.00 +/- 0.00\n",
      "Eval num_timesteps=15000, episode_reward=-0.05 +/- 0.00\n",
      "Episode length: 30.00 +/- 0.00\n",
      "Eval num_timesteps=15300, episode_reward=-0.05 +/- 0.00\n",
      "Episode length: 30.00 +/- 0.00\n",
      "Eval num_timesteps=15600, episode_reward=-0.02 +/- 0.00\n",
      "Episode length: 30.00 +/- 0.00\n",
      "Eval num_timesteps=15900, episode_reward=-0.02 +/- 0.00\n",
      "Episode length: 30.00 +/- 0.00\n",
      "Eval num_timesteps=16200, episode_reward=-0.03 +/- 0.00\n",
      "Episode length: 30.00 +/- 0.00\n",
      "Eval num_timesteps=16500, episode_reward=-0.03 +/- 0.00\n",
      "Episode length: 30.00 +/- 0.00\n",
      "Eval num_timesteps=16800, episode_reward=-0.02 +/- 0.00\n",
      "Episode length: 30.00 +/- 0.00\n",
      "Eval num_timesteps=17100, episode_reward=-0.03 +/- 0.00\n",
      "Episode length: 30.00 +/- 0.00\n",
      "Eval num_timesteps=17400, episode_reward=0.01 +/- 0.00\n",
      "Episode length: 30.00 +/- 0.00\n",
      "New best mean reward!\n",
      "Eval num_timesteps=17700, episode_reward=-0.03 +/- 0.00\n",
      "Episode length: 30.00 +/- 0.00\n",
      "Eval num_timesteps=18000, episode_reward=-0.08 +/- 0.00\n",
      "Episode length: 30.00 +/- 0.00\n",
      "Eval num_timesteps=18300, episode_reward=-0.03 +/- 0.00\n",
      "Episode length: 30.00 +/- 0.00\n",
      "Eval num_timesteps=18600, episode_reward=-0.02 +/- 0.00\n",
      "Episode length: 30.00 +/- 0.00\n",
      "Eval num_timesteps=18900, episode_reward=0.00 +/- 0.00\n",
      "Episode length: 30.00 +/- 0.00\n",
      "Eval num_timesteps=19200, episode_reward=-0.04 +/- 0.00\n",
      "Episode length: 30.00 +/- 0.00\n",
      "Eval num_timesteps=19500, episode_reward=-0.05 +/- 0.00\n",
      "Episode length: 30.00 +/- 0.00\n",
      "Eval num_timesteps=19800, episode_reward=-0.03 +/- 0.00\n",
      "Episode length: 30.00 +/- 0.00\n",
      "Eval num_timesteps=20100, episode_reward=-0.02 +/- 0.00\n",
      "Episode length: 30.00 +/- 0.00\n",
      "Eval num_timesteps=20400, episode_reward=-0.03 +/- 0.00\n",
      "Episode length: 30.00 +/- 0.00\n",
      "Eval num_timesteps=20700, episode_reward=-0.02 +/- 0.00\n",
      "Episode length: 30.00 +/- 0.00\n",
      "Eval num_timesteps=21000, episode_reward=-0.03 +/- 0.00\n",
      "Episode length: 30.00 +/- 0.00\n",
      "Eval num_timesteps=21300, episode_reward=-0.03 +/- 0.00\n",
      "Episode length: 30.00 +/- 0.00\n",
      "Eval num_timesteps=21600, episode_reward=-0.01 +/- 0.00\n",
      "Episode length: 30.00 +/- 0.00\n",
      "Eval num_timesteps=21900, episode_reward=-0.04 +/- 0.00\n",
      "Episode length: 30.00 +/- 0.00\n",
      "Eval num_timesteps=22200, episode_reward=-0.03 +/- 0.00\n",
      "Episode length: 30.00 +/- 0.00\n",
      "Eval num_timesteps=22500, episode_reward=-0.04 +/- 0.00\n",
      "Episode length: 30.00 +/- 0.00\n",
      "Eval num_timesteps=22800, episode_reward=-0.02 +/- 0.00\n",
      "Episode length: 30.00 +/- 0.00\n",
      "Eval num_timesteps=23100, episode_reward=-0.05 +/- 0.00\n",
      "Episode length: 30.00 +/- 0.00\n",
      "Eval num_timesteps=23400, episode_reward=-0.02 +/- 0.00\n",
      "Episode length: 30.00 +/- 0.00\n",
      "Eval num_timesteps=23700, episode_reward=-0.05 +/- 0.00\n",
      "Episode length: 30.00 +/- 0.00\n",
      "Eval num_timesteps=24000, episode_reward=-0.04 +/- 0.00\n",
      "Episode length: 30.00 +/- 0.00\n",
      "Eval num_timesteps=24300, episode_reward=0.00 +/- 0.00\n",
      "Episode length: 30.00 +/- 0.00\n",
      "Eval num_timesteps=24600, episode_reward=-0.05 +/- 0.00\n",
      "Episode length: 30.00 +/- 0.00\n",
      "Eval num_timesteps=24900, episode_reward=-0.08 +/- 0.00\n",
      "Episode length: 30.00 +/- 0.00\n",
      "Eval num_timesteps=25200, episode_reward=-0.04 +/- 0.00\n",
      "Episode length: 30.00 +/- 0.00\n",
      "Eval num_timesteps=25500, episode_reward=-0.05 +/- 0.00\n",
      "Episode length: 30.00 +/- 0.00\n",
      "Eval num_timesteps=25800, episode_reward=-0.04 +/- 0.00\n",
      "Episode length: 30.00 +/- 0.00\n",
      "Eval num_timesteps=26100, episode_reward=-0.04 +/- 0.00\n",
      "Episode length: 30.00 +/- 0.00\n",
      "Eval num_timesteps=26400, episode_reward=-0.02 +/- 0.00\n",
      "Episode length: 30.00 +/- 0.00\n",
      "Eval num_timesteps=26700, episode_reward=-0.06 +/- 0.00\n",
      "Episode length: 30.00 +/- 0.00\n",
      "Eval num_timesteps=27000, episode_reward=-0.04 +/- 0.00\n",
      "Episode length: 30.00 +/- 0.00\n",
      "Eval num_timesteps=27300, episode_reward=-0.02 +/- 0.00\n",
      "Episode length: 30.00 +/- 0.00\n",
      "Eval num_timesteps=27600, episode_reward=-0.07 +/- 0.00\n",
      "Episode length: 30.00 +/- 0.00\n",
      "Eval num_timesteps=27900, episode_reward=-0.00 +/- 0.00\n",
      "Episode length: 30.00 +/- 0.00\n",
      "Eval num_timesteps=28200, episode_reward=-0.03 +/- 0.00\n",
      "Episode length: 30.00 +/- 0.00\n",
      "Eval num_timesteps=28500, episode_reward=-0.02 +/- 0.00\n",
      "Episode length: 30.00 +/- 0.00\n",
      "Eval num_timesteps=28800, episode_reward=-0.02 +/- 0.00\n",
      "Episode length: 30.00 +/- 0.00\n",
      "Eval num_timesteps=29100, episode_reward=-0.07 +/- 0.00\n",
      "Episode length: 30.00 +/- 0.00\n",
      "Eval num_timesteps=29400, episode_reward=-0.03 +/- 0.00\n",
      "Episode length: 30.00 +/- 0.00\n",
      "Eval num_timesteps=29700, episode_reward=-0.07 +/- 0.00\n",
      "Episode length: 30.00 +/- 0.00\n",
      "Eval num_timesteps=30000, episode_reward=-0.01 +/- 0.00\n",
      "Episode length: 30.00 +/- 0.00\n",
      "Eval num_timesteps=30300, episode_reward=-0.01 +/- 0.00\n",
      "Episode length: 30.00 +/- 0.00\n",
      "Eval num_timesteps=30600, episode_reward=-0.02 +/- 0.00\n",
      "Episode length: 30.00 +/- 0.00\n",
      "Eval num_timesteps=30900, episode_reward=-0.02 +/- 0.00\n",
      "Episode length: 30.00 +/- 0.00\n",
      "Eval num_timesteps=31200, episode_reward=-0.08 +/- 0.00\n",
      "Episode length: 30.00 +/- 0.00\n",
      "Eval num_timesteps=31500, episode_reward=-0.04 +/- 0.00\n",
      "Episode length: 30.00 +/- 0.00\n",
      "Eval num_timesteps=31800, episode_reward=-0.03 +/- 0.00\n",
      "Episode length: 30.00 +/- 0.00\n",
      "Eval num_timesteps=32100, episode_reward=-0.02 +/- 0.00\n",
      "Episode length: 30.00 +/- 0.00\n",
      "Eval num_timesteps=32400, episode_reward=-0.04 +/- 0.00\n",
      "Episode length: 30.00 +/- 0.00\n",
      "Eval num_timesteps=32700, episode_reward=-0.04 +/- 0.00\n",
      "Episode length: 30.00 +/- 0.00\n",
      "Eval num_timesteps=33000, episode_reward=-0.02 +/- 0.00\n",
      "Episode length: 30.00 +/- 0.00\n",
      "Eval num_timesteps=33300, episode_reward=-0.02 +/- 0.00\n",
      "Episode length: 30.00 +/- 0.00\n",
      "Eval num_timesteps=33600, episode_reward=-0.01 +/- 0.00\n",
      "Episode length: 30.00 +/- 0.00\n",
      "Eval num_timesteps=33900, episode_reward=-0.05 +/- 0.00\n",
      "Episode length: 30.00 +/- 0.00\n",
      "Eval num_timesteps=34200, episode_reward=-0.03 +/- 0.00\n",
      "Episode length: 30.00 +/- 0.00\n",
      "Eval num_timesteps=34500, episode_reward=-0.05 +/- 0.00\n",
      "Episode length: 30.00 +/- 0.00\n",
      "Eval num_timesteps=34800, episode_reward=-0.01 +/- 0.00\n",
      "Episode length: 30.00 +/- 0.00\n",
      "Eval num_timesteps=35100, episode_reward=-0.03 +/- 0.00\n",
      "Episode length: 30.00 +/- 0.00\n",
      "Eval num_timesteps=35400, episode_reward=-0.06 +/- 0.00\n",
      "Episode length: 30.00 +/- 0.00\n",
      "Eval num_timesteps=35700, episode_reward=-0.03 +/- 0.00\n",
      "Episode length: 30.00 +/- 0.00\n",
      "Eval num_timesteps=36000, episode_reward=-0.05 +/- 0.00\n",
      "Episode length: 30.00 +/- 0.00\n",
      "Eval num_timesteps=36300, episode_reward=-0.05 +/- 0.00\n",
      "Episode length: 30.00 +/- 0.00\n",
      "Eval num_timesteps=36600, episode_reward=-0.01 +/- 0.00\n",
      "Episode length: 30.00 +/- 0.00\n",
      "Eval num_timesteps=36900, episode_reward=-0.05 +/- 0.00\n",
      "Episode length: 30.00 +/- 0.00\n",
      "Eval num_timesteps=37200, episode_reward=-0.02 +/- 0.00\n",
      "Episode length: 30.00 +/- 0.00\n",
      "Eval num_timesteps=37500, episode_reward=-0.02 +/- 0.00\n",
      "Episode length: 30.00 +/- 0.00\n",
      "Eval num_timesteps=37800, episode_reward=-0.04 +/- 0.00\n",
      "Episode length: 30.00 +/- 0.00\n",
      "Eval num_timesteps=38100, episode_reward=-0.02 +/- 0.00\n",
      "Episode length: 30.00 +/- 0.00\n",
      "Eval num_timesteps=38400, episode_reward=-0.02 +/- 0.00\n",
      "Episode length: 30.00 +/- 0.00\n",
      "Eval num_timesteps=38700, episode_reward=-0.00 +/- 0.00\n",
      "Episode length: 30.00 +/- 0.00\n",
      "Eval num_timesteps=39000, episode_reward=-0.04 +/- 0.00\n",
      "Episode length: 30.00 +/- 0.00\n",
      "Eval num_timesteps=39300, episode_reward=-0.06 +/- 0.00\n",
      "Episode length: 30.00 +/- 0.00\n",
      "Eval num_timesteps=39600, episode_reward=-0.03 +/- 0.00\n",
      "Episode length: 30.00 +/- 0.00\n",
      "Eval num_timesteps=39900, episode_reward=-0.00 +/- 0.00\n",
      "Episode length: 30.00 +/- 0.00\n",
      "Eval num_timesteps=40200, episode_reward=-0.02 +/- 0.00\n",
      "Episode length: 30.00 +/- 0.00\n",
      "Eval num_timesteps=40500, episode_reward=-0.02 +/- 0.00\n",
      "Episode length: 30.00 +/- 0.00\n",
      "Eval num_timesteps=40800, episode_reward=-0.05 +/- 0.00\n",
      "Episode length: 30.00 +/- 0.00\n",
      "Eval num_timesteps=41100, episode_reward=-0.03 +/- 0.00\n",
      "Episode length: 30.00 +/- 0.00\n",
      "Eval num_timesteps=41400, episode_reward=-0.04 +/- 0.00\n",
      "Episode length: 30.00 +/- 0.00\n",
      "Eval num_timesteps=41700, episode_reward=-0.02 +/- 0.00\n",
      "Episode length: 30.00 +/- 0.00\n",
      "Eval num_timesteps=42000, episode_reward=-0.01 +/- 0.00\n",
      "Episode length: 30.00 +/- 0.00\n",
      "Eval num_timesteps=42300, episode_reward=-0.02 +/- 0.00\n",
      "Episode length: 30.00 +/- 0.00\n",
      "Eval num_timesteps=42600, episode_reward=-0.02 +/- 0.00\n",
      "Episode length: 30.00 +/- 0.00\n",
      "Eval num_timesteps=42900, episode_reward=-0.02 +/- 0.00\n",
      "Episode length: 30.00 +/- 0.00\n",
      "Eval num_timesteps=43200, episode_reward=-0.02 +/- 0.00\n",
      "Episode length: 30.00 +/- 0.00\n",
      "Eval num_timesteps=43500, episode_reward=-0.01 +/- 0.00\n",
      "Episode length: 30.00 +/- 0.00\n",
      "Eval num_timesteps=43800, episode_reward=-0.03 +/- 0.00\n",
      "Episode length: 30.00 +/- 0.00\n",
      "Eval num_timesteps=44100, episode_reward=-0.01 +/- 0.00\n",
      "Episode length: 30.00 +/- 0.00\n",
      "Eval num_timesteps=44400, episode_reward=-0.01 +/- 0.00\n",
      "Episode length: 30.00 +/- 0.00\n",
      "Eval num_timesteps=44700, episode_reward=-0.05 +/- 0.00\n",
      "Episode length: 30.00 +/- 0.00\n",
      "Eval num_timesteps=45000, episode_reward=-0.01 +/- 0.00\n",
      "Episode length: 30.00 +/- 0.00\n",
      "Eval num_timesteps=45300, episode_reward=-0.02 +/- 0.00\n",
      "Episode length: 30.00 +/- 0.00\n",
      "Eval num_timesteps=45600, episode_reward=-0.04 +/- 0.00\n",
      "Episode length: 30.00 +/- 0.00\n",
      "Eval num_timesteps=45900, episode_reward=-0.07 +/- 0.00\n",
      "Episode length: 30.00 +/- 0.00\n",
      "Eval num_timesteps=46200, episode_reward=-0.03 +/- 0.00\n",
      "Episode length: 30.00 +/- 0.00\n",
      "Eval num_timesteps=46500, episode_reward=-0.02 +/- 0.00\n",
      "Episode length: 30.00 +/- 0.00\n",
      "Eval num_timesteps=46800, episode_reward=-0.03 +/- 0.00\n",
      "Episode length: 30.00 +/- 0.00\n",
      "Eval num_timesteps=47100, episode_reward=-0.04 +/- 0.00\n",
      "Episode length: 30.00 +/- 0.00\n",
      "Eval num_timesteps=47400, episode_reward=-0.09 +/- 0.00\n",
      "Episode length: 30.00 +/- 0.00\n",
      "Eval num_timesteps=47700, episode_reward=-0.06 +/- 0.00\n",
      "Episode length: 30.00 +/- 0.00\n",
      "Eval num_timesteps=48000, episode_reward=-0.01 +/- 0.00\n",
      "Episode length: 30.00 +/- 0.00\n",
      "Eval num_timesteps=48300, episode_reward=-0.00 +/- 0.00\n",
      "Episode length: 30.00 +/- 0.00\n",
      "Eval num_timesteps=48600, episode_reward=-0.04 +/- 0.00\n",
      "Episode length: 30.00 +/- 0.00\n",
      "Eval num_timesteps=48900, episode_reward=-0.04 +/- 0.00\n",
      "Episode length: 30.00 +/- 0.00\n",
      "Eval num_timesteps=49200, episode_reward=-0.03 +/- 0.00\n",
      "Episode length: 30.00 +/- 0.00\n",
      "Eval num_timesteps=49500, episode_reward=-0.03 +/- 0.00\n",
      "Episode length: 30.00 +/- 0.00\n",
      "Eval num_timesteps=49800, episode_reward=-0.02 +/- 0.00\n",
      "Episode length: 30.00 +/- 0.00\n",
      "Eval num_timesteps=50100, episode_reward=-0.02 +/- 0.00\n",
      "Episode length: 30.00 +/- 0.00\n",
      "Eval num_timesteps=50400, episode_reward=-0.03 +/- 0.00\n",
      "Episode length: 30.00 +/- 0.00\n",
      "Eval num_timesteps=50700, episode_reward=-0.03 +/- 0.00\n",
      "Episode length: 30.00 +/- 0.00\n",
      "Eval num_timesteps=51000, episode_reward=-0.03 +/- 0.00\n",
      "Episode length: 30.00 +/- 0.00\n",
      "Eval num_timesteps=51300, episode_reward=-0.01 +/- 0.00\n",
      "Episode length: 30.00 +/- 0.00\n",
      "Eval num_timesteps=51600, episode_reward=-0.03 +/- 0.00\n",
      "Episode length: 30.00 +/- 0.00\n",
      "Eval num_timesteps=51900, episode_reward=-0.03 +/- 0.00\n",
      "Episode length: 30.00 +/- 0.00\n",
      "Eval num_timesteps=52200, episode_reward=-0.04 +/- 0.00\n",
      "Episode length: 30.00 +/- 0.00\n",
      "Eval num_timesteps=52500, episode_reward=-0.03 +/- 0.00\n",
      "Episode length: 30.00 +/- 0.00\n",
      "Eval num_timesteps=52800, episode_reward=0.00 +/- 0.00\n",
      "Episode length: 30.00 +/- 0.00\n",
      "Eval num_timesteps=53100, episode_reward=-0.01 +/- 0.00\n",
      "Episode length: 30.00 +/- 0.00\n",
      "Eval num_timesteps=53400, episode_reward=-0.02 +/- 0.00\n",
      "Episode length: 30.00 +/- 0.00\n",
      "Eval num_timesteps=53700, episode_reward=-0.01 +/- 0.00\n",
      "Episode length: 30.00 +/- 0.00\n",
      "Eval num_timesteps=54000, episode_reward=-0.02 +/- 0.00\n",
      "Episode length: 30.00 +/- 0.00\n",
      "Eval num_timesteps=54300, episode_reward=-0.01 +/- 0.00\n",
      "Episode length: 30.00 +/- 0.00\n",
      "Eval num_timesteps=54600, episode_reward=-0.01 +/- 0.00\n",
      "Episode length: 30.00 +/- 0.00\n",
      "Eval num_timesteps=54900, episode_reward=-0.07 +/- 0.00\n",
      "Episode length: 30.00 +/- 0.00\n",
      "Eval num_timesteps=55200, episode_reward=-0.01 +/- 0.00\n",
      "Episode length: 30.00 +/- 0.00\n",
      "Eval num_timesteps=55500, episode_reward=-0.00 +/- 0.00\n",
      "Episode length: 30.00 +/- 0.00\n",
      "Eval num_timesteps=55800, episode_reward=-0.03 +/- 0.00\n",
      "Episode length: 30.00 +/- 0.00\n",
      "Eval num_timesteps=56100, episode_reward=-0.05 +/- 0.00\n",
      "Episode length: 30.00 +/- 0.00\n",
      "Eval num_timesteps=56400, episode_reward=-0.02 +/- 0.00\n",
      "Episode length: 30.00 +/- 0.00\n",
      "Eval num_timesteps=56700, episode_reward=0.00 +/- 0.00\n",
      "Episode length: 30.00 +/- 0.00\n",
      "Eval num_timesteps=57000, episode_reward=-0.04 +/- 0.00\n",
      "Episode length: 30.00 +/- 0.00\n",
      "Eval num_timesteps=57300, episode_reward=-0.04 +/- 0.00\n",
      "Episode length: 30.00 +/- 0.00\n",
      "Eval num_timesteps=57600, episode_reward=-0.04 +/- 0.00\n",
      "Episode length: 30.00 +/- 0.00\n",
      "Eval num_timesteps=57900, episode_reward=-0.01 +/- 0.00\n",
      "Episode length: 30.00 +/- 0.00\n",
      "Eval num_timesteps=58200, episode_reward=-0.04 +/- 0.00\n",
      "Episode length: 30.00 +/- 0.00\n",
      "Eval num_timesteps=58500, episode_reward=-0.03 +/- 0.00\n",
      "Episode length: 30.00 +/- 0.00\n",
      "Eval num_timesteps=58800, episode_reward=-0.01 +/- 0.00\n",
      "Episode length: 30.00 +/- 0.00\n",
      "Eval num_timesteps=59100, episode_reward=-0.00 +/- 0.00\n",
      "Episode length: 30.00 +/- 0.00\n",
      "Eval num_timesteps=59400, episode_reward=-0.06 +/- 0.00\n",
      "Episode length: 30.00 +/- 0.00\n",
      "Eval num_timesteps=59700, episode_reward=-0.01 +/- 0.00\n",
      "Episode length: 30.00 +/- 0.00\n",
      "Eval num_timesteps=60000, episode_reward=-0.01 +/- 0.00\n",
      "Episode length: 30.00 +/- 0.00\n",
      "Eval num_timesteps=60300, episode_reward=-0.00 +/- 0.00\n",
      "Episode length: 30.00 +/- 0.00\n",
      "Eval num_timesteps=60600, episode_reward=-0.02 +/- 0.00\n",
      "Episode length: 30.00 +/- 0.00\n",
      "Eval num_timesteps=60900, episode_reward=-0.04 +/- 0.00\n",
      "Episode length: 30.00 +/- 0.00\n",
      "Eval num_timesteps=61200, episode_reward=-0.01 +/- 0.00\n",
      "Episode length: 30.00 +/- 0.00\n",
      "Eval num_timesteps=61500, episode_reward=-0.03 +/- 0.00\n",
      "Episode length: 30.00 +/- 0.00\n",
      "Eval num_timesteps=61800, episode_reward=-0.02 +/- 0.00\n",
      "Episode length: 30.00 +/- 0.00\n",
      "Eval num_timesteps=62100, episode_reward=-0.05 +/- 0.00\n",
      "Episode length: 30.00 +/- 0.00\n",
      "Eval num_timesteps=62400, episode_reward=-0.08 +/- 0.00\n",
      "Episode length: 30.00 +/- 0.00\n",
      "Eval num_timesteps=62700, episode_reward=-0.03 +/- 0.00\n",
      "Episode length: 30.00 +/- 0.00\n",
      "Eval num_timesteps=63000, episode_reward=-0.08 +/- 0.00\n",
      "Episode length: 30.00 +/- 0.00\n",
      "Eval num_timesteps=63300, episode_reward=-0.05 +/- 0.00\n",
      "Episode length: 30.00 +/- 0.00\n",
      "Eval num_timesteps=63600, episode_reward=-0.05 +/- 0.00\n",
      "Episode length: 30.00 +/- 0.00\n",
      "Eval num_timesteps=63900, episode_reward=-0.08 +/- 0.00\n",
      "Episode length: 30.00 +/- 0.00\n",
      "Eval num_timesteps=64200, episode_reward=-0.03 +/- 0.00\n",
      "Episode length: 30.00 +/- 0.00\n",
      "Eval num_timesteps=64500, episode_reward=-0.05 +/- 0.00\n",
      "Episode length: 30.00 +/- 0.00\n",
      "Eval num_timesteps=64800, episode_reward=-0.02 +/- 0.00\n",
      "Episode length: 30.00 +/- 0.00\n",
      "Eval num_timesteps=65100, episode_reward=-0.03 +/- 0.00\n",
      "Episode length: 30.00 +/- 0.00\n",
      "Eval num_timesteps=65400, episode_reward=-0.01 +/- 0.00\n",
      "Episode length: 30.00 +/- 0.00\n",
      "Eval num_timesteps=65700, episode_reward=-0.02 +/- 0.00\n",
      "Episode length: 30.00 +/- 0.00\n",
      "Eval num_timesteps=66000, episode_reward=-0.05 +/- 0.00\n",
      "Episode length: 30.00 +/- 0.00\n",
      "Eval num_timesteps=66300, episode_reward=-0.01 +/- 0.00\n",
      "Episode length: 30.00 +/- 0.00\n",
      "Eval num_timesteps=66600, episode_reward=-0.07 +/- 0.00\n",
      "Episode length: 30.00 +/- 0.00\n",
      "Eval num_timesteps=66900, episode_reward=-0.03 +/- 0.00\n",
      "Episode length: 30.00 +/- 0.00\n",
      "Eval num_timesteps=67200, episode_reward=-0.04 +/- 0.00\n",
      "Episode length: 30.00 +/- 0.00\n",
      "Eval num_timesteps=67500, episode_reward=-0.03 +/- 0.00\n",
      "Episode length: 30.00 +/- 0.00\n",
      "Eval num_timesteps=67800, episode_reward=-0.03 +/- 0.00\n",
      "Episode length: 30.00 +/- 0.00\n",
      "Eval num_timesteps=68100, episode_reward=-0.05 +/- 0.00\n",
      "Episode length: 30.00 +/- 0.00\n",
      "Eval num_timesteps=68400, episode_reward=-0.02 +/- 0.00\n",
      "Episode length: 30.00 +/- 0.00\n",
      "Eval num_timesteps=68700, episode_reward=-0.04 +/- 0.00\n",
      "Episode length: 30.00 +/- 0.00\n",
      "Eval num_timesteps=69000, episode_reward=-0.07 +/- 0.00\n",
      "Episode length: 30.00 +/- 0.00\n",
      "Eval num_timesteps=69300, episode_reward=-0.02 +/- 0.00\n",
      "Episode length: 30.00 +/- 0.00\n",
      "Eval num_timesteps=69600, episode_reward=-0.02 +/- 0.00\n",
      "Episode length: 30.00 +/- 0.00\n",
      "Eval num_timesteps=69900, episode_reward=-0.04 +/- 0.00\n",
      "Episode length: 30.00 +/- 0.00\n",
      "Eval num_timesteps=70200, episode_reward=-0.02 +/- 0.00\n",
      "Episode length: 30.00 +/- 0.00\n",
      "Eval num_timesteps=70500, episode_reward=-0.03 +/- 0.00\n",
      "Episode length: 30.00 +/- 0.00\n",
      "Eval num_timesteps=70800, episode_reward=-0.05 +/- 0.00\n",
      "Episode length: 30.00 +/- 0.00\n",
      "Eval num_timesteps=71100, episode_reward=-0.04 +/- 0.00\n",
      "Episode length: 30.00 +/- 0.00\n",
      "Eval num_timesteps=71400, episode_reward=-0.00 +/- 0.00\n",
      "Episode length: 30.00 +/- 0.00\n",
      "Eval num_timesteps=71700, episode_reward=-0.04 +/- 0.00\n",
      "Episode length: 30.00 +/- 0.00\n",
      "Eval num_timesteps=72000, episode_reward=-0.10 +/- 0.00\n",
      "Episode length: 30.00 +/- 0.00\n",
      "Eval num_timesteps=72300, episode_reward=-0.03 +/- 0.00\n",
      "Episode length: 30.00 +/- 0.00\n",
      "Eval num_timesteps=72600, episode_reward=-0.04 +/- 0.00\n",
      "Episode length: 30.00 +/- 0.00\n",
      "Eval num_timesteps=72900, episode_reward=-0.02 +/- 0.00\n",
      "Episode length: 30.00 +/- 0.00\n",
      "Eval num_timesteps=73200, episode_reward=-0.03 +/- 0.00\n",
      "Episode length: 30.00 +/- 0.00\n",
      "Eval num_timesteps=73500, episode_reward=-0.01 +/- 0.00\n",
      "Episode length: 30.00 +/- 0.00\n",
      "Eval num_timesteps=73800, episode_reward=-0.00 +/- 0.00\n",
      "Episode length: 30.00 +/- 0.00\n",
      "Eval num_timesteps=74100, episode_reward=-0.03 +/- 0.00\n",
      "Episode length: 30.00 +/- 0.00\n",
      "Eval num_timesteps=74400, episode_reward=-0.01 +/- 0.00\n",
      "Episode length: 30.00 +/- 0.00\n",
      "Eval num_timesteps=74700, episode_reward=-0.00 +/- 0.00\n",
      "Episode length: 30.00 +/- 0.00\n",
      "Eval num_timesteps=75000, episode_reward=-0.00 +/- 0.00\n",
      "Episode length: 30.00 +/- 0.00\n",
      "[Training End]  steps: 75240\ttimes: 304.13782572746277\n"
     ]
    }
   ],
   "source": [
    "model = model.learn(**learn_kwargs)"
   ],
   "metadata": {
    "collapsed": false,
    "pycharm": {
     "name": "#%%\n"
    }
   }
  },
  {
   "cell_type": "code",
   "execution_count": 13,
   "outputs": [
    {
     "name": "stdout",
     "output_type": "stream",
     "text": [
      "<BSMarket instance> will be save as name. env_kwargs not in kwargs!\n",
      "<BSMarketEval instance> will be save as name. eval_env_kwargs not in kwargs!\n",
      "<Algorithms.ddpg.callbacks.ReportCallbacks object at 0x000001E615836DC0> will be save as name. callback_kwargs not in kwargs!\n",
      "../logs/tb_logs/ddpg_220616-1910_1/config.yaml was saved.\n"
     ]
    }
   ],
   "source": [
    "config.save_config(f'{learn_kwargs[\"eval_log_path\"]}/config.yaml', env_kwargs, model_kwargs, learn_kwargs)"
   ],
   "metadata": {
    "collapsed": false,
    "pycharm": {
     "name": "#%%\n"
    }
   }
  },
  {
   "cell_type": "markdown",
   "source": [
    "# 3. P&L Evaluation"
   ],
   "metadata": {
    "collapsed": false
   }
  },
  {
   "cell_type": "code",
   "execution_count": 12,
   "outputs": [
    {
     "name": "stdout",
     "output_type": "stream",
     "text": [
      "../logs/tb_logs/ddpg_220616-2131_1/best_model\n"
     ]
    }
   ],
   "source": [
    "# model = model.load('../logs/tb_logs/ddpg_220607-2214_stable'+'/best_model')\n",
    "# model = model.load('../logs/tb_logs/ddpg_220607-2124_ntb_delta'+'/best_model')\n",
    "# model = model.load('../logs/tb_logs/ddpg_220608-2037_1'+'/best_model')\n",
    "# model = model.load('../logs/tb_logs/ddpg_220614-2216_1_ntb_pnl'+'/best_model')\n",
    "model = model.load('../logs/tb_logs/ddpg_220616-1920_1'+'/best_model')\n",
    "# model = model.load(learn_kwargs['eval_log_path'] + '/best_model')\n",
    "print(learn_kwargs['eval_log_path'] + '/best_model')"
   ],
   "metadata": {
    "collapsed": false,
    "pycharm": {
     "name": "#%%\n"
    }
   }
  },
  {
   "cell_type": "code",
   "execution_count": 13,
   "outputs": [
    {
     "name": "stdout",
     "output_type": "stream",
     "text": [
      "env 'BSMarket was created!\n"
     ]
    }
   ],
   "source": [
    "from Env.env import BSMarketEval\n",
    "\n",
    "eval_env_kwargs = env_kwargs.copy()\n",
    "\n",
    "eval_env_kwargs.update({\n",
    "    'n_assets': 1000,\n",
    "    'reward_mode': 'pnl',\n",
    "    'reward_fn': 'raw'\n",
    "})\n",
    "\n",
    "eval_env = BSMarketEval(**eval_env_kwargs)"
   ],
   "metadata": {
    "collapsed": false,
    "pycharm": {
     "name": "#%%\n"
    }
   }
  },
  {
   "cell_type": "code",
   "execution_count": 14,
   "outputs": [],
   "source": [
    "import numpy as np\n",
    "\n",
    "# random_pnl = np.mean([eval_env.pnl_eval() for _ in range(30)], axis=0)\n",
    "# delta_pnl = np.mean([eval_env.delta_eval() for _ in range(30)], axis=0)\n",
    "# rl_pnl = np.mean([eval_env.pnl_eval(model) for _ in range(30)], axis=0)\n",
    "\n",
    "# random_pnl = np.load('best_results/random_pnl.npy')\n",
    "# delta_pnl = np.load('best_results/ntb_pnl.npy')\n",
    "rl_pnl = np.load('best_results/rl_pnl_0614.npy')\n",
    "my_pnl = np.load('best_results/rl_pnl_one_0616.npy')\n",
    "ntb_pnl = np.load('best_results/ntb_pnl_0614.npy')\n",
    "# rl_pnl = np.load('best_results/rl_pnl_eval_cash.npy')\n",
    "# ntb_pnl = np.load('best_results/ntb_pnl_eval_cash.npy')"
   ],
   "metadata": {
    "collapsed": false,
    "pycharm": {
     "name": "#%%\n"
    }
   }
  },
  {
   "cell_type": "code",
   "execution_count": 16,
   "outputs": [],
   "source": [
    "# np.save('best_results/rl_pnl_0614', ntb_pnl)\n",
    "# np.save('best_results/delta_pnl', delta_pnl)\n",
    "# np.save('best_results/rl_pnl', rl_pnl)"
   ],
   "metadata": {
    "collapsed": false,
    "pycharm": {
     "name": "#%%\n"
    }
   }
  },
  {
   "cell_type": "code",
   "execution_count": 15,
   "outputs": [],
   "source": [
    "# from Env.rewards import raw_reward\n",
    "# eval_env.reward_fn = raw_reward\n",
    "\n",
    "def env_eval(env, model=None, reward_mode='cash'):\n",
    "    tmp = env.reward_mode\n",
    "    env.reward_mode = reward_mode\n",
    "    obs = env.reset()\n",
    "    reward, done, info = 0, False, {}\n",
    "    total_raw_reward = 0\n",
    "    while not done:\n",
    "        if model:\n",
    "            action, _ = model.predict(obs, deterministic=False)\n",
    "        else:\n",
    "            action = env.action_space.sample()\n",
    "        obs, reward, done, info = env.step(action)\n",
    "        total_raw_reward += reward\n",
    "\n",
    "    env.reward_mode = tmp\n",
    "    return total_raw_reward"
   ],
   "metadata": {
    "collapsed": false,
    "pycharm": {
     "name": "#%%\n"
    }
   }
  },
  {
   "cell_type": "code",
   "execution_count": 16,
   "outputs": [],
   "source": [
    "my_pnl2 = np.mean([env_eval(eval_env, model) for _ in range(30)], axis=0)"
   ],
   "metadata": {
    "collapsed": false,
    "pycharm": {
     "name": "#%%\n"
    }
   }
  },
  {
   "cell_type": "code",
   "execution_count": 17,
   "outputs": [],
   "source": [
    "import numpy as np\n",
    "\n",
    "def pnl_reward(pnl):\n",
    "    mean = np.mean(pnl)\n",
    "    std = np.std(pnl)\n",
    "    return [mean - 0.02 * std , mean, std]\n",
    "\n",
    "def sharpe_ratio(pnl):\n",
    "    return pnl.mean()/pnl.std()\n",
    "\n",
    "def var(pnl, ratio):\n",
    "    losses = np.sort(-pnl)\n",
    "    boundary = int(np.ceil(losses.shape[-1]*ratio))\n",
    "    return losses[boundary]\n",
    "\n",
    "def cvar(pnl, ratio=0.95):\n",
    "    losses = np.sort(-pnl)\n",
    "    boundary = int(np.ceil(losses.shape[-1]*ratio))\n",
    "    return np.mean(losses[boundary:], axis=-1)"
   ],
   "metadata": {
    "collapsed": false,
    "pycharm": {
     "name": "#%%\n"
    }
   }
  },
  {
   "cell_type": "code",
   "execution_count": 18,
   "outputs": [
    {
     "data": {
      "text/plain": "<Figure size 1000x500 with 1 Axes>",
      "image/png": "[encoded data removed]"
     },
     "metadata": {},
     "output_type": "display_data"
    },
    {
     "name": "stdout",
     "output_type": "stream",
     "text": [
      "ntb pnl: \t\t[-0.0386 -0.0385  0.0029]\n",
      "rl pnl: \t\t[-0.      0.0001  0.0061]\n",
      "my pnl: \t\t[-0.0075 -0.0074  0.0035]\n",
      "my2 pnl: \t\t[-0.0148 -0.0147  0.0037]\n",
      "\n",
      "ntb cvar:\t\t0.04529\n",
      "rl cvar:\t\t0.01384\n",
      "my cvar:\t\t0.01456\n",
      "my cvar:\t\t0.02244\n",
      "\n"
     ]
    }
   ],
   "source": [
    "plt_kwargs = {'bins': 100,\n",
    "              # 'range': (-0.04, 0.01),\n",
    "              'alpha': 0.6}\n",
    "\n",
    "plt.xlabel('P&L')\n",
    "# plt.hist(random_pnl, bins=100, range=(-0.25, 0.05), alpha=0.6, label='random')\n",
    "# plt.hist(random_pnl, bins=100, range=(-0.1, 0.05), alpha=0.6, label='random')\n",
    "# plt.hist(delta_pnl, **plt_kwargs, label='delta')\n",
    "plt.hist(ntb_pnl,**plt_kwargs, label='DDPG+NTB')\n",
    "plt.hist(rl_pnl, **plt_kwargs, label='DDPG')\n",
    "plt.hist(my_pnl, **plt_kwargs, label='MY')\n",
    "plt.hist(my_pnl2, **plt_kwargs, label='MY2')\n",
    "# plt.ylim(0, 150)\n",
    "plt.legend()\n",
    "plt.show()\n",
    "\n",
    "# print(f'my pnl:\\t\\t{r3:.4f}, {m3:.4f}, {s3:.4f}')\n",
    "print(f'ntb pnl: \\t\\t{np.round(pnl_reward(ntb_pnl), 4)}')\n",
    "print(f'rl pnl: \\t\\t{np.round(pnl_reward(rl_pnl), 4)}')\n",
    "print(f'my pnl: \\t\\t{np.round(pnl_reward(my_pnl), 4)}')\n",
    "print(f'my2 pnl: \\t\\t{np.round(pnl_reward(my_pnl2), 4)}')\n",
    "print()\n",
    "# print((r2-r1))\n",
    "# print((r3-r2))\n",
    "\n",
    "print(f'ntb cvar:\\t\\t{cvar(ntb_pnl):.5f}')\n",
    "print(f'rl cvar:\\t\\t{cvar(rl_pnl):.5f}')\n",
    "print(f'my cvar:\\t\\t{cvar(my_pnl):.5f}')\n",
    "print(f'my cvar:\\t\\t{cvar(my_pnl2):.5f}')\n",
    "print()"
   ],
   "metadata": {
    "collapsed": false,
    "pycharm": {
     "name": "#%%\n"
    }
   }
  },
  {
   "cell_type": "code",
   "execution_count": 12,
   "outputs": [
    {
     "data": {
      "text/plain": "(-0.022955209587592933, 0.00333743451844443)"
     },
     "execution_count": 12,
     "metadata": {},
     "output_type": "execute_result"
    }
   ],
   "source": [
    "ntb_pnl.mean(), ntb_pnl.std()"
   ],
   "metadata": {
    "collapsed": false,
    "pycharm": {
     "name": "#%%\n"
    }
   }
  },
  {
   "cell_type": "code",
   "execution_count": 13,
   "outputs": [
    {
     "data": {
      "text/plain": "(-0.022750967764943068, 0.006194732383409264)"
     },
     "execution_count": 13,
     "metadata": {},
     "output_type": "execute_result"
    }
   ],
   "source": [
    "rl_pnl.mean(), rl_pnl.std()"
   ],
   "metadata": {
    "collapsed": false,
    "pycharm": {
     "name": "#%%\n"
    }
   }
  },
  {
   "cell_type": "code",
   "execution_count": null,
   "outputs": [],
   "source": [
    "np.save('best_results/ntb_pnl_0614', ntb_pnl)"
   ],
   "metadata": {
    "collapsed": false,
    "pycharm": {
     "name": "#%%\n"
    }
   }
  },
  {
   "cell_type": "code",
   "execution_count": 31,
   "outputs": [],
   "source": [
    "np.save('best_results/rl_pnl_eval_cash', rl_pnl,)\n",
    "np.save('best_results/ntb_pnl_eval_cash', ntb_pnl,)"
   ],
   "metadata": {
    "collapsed": false,
    "pycharm": {
     "name": "#%%\n"
    }
   }
  },
  {
   "cell_type": "code",
   "execution_count": 55,
   "outputs": [
    {
     "name": "stdout",
     "output_type": "stream",
     "text": [
      "-0.023253765816845084\n",
      "-0.02307192182905543\n"
     ]
    }
   ],
   "source": [
    "from Utils.prices import pnl_entropic_loss\n",
    "\n",
    "def loss(pnl, aversion=0.0):\n",
    "    return np.mean((1-np.exp(-aversion * pnl))/(aversion+1e-7))\n",
    "\n",
    "print(loss(ntb_pnl, aversion=1.1))\n",
    "print(loss(rl_pnl, aversion=1.1))"
   ],
   "metadata": {
    "collapsed": false,
    "pycharm": {
     "name": "#%%\n"
    }
   }
  },
  {
   "cell_type": "code",
   "execution_count": 14,
   "outputs": [
    {
     "name": "stdout",
     "output_type": "stream",
     "text": [
      "0.02867360759284007 0.03344846486958373\n"
     ]
    }
   ],
   "source": [
    "import pandas as pd\n",
    "\n",
    "ntb_loss = pd.Series(-ntb_pnl)\n",
    "rl_loss = pd.Series(-rl_pnl)\n",
    "\n",
    "var95_ntb = ntb_loss.quantile(0.95)\n",
    "var95_rl = rl_loss.quantile(0.95)\n",
    "\n",
    "print(var95_ntb, var95_rl)"
   ],
   "metadata": {
    "collapsed": false,
    "pycharm": {
     "name": "#%%\n"
    }
   }
  },
  {
   "cell_type": "code",
   "execution_count": 15,
   "outputs": [
    {
     "name": "stdout",
     "output_type": "stream",
     "text": [
      "0.030563063997726295\n"
     ]
    }
   ],
   "source": [
    "print(ntb_loss[ntb_loss >= var95_ntb].mean())"
   ],
   "metadata": {
    "collapsed": false,
    "pycharm": {
     "name": "#%%\n"
    }
   }
  },
  {
   "cell_type": "code",
   "execution_count": 16,
   "outputs": [
    {
     "name": "stdout",
     "output_type": "stream",
     "text": [
      "0.03678241960186988\n"
     ]
    }
   ],
   "source": [
    "print(rl_loss[rl_loss >= var95_rl].mean())"
   ],
   "metadata": {
    "collapsed": false,
    "pycharm": {
     "name": "#%%\n"
    }
   }
  },
  {
   "cell_type": "code",
   "execution_count": 23,
   "outputs": [
    {
     "name": "stdout",
     "output_type": "stream",
     "text": [
      "0.030563063997726295 0.03678241960186988\n"
     ]
    }
   ],
   "source": [
    "print(cvar(ntb_pnl, 0.95), cvar(rl_pnl, 0.95))"
   ],
   "metadata": {
    "collapsed": false,
    "pycharm": {
     "name": "#%%\n"
    }
   }
  },
  {
   "cell_type": "code",
   "execution_count": 27,
   "outputs": [
    {
     "data": {
      "text/plain": "4"
     },
     "execution_count": 27,
     "metadata": {},
     "output_type": "execute_result"
    }
   ],
   "source": [
    "th.randn(3,4).shape[-1]"
   ],
   "metadata": {
    "collapsed": false,
    "pycharm": {
     "name": "#%%\n"
    }
   }
  },
  {
   "cell_type": "code",
   "execution_count": 18,
   "outputs": [],
   "source": [
    "rl_pnl = ntb_pnl.copy()"
   ],
   "metadata": {
    "collapsed": false,
    "pycharm": {
     "name": "#%%\n"
    }
   }
  },
  {
   "cell_type": "markdown",
   "source": [
    "## New Problem\n",
    "\n",
    "총 얼마 썼는가?\n"
   ],
   "metadata": {
    "collapsed": false
   }
  },
  {
   "cell_type": "code",
   "execution_count": 32,
   "outputs": [],
   "source": [
    "import numpy as np\n",
    "\n",
    "def cash_eval(env, model=None):\n",
    "    obs = env.reset()\n",
    "    done, info = False, {}\n",
    "    cash = 0\n",
    "    while not done:\n",
    "        if model:\n",
    "            action, _ = model.predict(obs, deterministic=False)\n",
    "        else:\n",
    "            action = env.action_space.sample()\n",
    "\n",
    "        obs, reward, done, info = env.cashflow_pnl(action)\n",
    "        cash += info['raw_reward']\n",
    "        print(np.mean(info['raw_reward']))\n",
    "\n",
    "    return cash"
   ],
   "metadata": {
    "collapsed": false,
    "pycharm": {
     "name": "#%%\n"
    }
   }
  },
  {
   "cell_type": "code",
   "execution_count": 22,
   "outputs": [],
   "source": [
    "ntb_cash = np.load('best_results/ntb_cash_0614.npy')"
   ],
   "metadata": {
    "collapsed": false,
    "pycharm": {
     "name": "#%%\n"
    }
   }
  },
  {
   "cell_type": "code",
   "execution_count": 23,
   "outputs": [],
   "source": [
    "rl_cash = np.mean([cash_eval(eval_env, model) for _ in range(30)], axis=0)"
   ],
   "metadata": {
    "collapsed": false,
    "pycharm": {
     "name": "#%%\n"
    }
   }
  },
  {
   "cell_type": "code",
   "execution_count": 25,
   "outputs": [
    {
     "data": {
      "text/plain": "<Figure size 1000x500 with 1 Axes>",
      "image/png": "[encoded data removed]"
     },
     "metadata": {},
     "output_type": "display_data"
    },
    {
     "name": "stdout",
     "output_type": "stream",
     "text": [
      "ntb_pnl:\t-0.0152, -0.0151, 0.0030\n",
      "rl:\t\t-0.0230, -0.0229, 0.0057\n"
     ]
    }
   ],
   "source": [
    "plt_kwargs = {'bins': 100,\n",
    "              'range': (-0.04, -0.01),\n",
    "              'alpha': 0.6}\n",
    "\n",
    "plt.xlabel('P&L')\n",
    "plt.hist(ntb_cash,**plt_kwargs, label='ntb')\n",
    "plt.hist(rl_cash, **plt_kwargs, label='rl')\n",
    "# plt.ylim(0, 150)\n",
    "plt.legend()\n",
    "plt.show()\n",
    "\n",
    "# r1, (m1, s1) = pnl_reward(random_pnl)\n",
    "r2, (m2, s2) = pnl_reward(ntb_cash)\n",
    "r3, (m3, s3) = pnl_reward(rl_cash)\n",
    "# print(f'random:\\t{r1:.4f}, {m1:.4f}, {s1:.4f}')\n",
    "print(f'ntb_pnl:\\t{r2:.4f}, {m2:.4f}, {s2:.4f}')\n",
    "print(f'rl:\\t\\t{r3:.4f}, {m3:.4f}, {s3:.4f}')\n",
    "# print((r2-r1))"
   ],
   "metadata": {
    "collapsed": false,
    "pycharm": {
     "name": "#%%\n"
    }
   }
  },
  {
   "cell_type": "code",
   "execution_count": 53,
   "outputs": [],
   "source": [
    "np.save('best_results/ntb_cash_0614', ntb_cash)"
   ],
   "metadata": {
    "collapsed": false,
    "pycharm": {
     "name": "#%%\n"
    }
   }
  },
  {
   "cell_type": "code",
   "execution_count": null,
   "outputs": [],
   "source": [],
   "metadata": {
    "collapsed": false,
    "pycharm": {
     "name": "#%%\n"
    }
   }
  }
 ],
 "metadata": {
  "kernelspec": {
   "display_name": "Python 3",
   "language": "python",
   "name": "python3"
  },
  "language_info": {
   "codemirror_mode": {
    "name": "ipython",
    "version": 2
   },
   "file_extension": ".py",
   "mimetype": "text/x-python",
   "name": "python",
   "nbconvert_exporter": "python",
   "pygments_lexer": "ipython2",
   "version": "2.7.6"
  }
 },
 "nbformat": 4,
 "nbformat_minor": 0
}