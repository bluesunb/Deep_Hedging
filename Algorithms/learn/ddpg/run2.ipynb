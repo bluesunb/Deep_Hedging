{
 "cells": [
  {
   "cell_type": "code",
   "execution_count": 1,
   "outputs": [],
   "source": [
    "import matplotlib.pyplot as plt\n",
    "\n",
    "from Algorithms.learn.utils import config"
   ],
   "metadata": {
    "collapsed": false,
    "pycharm": {
     "name": "#%%\n"
    }
   }
  },
  {
   "cell_type": "markdown",
   "source": [
    "# 0. Plot setting"
   ],
   "metadata": {
    "collapsed": false
   }
  },
  {
   "cell_type": "code",
   "execution_count": 2,
   "outputs": [],
   "source": [
    "import seaborn as sb\n",
    "import matplotlib\n",
    "\n",
    "sb.set_style('whitegrid')\n",
    "\n",
    "FONTSIZE = 10\n",
    "matplotlib.rcParams[\"figure.figsize\"] = (10, 5)\n",
    "matplotlib.rcParams[\"figure.dpi\"] = 100\n",
    "matplotlib.rcParams[\"figure.titlesize\"] = FONTSIZE\n",
    "matplotlib.rcParams[\"legend.fontsize\"] = FONTSIZE\n",
    "matplotlib.rcParams[\"xtick.labelsize\"] = FONTSIZE\n",
    "matplotlib.rcParams[\"ytick.labelsize\"] = FONTSIZE\n",
    "matplotlib.rcParams[\"axes.labelsize\"] = FONTSIZE\n",
    "matplotlib.rcParams[\"axes.titlesize\"] = FONTSIZE\n",
    "matplotlib.rcParams[\"savefig.bbox\"] = \"tight\"\n",
    "matplotlib.rcParams[\"savefig.pad_inches\"] = 0.1\n",
    "matplotlib.rcParams[\"lines.linewidth\"] = 2\n",
    "matplotlib.rcParams[\"axes.linewidth\"] = 1.6"
   ],
   "metadata": {
    "collapsed": false,
    "pycharm": {
     "name": "#%%\n"
    }
   }
  },
  {
   "cell_type": "markdown",
   "source": [
    "# 1. Model Setting"
   ],
   "metadata": {
    "collapsed": false
   }
  },
  {
   "cell_type": "markdown",
   "source": [
    "## 1.1 Load Config"
   ],
   "metadata": {
    "collapsed": false
   }
  },
  {
   "cell_type": "code",
   "execution_count": 3,
   "outputs": [
    {
     "name": "stdout",
     "output_type": "stream",
     "text": [
      "env 'BSMarket was created!\n",
      "env 'BSMarket was created!\n"
     ]
    }
   ],
   "source": [
    "env_kwargs, model_kwargs, learn_kwargs = config.load_config('tmp_config.yaml')"
   ],
   "metadata": {
    "collapsed": false,
    "pycharm": {
     "name": "#%%\n"
    }
   }
  },
  {
   "cell_type": "code",
   "execution_count": 4,
   "outputs": [],
   "source": [
    "from Env.feature_extractor import MarketObsExtractor\n",
    "\n",
    "model_kwargs.update({\n",
    "    'buffer_size': 300,\n",
    "    'learning_starts': 300,\n",
    "    'batch_size': 15,\n",
    "    'std_coeff': env_kwargs['cost']\n",
    "})\n",
    "\n",
    "model_kwargs['policy_kwargs'].update({\n",
    "    'features_extractor_class': MarketObsExtractor\n",
    "})\n",
    "\n",
    "learn_kwargs.update({\n",
    "    'total_timesteps': 1500\n",
    "})\n"
   ],
   "metadata": {
    "collapsed": false,
    "pycharm": {
     "name": "#%%\n"
    }
   }
  },
  {
   "cell_type": "code",
   "execution_count": 5,
   "outputs": [
    {
     "name": "stdout",
     "output_type": "stream",
     "text": [
      "env 'BSMarket was created!\n",
      "model_kwargs['env']: <BSMarket instance>\n",
      "env 'BSMarket was created!\n",
      "learn_kwargs['eval_env']: <BSMarket instance>\n",
      "learn_kwargs['tb_log_name']: ddpg_220603-1739\n",
      "learn_kwargs['eval_log_path']: logs/tb_logs/ddpg_220603-1739_1\n"
     ]
    }
   ],
   "source": [
    "config.reconstruct_config(env_kwargs, model_kwargs, learn_kwargs)"
   ],
   "metadata": {
    "collapsed": false,
    "pycharm": {
     "name": "#%%\n"
    }
   }
  },
  {
   "cell_type": "code",
   "execution_count": 6,
   "outputs": [
    {
     "data": {
      "text/plain": "{'cost': 0.02,\n 'dividend': 0.0,\n 'drift': 0.0,\n 'freq': 1,\n 'gen_name': 'gbm',\n 'init_price': 1.0,\n 'n_assets': 1000,\n 'n_periods': 30,\n 'payoff': 'european',\n 'period_unit': 365,\n 'reward_mode': 'pnl',\n 'risk_free_interest': 0.0,\n 'strike': 1.0,\n 'volatility': 0.2}"
     },
     "execution_count": 6,
     "metadata": {},
     "output_type": "execute_result"
    }
   ],
   "source": [
    "env_kwargs"
   ],
   "metadata": {
    "collapsed": false,
    "pycharm": {
     "name": "#%%\n"
    }
   }
  },
  {
   "cell_type": "code",
   "execution_count": 7,
   "outputs": [
    {
     "data": {
      "text/plain": "{'action_noise': NormalActionNoise(mu=0.0, sigma=0.1),\n 'batch_size': 15,\n 'buffer_size': 300,\n 'create_eval_env': False,\n 'device': 'auto',\n 'env': <Env.env.BSMarket at 0x24e81097250>,\n 'gamma': 0.99,\n 'gradient_steps': -1,\n 'learning_rate': <function Algorithms.learn.utils.config.lr_schedule(left: float)>,\n 'learning_starts': 300,\n 'optimize_memory_usage': False,\n 'policy': Algorithms.policies.DoubleTD3Policy,\n 'policy_kwargs': {'activation_fn': torch.nn.modules.activation.ReLU,\n  'features_extractor_class': Env.feature_extractor.MarketObsExtractor,\n  'features_extractor_kwargs': {'activation_fn': torch.nn.modules.activation.ReLU,\n   'features_in': 4,\n   'features_out': 2,\n   'net_arch': [32, 64]},\n  'n_critics': 1,\n  'net_arch': [],\n  'normalize_images': False,\n  'optimizer_class': torch.optim.adam.Adam,\n  'optimizer_kwargs': None,\n  'share_features_extractor': True},\n 'replay_buffer_class': None,\n 'replay_buffer_kwargs': None,\n 'seed': 42,\n 'tau': 0.005,\n 'tensorboard_log': 'logs/tb_logs',\n 'train_freq': (1, 'episode'),\n 'verbose': 1,\n 'std_coeff': 0.02}"
     },
     "execution_count": 7,
     "metadata": {},
     "output_type": "execute_result"
    }
   ],
   "source": [
    "model_kwargs"
   ],
   "metadata": {
    "collapsed": false,
    "pycharm": {
     "name": "#%%\n"
    }
   }
  },
  {
   "cell_type": "code",
   "execution_count": 8,
   "outputs": [
    {
     "data": {
      "text/plain": "{'callback': <Algorithms.learn.utils.callbacks.ReportCallbacks at 0x24effedb160>,\n 'eval_env': <Env.env.BSMarket at 0x24e810971f0>,\n 'eval_freq': 30,\n 'eval_log_path': 'logs/tb_logs/ddpg_220603-1739_1',\n 'log_interval': 30,\n 'n_eval_episodes': 1,\n 'reset_num_timesteps': True,\n 'tb_log_name': 'ddpg_220603-1739',\n 'total_timesteps': 1500}"
     },
     "execution_count": 8,
     "metadata": {},
     "output_type": "execute_result"
    }
   ],
   "source": [
    "learn_kwargs"
   ],
   "metadata": {
    "collapsed": false,
    "pycharm": {
     "name": "#%%\n"
    }
   }
  },
  {
   "cell_type": "code",
   "execution_count": 9,
   "outputs": [
    {
     "name": "stdout",
     "output_type": "stream",
     "text": [
      "env 'BSMarket was created!\n",
      "model_kwargs['env']: <BSMarket instance>\n",
      "env 'BSMarket was created!\n",
      "learn_kwargs['eval_env']: <BSMarket instance>\n",
      "learn_kwargs['tb_log_name']: ddpg_220603-1739\n",
      "learn_kwargs['eval_log_path']: logs/tb_logs/ddpg_220603-1739_1\n"
     ]
    }
   ],
   "source": [
    "config.reconstruct_config(env_kwargs, model_kwargs, learn_kwargs)"
   ],
   "metadata": {
    "collapsed": false,
    "pycharm": {
     "name": "#%%\n"
    }
   }
  },
  {
   "cell_type": "markdown",
   "source": [
    "## 1.2 Construct env, model"
   ],
   "metadata": {
    "collapsed": false
   }
  },
  {
   "cell_type": "code",
   "execution_count": 10,
   "outputs": [
    {
     "name": "stdout",
     "output_type": "stream",
     "text": [
      "Using cuda device\n",
      "Wrapping the env with a `Monitor` wrapper\n",
      "Wrapping the env in a DummyVecEnv.\n"
     ]
    }
   ],
   "source": [
    "from Algorithms import DDPG\n",
    "\n",
    "model = DDPG(**model_kwargs)"
   ],
   "metadata": {
    "collapsed": false,
    "pycharm": {
     "name": "#%%\n"
    }
   }
  },
  {
   "cell_type": "markdown",
   "source": [
    "## 1.3 Before Learning Plot"
   ],
   "metadata": {
    "collapsed": false
   }
  },
  {
   "cell_type": "code",
   "execution_count": 12,
   "outputs": [],
   "source": [
    "import numpy as np\n",
    "\n",
    "env = model_kwargs['env']\n",
    "total_pnl = env.pnl_eval(model)"
   ],
   "metadata": {
    "collapsed": false,
    "pycharm": {
     "name": "#%%\n"
    }
   }
  },
  {
   "cell_type": "code",
   "execution_count": 13,
   "outputs": [
    {
     "data": {
      "text/plain": "<Figure size 1000x500 with 1 Axes>",
      "image/png": "[encoded data removed]"
     },
     "metadata": {},
     "output_type": "display_data"
    },
    {
     "name": "stdout",
     "output_type": "stream",
     "text": [
      "-0.026472519348196225\n"
     ]
    }
   ],
   "source": [
    "plt.hist(total_pnl, bins=100, range=(-0.2, 0.2), alpha=0.6)\n",
    "plt.show()\n",
    "print(np.mean(total_pnl)-0.02*np.std(total_pnl))"
   ],
   "metadata": {
    "collapsed": false,
    "pycharm": {
     "name": "#%%\n"
    }
   }
  },
  {
   "cell_type": "markdown",
   "source": [
    "# 2. Learning"
   ],
   "metadata": {
    "collapsed": false
   }
  },
  {
   "cell_type": "code",
   "execution_count": 21,
   "outputs": [
    {
     "name": "stdout",
     "output_type": "stream",
     "text": [
      "Wrapping the env with a `Monitor` wrapper\n",
      "Wrapping the env in a DummyVecEnv.\n",
      "Logging to logs/tb_logs\\ddpg_220526-1356_1\n",
      "[Training Start]\n",
      "Eval num_timesteps=30, episode_reward=-0.58 +/- 0.00\n",
      "Episode length: 30.00 +/- 0.00\n",
      "---------------------------------\n",
      "| eval/              |          |\n",
      "|    mean_ep_length  | 30       |\n",
      "|    mean_reward     | -0.584   |\n",
      "| time/              |          |\n",
      "|    total timesteps | 30       |\n",
      "---------------------------------\n",
      "New best mean reward!\n",
      "Eval num_timesteps=60, episode_reward=-0.59 +/- 0.00\n",
      "Episode length: 30.00 +/- 0.00\n",
      "---------------------------------\n",
      "| eval/              |          |\n",
      "|    mean_ep_length  | 30       |\n",
      "|    mean_reward     | -0.591   |\n",
      "| time/              |          |\n",
      "|    total timesteps | 60       |\n",
      "---------------------------------\n",
      "Eval num_timesteps=90, episode_reward=-0.59 +/- 0.00\n",
      "Episode length: 30.00 +/- 0.00\n",
      "---------------------------------\n",
      "| eval/              |          |\n",
      "|    mean_ep_length  | 30       |\n",
      "|    mean_reward     | -0.591   |\n",
      "| time/              |          |\n",
      "|    total timesteps | 90       |\n",
      "---------------------------------\n",
      "Eval num_timesteps=120, episode_reward=-0.58 +/- 0.00\n",
      "Episode length: 30.00 +/- 0.00\n",
      "---------------------------------\n",
      "| eval/              |          |\n",
      "|    mean_ep_length  | 30       |\n",
      "|    mean_reward     | -0.583   |\n",
      "| time/              |          |\n",
      "|    total timesteps | 120      |\n",
      "---------------------------------\n",
      "New best mean reward!\n",
      "Eval num_timesteps=150, episode_reward=-0.59 +/- 0.00\n",
      "Episode length: 30.00 +/- 0.00\n",
      "---------------------------------\n",
      "| eval/              |          |\n",
      "|    mean_ep_length  | 30       |\n",
      "|    mean_reward     | -0.592   |\n",
      "| time/              |          |\n",
      "|    total timesteps | 150      |\n",
      "---------------------------------\n",
      "Eval num_timesteps=180, episode_reward=-0.58 +/- 0.00\n",
      "Episode length: 30.00 +/- 0.00\n",
      "---------------------------------\n",
      "| eval/              |          |\n",
      "|    mean_ep_length  | 30       |\n",
      "|    mean_reward     | -0.578   |\n",
      "| time/              |          |\n",
      "|    total timesteps | 180      |\n",
      "---------------------------------\n",
      "New best mean reward!\n",
      "Eval num_timesteps=210, episode_reward=-0.58 +/- 0.00\n",
      "Episode length: 30.00 +/- 0.00\n",
      "---------------------------------\n",
      "| eval/              |          |\n",
      "|    mean_ep_length  | 30       |\n",
      "|    mean_reward     | -0.58    |\n",
      "| time/              |          |\n",
      "|    total timesteps | 210      |\n",
      "---------------------------------\n",
      "Eval num_timesteps=240, episode_reward=-0.58 +/- 0.00\n",
      "Episode length: 30.00 +/- 0.00\n",
      "---------------------------------\n",
      "| eval/              |          |\n",
      "|    mean_ep_length  | 30       |\n",
      "|    mean_reward     | -0.583   |\n",
      "| time/              |          |\n",
      "|    total timesteps | 240      |\n",
      "---------------------------------\n",
      "Eval num_timesteps=270, episode_reward=-0.59 +/- 0.00\n",
      "Episode length: 30.00 +/- 0.00\n",
      "---------------------------------\n",
      "| eval/              |          |\n",
      "|    mean_ep_length  | 30       |\n",
      "|    mean_reward     | -0.588   |\n",
      "| time/              |          |\n",
      "|    total timesteps | 270      |\n",
      "---------------------------------\n",
      "Eval num_timesteps=300, episode_reward=-0.59 +/- 0.00\n",
      "Episode length: 30.00 +/- 0.00\n",
      "---------------------------------\n",
      "| eval/              |          |\n",
      "|    mean_ep_length  | 30       |\n",
      "|    mean_reward     | -0.592   |\n",
      "| time/              |          |\n",
      "|    total timesteps | 300      |\n",
      "---------------------------------\n",
      "Eval num_timesteps=330, episode_reward=-0.59 +/- 0.00\n",
      "Episode length: 30.00 +/- 0.00\n",
      "---------------------------------\n",
      "| eval/              |          |\n",
      "|    mean_ep_length  | 30       |\n",
      "|    mean_reward     | -0.586   |\n",
      "| time/              |          |\n",
      "|    total timesteps | 330      |\n",
      "---------------------------------\n",
      "Eval num_timesteps=360, episode_reward=-0.36 +/- 0.00\n",
      "Episode length: 30.00 +/- 0.00\n",
      "---------------------------------\n",
      "| eval/              |          |\n",
      "|    mean_ep_length  | 30       |\n",
      "|    mean_reward     | -0.357   |\n",
      "| time/              |          |\n",
      "|    total timesteps | 360      |\n",
      "| train/             |          |\n",
      "|    actor_loss      | -374     |\n",
      "|    critic2_loss    | 1.16e+05 |\n",
      "|    critic_loss     | 1.52e+04 |\n",
      "|    learning_rate   | 0.00356  |\n",
      "|    mean_cost_loss  | -381     |\n",
      "|    n_updates       | 30       |\n",
      "|    std_cost_loss   | 7.65     |\n",
      "---------------------------------\n",
      "New best mean reward!\n",
      "Eval num_timesteps=390, episode_reward=-0.36 +/- 0.00\n",
      "Episode length: 30.00 +/- 0.00\n",
      "---------------------------------\n",
      "| eval/              |          |\n",
      "|    mean_ep_length  | 30       |\n",
      "|    mean_reward     | -0.362   |\n",
      "| time/              |          |\n",
      "|    total timesteps | 390      |\n",
      "| train/             |          |\n",
      "|    actor_loss      | -256     |\n",
      "|    critic2_loss    | 9.94e+03 |\n",
      "|    critic_loss     | 2.79e+04 |\n",
      "|    learning_rate   | 0.00346  |\n",
      "|    mean_cost_loss  | -261     |\n",
      "|    n_updates       | 60       |\n",
      "|    std_cost_loss   | 5.24     |\n",
      "---------------------------------\n",
      "Eval num_timesteps=420, episode_reward=-0.36 +/- 0.00\n",
      "Episode length: 30.00 +/- 0.00\n",
      "---------------------------------\n",
      "| eval/              |          |\n",
      "|    mean_ep_length  | 30       |\n",
      "|    mean_reward     | -0.362   |\n",
      "| time/              |          |\n",
      "|    total timesteps | 420      |\n",
      "| train/             |          |\n",
      "|    actor_loss      | -162     |\n",
      "|    critic2_loss    | 7.42e+03 |\n",
      "|    critic_loss     | 2.23e+04 |\n",
      "|    learning_rate   | 0.00335  |\n",
      "|    mean_cost_loss  | -166     |\n",
      "|    n_updates       | 90       |\n",
      "|    std_cost_loss   | 3.35     |\n",
      "---------------------------------\n",
      "Eval num_timesteps=450, episode_reward=-0.36 +/- 0.00\n",
      "Episode length: 30.00 +/- 0.00\n",
      "---------------------------------\n",
      "| eval/              |          |\n",
      "|    mean_ep_length  | 30       |\n",
      "|    mean_reward     | -0.36    |\n",
      "| time/              |          |\n",
      "|    total timesteps | 450      |\n",
      "| train/             |          |\n",
      "|    actor_loss      | -64.7    |\n",
      "|    critic2_loss    | 1.02e+04 |\n",
      "|    critic_loss     | 1.46e+04 |\n",
      "|    learning_rate   | 0.00325  |\n",
      "|    mean_cost_loss  | -66.2    |\n",
      "|    n_updates       | 120      |\n",
      "|    std_cost_loss   | 1.48     |\n",
      "---------------------------------\n",
      "Eval num_timesteps=480, episode_reward=-0.36 +/- 0.00\n",
      "Episode length: 30.00 +/- 0.00\n",
      "---------------------------------\n",
      "| eval/              |          |\n",
      "|    mean_ep_length  | 30       |\n",
      "|    mean_reward     | -0.364   |\n",
      "| time/              |          |\n",
      "|    total timesteps | 480      |\n",
      "| train/             |          |\n",
      "|    actor_loss      | 24.5     |\n",
      "|    critic2_loss    | 8.78e+03 |\n",
      "|    critic_loss     | 7.26e+03 |\n",
      "|    learning_rate   | 0.00315  |\n",
      "|    mean_cost_loss  | 23.7     |\n",
      "|    n_updates       | 150      |\n",
      "|    std_cost_loss   | 0.879    |\n",
      "---------------------------------\n",
      "Eval num_timesteps=510, episode_reward=-0.37 +/- 0.00\n",
      "Episode length: 30.00 +/- 0.00\n",
      "---------------------------------\n",
      "| eval/              |          |\n",
      "|    mean_ep_length  | 30       |\n",
      "|    mean_reward     | -0.367   |\n",
      "| time/              |          |\n",
      "|    total timesteps | 510      |\n",
      "| train/             |          |\n",
      "|    actor_loss      | 87.6     |\n",
      "|    critic2_loss    | 6.54e+03 |\n",
      "|    critic_loss     | 3.27e+03 |\n",
      "|    learning_rate   | 0.00306  |\n",
      "|    mean_cost_loss  | 85.8     |\n",
      "|    n_updates       | 180      |\n",
      "|    std_cost_loss   | 1.78     |\n",
      "---------------------------------\n",
      "Eval num_timesteps=540, episode_reward=-0.36 +/- 0.00\n",
      "Episode length: 30.00 +/- 0.00\n",
      "---------------------------------\n",
      "| eval/              |          |\n",
      "|    mean_ep_length  | 30       |\n",
      "|    mean_reward     | -0.36    |\n",
      "| time/              |          |\n",
      "|    total timesteps | 540      |\n",
      "| train/             |          |\n",
      "|    actor_loss      | 131      |\n",
      "|    critic2_loss    | 6.61e+03 |\n",
      "|    critic_loss     | 1.4e+03  |\n",
      "|    learning_rate   | 0.00296  |\n",
      "|    mean_cost_loss  | 128      |\n",
      "|    n_updates       | 210      |\n",
      "|    std_cost_loss   | 2.6      |\n",
      "---------------------------------\n",
      "Eval num_timesteps=570, episode_reward=-0.36 +/- 0.00\n",
      "Episode length: 30.00 +/- 0.00\n",
      "---------------------------------\n",
      "| eval/              |          |\n",
      "|    mean_ep_length  | 30       |\n",
      "|    mean_reward     | -0.364   |\n",
      "| time/              |          |\n",
      "|    total timesteps | 570      |\n",
      "| train/             |          |\n",
      "|    actor_loss      | 167      |\n",
      "|    critic2_loss    | 8.63e+03 |\n",
      "|    critic_loss     | 1.49e+03 |\n",
      "|    learning_rate   | 0.00287  |\n",
      "|    mean_cost_loss  | 163      |\n",
      "|    n_updates       | 240      |\n",
      "|    std_cost_loss   | 3.29     |\n",
      "---------------------------------\n",
      "Eval num_timesteps=600, episode_reward=-0.36 +/- 0.00\n",
      "Episode length: 30.00 +/- 0.00\n",
      "---------------------------------\n",
      "| eval/              |          |\n",
      "|    mean_ep_length  | 30       |\n",
      "|    mean_reward     | -0.365   |\n",
      "| time/              |          |\n",
      "|    total timesteps | 600      |\n",
      "| train/             |          |\n",
      "|    actor_loss      | 200      |\n",
      "|    critic2_loss    | 7.4e+03  |\n",
      "|    critic_loss     | 1.49e+03 |\n",
      "|    learning_rate   | 0.00279  |\n",
      "|    mean_cost_loss  | 196      |\n",
      "|    n_updates       | 270      |\n",
      "|    std_cost_loss   | 3.94     |\n",
      "---------------------------------\n",
      "Eval num_timesteps=630, episode_reward=-0.36 +/- 0.00\n",
      "Episode length: 30.00 +/- 0.00\n",
      "---------------------------------\n",
      "| eval/              |          |\n",
      "|    mean_ep_length  | 30       |\n",
      "|    mean_reward     | -0.362   |\n",
      "| time/              |          |\n",
      "|    total timesteps | 630      |\n",
      "| train/             |          |\n",
      "|    actor_loss      | 227      |\n",
      "|    critic2_loss    | 5.5e+03  |\n",
      "|    critic_loss     | 1.39e+03 |\n",
      "|    learning_rate   | 0.0027   |\n",
      "|    mean_cost_loss  | 223      |\n",
      "|    n_updates       | 300      |\n",
      "|    std_cost_loss   | 4.47     |\n",
      "---------------------------------\n",
      "Eval num_timesteps=660, episode_reward=-0.37 +/- 0.00\n",
      "Episode length: 30.00 +/- 0.00\n",
      "---------------------------------\n",
      "| eval/              |          |\n",
      "|    mean_ep_length  | 30       |\n",
      "|    mean_reward     | -0.365   |\n",
      "| time/              |          |\n",
      "|    total timesteps | 660      |\n",
      "| train/             |          |\n",
      "|    actor_loss      | 232      |\n",
      "|    critic2_loss    | 5.49e+03 |\n",
      "|    critic_loss     | 2.22e+03 |\n",
      "|    learning_rate   | 0.00262  |\n",
      "|    mean_cost_loss  | 228      |\n",
      "|    n_updates       | 330      |\n",
      "|    std_cost_loss   | 4.57     |\n",
      "---------------------------------\n",
      "Eval num_timesteps=690, episode_reward=-0.37 +/- 0.00\n",
      "Episode length: 30.00 +/- 0.00\n",
      "---------------------------------\n",
      "| eval/              |          |\n",
      "|    mean_ep_length  | 30       |\n",
      "|    mean_reward     | -0.367   |\n",
      "| time/              |          |\n",
      "|    total timesteps | 690      |\n",
      "| train/             |          |\n",
      "|    actor_loss      | 260      |\n",
      "|    critic2_loss    | 4.83e+03 |\n",
      "|    critic_loss     | 1.91e+03 |\n",
      "|    learning_rate   | 0.00254  |\n",
      "|    mean_cost_loss  | 255      |\n",
      "|    n_updates       | 360      |\n",
      "|    std_cost_loss   | 5.12     |\n",
      "---------------------------------\n",
      "Eval num_timesteps=720, episode_reward=-0.37 +/- 0.00\n",
      "Episode length: 30.00 +/- 0.00\n",
      "---------------------------------\n",
      "| eval/              |          |\n",
      "|    mean_ep_length  | 30       |\n",
      "|    mean_reward     | -0.366   |\n",
      "| time/              |          |\n",
      "|    total timesteps | 720      |\n",
      "| train/             |          |\n",
      "|    actor_loss      | 263      |\n",
      "|    critic2_loss    | 7.67e+03 |\n",
      "|    critic_loss     | 3.21e+03 |\n",
      "|    learning_rate   | 0.00246  |\n",
      "|    mean_cost_loss  | 258      |\n",
      "|    n_updates       | 390      |\n",
      "|    std_cost_loss   | 5.18     |\n",
      "---------------------------------\n",
      "Eval num_timesteps=750, episode_reward=-0.38 +/- 0.00\n",
      "Episode length: 30.00 +/- 0.00\n",
      "---------------------------------\n",
      "| eval/              |          |\n",
      "|    mean_ep_length  | 30       |\n",
      "|    mean_reward     | -0.376   |\n",
      "| time/              |          |\n",
      "|    total timesteps | 750      |\n",
      "| train/             |          |\n",
      "|    actor_loss      | 275      |\n",
      "|    critic2_loss    | 3.82e+03 |\n",
      "|    critic_loss     | 1.84e+03 |\n",
      "|    learning_rate   | 0.00239  |\n",
      "|    mean_cost_loss  | 269      |\n",
      "|    n_updates       | 420      |\n",
      "|    std_cost_loss   | 5.4      |\n",
      "---------------------------------\n",
      "Eval num_timesteps=780, episode_reward=-0.37 +/- 0.00\n",
      "Episode length: 30.00 +/- 0.00\n",
      "---------------------------------\n",
      "| eval/              |          |\n",
      "|    mean_ep_length  | 30       |\n",
      "|    mean_reward     | -0.373   |\n",
      "| time/              |          |\n",
      "|    total timesteps | 780      |\n",
      "| train/             |          |\n",
      "|    actor_loss      | 288      |\n",
      "|    critic2_loss    | 5e+03    |\n",
      "|    critic_loss     | 2.68e+03 |\n",
      "|    learning_rate   | 0.00232  |\n",
      "|    mean_cost_loss  | 283      |\n",
      "|    n_updates       | 450      |\n",
      "|    std_cost_loss   | 5.66     |\n",
      "---------------------------------\n",
      "Eval num_timesteps=810, episode_reward=-0.37 +/- 0.00\n",
      "Episode length: 30.00 +/- 0.00\n",
      "---------------------------------\n",
      "| eval/              |          |\n",
      "|    mean_ep_length  | 30       |\n",
      "|    mean_reward     | -0.365   |\n",
      "| time/              |          |\n",
      "|    total timesteps | 810      |\n",
      "| train/             |          |\n",
      "|    actor_loss      | 288      |\n",
      "|    critic2_loss    | 4.32e+03 |\n",
      "|    critic_loss     | 2.41e+03 |\n",
      "|    learning_rate   | 0.00225  |\n",
      "|    mean_cost_loss  | 282      |\n",
      "|    n_updates       | 480      |\n",
      "|    std_cost_loss   | 5.65     |\n",
      "---------------------------------\n",
      "Eval num_timesteps=840, episode_reward=-0.38 +/- 0.00\n",
      "Episode length: 30.00 +/- 0.00\n",
      "---------------------------------\n",
      "| eval/              |          |\n",
      "|    mean_ep_length  | 30       |\n",
      "|    mean_reward     | -0.375   |\n",
      "| time/              |          |\n",
      "|    total timesteps | 840      |\n",
      "| train/             |          |\n",
      "|    actor_loss      | 294      |\n",
      "|    critic2_loss    | 5.42e+03 |\n",
      "|    critic_loss     | 3.39e+03 |\n",
      "|    learning_rate   | 0.00218  |\n",
      "|    mean_cost_loss  | 288      |\n",
      "|    n_updates       | 510      |\n",
      "|    std_cost_loss   | 5.77     |\n",
      "---------------------------------\n",
      "Eval num_timesteps=870, episode_reward=-0.38 +/- 0.00\n",
      "Episode length: 30.00 +/- 0.00\n",
      "---------------------------------\n",
      "| eval/              |          |\n",
      "|    mean_ep_length  | 30       |\n",
      "|    mean_reward     | -0.381   |\n",
      "| time/              |          |\n",
      "|    total timesteps | 870      |\n",
      "| train/             |          |\n",
      "|    actor_loss      | 307      |\n",
      "|    critic2_loss    | 7.72e+03 |\n",
      "|    critic_loss     | 4.96e+03 |\n",
      "|    learning_rate   | 0.00211  |\n",
      "|    mean_cost_loss  | 301      |\n",
      "|    n_updates       | 540      |\n",
      "|    std_cost_loss   | 6.04     |\n",
      "---------------------------------\n",
      "Eval num_timesteps=900, episode_reward=-0.37 +/- 0.00\n",
      "Episode length: 30.00 +/- 0.00\n",
      "---------------------------------\n",
      "| eval/              |          |\n",
      "|    mean_ep_length  | 30       |\n",
      "|    mean_reward     | -0.368   |\n",
      "| time/              |          |\n",
      "|    total timesteps | 900      |\n",
      "| train/             |          |\n",
      "|    actor_loss      | 293      |\n",
      "|    critic2_loss    | 3.8e+03  |\n",
      "|    critic_loss     | 2.72e+03 |\n",
      "|    learning_rate   | 0.00205  |\n",
      "|    mean_cost_loss  | 287      |\n",
      "|    n_updates       | 570      |\n",
      "|    std_cost_loss   | 5.76     |\n",
      "---------------------------------\n",
      "---------------------------------\n",
      "| rollout/           |          |\n",
      "|    ep_len_mean     | 30       |\n",
      "|    ep_rew_mean     | -0.594   |\n",
      "| time/              |          |\n",
      "|    episodes        | 30       |\n",
      "|    fps             | 17       |\n",
      "|    time_elapsed    | 50       |\n",
      "|    total timesteps | 900      |\n",
      "---------------------------------\n",
      "Eval num_timesteps=930, episode_reward=-0.38 +/- 0.00\n",
      "Episode length: 30.00 +/- 0.00\n",
      "---------------------------------\n",
      "| eval/              |          |\n",
      "|    mean_ep_length  | 30       |\n",
      "|    mean_reward     | -0.385   |\n",
      "| time/              |          |\n",
      "|    total timesteps | 930      |\n",
      "| train/             |          |\n",
      "|    actor_loss      | 331      |\n",
      "|    critic2_loss    | 5.71e+03 |\n",
      "|    critic_loss     | 4.82e+03 |\n",
      "|    learning_rate   | 0.00199  |\n",
      "|    mean_cost_loss  | 325      |\n",
      "|    n_updates       | 600      |\n",
      "|    std_cost_loss   | 6.51     |\n",
      "---------------------------------\n",
      "Eval num_timesteps=960, episode_reward=-0.37 +/- 0.00\n",
      "Episode length: 30.00 +/- 0.00\n",
      "---------------------------------\n",
      "| eval/              |          |\n",
      "|    mean_ep_length  | 30       |\n",
      "|    mean_reward     | -0.371   |\n",
      "| time/              |          |\n",
      "|    total timesteps | 960      |\n",
      "| train/             |          |\n",
      "|    actor_loss      | 290      |\n",
      "|    critic2_loss    | 6.33e+03 |\n",
      "|    critic_loss     | 6.24e+03 |\n",
      "|    learning_rate   | 0.00193  |\n",
      "|    mean_cost_loss  | 284      |\n",
      "|    n_updates       | 630      |\n",
      "|    std_cost_loss   | 5.69     |\n",
      "---------------------------------\n",
      "Eval num_timesteps=990, episode_reward=-0.38 +/- 0.00\n",
      "Episode length: 30.00 +/- 0.00\n",
      "---------------------------------\n",
      "| eval/              |          |\n",
      "|    mean_ep_length  | 30       |\n",
      "|    mean_reward     | -0.379   |\n",
      "| time/              |          |\n",
      "|    total timesteps | 990      |\n",
      "| train/             |          |\n",
      "|    actor_loss      | 324      |\n",
      "|    critic2_loss    | 4.74e+03 |\n",
      "|    critic_loss     | 3.56e+03 |\n",
      "|    learning_rate   | 0.00187  |\n",
      "|    mean_cost_loss  | 318      |\n",
      "|    n_updates       | 660      |\n",
      "|    std_cost_loss   | 6.37     |\n",
      "---------------------------------\n",
      "Eval num_timesteps=1020, episode_reward=-0.38 +/- 0.00\n",
      "Episode length: 30.00 +/- 0.00\n",
      "---------------------------------\n",
      "| eval/              |          |\n",
      "|    mean_ep_length  | 30       |\n",
      "|    mean_reward     | -0.378   |\n",
      "| time/              |          |\n",
      "|    total timesteps | 1020     |\n",
      "| train/             |          |\n",
      "|    actor_loss      | 326      |\n",
      "|    critic2_loss    | 3.92e+03 |\n",
      "|    critic_loss     | 3.21e+03 |\n",
      "|    learning_rate   | 0.00181  |\n",
      "|    mean_cost_loss  | 320      |\n",
      "|    n_updates       | 690      |\n",
      "|    std_cost_loss   | 6.41     |\n",
      "---------------------------------\n",
      "Eval num_timesteps=1050, episode_reward=-0.38 +/- 0.00\n",
      "Episode length: 30.00 +/- 0.00\n",
      "---------------------------------\n",
      "| eval/              |          |\n",
      "|    mean_ep_length  | 30       |\n",
      "|    mean_reward     | -0.384   |\n",
      "| time/              |          |\n",
      "|    total timesteps | 1050     |\n",
      "| train/             |          |\n",
      "|    actor_loss      | 314      |\n",
      "|    critic2_loss    | 4.26e+03 |\n",
      "|    critic_loss     | 4.28e+03 |\n",
      "|    learning_rate   | 0.00176  |\n",
      "|    mean_cost_loss  | 308      |\n",
      "|    n_updates       | 720      |\n",
      "|    std_cost_loss   | 6.17     |\n",
      "---------------------------------\n",
      "Eval num_timesteps=1080, episode_reward=-0.40 +/- 0.00\n",
      "Episode length: 30.00 +/- 0.00\n",
      "---------------------------------\n",
      "| eval/              |          |\n",
      "|    mean_ep_length  | 30       |\n",
      "|    mean_reward     | -0.396   |\n",
      "| time/              |          |\n",
      "|    total timesteps | 1080     |\n",
      "| train/             |          |\n",
      "|    actor_loss      | 339      |\n",
      "|    critic2_loss    | 5.62e+03 |\n",
      "|    critic_loss     | 5.98e+03 |\n",
      "|    learning_rate   | 0.0017   |\n",
      "|    mean_cost_loss  | 332      |\n",
      "|    n_updates       | 750      |\n",
      "|    std_cost_loss   | 6.65     |\n",
      "---------------------------------\n",
      "Eval num_timesteps=1110, episode_reward=-0.37 +/- 0.00\n",
      "Episode length: 30.00 +/- 0.00\n",
      "---------------------------------\n",
      "| eval/              |          |\n",
      "|    mean_ep_length  | 30       |\n",
      "|    mean_reward     | -0.372   |\n",
      "| time/              |          |\n",
      "|    total timesteps | 1110     |\n",
      "| train/             |          |\n",
      "|    actor_loss      | 306      |\n",
      "|    critic2_loss    | 4.59e+03 |\n",
      "|    critic_loss     | 5.74e+03 |\n",
      "|    learning_rate   | 0.00165  |\n",
      "|    mean_cost_loss  | 300      |\n",
      "|    n_updates       | 780      |\n",
      "|    std_cost_loss   | 6.01     |\n",
      "---------------------------------\n",
      "Eval num_timesteps=1140, episode_reward=-0.39 +/- 0.00\n",
      "Episode length: 30.00 +/- 0.00\n",
      "---------------------------------\n",
      "| eval/              |          |\n",
      "|    mean_ep_length  | 30       |\n",
      "|    mean_reward     | -0.389   |\n",
      "| time/              |          |\n",
      "|    total timesteps | 1140     |\n",
      "| train/             |          |\n",
      "|    actor_loss      | 359      |\n",
      "|    critic2_loss    | 4.83e+03 |\n",
      "|    critic_loss     | 4.94e+03 |\n",
      "|    learning_rate   | 0.0016   |\n",
      "|    mean_cost_loss  | 352      |\n",
      "|    n_updates       | 810      |\n",
      "|    std_cost_loss   | 7.05     |\n",
      "---------------------------------\n",
      "Eval num_timesteps=1170, episode_reward=-0.38 +/- 0.00\n",
      "Episode length: 30.00 +/- 0.00\n",
      "---------------------------------\n",
      "| eval/              |          |\n",
      "|    mean_ep_length  | 30       |\n",
      "|    mean_reward     | -0.377   |\n",
      "| time/              |          |\n",
      "|    total timesteps | 1170     |\n",
      "| train/             |          |\n",
      "|    actor_loss      | 278      |\n",
      "|    critic2_loss    | 6.28e+03 |\n",
      "|    critic_loss     | 6.88e+03 |\n",
      "|    learning_rate   | 0.00155  |\n",
      "|    mean_cost_loss  | 272      |\n",
      "|    n_updates       | 840      |\n",
      "|    std_cost_loss   | 5.46     |\n",
      "---------------------------------\n",
      "Eval num_timesteps=1200, episode_reward=-0.38 +/- 0.00\n",
      "Episode length: 30.00 +/- 0.00\n",
      "---------------------------------\n",
      "| eval/              |          |\n",
      "|    mean_ep_length  | 30       |\n",
      "|    mean_reward     | -0.38    |\n",
      "| time/              |          |\n",
      "|    total timesteps | 1200     |\n",
      "| train/             |          |\n",
      "|    actor_loss      | 341      |\n",
      "|    critic2_loss    | 4.61e+03 |\n",
      "|    critic_loss     | 4.12e+03 |\n",
      "|    learning_rate   | 0.00151  |\n",
      "|    mean_cost_loss  | 334      |\n",
      "|    n_updates       | 870      |\n",
      "|    std_cost_loss   | 6.7      |\n",
      "---------------------------------\n",
      "Eval num_timesteps=1230, episode_reward=-0.37 +/- 0.00\n",
      "Episode length: 30.00 +/- 0.00\n",
      "---------------------------------\n",
      "| eval/              |          |\n",
      "|    mean_ep_length  | 30       |\n",
      "|    mean_reward     | -0.375   |\n",
      "| time/              |          |\n",
      "|    total timesteps | 1230     |\n",
      "| train/             |          |\n",
      "|    actor_loss      | 327      |\n",
      "|    critic2_loss    | 3.85e+03 |\n",
      "|    critic_loss     | 3.16e+03 |\n",
      "|    learning_rate   | 0.00146  |\n",
      "|    mean_cost_loss  | 320      |\n",
      "|    n_updates       | 900      |\n",
      "|    std_cost_loss   | 6.41     |\n",
      "---------------------------------\n",
      "Eval num_timesteps=1260, episode_reward=-0.37 +/- 0.00\n",
      "Episode length: 30.00 +/- 0.00\n",
      "---------------------------------\n",
      "| eval/              |          |\n",
      "|    mean_ep_length  | 30       |\n",
      "|    mean_reward     | -0.373   |\n",
      "| time/              |          |\n",
      "|    total timesteps | 1260     |\n",
      "| train/             |          |\n",
      "|    actor_loss      | 324      |\n",
      "|    critic2_loss    | 4.64e+03 |\n",
      "|    critic_loss     | 3.88e+03 |\n",
      "|    learning_rate   | 0.00142  |\n",
      "|    mean_cost_loss  | 318      |\n",
      "|    n_updates       | 930      |\n",
      "|    std_cost_loss   | 6.36     |\n",
      "---------------------------------\n",
      "Eval num_timesteps=1290, episode_reward=-0.38 +/- 0.00\n",
      "Episode length: 30.00 +/- 0.00\n",
      "---------------------------------\n",
      "| eval/              |          |\n",
      "|    mean_ep_length  | 30       |\n",
      "|    mean_reward     | -0.38    |\n",
      "| time/              |          |\n",
      "|    total timesteps | 1290     |\n",
      "| train/             |          |\n",
      "|    actor_loss      | 330      |\n",
      "|    critic2_loss    | 2.48e+03 |\n",
      "|    critic_loss     | 2.22e+03 |\n",
      "|    learning_rate   | 0.00137  |\n",
      "|    mean_cost_loss  | 324      |\n",
      "|    n_updates       | 960      |\n",
      "|    std_cost_loss   | 6.48     |\n",
      "---------------------------------\n",
      "Eval num_timesteps=1320, episode_reward=-0.38 +/- 0.00\n",
      "Episode length: 30.00 +/- 0.00\n",
      "---------------------------------\n",
      "| eval/              |          |\n",
      "|    mean_ep_length  | 30       |\n",
      "|    mean_reward     | -0.381   |\n",
      "| time/              |          |\n",
      "|    total timesteps | 1320     |\n",
      "| train/             |          |\n",
      "|    actor_loss      | 331      |\n",
      "|    critic2_loss    | 5.06e+03 |\n",
      "|    critic_loss     | 4.74e+03 |\n",
      "|    learning_rate   | 0.00133  |\n",
      "|    mean_cost_loss  | 324      |\n",
      "|    n_updates       | 990      |\n",
      "|    std_cost_loss   | 6.5      |\n",
      "---------------------------------\n",
      "Eval num_timesteps=1350, episode_reward=-0.38 +/- 0.00\n",
      "Episode length: 30.00 +/- 0.00\n",
      "---------------------------------\n",
      "| eval/              |          |\n",
      "|    mean_ep_length  | 30       |\n",
      "|    mean_reward     | -0.376   |\n",
      "| time/              |          |\n",
      "|    total timesteps | 1350     |\n",
      "| train/             |          |\n",
      "|    actor_loss      | 316      |\n",
      "|    critic2_loss    | 5.66e+03 |\n",
      "|    critic_loss     | 5.07e+03 |\n",
      "|    learning_rate   | 0.00129  |\n",
      "|    mean_cost_loss  | 310      |\n",
      "|    n_updates       | 1020     |\n",
      "|    std_cost_loss   | 6.21     |\n",
      "---------------------------------\n",
      "Eval num_timesteps=1380, episode_reward=-0.38 +/- 0.00\n",
      "Episode length: 30.00 +/- 0.00\n",
      "---------------------------------\n",
      "| eval/              |          |\n",
      "|    mean_ep_length  | 30       |\n",
      "|    mean_reward     | -0.38    |\n",
      "| time/              |          |\n",
      "|    total timesteps | 1380     |\n",
      "| train/             |          |\n",
      "|    actor_loss      | 349      |\n",
      "|    critic2_loss    | 2.85e+03 |\n",
      "|    critic_loss     | 2.63e+03 |\n",
      "|    learning_rate   | 0.00125  |\n",
      "|    mean_cost_loss  | 342      |\n",
      "|    n_updates       | 1050     |\n",
      "|    std_cost_loss   | 6.84     |\n",
      "---------------------------------\n",
      "Eval num_timesteps=1410, episode_reward=-0.37 +/- 0.00\n",
      "Episode length: 30.00 +/- 0.00\n",
      "---------------------------------\n",
      "| eval/              |          |\n",
      "|    mean_ep_length  | 30       |\n",
      "|    mean_reward     | -0.374   |\n",
      "| time/              |          |\n",
      "|    total timesteps | 1410     |\n",
      "| train/             |          |\n",
      "|    actor_loss      | 320      |\n",
      "|    critic2_loss    | 4.21e+03 |\n",
      "|    critic_loss     | 3.78e+03 |\n",
      "|    learning_rate   | 0.00121  |\n",
      "|    mean_cost_loss  | 314      |\n",
      "|    n_updates       | 1080     |\n",
      "|    std_cost_loss   | 6.28     |\n",
      "---------------------------------\n",
      "Eval num_timesteps=1440, episode_reward=-0.38 +/- 0.00\n",
      "Episode length: 30.00 +/- 0.00\n",
      "---------------------------------\n",
      "| eval/              |          |\n",
      "|    mean_ep_length  | 30       |\n",
      "|    mean_reward     | -0.377   |\n",
      "| time/              |          |\n",
      "|    total timesteps | 1440     |\n",
      "| train/             |          |\n",
      "|    actor_loss      | 332      |\n",
      "|    critic2_loss    | 5.16e+03 |\n",
      "|    critic_loss     | 4.58e+03 |\n",
      "|    learning_rate   | 0.00118  |\n",
      "|    mean_cost_loss  | 326      |\n",
      "|    n_updates       | 1110     |\n",
      "|    std_cost_loss   | 6.52     |\n",
      "---------------------------------\n",
      "Eval num_timesteps=1470, episode_reward=-0.38 +/- 0.00\n",
      "Episode length: 30.00 +/- 0.00\n",
      "---------------------------------\n",
      "| eval/              |          |\n",
      "|    mean_ep_length  | 30       |\n",
      "|    mean_reward     | -0.378   |\n",
      "| time/              |          |\n",
      "|    total timesteps | 1470     |\n",
      "| train/             |          |\n",
      "|    actor_loss      | 339      |\n",
      "|    critic2_loss    | 4.58e+03 |\n",
      "|    critic_loss     | 4.25e+03 |\n",
      "|    learning_rate   | 0.00114  |\n",
      "|    mean_cost_loss  | 332      |\n",
      "|    n_updates       | 1140     |\n",
      "|    std_cost_loss   | 6.65     |\n",
      "---------------------------------\n",
      "Eval num_timesteps=1500, episode_reward=-0.38 +/- 0.00\n",
      "Episode length: 30.00 +/- 0.00\n",
      "---------------------------------\n",
      "| eval/              |          |\n",
      "|    mean_ep_length  | 30       |\n",
      "|    mean_reward     | -0.375   |\n",
      "| time/              |          |\n",
      "|    total timesteps | 1500     |\n",
      "| train/             |          |\n",
      "|    actor_loss      | 311      |\n",
      "|    critic2_loss    | 5.13e+03 |\n",
      "|    critic_loss     | 4.82e+03 |\n",
      "|    learning_rate   | 0.00111  |\n",
      "|    mean_cost_loss  | 305      |\n",
      "|    n_updates       | 1170     |\n",
      "|    std_cost_loss   | 6.12     |\n",
      "---------------------------------\n",
      "[Training End]  steps: 1500\ttimes: 83.67237782478333\n"
     ]
    }
   ],
   "source": [
    "model = model.learn(**learn_kwargs)"
   ],
   "metadata": {
    "collapsed": false,
    "pycharm": {
     "name": "#%%\n"
    }
   }
  },
  {
   "cell_type": "code",
   "execution_count": null,
   "outputs": [],
   "source": [
    "config.save_config(f'{learn_kwargs[\"eval_log_path\"]}/config.yaml', env_kwargs, model_kwargs, learn_kwargs)"
   ],
   "metadata": {
    "collapsed": false,
    "pycharm": {
     "name": "#%%\n"
    }
   }
  },
  {
   "cell_type": "markdown",
   "source": [
    "# 3. P&L Evaluation"
   ],
   "metadata": {
    "collapsed": false
   }
  },
  {
   "cell_type": "code",
   "execution_count": 14,
   "outputs": [],
   "source": [
    "print(learn_kwargs['eval_log_path'])\n",
    "model = model.load(learn_kwargs['eval_log_path'] + '/best_model')"
   ],
   "metadata": {
    "collapsed": false,
    "pycharm": {
     "name": "#%%\n"
    }
   }
  },
  {
   "cell_type": "code",
   "execution_count": 15,
   "outputs": [],
   "source": [
    "def pnl_reward(pnl):\n",
    "    mean = np.mean(pnl)\n",
    "    std = np.std(pnl)\n",
    "    return mean - 0.02 * std , (mean, std)"
   ],
   "metadata": {
    "collapsed": false,
    "pycharm": {
     "name": "#%%\n"
    }
   }
  },
  {
   "cell_type": "code",
   "execution_count": null,
   "outputs": [],
   "source": [
    "random_pnl = np.load('test/random_pnl.npy')\n",
    "delta_pnl = np.load('test/delta_pnl.npy')\n",
    "rl_pnl = np.load('test/rl_pnl.npy')"
   ],
   "metadata": {
    "collapsed": false,
    "pycharm": {
     "name": "#%%\n"
    }
   }
  },
  {
   "cell_type": "code",
   "execution_count": null,
   "outputs": [],
   "source": [
    "env = model_kwargs['env']\n",
    "rl_pnl2 = np.mean([env.pnl_eval(model) for _ in range(30)], axis=0)"
   ],
   "metadata": {
    "collapsed": false,
    "pycharm": {
     "name": "#%%\n"
    }
   }
  },
  {
   "cell_type": "code",
   "execution_count": 16,
   "outputs": [
    {
     "data": {
      "text/plain": "<Figure size 1000x500 with 1 Axes>",
      "image/png": "[encoded data removed]"
     },
     "metadata": {},
     "output_type": "display_data"
    },
    {
     "name": "stdout",
     "output_type": "stream",
     "text": [
      "-0.01939646930114716\n",
      "0.3648112415299505\n"
     ]
    }
   ],
   "source": [
    "plt.xlabel('P&L')\n",
    "# plt.hist(random_pnl, bins=100, range=(-0.25, 0.05), alpha=0.6, label='random')\n",
    "plt.hist(delta_pnl, bins=100, range=(-0.1, 0.05), alpha=0.6, label='delta')\n",
    "plt.hist(rl_pnl, bins=100, range=(-0.1, 0.05), alpha=0.6, label='rl')\n",
    "plt.hist(rl_pnl2, bins=100, range=(-0.1, 0.05), alpha=0.6, label='ntb')\n",
    "plt.legend()\n",
    "plt.show()\n",
    "\n",
    "r1, (m1, s1) = pnl_reward(delta_pnl)\n",
    "r2, (m2, s2) = pnl_reward(rl_pnl)\n",
    "r3, (m3, s3) = pnl_reward(rl_pnl2)\n",
    "print(f'delta:\\t{r1:.4f}, {m1:.4f}, {s1:.4f}')\n",
    "print(f'rl:\\t\\t{r2:.4f}, {m2:.4f}, {s2:.4f}')\n",
    "print(f'ntb:\\t\\t{r3:.4f}, {m3:.4f}, {s3:.4f}')\n",
    "print((r2-r1)/abs(r2))\n",
    "print((r3-r2)/abs(r3))"
   ],
   "metadata": {
    "collapsed": false,
    "pycharm": {
     "name": "#%%\n"
    }
   }
  },
  {
   "cell_type": "markdown",
   "source": [
    "# 6. Comparison with Delta Hedging\n",
    "\n",
    "$$ \\delta = \\frac{\\partial V}{\\partial S} $$\n",
    "\n",
    "=> 즉 $S = n(u)$이면 ($u$는 기초자산 단위) 여기서 $S$가 순간 변화할 때 $V\\pm n(u)$ 가 되는 것\n",
    "\n",
    "따라서 $N$ 만큼의 옵션 매도자가 순간의 기초자산 가격 변화로 얻게 되는 reward는 $\\pm N\\delta (u)$\n",
    "따라서 위험을 없애려면 미리 기초자산을 $N\\delta$ 만큼 사두어서 기초자산 가격 상승에 대한 팔아버린 옵션 가격 손해를 상쇄해야 한다."
   ],
   "metadata": {
    "collapsed": false
   }
  },
  {
   "cell_type": "code",
   "execution_count": 34,
   "outputs": [],
   "source": [
    "total_delta = env.delta_eval()"
   ],
   "metadata": {
    "collapsed": false,
    "pycharm": {
     "name": "#%%\n"
    }
   }
  },
  {
   "cell_type": "code",
   "execution_count": 35,
   "outputs": [
    {
     "data": {
      "text/plain": "<Figure size 1000x500 with 1 Axes>",
      "image/png": "[encoded data removed]"
     },
     "metadata": {},
     "output_type": "display_data"
    }
   ],
   "source": [
    "plt.hist(total_pnl, bins=100, range=(-0.2, 0.2), alpha=0.6, label='random')\n",
    "plt.hist(total_delta, bins=100, range=(-0.2, 0.2), alpha=0.6, label='delta')\n",
    "plt.hist(total_pnl_after2, bins=100, range=(-0.2, 0.2), alpha=0.6, label='rl')\n",
    "plt.legend()\n",
    "plt.show()"
   ],
   "metadata": {
    "collapsed": false,
    "pycharm": {
     "name": "#%%\n"
    }
   }
  },
  {
   "cell_type": "code",
   "execution_count": 36,
   "outputs": [
    {
     "name": "stdout",
     "output_type": "stream",
     "text": [
      "-0.026\n",
      "-0.033\n",
      "-0.019\n",
      "random vs rl: 0.3648112415299505\t delta vs rl: 0.706926846200563\n"
     ]
    }
   ],
   "source": [
    "pnl_reward = lambda costs: np.mean(costs) - 0.02 * np.std(costs)\n",
    "\n",
    "random_pnl = pnl_reward(total_pnl)\n",
    "delta_pnl = pnl_reward(total_delta)\n",
    "rl_pnl = pnl_reward(total_pnl_after2)\n",
    "\n",
    "print(round(random_pnl, 3))\n",
    "print(round(delta_pnl, 3))\n",
    "print(round(rl_pnl, 3))\n",
    "print(f'random vs rl: {(rl_pnl - random_pnl)/abs(rl_pnl)}\\t delta vs rl: {(rl_pnl-delta_pnl)/abs(rl_pnl)}')"
   ],
   "metadata": {
    "collapsed": false,
    "pycharm": {
     "name": "#%%\n"
    }
   }
  },
  {
   "cell_type": "code",
   "execution_count": null,
   "outputs": [],
   "source": [],
   "metadata": {
    "collapsed": false,
    "pycharm": {
     "name": "#%%\n"
    }
   }
  }
 ],
 "metadata": {
  "kernelspec": {
   "display_name": "Python 3",
   "language": "python",
   "name": "python3"
  },
  "language_info": {
   "codemirror_mode": {
    "name": "ipython",
    "version": 2
   },
   "file_extension": ".py",
   "mimetype": "text/x-python",
   "name": "python",
   "nbconvert_exporter": "python",
   "pygments_lexer": "ipython2",
   "version": "2.7.6"
  }
 },
 "nbformat": 4,
 "nbformat_minor": 0
}