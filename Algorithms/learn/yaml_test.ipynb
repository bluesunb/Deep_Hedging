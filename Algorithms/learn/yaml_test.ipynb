{
 "cells": [
  {
   "cell_type": "code",
   "execution_count": 1,
   "metadata": {
    "collapsed": true
   },
   "outputs": [],
   "source": [
    "from abc import ABC, abstractmethod\n",
    "import yaml\n",
    "# from stable_baselines3.common.callbacks import BaseCallback\n",
    "\n",
    "from typing import Dict, Any, Dict\n",
    "class BaseCallback:\n",
    "    \"\"\"\n",
    "    Base class for callback.\n",
    "\n",
    "    :param verbose:\n",
    "    \"\"\"\n",
    "\n",
    "    def __init__(self, verbose: int = 0):\n",
    "        super(BaseCallback, self).__init__()\n",
    "        # The RL model\n",
    "        self.model = None  # type: Optional[base_class.BaseAlgorithm]\n",
    "        # An alias for self.model.get_env(), the environment used for training\n",
    "        self.training_env = None  # type: Union[gym.Env, VecEnv, None]\n",
    "        # Number of time the callback was called\n",
    "        self.n_calls = 0  # type: int\n",
    "        # n_envs * n times env.step() was called\n",
    "        self.num_timesteps = 0  # type: int\n",
    "        self.verbose = verbose\n",
    "        self.locals: Dict[str, Any] = {}\n",
    "        self.globals: Dict[str, Any] = {}\n",
    "        self.logger = None\n",
    "        # Sometimes, for event callback, it is useful\n",
    "        # to have access to the parent object\n",
    "        self.parent = None  # type: Optional[BaseCallback]\n",
    "\n",
    "    # Type hint as string to avoid circular import\n",
    "    def init_callback(self, model: \"base_class.BaseAlgorithm\") -> None:\n",
    "        \"\"\"\n",
    "        Initialize the callback by saving references to the\n",
    "        RL model and the training environment for convenience.\n",
    "        \"\"\"\n",
    "        self.model = model\n",
    "        self.training_env = model.get_env()\n",
    "        self.logger = model.logger\n",
    "        self._init_callback()\n",
    "\n",
    "    def _init_callback(self) -> None:\n",
    "        print('_init')\n",
    "\n",
    "    def on_training_start(self, locals_: Dict[str, Any], globals_: Dict[str, Any]) -> None:\n",
    "        # Those are reference and will be updated automatically\n",
    "        self.locals = locals_\n",
    "        self.globals = globals_\n",
    "        self._on_training_start()\n",
    "\n",
    "    def _on_training_start(self) -> None:\n",
    "        print('training start')\n",
    "\n",
    "    def on_rollout_start(self) -> None:\n",
    "        self._on_rollout_start()\n",
    "\n",
    "    def _on_rollout_start(self) -> None:\n",
    "        print('on_rollout_start')\n",
    "\n",
    "    def _on_step(self) -> bool:\n",
    "        \"\"\"\n",
    "        :return: If the callback returns False, training is aborted early.\n",
    "        \"\"\"\n",
    "        return True\n",
    "\n",
    "    def on_step(self) -> bool:\n",
    "        \"\"\"\n",
    "        This method will be called by the model after each call to ``env.step()``.\n",
    "\n",
    "        For child callback (of an ``EventCallback``), this will be called\n",
    "        when the event is triggered.\n",
    "\n",
    "        :return: If the callback returns False, training is aborted early.\n",
    "        \"\"\"\n",
    "        self.n_calls += 1\n",
    "        # timesteps start at zero\n",
    "        self.num_timesteps = self.model.num_timesteps\n",
    "\n",
    "        return self._on_step()\n",
    "\n",
    "    def on_training_end(self) -> None:\n",
    "        self._on_training_end()\n",
    "\n",
    "    def _on_training_end(self) -> None:\n",
    "        print('on_training_end')\n",
    "\n",
    "    def on_rollout_end(self) -> None:\n",
    "        self._on_rollout_end()\n",
    "\n",
    "    def _on_rollout_end(self) -> None:\n",
    "        print('rollout end')\n",
    "\n",
    "    def update_locals(self, locals_: Dict[str, Any]) -> None:\n",
    "        \"\"\"\n",
    "        Update the references to the local variables.\n",
    "\n",
    "        :param locals_: the local variables during rollout collection\n",
    "        \"\"\"\n",
    "        self.locals.update(locals_)\n",
    "        self.update_child_locals(locals_)\n",
    "\n",
    "    def update_child_locals(self, locals_: Dict[str, Any]) -> None:\n",
    "        \"\"\"\n",
    "        Update the references to the local variables on sub callbacks.\n",
    "\n",
    "        :param locals_: the local variables during rollout collection\n",
    "        \"\"\"\n",
    "        print('update')\n",
    "\n",
    "class Tmp:\n",
    "    def __init__(self):\n",
    "        self.a = 0\n",
    "\n",
    "    def tmp(self):\n",
    "        print('TMP')"
   ]
  },
  {
   "cell_type": "code",
   "execution_count": 13,
   "outputs": [
    {
     "data": {
      "text/plain": "\"!!python/name:__main__.BaseCallback ''\\n\""
     },
     "execution_count": 13,
     "metadata": {},
     "output_type": "execute_result"
    }
   ],
   "source": [
    "yaml.dump(BaseCallback)"
   ],
   "metadata": {
    "collapsed": false,
    "pycharm": {
     "name": "#%%\n"
    }
   }
  },
  {
   "cell_type": "code",
   "execution_count": 4,
   "outputs": [],
   "source": [
    "class AbcClass(ABC):\n",
    "    def __init__(self, a):\n",
    "        self.a = a\n",
    "\n",
    "    @abstractmethod\n",
    "    def tmp(self, b):\n",
    "        return self.a+b\n",
    "\n",
    "class TrueClass(AbcClass):\n",
    "    def tmp(self, b):\n",
    "        return self.a+b, b"
   ],
   "metadata": {
    "collapsed": false,
    "pycharm": {
     "name": "#%%\n"
    }
   }
  },
  {
   "cell_type": "code",
   "execution_count": 25,
   "outputs": [],
   "source": [
    "t = TrueClass(10)"
   ],
   "metadata": {
    "collapsed": false,
    "pycharm": {
     "name": "#%%\n"
    }
   }
  },
  {
   "cell_type": "code",
   "execution_count": 26,
   "outputs": [
    {
     "data": {
      "text/plain": "(20, 10)"
     },
     "execution_count": 26,
     "metadata": {},
     "output_type": "execute_result"
    }
   ],
   "source": [
    "t.tmp(10)"
   ],
   "metadata": {
    "collapsed": false,
    "pycharm": {
     "name": "#%%\n"
    }
   }
  },
  {
   "cell_type": "code",
   "execution_count": 5,
   "outputs": [
    {
     "data": {
      "text/plain": "\"!!python/name:__main__.TrueClass ''\\n\""
     },
     "execution_count": 5,
     "metadata": {},
     "output_type": "execute_result"
    }
   ],
   "source": [
    "yaml.dump(TrueClass)"
   ],
   "metadata": {
    "collapsed": false,
    "pycharm": {
     "name": "#%%\n"
    }
   }
  },
  {
   "cell_type": "code",
   "execution_count": null,
   "outputs": [],
   "source": [],
   "metadata": {
    "collapsed": false,
    "pycharm": {
     "name": "#%%\n"
    }
   }
  }
 ],
 "metadata": {
  "kernelspec": {
   "display_name": "Python 3",
   "language": "python",
   "name": "python3"
  },
  "language_info": {
   "codemirror_mode": {
    "name": "ipython",
    "version": 2
   },
   "file_extension": ".py",
   "mimetype": "text/x-python",
   "name": "python",
   "nbconvert_exporter": "python",
   "pygments_lexer": "ipython2",
   "version": "2.7.6"
  }
 },
 "nbformat": 4,
 "nbformat_minor": 0
}