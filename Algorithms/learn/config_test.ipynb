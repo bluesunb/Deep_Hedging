{
 "cells": [
  {
   "cell_type": "code",
   "execution_count": 1,
   "metadata": {
    "collapsed": true
   },
   "outputs": [],
   "source": [
    "import yaml\n",
    "from Algorithms.learn.utils import config"
   ]
  },
  {
   "cell_type": "markdown",
   "source": [
    "## Construct Default Config"
   ],
   "metadata": {
    "collapsed": false
   }
  },
  {
   "cell_type": "code",
   "execution_count": 2,
   "outputs": [
    {
     "name": "stdout",
     "output_type": "stream",
     "text": [
      "env 'BSMarket was created!\n",
      "env 'BSMarket was created!\n"
     ]
    }
   ],
   "source": [
    "default_config = config.default_config()\n",
    "env_kwargs = default_config['env_kwargs']\n",
    "model_kwargs = default_config['model_kwargs']\n",
    "learn_kwargs = default_config['learn_kwargs']"
   ],
   "metadata": {
    "collapsed": false,
    "pycharm": {
     "name": "#%%\n"
    }
   }
  },
  {
   "cell_type": "code",
   "execution_count": 3,
   "outputs": [
    {
     "data": {
      "text/plain": "{'n_assets': 1000,\n 'cost': 0.02,\n 'n_periods': 30,\n 'freq': 1,\n 'period_unit': 365,\n 'drift': 0.0,\n 'volatility': 0.2,\n 'init_price': 1.0,\n 'risk_free_interest': 0.0,\n 'strike': 1.0,\n 'dividend': 0.0,\n 'payoff': 'european',\n 'gen_name': 'gbm',\n 'reward_mode': 'pnl'}"
     },
     "execution_count": 3,
     "metadata": {},
     "output_type": "execute_result"
    }
   ],
   "source": [
    "env_kwargs"
   ],
   "metadata": {
    "collapsed": false,
    "pycharm": {
     "name": "#%%\n"
    }
   }
  },
  {
   "cell_type": "code",
   "execution_count": 4,
   "outputs": [
    {
     "data": {
      "text/plain": "{'policy': Algorithms.policies.DoubleTD3Policy,\n 'env': <Env.env.BSMarket at 0x25fb415cbb0>,\n 'learning_rate': <function Algorithms.learn.utils.config.lr_schedule(left: float)>,\n 'buffer_size': 200,\n 'learning_starts': 100,\n 'batch_size': 15,\n 'tau': 0.005,\n 'gamma': 0.99,\n 'train_freq': (1, 'episode'),\n 'gradient_steps': -1,\n 'action_noise': NormalActionNoise(mu=0.0, sigma=0.1),\n 'replay_buffer_class': None,\n 'replay_buffer_kwargs': None,\n 'optimize_memory_usage': False,\n 'tensorboard_log': 'logs/tb_logs',\n 'create_eval_env': False,\n 'policy_kwargs': {'net_arch': [],\n  'activation_fn': torch.nn.modules.activation.ReLU,\n  'features_extractor_class': Env.feature_extractor.BatchNormExtractor,\n  'features_extractor_kwargs': {'features_in': 4,\n   'features_out': 2,\n   'net_arch': [32, 64],\n   'activation_fn': torch.nn.modules.activation.ReLU},\n  'normalize_images': False,\n  'optimizer_class': torch.optim.adam.Adam,\n  'optimizer_kwargs': None,\n  'n_critics': 1,\n  'share_features_extractor': True},\n 'verbose': 1,\n 'seed': 42,\n 'device': 'auto'}"
     },
     "execution_count": 4,
     "metadata": {},
     "output_type": "execute_result"
    }
   ],
   "source": [
    "model_kwargs"
   ],
   "metadata": {
    "collapsed": false,
    "pycharm": {
     "name": "#%%\n"
    }
   }
  },
  {
   "cell_type": "code",
   "execution_count": 5,
   "outputs": [
    {
     "data": {
      "text/plain": "{'total_timesteps': 1000,\n 'callback': <Algorithms.learn.utils.callbacks.ReportCallbacks at 0x25fd3e2d070>,\n 'log_interval': 30,\n 'eval_env': <Env.env.BSMarket at 0x25f9cb72b50>,\n 'eval_freq': 30,\n 'n_eval_episodes': 1,\n 'tb_log_name': 'ddpg_220523-1814',\n 'eval_log_path': 'logs/tb_logs/ddpg_220523-1814_1',\n 'reset_num_timesteps': True}"
     },
     "execution_count": 5,
     "metadata": {},
     "output_type": "execute_result"
    }
   ],
   "source": [
    "learn_kwargs"
   ],
   "metadata": {
    "collapsed": false,
    "pycharm": {
     "name": "#%%\n"
    }
   }
  },
  {
   "cell_type": "markdown",
   "source": [
    "## Update Config"
   ],
   "metadata": {
    "collapsed": false
   }
  },
  {
   "cell_type": "code",
   "execution_count": null,
   "outputs": [],
   "source": [
    "env_kwargs['n_assets'] = 1000\n",
    "\n",
    "learn_kwargs.update({\n",
    "    'total_timesteps': 500,\n",
    "})\n",
    "\n",
    "model_kwargs.update({\n",
    "    'buffer_size': 100,\n",
    "    'learning_starts': 100,\n",
    "})"
   ],
   "metadata": {
    "collapsed": false,
    "pycharm": {
     "name": "#%%\n"
    }
   }
  },
  {
   "cell_type": "code",
   "execution_count": null,
   "outputs": [],
   "source": [
    "config.reconstruct_config(env_kwargs, model_kwargs, learn_kwargs)"
   ],
   "metadata": {
    "collapsed": false,
    "pycharm": {
     "name": "#%%\n"
    }
   }
  },
  {
   "cell_type": "markdown",
   "source": [
    "## Save Config"
   ],
   "metadata": {
    "collapsed": false
   }
  },
  {
   "cell_type": "code",
   "execution_count": 6,
   "outputs": [
    {
     "name": "stdout",
     "output_type": "stream",
     "text": [
      "tmp_config.yaml was saved.\n"
     ]
    }
   ],
   "source": [
    "kwargs = {'callback_kwargs': {}}\n",
    "config.save_config('tmp_config.yaml', env_kwargs, model_kwargs, learn_kwargs, **kwargs)"
   ],
   "metadata": {
    "collapsed": false,
    "pycharm": {
     "name": "#%%\n"
    }
   }
  },
  {
   "cell_type": "markdown",
   "source": [
    "## Load Config"
   ],
   "metadata": {
    "collapsed": false
   }
  },
  {
   "cell_type": "code",
   "execution_count": 7,
   "outputs": [
    {
     "name": "stdout",
     "output_type": "stream",
     "text": [
      "env 'BSMarket was created!\n",
      "env 'BSMarket was created!\n"
     ]
    }
   ],
   "source": [
    "env_kwargs, model_kwargs, learn_kwargs = config.load_config('tmp_config.yaml')"
   ],
   "metadata": {
    "collapsed": false,
    "pycharm": {
     "name": "#%%\n"
    }
   }
  },
  {
   "cell_type": "code",
   "execution_count": null,
   "outputs": [],
   "source": [],
   "metadata": {
    "collapsed": false,
    "pycharm": {
     "name": "#%%\n"
    }
   }
  }
 ],
 "metadata": {
  "kernelspec": {
   "display_name": "Python 3",
   "language": "python",
   "name": "python3"
  },
  "language_info": {
   "codemirror_mode": {
    "name": "ipython",
    "version": 2
   },
   "file_extension": ".py",
   "mimetype": "text/x-python",
   "name": "python",
   "nbconvert_exporter": "python",
   "pygments_lexer": "ipython2",
   "version": "2.7.6"
  }
 },
 "nbformat": 4,
 "nbformat_minor": 0
}