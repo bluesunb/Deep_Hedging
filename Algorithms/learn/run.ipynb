{
 "cells": [
  {
   "cell_type": "code",
   "execution_count": 1,
   "outputs": [],
   "source": [
    "import numpy as np\n",
    "import matplotlib.pyplot as plt\n",
    "\n",
    "from Algorithms.learn.utils import config"
   ],
   "metadata": {
    "collapsed": false,
    "pycharm": {
     "name": "#%%\n"
    }
   }
  },
  {
   "cell_type": "markdown",
   "source": [
    "# 0. Plot setting"
   ],
   "metadata": {
    "collapsed": false
   }
  },
  {
   "cell_type": "code",
   "execution_count": 2,
   "outputs": [],
   "source": [
    "import seaborn as sb\n",
    "import matplotlib\n",
    "\n",
    "sb.set_style('whitegrid')\n",
    "\n",
    "FONTSIZE = 10\n",
    "matplotlib.rcParams[\"figure.figsize\"] = (10, 5)\n",
    "matplotlib.rcParams[\"figure.dpi\"] = 100\n",
    "matplotlib.rcParams[\"figure.titlesize\"] = FONTSIZE\n",
    "matplotlib.rcParams[\"legend.fontsize\"] = FONTSIZE\n",
    "matplotlib.rcParams[\"xtick.labelsize\"] = FONTSIZE\n",
    "matplotlib.rcParams[\"ytick.labelsize\"] = FONTSIZE\n",
    "matplotlib.rcParams[\"axes.labelsize\"] = FONTSIZE\n",
    "matplotlib.rcParams[\"axes.titlesize\"] = FONTSIZE\n",
    "matplotlib.rcParams[\"savefig.bbox\"] = \"tight\"\n",
    "matplotlib.rcParams[\"savefig.pad_inches\"] = 0.1\n",
    "matplotlib.rcParams[\"lines.linewidth\"] = 2\n",
    "matplotlib.rcParams[\"axes.linewidth\"] = 1.6"
   ],
   "metadata": {
    "collapsed": false,
    "pycharm": {
     "name": "#%%\n"
    }
   }
  },
  {
   "cell_type": "markdown",
   "source": [
    "# 1. Model Setting"
   ],
   "metadata": {
    "collapsed": false
   }
  },
  {
   "cell_type": "markdown",
   "source": [
    "## 1.1 Load Config"
   ],
   "metadata": {
    "collapsed": false
   }
  },
  {
   "cell_type": "code",
   "execution_count": 3,
   "outputs": [
    {
     "name": "stdout",
     "output_type": "stream",
     "text": [
      "env 'BSMarket was created!\n",
      "env 'BSMarket was created!\n"
     ]
    }
   ],
   "source": [
    "env_kwargs, model_kwargs, learn_kwargs = config.load_config('tmp_config.yaml')"
   ],
   "metadata": {
    "collapsed": false,
    "pycharm": {
     "name": "#%%\n"
    }
   }
  },
  {
   "cell_type": "code",
   "execution_count": 4,
   "outputs": [
    {
     "data": {
      "text/plain": "{'cost': 0.02,\n 'dividend': 0.0,\n 'drift': 0.0,\n 'freq': 1,\n 'gen_name': 'gbm',\n 'init_price': 1.0,\n 'n_assets': 1000,\n 'n_periods': 30,\n 'payoff': 'european',\n 'period_unit': 365,\n 'reward_mode': 'pnl',\n 'risk_free_interest': 0.0,\n 'strike': 1.0,\n 'volatility': 0.2}"
     },
     "execution_count": 4,
     "metadata": {},
     "output_type": "execute_result"
    }
   ],
   "source": [
    "env_kwargs"
   ],
   "metadata": {
    "collapsed": false,
    "pycharm": {
     "name": "#%%\n"
    }
   }
  },
  {
   "cell_type": "code",
   "execution_count": 5,
   "outputs": [
    {
     "data": {
      "text/plain": "{'action_noise': NormalActionNoise(mu=0.0, sigma=0.1),\n 'batch_size': 10,\n 'buffer_size': 100,\n 'create_eval_env': False,\n 'device': 'auto',\n 'env': <Env.env.BSMarket at 0x1d1083ff370>,\n 'gamma': 0.99,\n 'gradient_steps': -1,\n 'learning_rate': <function Algorithms.learn.utils.config.lr_schedule(left: float)>,\n 'learning_starts': 100,\n 'optimize_memory_usage': False,\n 'policy': Algorithms.policies.DoubleTD3Policy,\n 'policy_kwargs': {'activation_fn': torch.nn.modules.activation.ReLU,\n  'features_extractor_class': Env.feature_extractor.BatchNormExtractor,\n  'features_extractor_kwargs': {'activation_fn': torch.nn.modules.activation.ReLU,\n   'features_in': 4,\n   'features_out': 2,\n   'net_arch': [32, 64]},\n  'n_critics': 1,\n  'net_arch': [],\n  'normalize_images': False,\n  'optimizer_class': torch.optim.adam.Adam,\n  'optimizer_kwargs': None,\n  'share_features_extractor': True},\n 'replay_buffer_class': None,\n 'replay_buffer_kwargs': None,\n 'seed': 42,\n 'tau': 0.005,\n 'tensorboard_log': 'logs/tb_logs',\n 'train_freq': (1, 'episode'),\n 'verbose': 1}"
     },
     "execution_count": 5,
     "metadata": {},
     "output_type": "execute_result"
    }
   ],
   "source": [
    "model_kwargs"
   ],
   "metadata": {
    "collapsed": false,
    "pycharm": {
     "name": "#%%\n"
    }
   }
  },
  {
   "cell_type": "code",
   "execution_count": 21,
   "outputs": [
    {
     "data": {
      "text/plain": "{'callback': <Algorithms.learn.utils.callbacks.ReportCallbacks at 0x1d13f84de80>,\n 'eval_env': <Env.env.BSMarket at 0x1d20c7e47c0>,\n 'eval_freq': 30,\n 'eval_log_path': 'logs/tb_logs/ddpg_220523-1136_1',\n 'log_interval': 30,\n 'n_eval_episodes': 1,\n 'reset_num_timesteps': True,\n 'tb_log_name': 'ddpg_220523-1136',\n 'total_timesteps': 500}"
     },
     "execution_count": 21,
     "metadata": {},
     "output_type": "execute_result"
    }
   ],
   "source": [
    "learn_kwargs"
   ],
   "metadata": {
    "collapsed": false,
    "pycharm": {
     "name": "#%%\n"
    }
   }
  },
  {
   "cell_type": "code",
   "execution_count": 20,
   "outputs": [
    {
     "name": "stdout",
     "output_type": "stream",
     "text": [
      "env 'BSMarket was created!\n",
      "model_kwargs['env']: <BSMarket instance>\n",
      "env 'BSMarket was created!\n",
      "learn_kwargs['eval_env']: <BSMarket instance>\n",
      "learn_kwargs['tb_log_name']: ddpg_220523-1136\n",
      "learn_kwargs['eval_log_path']: logs/tb_logs/ddpg_220523-1136_1\n"
     ]
    }
   ],
   "source": [
    "config.reconstruct_config(env_kwargs, model_kwargs, learn_kwargs)"
   ],
   "metadata": {
    "collapsed": false,
    "pycharm": {
     "name": "#%%\n"
    }
   }
  },
  {
   "cell_type": "markdown",
   "source": [
    "## 1.2 Construct env, model"
   ],
   "metadata": {
    "collapsed": false
   }
  },
  {
   "cell_type": "code",
   "execution_count": 22,
   "outputs": [
    {
     "name": "stdout",
     "output_type": "stream",
     "text": [
      "Using cuda device\n",
      "Wrapping the env with a `Monitor` wrapper\n",
      "Wrapping the env in a DummyVecEnv.\n"
     ]
    }
   ],
   "source": [
    "from Algorithms import DDPG\n",
    "\n",
    "model = DDPG(**model_kwargs)"
   ],
   "metadata": {
    "collapsed": false,
    "pycharm": {
     "name": "#%%\n"
    }
   }
  },
  {
   "cell_type": "markdown",
   "source": [
    "## 1.3 Before Learning Plot"
   ],
   "metadata": {
    "collapsed": false
   }
  },
  {
   "cell_type": "code",
   "execution_count": 23,
   "outputs": [],
   "source": [
    "env = model_kwargs['env']\n",
    "total_pnl = env.pnl_eval(model)"
   ],
   "metadata": {
    "collapsed": false,
    "pycharm": {
     "name": "#%%\n"
    }
   }
  },
  {
   "cell_type": "code",
   "execution_count": 24,
   "outputs": [
    {
     "data": {
      "text/plain": "<Figure size 1000x500 with 1 Axes>",
      "image/png": "[encoded data removed]"
     },
     "metadata": {},
     "output_type": "display_data"
    }
   ],
   "source": [
    "plt.hist(total_pnl, bins=100, range=(-0.2, 0.2), alpha=0.6)\n",
    "plt.show()"
   ],
   "metadata": {
    "collapsed": false,
    "pycharm": {
     "name": "#%%\n"
    }
   }
  },
  {
   "cell_type": "markdown",
   "source": [
    "# 2. Learning"
   ],
   "metadata": {
    "collapsed": false
   }
  },
  {
   "cell_type": "code",
   "execution_count": 25,
   "outputs": [
    {
     "name": "stdout",
     "output_type": "stream",
     "text": [
      "Wrapping the env with a `Monitor` wrapper\n",
      "Wrapping the env in a DummyVecEnv.\n",
      "Logging to logs/tb_logs\\ddpg_220523-1136_1\n",
      "[Training Start]\n",
      "Eval num_timesteps=30, episode_reward=-0.68 +/- 0.00\n",
      "Episode length: 30.00 +/- 0.00\n",
      "---------------------------------\n",
      "| eval/              |          |\n",
      "|    mean_ep_length  | 30       |\n",
      "|    mean_reward     | -0.678   |\n",
      "| time/              |          |\n",
      "|    total timesteps | 30       |\n",
      "---------------------------------\n",
      "New best mean reward!\n",
      "Eval num_timesteps=60, episode_reward=-0.68 +/- 0.00\n",
      "Episode length: 30.00 +/- 0.00\n",
      "---------------------------------\n",
      "| eval/              |          |\n",
      "|    mean_ep_length  | 30       |\n",
      "|    mean_reward     | -0.684   |\n",
      "| time/              |          |\n",
      "|    total timesteps | 60       |\n",
      "---------------------------------\n",
      "Eval num_timesteps=90, episode_reward=-0.69 +/- 0.00\n",
      "Episode length: 30.00 +/- 0.00\n",
      "---------------------------------\n",
      "| eval/              |          |\n",
      "|    mean_ep_length  | 30       |\n",
      "|    mean_reward     | -0.685   |\n",
      "| time/              |          |\n",
      "|    total timesteps | 90       |\n",
      "---------------------------------\n",
      "Eval num_timesteps=120, episode_reward=-0.68 +/- 0.00\n",
      "Episode length: 30.00 +/- 0.00\n",
      "---------------------------------\n",
      "| eval/              |          |\n",
      "|    mean_ep_length  | 30       |\n",
      "|    mean_reward     | -0.677   |\n",
      "| time/              |          |\n",
      "|    total timesteps | 120      |\n",
      "---------------------------------\n",
      "New best mean reward!\n",
      "Eval num_timesteps=150, episode_reward=-0.77 +/- 0.00\n",
      "Episode length: 30.00 +/- 0.00\n",
      "---------------------------------\n",
      "| eval/              |          |\n",
      "|    mean_ep_length  | 30       |\n",
      "|    mean_reward     | -0.769   |\n",
      "| time/              |          |\n",
      "|    total timesteps | 150      |\n",
      "| train/             |          |\n",
      "|    actor_loss      | -10.1    |\n",
      "|    critic2_loss    | 0.447    |\n",
      "|    critic_loss     | 0.652    |\n",
      "|    learning_rate   | 0.00346  |\n",
      "|    n_updates       | 30       |\n",
      "---------------------------------\n",
      "Eval num_timesteps=180, episode_reward=-0.76 +/- 0.00\n",
      "Episode length: 30.00 +/- 0.00\n",
      "---------------------------------\n",
      "| eval/              |          |\n",
      "|    mean_ep_length  | 30       |\n",
      "|    mean_reward     | -0.759   |\n",
      "| time/              |          |\n",
      "|    total timesteps | 180      |\n",
      "| train/             |          |\n",
      "|    actor_loss      | -7.01    |\n",
      "|    critic2_loss    | 0.236    |\n",
      "|    critic_loss     | 5.03     |\n",
      "|    learning_rate   | 0.00315  |\n",
      "|    n_updates       | 60       |\n",
      "---------------------------------\n",
      "Eval num_timesteps=210, episode_reward=-0.76 +/- 0.00\n",
      "Episode length: 30.00 +/- 0.00\n",
      "---------------------------------\n",
      "| eval/              |          |\n",
      "|    mean_ep_length  | 30       |\n",
      "|    mean_reward     | -0.758   |\n",
      "| time/              |          |\n",
      "|    total timesteps | 210      |\n",
      "| train/             |          |\n",
      "|    actor_loss      | -7.08    |\n",
      "|    critic2_loss    | 0.0517   |\n",
      "|    critic_loss     | 4.97     |\n",
      "|    learning_rate   | 0.00287  |\n",
      "|    n_updates       | 90       |\n",
      "---------------------------------\n",
      "Eval num_timesteps=240, episode_reward=-0.77 +/- 0.00\n",
      "Episode length: 30.00 +/- 0.00\n",
      "---------------------------------\n",
      "| eval/              |          |\n",
      "|    mean_ep_length  | 30       |\n",
      "|    mean_reward     | -0.766   |\n",
      "| time/              |          |\n",
      "|    total timesteps | 240      |\n",
      "| train/             |          |\n",
      "|    actor_loss      | -6.55    |\n",
      "|    critic2_loss    | 0.0148   |\n",
      "|    critic_loss     | 2.87     |\n",
      "|    learning_rate   | 0.00262  |\n",
      "|    n_updates       | 120      |\n",
      "---------------------------------\n",
      "Eval num_timesteps=270, episode_reward=-0.76 +/- 0.00\n",
      "Episode length: 30.00 +/- 0.00\n",
      "---------------------------------\n",
      "| eval/              |          |\n",
      "|    mean_ep_length  | 30       |\n",
      "|    mean_reward     | -0.762   |\n",
      "| time/              |          |\n",
      "|    total timesteps | 270      |\n",
      "| train/             |          |\n",
      "|    actor_loss      | -6.38    |\n",
      "|    critic2_loss    | 0.00493  |\n",
      "|    critic_loss     | 2.7      |\n",
      "|    learning_rate   | 0.00239  |\n",
      "|    n_updates       | 150      |\n",
      "---------------------------------\n",
      "Eval num_timesteps=300, episode_reward=-0.77 +/- 0.00\n",
      "Episode length: 30.00 +/- 0.00\n",
      "---------------------------------\n",
      "| eval/              |          |\n",
      "|    mean_ep_length  | 30       |\n",
      "|    mean_reward     | -0.765   |\n",
      "| time/              |          |\n",
      "|    total timesteps | 300      |\n",
      "| train/             |          |\n",
      "|    actor_loss      | -5.85    |\n",
      "|    critic2_loss    | 0.00554  |\n",
      "|    critic_loss     | 2.59     |\n",
      "|    learning_rate   | 0.00218  |\n",
      "|    n_updates       | 180      |\n",
      "---------------------------------\n",
      "Eval num_timesteps=330, episode_reward=-0.76 +/- 0.00\n",
      "Episode length: 30.00 +/- 0.00\n",
      "---------------------------------\n",
      "| eval/              |          |\n",
      "|    mean_ep_length  | 30       |\n",
      "|    mean_reward     | -0.764   |\n",
      "| time/              |          |\n",
      "|    total timesteps | 330      |\n",
      "| train/             |          |\n",
      "|    actor_loss      | -5.65    |\n",
      "|    critic2_loss    | 0.00614  |\n",
      "|    critic_loss     | 2.21     |\n",
      "|    learning_rate   | 0.00199  |\n",
      "|    n_updates       | 210      |\n",
      "---------------------------------\n",
      "Eval num_timesteps=360, episode_reward=-0.77 +/- 0.00\n",
      "Episode length: 30.00 +/- 0.00\n",
      "---------------------------------\n",
      "| eval/              |          |\n",
      "|    mean_ep_length  | 30       |\n",
      "|    mean_reward     | -0.77    |\n",
      "| time/              |          |\n",
      "|    total timesteps | 360      |\n",
      "| train/             |          |\n",
      "|    actor_loss      | -5.53    |\n",
      "|    critic2_loss    | 0.0026   |\n",
      "|    critic_loss     | 1.13     |\n",
      "|    learning_rate   | 0.00181  |\n",
      "|    n_updates       | 240      |\n",
      "---------------------------------\n",
      "Eval num_timesteps=390, episode_reward=-0.77 +/- 0.00\n",
      "Episode length: 30.00 +/- 0.00\n",
      "---------------------------------\n",
      "| eval/              |          |\n",
      "|    mean_ep_length  | 30       |\n",
      "|    mean_reward     | -0.768   |\n",
      "| time/              |          |\n",
      "|    total timesteps | 390      |\n",
      "| train/             |          |\n",
      "|    actor_loss      | -5.12    |\n",
      "|    critic2_loss    | 0.00644  |\n",
      "|    critic_loss     | 1.32     |\n",
      "|    learning_rate   | 0.00165  |\n",
      "|    n_updates       | 270      |\n",
      "---------------------------------\n",
      "Eval num_timesteps=420, episode_reward=-0.76 +/- 0.00\n",
      "Episode length: 30.00 +/- 0.00\n",
      "---------------------------------\n",
      "| eval/              |          |\n",
      "|    mean_ep_length  | 30       |\n",
      "|    mean_reward     | -0.76    |\n",
      "| time/              |          |\n",
      "|    total timesteps | 420      |\n",
      "| train/             |          |\n",
      "|    actor_loss      | -4.77    |\n",
      "|    critic2_loss    | 0.00336  |\n",
      "|    critic_loss     | 1.46     |\n",
      "|    learning_rate   | 0.00151  |\n",
      "|    n_updates       | 300      |\n",
      "---------------------------------\n",
      "Eval num_timesteps=450, episode_reward=-0.76 +/- 0.00\n",
      "Episode length: 30.00 +/- 0.00\n",
      "---------------------------------\n",
      "| eval/              |          |\n",
      "|    mean_ep_length  | 30       |\n",
      "|    mean_reward     | -0.763   |\n",
      "| time/              |          |\n",
      "|    total timesteps | 450      |\n",
      "| train/             |          |\n",
      "|    actor_loss      | -4.53    |\n",
      "|    critic2_loss    | 0.0104   |\n",
      "|    critic_loss     | 1.16     |\n",
      "|    learning_rate   | 0.00137  |\n",
      "|    n_updates       | 330      |\n",
      "---------------------------------\n",
      "Eval num_timesteps=480, episode_reward=-0.76 +/- 0.00\n",
      "Episode length: 30.00 +/- 0.00\n",
      "---------------------------------\n",
      "| eval/              |          |\n",
      "|    mean_ep_length  | 30       |\n",
      "|    mean_reward     | -0.764   |\n",
      "| time/              |          |\n",
      "|    total timesteps | 480      |\n",
      "| train/             |          |\n",
      "|    actor_loss      | -4.35    |\n",
      "|    critic2_loss    | 0.00423  |\n",
      "|    critic_loss     | 0.837    |\n",
      "|    learning_rate   | 0.00125  |\n",
      "|    n_updates       | 360      |\n",
      "---------------------------------\n",
      "Eval num_timesteps=510, episode_reward=-0.77 +/- 0.00\n",
      "Episode length: 30.00 +/- 0.00\n",
      "---------------------------------\n",
      "| eval/              |          |\n",
      "|    mean_ep_length  | 30       |\n",
      "|    mean_reward     | -0.766   |\n",
      "| time/              |          |\n",
      "|    total timesteps | 510      |\n",
      "| train/             |          |\n",
      "|    actor_loss      | -4.16    |\n",
      "|    critic2_loss    | 0.0026   |\n",
      "|    critic_loss     | 0.593    |\n",
      "|    learning_rate   | 0.00114  |\n",
      "|    n_updates       | 390      |\n",
      "---------------------------------\n",
      "[Training End]  steps: 510\ttimes: 13.793773412704468\n"
     ]
    }
   ],
   "source": [
    "model = model.learn(**learn_kwargs)"
   ],
   "metadata": {
    "collapsed": false,
    "pycharm": {
     "name": "#%%\n"
    }
   }
  },
  {
   "cell_type": "markdown",
   "source": [
    "# 3. P&L Evaluation"
   ],
   "metadata": {
    "collapsed": false
   }
  },
  {
   "cell_type": "markdown",
   "source": [
    "## 3.1 After Learning"
   ],
   "metadata": {
    "collapsed": false
   }
  },
  {
   "cell_type": "code",
   "execution_count": 26,
   "outputs": [],
   "source": [
    "total_pnl = env.pnl_eval(model)"
   ],
   "metadata": {
    "collapsed": false,
    "pycharm": {
     "name": "#%%\n"
    }
   }
  },
  {
   "cell_type": "code",
   "execution_count": 27,
   "outputs": [
    {
     "data": {
      "text/plain": "<Figure size 1000x500 with 1 Axes>",
      "image/png": "[encoded data removed]"
     },
     "metadata": {},
     "output_type": "display_data"
    }
   ],
   "source": [
    "plt.hist(total_pnl, bins=100, range=(-0.2, 0.2), alpha=0.6)\n",
    "plt.show()"
   ],
   "metadata": {
    "collapsed": false,
    "pycharm": {
     "name": "#%%\n"
    }
   }
  },
  {
   "cell_type": "markdown",
   "source": [
    "# 4. Learning Config Saving"
   ],
   "metadata": {
    "collapsed": false
   }
  },
  {
   "cell_type": "code",
   "execution_count": 32,
   "outputs": [
    {
     "ename": "AttributeError",
     "evalue": "'str' object has no attribute '__name__'",
     "output_type": "error",
     "traceback": [
      "\u001B[1;31m---------------------------------------------------------------------------\u001B[0m",
      "\u001B[1;31mAttributeError\u001B[0m                            Traceback (most recent call last)",
      "Input \u001B[1;32mIn [32]\u001B[0m, in \u001B[0;36m<cell line: 1>\u001B[1;34m()\u001B[0m\n\u001B[1;32m----> 1\u001B[0m \u001B[43mconfig\u001B[49m\u001B[38;5;241;43m.\u001B[39;49m\u001B[43msave_config\u001B[49m\u001B[43m(\u001B[49m\u001B[38;5;124;43mf\u001B[39;49m\u001B[38;5;124;43m'\u001B[39;49m\u001B[38;5;132;43;01m{\u001B[39;49;00m\u001B[43mlearn_kwargs\u001B[49m\u001B[43m[\u001B[49m\u001B[38;5;124;43m\"\u001B[39;49m\u001B[38;5;124;43meval_log_path\u001B[39;49m\u001B[38;5;124;43m\"\u001B[39;49m\u001B[43m]\u001B[49m\u001B[38;5;132;43;01m}\u001B[39;49;00m\u001B[38;5;124;43m/config.yaml\u001B[39;49m\u001B[38;5;124;43m'\u001B[39;49m\u001B[43m,\u001B[49m\u001B[43m \u001B[49m\u001B[43menv_kwargs\u001B[49m\u001B[43m,\u001B[49m\u001B[43m \u001B[49m\u001B[43mmodel_kwargs\u001B[49m\u001B[43m,\u001B[49m\u001B[43m \u001B[49m\u001B[43mlearn_kwargs\u001B[49m\u001B[43m)\u001B[49m\n",
      "File \u001B[1;32m~\\PycharmProjects\\Deep_Hedging\\Algorithms\\learn\\utils\\config.py:48\u001B[0m, in \u001B[0;36msave_config\u001B[1;34m(path, env_kwargs, model_kwargs, learn_kwargs, **kwargs)\u001B[0m\n\u001B[0;32m     45\u001B[0m config \u001B[38;5;241m=\u001B[39m easydict_to_dict(config)\n\u001B[0;32m     47\u001B[0m \u001B[38;5;28;01mwith\u001B[39;00m \u001B[38;5;28mopen\u001B[39m(path, \u001B[38;5;124m'\u001B[39m\u001B[38;5;124mw\u001B[39m\u001B[38;5;124m'\u001B[39m) \u001B[38;5;28;01mas\u001B[39;00m f:\n\u001B[1;32m---> 48\u001B[0m     f\u001B[38;5;241m.\u001B[39mwrite(\u001B[43myaml\u001B[49m\u001B[38;5;241;43m.\u001B[39;49m\u001B[43mdump\u001B[49m\u001B[43m(\u001B[49m\u001B[43mconfig\u001B[49m\u001B[43m)\u001B[49m)\n\u001B[0;32m     50\u001B[0m \u001B[38;5;28mprint\u001B[39m(\u001B[38;5;124mf\u001B[39m\u001B[38;5;124m'\u001B[39m\u001B[38;5;132;01m{\u001B[39;00mpath\u001B[38;5;132;01m}\u001B[39;00m\u001B[38;5;124m was saved.\u001B[39m\u001B[38;5;124m'\u001B[39m)\n",
      "File \u001B[1;32m~\\anaconda3\\envs\\rl\\lib\\site-packages\\yaml\\__init__.py:253\u001B[0m, in \u001B[0;36mdump\u001B[1;34m(data, stream, Dumper, **kwds)\u001B[0m\n\u001B[0;32m    248\u001B[0m \u001B[38;5;28;01mdef\u001B[39;00m \u001B[38;5;21mdump\u001B[39m(data, stream\u001B[38;5;241m=\u001B[39m\u001B[38;5;28;01mNone\u001B[39;00m, Dumper\u001B[38;5;241m=\u001B[39mDumper, \u001B[38;5;241m*\u001B[39m\u001B[38;5;241m*\u001B[39mkwds):\n\u001B[0;32m    249\u001B[0m     \u001B[38;5;124;03m\"\"\"\u001B[39;00m\n\u001B[0;32m    250\u001B[0m \u001B[38;5;124;03m    Serialize a Python object into a YAML stream.\u001B[39;00m\n\u001B[0;32m    251\u001B[0m \u001B[38;5;124;03m    If stream is None, return the produced string instead.\u001B[39;00m\n\u001B[0;32m    252\u001B[0m \u001B[38;5;124;03m    \"\"\"\u001B[39;00m\n\u001B[1;32m--> 253\u001B[0m     \u001B[38;5;28;01mreturn\u001B[39;00m \u001B[43mdump_all\u001B[49m\u001B[43m(\u001B[49m\u001B[43m[\u001B[49m\u001B[43mdata\u001B[49m\u001B[43m]\u001B[49m\u001B[43m,\u001B[49m\u001B[43m \u001B[49m\u001B[43mstream\u001B[49m\u001B[43m,\u001B[49m\u001B[43m \u001B[49m\u001B[43mDumper\u001B[49m\u001B[38;5;241;43m=\u001B[39;49m\u001B[43mDumper\u001B[49m\u001B[43m,\u001B[49m\u001B[43m \u001B[49m\u001B[38;5;241;43m*\u001B[39;49m\u001B[38;5;241;43m*\u001B[39;49m\u001B[43mkwds\u001B[49m\u001B[43m)\u001B[49m\n",
      "File \u001B[1;32m~\\anaconda3\\envs\\rl\\lib\\site-packages\\yaml\\__init__.py:241\u001B[0m, in \u001B[0;36mdump_all\u001B[1;34m(documents, stream, Dumper, default_style, default_flow_style, canonical, indent, width, allow_unicode, line_break, encoding, explicit_start, explicit_end, version, tags, sort_keys)\u001B[0m\n\u001B[0;32m    239\u001B[0m     dumper\u001B[38;5;241m.\u001B[39mopen()\n\u001B[0;32m    240\u001B[0m     \u001B[38;5;28;01mfor\u001B[39;00m data \u001B[38;5;129;01min\u001B[39;00m documents:\n\u001B[1;32m--> 241\u001B[0m         \u001B[43mdumper\u001B[49m\u001B[38;5;241;43m.\u001B[39;49m\u001B[43mrepresent\u001B[49m\u001B[43m(\u001B[49m\u001B[43mdata\u001B[49m\u001B[43m)\u001B[49m\n\u001B[0;32m    242\u001B[0m     dumper\u001B[38;5;241m.\u001B[39mclose()\n\u001B[0;32m    243\u001B[0m \u001B[38;5;28;01mfinally\u001B[39;00m:\n",
      "File \u001B[1;32m~\\anaconda3\\envs\\rl\\lib\\site-packages\\yaml\\representer.py:27\u001B[0m, in \u001B[0;36mBaseRepresenter.represent\u001B[1;34m(self, data)\u001B[0m\n\u001B[0;32m     26\u001B[0m \u001B[38;5;28;01mdef\u001B[39;00m \u001B[38;5;21mrepresent\u001B[39m(\u001B[38;5;28mself\u001B[39m, data):\n\u001B[1;32m---> 27\u001B[0m     node \u001B[38;5;241m=\u001B[39m \u001B[38;5;28;43mself\u001B[39;49m\u001B[38;5;241;43m.\u001B[39;49m\u001B[43mrepresent_data\u001B[49m\u001B[43m(\u001B[49m\u001B[43mdata\u001B[49m\u001B[43m)\u001B[49m\n\u001B[0;32m     28\u001B[0m     \u001B[38;5;28mself\u001B[39m\u001B[38;5;241m.\u001B[39mserialize(node)\n\u001B[0;32m     29\u001B[0m     \u001B[38;5;28mself\u001B[39m\u001B[38;5;241m.\u001B[39mrepresented_objects \u001B[38;5;241m=\u001B[39m {}\n",
      "File \u001B[1;32m~\\anaconda3\\envs\\rl\\lib\\site-packages\\yaml\\representer.py:48\u001B[0m, in \u001B[0;36mBaseRepresenter.represent_data\u001B[1;34m(self, data)\u001B[0m\n\u001B[0;32m     46\u001B[0m data_types \u001B[38;5;241m=\u001B[39m \u001B[38;5;28mtype\u001B[39m(data)\u001B[38;5;241m.\u001B[39m\u001B[38;5;18m__mro__\u001B[39m\n\u001B[0;32m     47\u001B[0m \u001B[38;5;28;01mif\u001B[39;00m data_types[\u001B[38;5;241m0\u001B[39m] \u001B[38;5;129;01min\u001B[39;00m \u001B[38;5;28mself\u001B[39m\u001B[38;5;241m.\u001B[39myaml_representers:\n\u001B[1;32m---> 48\u001B[0m     node \u001B[38;5;241m=\u001B[39m \u001B[38;5;28;43mself\u001B[39;49m\u001B[38;5;241;43m.\u001B[39;49m\u001B[43myaml_representers\u001B[49m\u001B[43m[\u001B[49m\u001B[43mdata_types\u001B[49m\u001B[43m[\u001B[49m\u001B[38;5;241;43m0\u001B[39;49m\u001B[43m]\u001B[49m\u001B[43m]\u001B[49m\u001B[43m(\u001B[49m\u001B[38;5;28;43mself\u001B[39;49m\u001B[43m,\u001B[49m\u001B[43m \u001B[49m\u001B[43mdata\u001B[49m\u001B[43m)\u001B[49m\n\u001B[0;32m     49\u001B[0m \u001B[38;5;28;01melse\u001B[39;00m:\n\u001B[0;32m     50\u001B[0m     \u001B[38;5;28;01mfor\u001B[39;00m data_type \u001B[38;5;129;01min\u001B[39;00m data_types:\n",
      "File \u001B[1;32m~\\anaconda3\\envs\\rl\\lib\\site-packages\\yaml\\representer.py:207\u001B[0m, in \u001B[0;36mSafeRepresenter.represent_dict\u001B[1;34m(self, data)\u001B[0m\n\u001B[0;32m    206\u001B[0m \u001B[38;5;28;01mdef\u001B[39;00m \u001B[38;5;21mrepresent_dict\u001B[39m(\u001B[38;5;28mself\u001B[39m, data):\n\u001B[1;32m--> 207\u001B[0m     \u001B[38;5;28;01mreturn\u001B[39;00m \u001B[38;5;28;43mself\u001B[39;49m\u001B[38;5;241;43m.\u001B[39;49m\u001B[43mrepresent_mapping\u001B[49m\u001B[43m(\u001B[49m\u001B[38;5;124;43m'\u001B[39;49m\u001B[38;5;124;43mtag:yaml.org,2002:map\u001B[39;49m\u001B[38;5;124;43m'\u001B[39;49m\u001B[43m,\u001B[49m\u001B[43m \u001B[49m\u001B[43mdata\u001B[49m\u001B[43m)\u001B[49m\n",
      "File \u001B[1;32m~\\anaconda3\\envs\\rl\\lib\\site-packages\\yaml\\representer.py:118\u001B[0m, in \u001B[0;36mBaseRepresenter.represent_mapping\u001B[1;34m(self, tag, mapping, flow_style)\u001B[0m\n\u001B[0;32m    116\u001B[0m \u001B[38;5;28;01mfor\u001B[39;00m item_key, item_value \u001B[38;5;129;01min\u001B[39;00m mapping:\n\u001B[0;32m    117\u001B[0m     node_key \u001B[38;5;241m=\u001B[39m \u001B[38;5;28mself\u001B[39m\u001B[38;5;241m.\u001B[39mrepresent_data(item_key)\n\u001B[1;32m--> 118\u001B[0m     node_value \u001B[38;5;241m=\u001B[39m \u001B[38;5;28;43mself\u001B[39;49m\u001B[38;5;241;43m.\u001B[39;49m\u001B[43mrepresent_data\u001B[49m\u001B[43m(\u001B[49m\u001B[43mitem_value\u001B[49m\u001B[43m)\u001B[49m\n\u001B[0;32m    119\u001B[0m     \u001B[38;5;28;01mif\u001B[39;00m \u001B[38;5;129;01mnot\u001B[39;00m (\u001B[38;5;28misinstance\u001B[39m(node_key, ScalarNode) \u001B[38;5;129;01mand\u001B[39;00m \u001B[38;5;129;01mnot\u001B[39;00m node_key\u001B[38;5;241m.\u001B[39mstyle):\n\u001B[0;32m    120\u001B[0m         best_style \u001B[38;5;241m=\u001B[39m \u001B[38;5;28;01mFalse\u001B[39;00m\n",
      "File \u001B[1;32m~\\anaconda3\\envs\\rl\\lib\\site-packages\\yaml\\representer.py:48\u001B[0m, in \u001B[0;36mBaseRepresenter.represent_data\u001B[1;34m(self, data)\u001B[0m\n\u001B[0;32m     46\u001B[0m data_types \u001B[38;5;241m=\u001B[39m \u001B[38;5;28mtype\u001B[39m(data)\u001B[38;5;241m.\u001B[39m\u001B[38;5;18m__mro__\u001B[39m\n\u001B[0;32m     47\u001B[0m \u001B[38;5;28;01mif\u001B[39;00m data_types[\u001B[38;5;241m0\u001B[39m] \u001B[38;5;129;01min\u001B[39;00m \u001B[38;5;28mself\u001B[39m\u001B[38;5;241m.\u001B[39myaml_representers:\n\u001B[1;32m---> 48\u001B[0m     node \u001B[38;5;241m=\u001B[39m \u001B[38;5;28;43mself\u001B[39;49m\u001B[38;5;241;43m.\u001B[39;49m\u001B[43myaml_representers\u001B[49m\u001B[43m[\u001B[49m\u001B[43mdata_types\u001B[49m\u001B[43m[\u001B[49m\u001B[38;5;241;43m0\u001B[39;49m\u001B[43m]\u001B[49m\u001B[43m]\u001B[49m\u001B[43m(\u001B[49m\u001B[38;5;28;43mself\u001B[39;49m\u001B[43m,\u001B[49m\u001B[43m \u001B[49m\u001B[43mdata\u001B[49m\u001B[43m)\u001B[49m\n\u001B[0;32m     49\u001B[0m \u001B[38;5;28;01melse\u001B[39;00m:\n\u001B[0;32m     50\u001B[0m     \u001B[38;5;28;01mfor\u001B[39;00m data_type \u001B[38;5;129;01min\u001B[39;00m data_types:\n",
      "File \u001B[1;32m~\\anaconda3\\envs\\rl\\lib\\site-packages\\yaml\\representer.py:207\u001B[0m, in \u001B[0;36mSafeRepresenter.represent_dict\u001B[1;34m(self, data)\u001B[0m\n\u001B[0;32m    206\u001B[0m \u001B[38;5;28;01mdef\u001B[39;00m \u001B[38;5;21mrepresent_dict\u001B[39m(\u001B[38;5;28mself\u001B[39m, data):\n\u001B[1;32m--> 207\u001B[0m     \u001B[38;5;28;01mreturn\u001B[39;00m \u001B[38;5;28;43mself\u001B[39;49m\u001B[38;5;241;43m.\u001B[39;49m\u001B[43mrepresent_mapping\u001B[49m\u001B[43m(\u001B[49m\u001B[38;5;124;43m'\u001B[39;49m\u001B[38;5;124;43mtag:yaml.org,2002:map\u001B[39;49m\u001B[38;5;124;43m'\u001B[39;49m\u001B[43m,\u001B[49m\u001B[43m \u001B[49m\u001B[43mdata\u001B[49m\u001B[43m)\u001B[49m\n",
      "File \u001B[1;32m~\\anaconda3\\envs\\rl\\lib\\site-packages\\yaml\\representer.py:118\u001B[0m, in \u001B[0;36mBaseRepresenter.represent_mapping\u001B[1;34m(self, tag, mapping, flow_style)\u001B[0m\n\u001B[0;32m    116\u001B[0m \u001B[38;5;28;01mfor\u001B[39;00m item_key, item_value \u001B[38;5;129;01min\u001B[39;00m mapping:\n\u001B[0;32m    117\u001B[0m     node_key \u001B[38;5;241m=\u001B[39m \u001B[38;5;28mself\u001B[39m\u001B[38;5;241m.\u001B[39mrepresent_data(item_key)\n\u001B[1;32m--> 118\u001B[0m     node_value \u001B[38;5;241m=\u001B[39m \u001B[38;5;28;43mself\u001B[39;49m\u001B[38;5;241;43m.\u001B[39;49m\u001B[43mrepresent_data\u001B[49m\u001B[43m(\u001B[49m\u001B[43mitem_value\u001B[49m\u001B[43m)\u001B[49m\n\u001B[0;32m    119\u001B[0m     \u001B[38;5;28;01mif\u001B[39;00m \u001B[38;5;129;01mnot\u001B[39;00m (\u001B[38;5;28misinstance\u001B[39m(node_key, ScalarNode) \u001B[38;5;129;01mand\u001B[39;00m \u001B[38;5;129;01mnot\u001B[39;00m node_key\u001B[38;5;241m.\u001B[39mstyle):\n\u001B[0;32m    120\u001B[0m         best_style \u001B[38;5;241m=\u001B[39m \u001B[38;5;28;01mFalse\u001B[39;00m\n",
      "File \u001B[1;32m~\\anaconda3\\envs\\rl\\lib\\site-packages\\yaml\\representer.py:52\u001B[0m, in \u001B[0;36mBaseRepresenter.represent_data\u001B[1;34m(self, data)\u001B[0m\n\u001B[0;32m     50\u001B[0m \u001B[38;5;28;01mfor\u001B[39;00m data_type \u001B[38;5;129;01min\u001B[39;00m data_types:\n\u001B[0;32m     51\u001B[0m     \u001B[38;5;28;01mif\u001B[39;00m data_type \u001B[38;5;129;01min\u001B[39;00m \u001B[38;5;28mself\u001B[39m\u001B[38;5;241m.\u001B[39myaml_multi_representers:\n\u001B[1;32m---> 52\u001B[0m         node \u001B[38;5;241m=\u001B[39m \u001B[38;5;28;43mself\u001B[39;49m\u001B[38;5;241;43m.\u001B[39;49m\u001B[43myaml_multi_representers\u001B[49m\u001B[43m[\u001B[49m\u001B[43mdata_type\u001B[49m\u001B[43m]\u001B[49m\u001B[43m(\u001B[49m\u001B[38;5;28;43mself\u001B[39;49m\u001B[43m,\u001B[49m\u001B[43m \u001B[49m\u001B[43mdata\u001B[49m\u001B[43m)\u001B[49m\n\u001B[0;32m     53\u001B[0m         \u001B[38;5;28;01mbreak\u001B[39;00m\n\u001B[0;32m     54\u001B[0m \u001B[38;5;28;01melse\u001B[39;00m:\n",
      "File \u001B[1;32m~\\anaconda3\\envs\\rl\\lib\\site-packages\\yaml\\representer.py:342\u001B[0m, in \u001B[0;36mRepresenter.represent_object\u001B[1;34m(self, data)\u001B[0m\n\u001B[0;32m    339\u001B[0m function_name \u001B[38;5;241m=\u001B[39m \u001B[38;5;124m'\u001B[39m\u001B[38;5;132;01m%s\u001B[39;00m\u001B[38;5;124m.\u001B[39m\u001B[38;5;132;01m%s\u001B[39;00m\u001B[38;5;124m'\u001B[39m \u001B[38;5;241m%\u001B[39m (function\u001B[38;5;241m.\u001B[39m\u001B[38;5;18m__module__\u001B[39m, function\u001B[38;5;241m.\u001B[39m\u001B[38;5;18m__name__\u001B[39m)\n\u001B[0;32m    340\u001B[0m \u001B[38;5;28;01mif\u001B[39;00m \u001B[38;5;129;01mnot\u001B[39;00m args \u001B[38;5;129;01mand\u001B[39;00m \u001B[38;5;129;01mnot\u001B[39;00m listitems \u001B[38;5;129;01mand\u001B[39;00m \u001B[38;5;129;01mnot\u001B[39;00m dictitems \\\n\u001B[0;32m    341\u001B[0m         \u001B[38;5;129;01mand\u001B[39;00m \u001B[38;5;28misinstance\u001B[39m(state, \u001B[38;5;28mdict\u001B[39m) \u001B[38;5;129;01mand\u001B[39;00m newobj:\n\u001B[1;32m--> 342\u001B[0m     \u001B[38;5;28;01mreturn\u001B[39;00m \u001B[38;5;28;43mself\u001B[39;49m\u001B[38;5;241;43m.\u001B[39;49m\u001B[43mrepresent_mapping\u001B[49m\u001B[43m(\u001B[49m\n\u001B[0;32m    343\u001B[0m \u001B[43m            \u001B[49m\u001B[38;5;124;43m'\u001B[39;49m\u001B[38;5;124;43mtag:yaml.org,2002:python/object:\u001B[39;49m\u001B[38;5;124;43m'\u001B[39;49m\u001B[38;5;241;43m+\u001B[39;49m\u001B[43mfunction_name\u001B[49m\u001B[43m,\u001B[49m\u001B[43m \u001B[49m\u001B[43mstate\u001B[49m\u001B[43m)\u001B[49m\n\u001B[0;32m    344\u001B[0m \u001B[38;5;28;01mif\u001B[39;00m \u001B[38;5;129;01mnot\u001B[39;00m listitems \u001B[38;5;129;01mand\u001B[39;00m \u001B[38;5;129;01mnot\u001B[39;00m dictitems  \\\n\u001B[0;32m    345\u001B[0m         \u001B[38;5;129;01mand\u001B[39;00m \u001B[38;5;28misinstance\u001B[39m(state, \u001B[38;5;28mdict\u001B[39m) \u001B[38;5;129;01mand\u001B[39;00m \u001B[38;5;129;01mnot\u001B[39;00m state:\n\u001B[0;32m    346\u001B[0m     \u001B[38;5;28;01mreturn\u001B[39;00m \u001B[38;5;28mself\u001B[39m\u001B[38;5;241m.\u001B[39mrepresent_sequence(tag\u001B[38;5;241m+\u001B[39mfunction_name, args)\n",
      "File \u001B[1;32m~\\anaconda3\\envs\\rl\\lib\\site-packages\\yaml\\representer.py:118\u001B[0m, in \u001B[0;36mBaseRepresenter.represent_mapping\u001B[1;34m(self, tag, mapping, flow_style)\u001B[0m\n\u001B[0;32m    116\u001B[0m \u001B[38;5;28;01mfor\u001B[39;00m item_key, item_value \u001B[38;5;129;01min\u001B[39;00m mapping:\n\u001B[0;32m    117\u001B[0m     node_key \u001B[38;5;241m=\u001B[39m \u001B[38;5;28mself\u001B[39m\u001B[38;5;241m.\u001B[39mrepresent_data(item_key)\n\u001B[1;32m--> 118\u001B[0m     node_value \u001B[38;5;241m=\u001B[39m \u001B[38;5;28;43mself\u001B[39;49m\u001B[38;5;241;43m.\u001B[39;49m\u001B[43mrepresent_data\u001B[49m\u001B[43m(\u001B[49m\u001B[43mitem_value\u001B[49m\u001B[43m)\u001B[49m\n\u001B[0;32m    119\u001B[0m     \u001B[38;5;28;01mif\u001B[39;00m \u001B[38;5;129;01mnot\u001B[39;00m (\u001B[38;5;28misinstance\u001B[39m(node_key, ScalarNode) \u001B[38;5;129;01mand\u001B[39;00m \u001B[38;5;129;01mnot\u001B[39;00m node_key\u001B[38;5;241m.\u001B[39mstyle):\n\u001B[0;32m    120\u001B[0m         best_style \u001B[38;5;241m=\u001B[39m \u001B[38;5;28;01mFalse\u001B[39;00m\n",
      "File \u001B[1;32m~\\anaconda3\\envs\\rl\\lib\\site-packages\\yaml\\representer.py:48\u001B[0m, in \u001B[0;36mBaseRepresenter.represent_data\u001B[1;34m(self, data)\u001B[0m\n\u001B[0;32m     46\u001B[0m data_types \u001B[38;5;241m=\u001B[39m \u001B[38;5;28mtype\u001B[39m(data)\u001B[38;5;241m.\u001B[39m\u001B[38;5;18m__mro__\u001B[39m\n\u001B[0;32m     47\u001B[0m \u001B[38;5;28;01mif\u001B[39;00m data_types[\u001B[38;5;241m0\u001B[39m] \u001B[38;5;129;01min\u001B[39;00m \u001B[38;5;28mself\u001B[39m\u001B[38;5;241m.\u001B[39myaml_representers:\n\u001B[1;32m---> 48\u001B[0m     node \u001B[38;5;241m=\u001B[39m \u001B[38;5;28;43mself\u001B[39;49m\u001B[38;5;241;43m.\u001B[39;49m\u001B[43myaml_representers\u001B[49m\u001B[43m[\u001B[49m\u001B[43mdata_types\u001B[49m\u001B[43m[\u001B[49m\u001B[38;5;241;43m0\u001B[39;49m\u001B[43m]\u001B[49m\u001B[43m]\u001B[49m\u001B[43m(\u001B[49m\u001B[38;5;28;43mself\u001B[39;49m\u001B[43m,\u001B[49m\u001B[43m \u001B[49m\u001B[43mdata\u001B[49m\u001B[43m)\u001B[49m\n\u001B[0;32m     49\u001B[0m \u001B[38;5;28;01melse\u001B[39;00m:\n\u001B[0;32m     50\u001B[0m     \u001B[38;5;28;01mfor\u001B[39;00m data_type \u001B[38;5;129;01min\u001B[39;00m data_types:\n",
      "File \u001B[1;32m~\\anaconda3\\envs\\rl\\lib\\site-packages\\yaml\\representer.py:207\u001B[0m, in \u001B[0;36mSafeRepresenter.represent_dict\u001B[1;34m(self, data)\u001B[0m\n\u001B[0;32m    206\u001B[0m \u001B[38;5;28;01mdef\u001B[39;00m \u001B[38;5;21mrepresent_dict\u001B[39m(\u001B[38;5;28mself\u001B[39m, data):\n\u001B[1;32m--> 207\u001B[0m     \u001B[38;5;28;01mreturn\u001B[39;00m \u001B[38;5;28;43mself\u001B[39;49m\u001B[38;5;241;43m.\u001B[39;49m\u001B[43mrepresent_mapping\u001B[49m\u001B[43m(\u001B[49m\u001B[38;5;124;43m'\u001B[39;49m\u001B[38;5;124;43mtag:yaml.org,2002:map\u001B[39;49m\u001B[38;5;124;43m'\u001B[39;49m\u001B[43m,\u001B[49m\u001B[43m \u001B[49m\u001B[43mdata\u001B[49m\u001B[43m)\u001B[49m\n",
      "File \u001B[1;32m~\\anaconda3\\envs\\rl\\lib\\site-packages\\yaml\\representer.py:118\u001B[0m, in \u001B[0;36mBaseRepresenter.represent_mapping\u001B[1;34m(self, tag, mapping, flow_style)\u001B[0m\n\u001B[0;32m    116\u001B[0m \u001B[38;5;28;01mfor\u001B[39;00m item_key, item_value \u001B[38;5;129;01min\u001B[39;00m mapping:\n\u001B[0;32m    117\u001B[0m     node_key \u001B[38;5;241m=\u001B[39m \u001B[38;5;28mself\u001B[39m\u001B[38;5;241m.\u001B[39mrepresent_data(item_key)\n\u001B[1;32m--> 118\u001B[0m     node_value \u001B[38;5;241m=\u001B[39m \u001B[38;5;28;43mself\u001B[39;49m\u001B[38;5;241;43m.\u001B[39;49m\u001B[43mrepresent_data\u001B[49m\u001B[43m(\u001B[49m\u001B[43mitem_value\u001B[49m\u001B[43m)\u001B[49m\n\u001B[0;32m    119\u001B[0m     \u001B[38;5;28;01mif\u001B[39;00m \u001B[38;5;129;01mnot\u001B[39;00m (\u001B[38;5;28misinstance\u001B[39m(node_key, ScalarNode) \u001B[38;5;129;01mand\u001B[39;00m \u001B[38;5;129;01mnot\u001B[39;00m node_key\u001B[38;5;241m.\u001B[39mstyle):\n\u001B[0;32m    120\u001B[0m         best_style \u001B[38;5;241m=\u001B[39m \u001B[38;5;28;01mFalse\u001B[39;00m\n",
      "File \u001B[1;32m~\\anaconda3\\envs\\rl\\lib\\site-packages\\yaml\\representer.py:52\u001B[0m, in \u001B[0;36mBaseRepresenter.represent_data\u001B[1;34m(self, data)\u001B[0m\n\u001B[0;32m     50\u001B[0m \u001B[38;5;28;01mfor\u001B[39;00m data_type \u001B[38;5;129;01min\u001B[39;00m data_types:\n\u001B[0;32m     51\u001B[0m     \u001B[38;5;28;01mif\u001B[39;00m data_type \u001B[38;5;129;01min\u001B[39;00m \u001B[38;5;28mself\u001B[39m\u001B[38;5;241m.\u001B[39myaml_multi_representers:\n\u001B[1;32m---> 52\u001B[0m         node \u001B[38;5;241m=\u001B[39m \u001B[38;5;28;43mself\u001B[39;49m\u001B[38;5;241;43m.\u001B[39;49m\u001B[43myaml_multi_representers\u001B[49m\u001B[43m[\u001B[49m\u001B[43mdata_type\u001B[49m\u001B[43m]\u001B[49m\u001B[43m(\u001B[49m\u001B[38;5;28;43mself\u001B[39;49m\u001B[43m,\u001B[49m\u001B[43m \u001B[49m\u001B[43mdata\u001B[49m\u001B[43m)\u001B[49m\n\u001B[0;32m     53\u001B[0m         \u001B[38;5;28;01mbreak\u001B[39;00m\n\u001B[0;32m     54\u001B[0m \u001B[38;5;28;01melse\u001B[39;00m:\n",
      "File \u001B[1;32m~\\anaconda3\\envs\\rl\\lib\\site-packages\\yaml\\representer.py:331\u001B[0m, in \u001B[0;36mRepresenter.represent_object\u001B[1;34m(self, data)\u001B[0m\n\u001B[0;32m    329\u001B[0m \u001B[38;5;28;01mif\u001B[39;00m dictitems \u001B[38;5;129;01mis\u001B[39;00m \u001B[38;5;129;01mnot\u001B[39;00m \u001B[38;5;28;01mNone\u001B[39;00m:\n\u001B[0;32m    330\u001B[0m     dictitems \u001B[38;5;241m=\u001B[39m \u001B[38;5;28mdict\u001B[39m(dictitems)\n\u001B[1;32m--> 331\u001B[0m \u001B[38;5;28;01mif\u001B[39;00m \u001B[43mfunction\u001B[49m\u001B[38;5;241;43m.\u001B[39;49m\u001B[38;5;18;43m__name__\u001B[39;49m \u001B[38;5;241m==\u001B[39m \u001B[38;5;124m'\u001B[39m\u001B[38;5;124m__newobj__\u001B[39m\u001B[38;5;124m'\u001B[39m:\n\u001B[0;32m    332\u001B[0m     function \u001B[38;5;241m=\u001B[39m args[\u001B[38;5;241m0\u001B[39m]\n\u001B[0;32m    333\u001B[0m     args \u001B[38;5;241m=\u001B[39m args[\u001B[38;5;241m1\u001B[39m:]\n",
      "\u001B[1;31mAttributeError\u001B[0m: 'str' object has no attribute '__name__'"
     ]
    }
   ],
   "source": [
    "config.save_config(f'{learn_kwargs[\"eval_log_path\"]}/config.yaml', env_kwargs, model_kwargs, learn_kwargs)"
   ],
   "metadata": {
    "collapsed": false,
    "pycharm": {
     "name": "#%%\n"
    }
   }
  },
  {
   "cell_type": "code",
   "execution_count": null,
   "outputs": [],
   "source": [],
   "metadata": {
    "collapsed": false,
    "pycharm": {
     "name": "#%%\n"
    }
   }
  }
 ],
 "metadata": {
  "kernelspec": {
   "display_name": "Python 3",
   "language": "python",
   "name": "python3"
  },
  "language_info": {
   "codemirror_mode": {
    "name": "ipython",
    "version": 2
   },
   "file_extension": ".py",
   "mimetype": "text/x-python",
   "name": "python",
   "nbconvert_exporter": "python",
   "pygments_lexer": "ipython2",
   "version": "2.7.6"
  }
 },
 "nbformat": 4,
 "nbformat_minor": 0
}