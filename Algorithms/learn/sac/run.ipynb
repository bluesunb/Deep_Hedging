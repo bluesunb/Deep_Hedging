{
 "cells": [
  {
   "cell_type": "code",
   "execution_count": 2,
   "metadata": {
    "collapsed": true
   },
   "outputs": [],
   "source": [
    "import matplotlib.pyplot as plt\n",
    "\n",
    "from pprint import pprint\n",
    "from Algorithms.sac import config"
   ]
  },
  {
   "cell_type": "code",
   "execution_count": 6,
   "outputs": [
    {
     "name": "stdout",
     "output_type": "stream",
     "text": [
      "env 'BSMarket was created!\n",
      "env 'BSMarket was created!\n"
     ]
    }
   ],
   "source": [
    "env_kwargs, model_kwargs, learn_kwargs = config.load_config('logs/tb_logs/sac_220606-1815_1/config.yaml')"
   ],
   "metadata": {
    "collapsed": false,
    "pycharm": {
     "name": "#%%\n"
    }
   }
  },
  {
   "cell_type": "code",
   "execution_count": 7,
   "outputs": [
    {
     "name": "stdout",
     "output_type": "stream",
     "text": [
      "{'cost': 0.02,\n",
      " 'dividend': 0.0,\n",
      " 'drift': 0.0,\n",
      " 'freq': 1,\n",
      " 'gen_name': 'gbm',\n",
      " 'init_price': 1.0,\n",
      " 'n_assets': 1000,\n",
      " 'n_periods': 30,\n",
      " 'payoff': 'european',\n",
      " 'period_unit': 365,\n",
      " 'reward_mode': 'pnl',\n",
      " 'risk_free_interest': 0.0,\n",
      " 'strike': 1.0,\n",
      " 'volatility': 0.2}\n"
     ]
    }
   ],
   "source": [
    "pprint(env_kwargs)"
   ],
   "metadata": {
    "collapsed": false,
    "pycharm": {
     "name": "#%%\n"
    }
   }
  },
  {
   "cell_type": "code",
   "execution_count": 8,
   "outputs": [
    {
     "name": "stdout",
     "output_type": "stream",
     "text": [
      "{'action_noise': None,\n",
      " 'batch_size': 15,\n",
      " 'buffer_size': 300,\n",
      " 'create_eval_env': False,\n",
      " 'device': 'auto',\n",
      " 'ent_coef': 'auto',\n",
      " 'env': <Env.env.BSMarket object at 0x00000292AD0459D0>,\n",
      " 'gamma': 0.99,\n",
      " 'gradient_steps': -1,\n",
      " 'learning_rate': <function lr_schedule at 0x00000292CBE558B0>,\n",
      " 'learning_starts': 300,\n",
      " 'optimize_memory_usage': False,\n",
      " 'policy': <class 'Algorithms.sac.policies.SACPolicy'>,\n",
      " 'policy_kwargs': {'activation_fn': <class 'torch.nn.modules.activation.ReLU'>,\n",
      "                   'clip_mean': 2.0,\n",
      "                   'features_extractor_class': <class 'Env.feature_extractor.MarketObsExtractor'>,\n",
      "                   'features_extractor_kwargs': {'activation_fn': <class 'torch.nn.modules.activation.ReLU'>,\n",
      "                                                 'features_in': 4,\n",
      "                                                 'features_out': 32,\n",
      "                                                 'last_activation_fn': <class 'torch.nn.modules.activation.ReLU'>,\n",
      "                                                 'net_arch': [32]},\n",
      "                   'log_std_init': -3,\n",
      "                   'n_critics': 1,\n",
      "                   'net_arch': [16],\n",
      "                   'normalize_images': False,\n",
      "                   'optimizer_class': <class 'torch.optim.adam.Adam'>,\n",
      "                   'optimizer_kwargs': None,\n",
      "                   'sde_net_arch': None,\n",
      "                   'share_features_extractor': True,\n",
      "                   'use_expln': False,\n",
      "                   'use_sde': False},\n",
      " 'replay_buffer_class': None,\n",
      " 'replay_buffer_kwargs': None,\n",
      " 'sde_sample_freq': -1,\n",
      " 'seed': 42,\n",
      " 'target_entropy': 'auto',\n",
      " 'target_update_interval': 1,\n",
      " 'tau': 0.005,\n",
      " 'tensorboard_log': 'logs/tb_logs',\n",
      " 'train_freq': (1, 'episode'),\n",
      " 'use_sde': False,\n",
      " 'use_sde_at_warmup': False,\n",
      " 'verbose': 1}\n"
     ]
    }
   ],
   "source": [
    "pprint(model_kwargs)"
   ],
   "metadata": {
    "collapsed": false,
    "pycharm": {
     "name": "#%%\n"
    }
   }
  },
  {
   "cell_type": "code",
   "execution_count": 9,
   "outputs": [
    {
     "name": "stdout",
     "output_type": "stream",
     "text": [
      "{'callback': <Algorithms.sac.callbacks.ReportCallbacks object at 0x00000292CBFBE8B0>,\n",
      " 'eval_env': <Env.env.BSMarket object at 0x00000292CBFBE640>,\n",
      " 'eval_freq': 30,\n",
      " 'eval_log_path': 'logs/tb_logs/sac_220606-1815_1',\n",
      " 'log_interval': 30,\n",
      " 'n_eval_episodes': 1,\n",
      " 'reset_num_timesteps': True,\n",
      " 'tb_log_name': 'sac_220606-1815',\n",
      " 'total_timesteps': 1500}\n"
     ]
    }
   ],
   "source": [
    "pprint(learn_kwargs)"
   ],
   "metadata": {
    "collapsed": false,
    "pycharm": {
     "name": "#%%\n"
    }
   }
  },
  {
   "cell_type": "code",
   "execution_count": 13,
   "outputs": [],
   "source": [
    "from Env.env import BSMarket\n",
    "env: BSMarket = model_kwargs['env']"
   ],
   "metadata": {
    "collapsed": false,
    "pycharm": {
     "name": "#%%\n"
    }
   }
  },
  {
   "cell_type": "code",
   "execution_count": 14,
   "outputs": [
    {
     "data": {
      "text/plain": "<Env.env.BSMarket at 0x292ad0459d0>"
     },
     "execution_count": 14,
     "metadata": {},
     "output_type": "execute_result"
    }
   ],
   "source": [
    "env"
   ],
   "metadata": {
    "collapsed": false,
    "pycharm": {
     "name": "#%%\n"
    }
   }
  },
  {
   "cell_type": "code",
   "execution_count": 45,
   "outputs": [],
   "source": [
    "import numpy as np\n",
    "def diff():\n",
    "    loss = []\n",
    "    for i in range(env.n_periods-1):\n",
    "        ud = env.underlying_prices[i+1]-env.underlying_prices[i]\n",
    "        od = env.option_prices[i+1]-env.option_prices[i]\n",
    "        delta = env.delta[i]\n",
    "        # delta = np.random.randn(env.n_assets)\n",
    "        loss.append(np.sqrt(np.mean((delta - abs(od/ud))**2)))\n",
    "\n",
    "    return loss"
   ],
   "metadata": {
    "collapsed": false,
    "pycharm": {
     "name": "#%%\n"
    }
   }
  },
  {
   "cell_type": "code",
   "execution_count": 46,
   "outputs": [
    {
     "name": "stdout",
     "output_type": "stream",
     "text": [
      "105.22455415106411\n"
     ]
    },
    {
     "data": {
      "text/plain": "<Figure size 576x360 with 1 Axes>",
      "image/png": "[encoded data removed]"
     },
     "metadata": {
      "needs_background": "light"
     },
     "output_type": "display_data"
    }
   ],
   "source": [
    "import matplotlib.pyplot as plt\n",
    "\n",
    "loss = diff()\n",
    "plt.figure(figsize=(8,5))\n",
    "plt.plot(loss)\n",
    "print(sum(loss))"
   ],
   "metadata": {
    "collapsed": false,
    "pycharm": {
     "name": "#%%\n"
    }
   }
  },
  {
   "cell_type": "code",
   "execution_count": 41,
   "outputs": [
    {
     "data": {
      "text/plain": "[1.9433482838386313,\n 1.2987101479089331,\n 1.4686135945025165,\n 2.5880216574821686,\n 1.5317858807124172,\n 5.3818061307889185,\n 11.665813785158463,\n 1.3924455634610464,\n 7.447207302169786,\n 1.8446550926878627,\n 3.3119966674950767,\n 1.3397757141549305,\n 1.6312158886128305,\n 5.411556942344414,\n 5.759919540131907,\n 1.5638784708587563,\n 4.56201394095296,\n 7.539710208548795,\n 1.447028814711834,\n 3.007336877166069,\n 5.867456962485464,\n 3.9857703590518216,\n 1.6160175245586799,\n 14.20619646818864,\n 2.088119267945805,\n 1.8670939357572796,\n 1.6140773915863302,\n 8.101041938384677,\n 4.244062969096549]"
     },
     "execution_count": 41,
     "metadata": {},
     "output_type": "execute_result"
    }
   ],
   "source": [
    "loss"
   ],
   "metadata": {
    "collapsed": false,
    "pycharm": {
     "name": "#%%\n"
    }
   }
  },
  {
   "cell_type": "code",
   "execution_count": null,
   "outputs": [],
   "source": [],
   "metadata": {
    "collapsed": false,
    "pycharm": {
     "name": "#%%\n"
    }
   }
  }
 ],
 "metadata": {
  "kernelspec": {
   "display_name": "Python 3",
   "language": "python",
   "name": "python3"
  },
  "language_info": {
   "codemirror_mode": {
    "name": "ipython",
    "version": 2
   },
   "file_extension": ".py",
   "mimetype": "text/x-python",
   "name": "python",
   "nbconvert_exporter": "python",
   "pygments_lexer": "ipython2",
   "version": "2.7.6"
  }
 },
 "nbformat": 4,
 "nbformat_minor": 0
}