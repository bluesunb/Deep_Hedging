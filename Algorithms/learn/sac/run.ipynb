{
 "cells": [
  {
   "cell_type": "code",
   "execution_count": 26,
   "outputs": [],
   "source": [
    "import torch as th\n",
    "import torch.nn as nn\n",
    "import numpy as np\n",
    "import matplotlib.pyplot as plt\n",
    "\n",
    "from pprint import pprint\n",
    "from Algorithms.sac import config"
   ],
   "metadata": {
    "collapsed": false,
    "pycharm": {
     "name": "#%%\n"
    }
   }
  },
  {
   "cell_type": "markdown",
   "source": [
    "# 0. Plot Setting"
   ],
   "metadata": {
    "collapsed": false
   }
  },
  {
   "cell_type": "code",
   "execution_count": 27,
   "metadata": {
    "collapsed": true
   },
   "outputs": [],
   "source": [
    "import seaborn as sb\n",
    "import matplotlib\n",
    "\n",
    "sb.set_style('whitegrid')\n",
    "\n",
    "FONTSIZE = 10\n",
    "matplotlib.rcParams[\"figure.figsize\"] = (10, 5)\n",
    "matplotlib.rcParams[\"figure.dpi\"] = 100\n",
    "matplotlib.rcParams[\"figure.titlesize\"] = FONTSIZE\n",
    "matplotlib.rcParams[\"legend.fontsize\"] = FONTSIZE\n",
    "matplotlib.rcParams[\"xtick.labelsize\"] = FONTSIZE\n",
    "matplotlib.rcParams[\"ytick.labelsize\"] = FONTSIZE\n",
    "matplotlib.rcParams[\"axes.labelsize\"] = FONTSIZE\n",
    "matplotlib.rcParams[\"axes.titlesize\"] = FONTSIZE\n",
    "matplotlib.rcParams[\"savefig.bbox\"] = \"tight\"\n",
    "matplotlib.rcParams[\"savefig.pad_inches\"] = 0.1\n",
    "matplotlib.rcParams[\"lines.linewidth\"] = 2\n",
    "matplotlib.rcParams[\"axes.linewidth\"] = 1.6"
   ]
  },
  {
   "cell_type": "markdown",
   "source": [
    "# 1. Model Setting"
   ],
   "metadata": {
    "collapsed": false
   }
  },
  {
   "cell_type": "markdown",
   "source": [
    "## 1.1 Load Config"
   ],
   "metadata": {
    "collapsed": false
   }
  },
  {
   "cell_type": "code",
   "execution_count": 28,
   "outputs": [
    {
     "name": "stdout",
     "output_type": "stream",
     "text": [
      "env 'BSMarket was created!\n",
      "env 'BSMarket was created!\n"
     ]
    }
   ],
   "source": [
    "# env_kwargs, model_kwargs, learn_kwargs = config.load_config('../logs/tb_logs/sac_220619-0122_1/config.yaml')\n",
    "env_kwargs, model_kwargs, learn_kwargs = config.load_config('tmp_config.yaml')"
   ],
   "metadata": {
    "collapsed": false,
    "pycharm": {
     "name": "#%%\n"
    }
   }
  },
  {
   "cell_type": "code",
   "execution_count": 43,
   "outputs": [],
   "source": [
    "ntb_mode = True\n",
    "double_sac = False\n",
    "\n",
    "env_kwargs.update({\n",
    "    'drift': 1.0,\n",
    "    'reward_fn': 'mean var',\n",
    "    'reward_fn_kwargs': {},\n",
    "    'reward_mode': 'pnl'\n",
    "})\n",
    "\n",
    "model_kwargs.update({\n",
    "    'buffer_size': 300,\n",
    "    'learning_starts': 300,\n",
    "    'batch_size': 15,\n",
    "    'target_entropy' : 000.0,      # target log_prob => log_prob는 entropy가 작을수록 커진다\n",
    "    'ent_coef': \"auto_1e-6\",\n",
    "    'verbose': 0\n",
    "})\n",
    "\n",
    "if double_sac:\n",
    "    model_kwargs.update({\n",
    "    'mean_coeff': 1.0,\n",
    "    'std_coeff': 0.02,\n",
    "    })\n",
    "\n",
    "model_kwargs['policy_kwargs'].update({\n",
    "    'ntb_mode': ntb_mode,\n",
    "\n",
    "})\n",
    "\n",
    "learn_kwargs.update({\n",
    "    'total_timesteps': 5000\n",
    "\n",
    "})\n",
    "\n",
    "actor_net_kwargs = {'bn_kwargs': {'num_features': env_kwargs['n_assets']}}\n",
    "critic_net_kwargs = {'bn_kwargs': {'num_features': env_kwargs['n_assets']}}\n",
    "\n",
    "if ntb_mode:\n",
    "    model_kwargs['policy_kwargs'].update({\n",
    "        'net_arch': {'pi': [(nn.BatchNorm1d, 'bn'), 32, 32,],\n",
    "                     'qf': [(nn.BatchNorm1d, 'bn'), 16],\n",
    "                     'qf2': [(nn.BatchNorm1d, 'bn'), 4]},\n",
    "        'actor_net_kwargs': actor_net_kwargs,\n",
    "        'critic_net_kwargs': critic_net_kwargs,\n",
    "    })\n",
    "\n",
    "    model_kwargs['policy_kwargs']['features_extractor_kwargs'].update({\n",
    "        'features_out': 64,\n",
    "        'net_arch': [32]\n",
    "    })\n",
    "\n",
    "else:\n",
    "    model_kwargs['policy_kwargs'].update({\n",
    "        'net_arch': {'pi': [(nn.BatchNorm1d, 'bn'), 16, 16, None],\n",
    "                     'qf': [(nn.BatchNorm1d, 'bn'), 16],\n",
    "                     'qf2': [(nn.BatchNorm1d, 'bn'),4]},\n",
    "        'actor_net_kwargs': actor_net_kwargs,\n",
    "        'critic_net_kwargs': critic_net_kwargs,\n",
    "    })\n",
    "\n",
    "    model_kwargs['policy_kwargs']['features_extractor_kwargs'].update({\n",
    "        'features_out': 64,\n",
    "        'net_arch': [32,]\n",
    "    })"
   ],
   "metadata": {
    "collapsed": false,
    "pycharm": {
     "name": "#%%\n"
    }
   }
  },
  {
   "cell_type": "code",
   "execution_count": 44,
   "outputs": [
    {
     "name": "stdout",
     "output_type": "stream",
     "text": [
      "env 'BSMarket was created!\n",
      "model_kwargs['env']: <BSMarket instance>\n",
      "env 'BSMarket was created!\n",
      "learn_kwargs['eval_env']: <BSMarketEval instance>\n",
      "learn_kwargs['tb_log_name']: sac_220619-2349\n",
      "learn_kwargs['eval_log_path']: ../logs/tb_logs/sac_220619-2349_1\n"
     ]
    }
   ],
   "source": [
    "config.reconstruct_config(env_kwargs, model_kwargs, learn_kwargs)"
   ],
   "metadata": {
    "collapsed": false,
    "pycharm": {
     "name": "#%%\n"
    }
   }
  },
  {
   "cell_type": "code",
   "execution_count": 45,
   "outputs": [
    {
     "name": "stdout",
     "output_type": "stream",
     "text": [
      "{'cost': 0.02,\n",
      " 'dividend': 0.0,\n",
      " 'drift': 1.0,\n",
      " 'freq': 1,\n",
      " 'gen_name': 'gbm',\n",
      " 'init_price': 1.0,\n",
      " 'maturity': 30,\n",
      " 'n_assets': 1000,\n",
      " 'payoff': 'european',\n",
      " 'payoff_coeff': 1.0,\n",
      " 'period_unit': 365,\n",
      " 'reward_fn': 'mean var',\n",
      " 'reward_fn_kwargs': {},\n",
      " 'reward_mode': 'pnl',\n",
      " 'risk_free_interest': 0.0,\n",
      " 'strike': 1.0,\n",
      " 'volatility': 0.2}\n"
     ]
    }
   ],
   "source": [
    "pprint(env_kwargs)"
   ],
   "metadata": {
    "collapsed": false,
    "pycharm": {
     "name": "#%%\n"
    }
   }
  },
  {
   "cell_type": "code",
   "execution_count": 46,
   "outputs": [
    {
     "name": "stdout",
     "output_type": "stream",
     "text": [
      "{'action_noise': None,\n",
      " 'batch_size': 15,\n",
      " 'buffer_size': 300,\n",
      " 'create_eval_env': False,\n",
      " 'device': 'auto',\n",
      " 'ent_coef': 'auto_1e-6',\n",
      " 'env': <Env.env.BSMarket object at 0x0000014AFF8F97F0>,\n",
      " 'gamma': 0.99,\n",
      " 'gradient_steps': -1,\n",
      " 'learning_rate': <function lr_schedule at 0x0000014AFF5AB670>,\n",
      " 'learning_starts': 300,\n",
      " 'mean_coeff': 1.0,\n",
      " 'optimize_memory_usage': False,\n",
      " 'policy': <class 'Algorithms.sac.policies.SACPolicy'>,\n",
      " 'policy_kwargs': {'activation_fn': <class 'torch.nn.modules.activation.ReLU'>,\n",
      "                   'actor_net_kwargs': {'bn_kwargs': {'num_features': 1000}},\n",
      "                   'clip_mean': 2.0,\n",
      "                   'critic_net_kwargs': {'bn_kwargs': {'num_features': 1000}},\n",
      "                   'features_extractor_class': <class 'Env.feature_extractor.MarketObsExtractor'>,\n",
      "                   'features_extractor_kwargs': {'activation_fn': <class 'torch.nn.modules.activation.ReLU'>,\n",
      "                                                 'features_in': 4,\n",
      "                                                 'features_out': 64,\n",
      "                                                 'flat_obs': False,\n",
      "                                                 'last_activation_fn': <class 'torch.nn.modules.activation.ReLU'>,\n",
      "                                                 'net_arch': [32]},\n",
      "                   'log_std_init': -3,\n",
      "                   'n_critics': 1,\n",
      "                   'net_arch': {'pi': [(<class 'torch.nn.modules.batchnorm.BatchNorm1d'>,\n",
      "                                        'bn'),\n",
      "                                       32,\n",
      "                                       32],\n",
      "                                'qf': [(<class 'torch.nn.modules.batchnorm.BatchNorm1d'>,\n",
      "                                        'bn'),\n",
      "                                       16],\n",
      "                                'qf2': [(<class 'torch.nn.modules.batchnorm.BatchNorm1d'>,\n",
      "                                         'bn'),\n",
      "                                        4]},\n",
      "                   'normalize_images': False,\n",
      "                   'ntb_mode': True,\n",
      "                   'optimizer_class': <class 'torch.optim.adam.Adam'>,\n",
      "                   'optimizer_kwargs': None,\n",
      "                   'sde_net_arch': None,\n",
      "                   'share_features_extractor': True,\n",
      "                   'use_expln': False,\n",
      "                   'use_sde': False},\n",
      " 'replay_buffer_class': <class 'Env.buffers.CustomReplayBuffer'>,\n",
      " 'replay_buffer_kwargs': {},\n",
      " 'sde_sample_freq': -1,\n",
      " 'seed': 42,\n",
      " 'std_coeff': 0.02,\n",
      " 'target_entropy': 0.0,\n",
      " 'target_update_interval': 1,\n",
      " 'tau': 0.005,\n",
      " 'tensorboard_log': '../logs/tb_logs',\n",
      " 'train_freq': (1, 'episode'),\n",
      " 'use_sde': False,\n",
      " 'use_sde_at_warmup': False,\n",
      " 'verbose': 0}\n"
     ]
    }
   ],
   "source": [
    "pprint(model_kwargs)"
   ],
   "metadata": {
    "collapsed": false,
    "pycharm": {
     "name": "#%%\n"
    }
   }
  },
  {
   "cell_type": "code",
   "execution_count": 47,
   "outputs": [
    {
     "name": "stdout",
     "output_type": "stream",
     "text": [
      "{'callback': <Algorithms.sac.callbacks.ReportCallbacks object at 0x0000014A9CAF5070>,\n",
      " 'eval_env': <Env.env.BSMarketEval object at 0x0000014B8B4C31F0>,\n",
      " 'eval_freq': 30,\n",
      " 'eval_log_path': '../logs/tb_logs/sac_220619-2349_1',\n",
      " 'log_interval': 30,\n",
      " 'n_eval_episodes': 1,\n",
      " 'reset_num_timesteps': True,\n",
      " 'tb_log_name': 'sac_220619-2349',\n",
      " 'total_timesteps': 5000}\n"
     ]
    }
   ],
   "source": [
    "pprint(learn_kwargs)"
   ],
   "metadata": {
    "collapsed": false,
    "pycharm": {
     "name": "#%%\n"
    }
   }
  },
  {
   "cell_type": "markdown",
   "source": [
    "## 1.2 Make env, model"
   ],
   "metadata": {
    "collapsed": false
   }
  },
  {
   "cell_type": "code",
   "execution_count": 48,
   "outputs": [],
   "source": [
    "from Algorithms.sac import SAC as QSAC\n",
    "from stable_baselines3.sac import SAC\n",
    "# from Algorithms.ddpg.double_ddpg import DDPG\n",
    "\n",
    "print(f'double_sac: {double_sac}')\n",
    "if double_sac:\n",
    "    model = QSAC(**model_kwargs)\n",
    "else:\n",
    "    model = SAC(**model_kwargs)"
   ],
   "metadata": {
    "collapsed": false,
    "pycharm": {
     "name": "#%%\n"
    }
   }
  },
  {
   "cell_type": "code",
   "execution_count": 49,
   "outputs": [
    {
     "data": {
      "text/plain": "SACPolicy(\n  (actor): CustomActor(\n    (features_extractor): MarketObsExtractor(\n      (layers): Sequential(\n        (0): BatchNorm1d(1000, eps=1e-05, momentum=0.1, affine=True, track_running_stats=True)\n        (1): Linear(in_features=4, out_features=32, bias=True)\n        (2): ReLU()\n        (3): BatchNorm1d(1000, eps=1e-05, momentum=0.1, affine=True, track_running_stats=True)\n        (4): Linear(in_features=32, out_features=64, bias=True)\n        (5): ReLU()\n      )\n    )\n    (latent_pi): Sequential(\n      (0): BatchNorm1d(1000, eps=1e-05, momentum=0.1, affine=True, track_running_stats=True)\n      (1): Linear(in_features=64, out_features=32, bias=True)\n      (2): ReLU()\n      (3): Linear(in_features=32, out_features=32, bias=True)\n    )\n    (mu): Sequential(\n      (0): Linear(in_features=32, out_features=2, bias=True)\n    )\n    (log_std): Sequential(\n      (0): Linear(in_features=32, out_features=1, bias=True)\n    )\n    (flatten): Flatten(start_dim=-2, end_dim=-1)\n  )\n  (critic): CustomContinuousCritic(\n    (features_extractor): MarketObsExtractor(\n      (layers): Sequential(\n        (0): BatchNorm1d(1000, eps=1e-05, momentum=0.1, affine=True, track_running_stats=True)\n        (1): Linear(in_features=4, out_features=32, bias=True)\n        (2): ReLU()\n        (3): BatchNorm1d(1000, eps=1e-05, momentum=0.1, affine=True, track_running_stats=True)\n        (4): Linear(in_features=32, out_features=64, bias=True)\n        (5): ReLU()\n      )\n    )\n    (qf0): Sequential(\n      (0): BatchNorm1d(1000, eps=1e-05, momentum=0.1, affine=True, track_running_stats=True)\n      (1): Linear(in_features=65, out_features=16, bias=True)\n      (2): ReLU()\n      (3): Linear(in_features=16, out_features=1, bias=True)\n    )\n  )\n  (critic2): CustomContinuousCritic(\n    (features_extractor): MarketObsExtractor(\n      (layers): Sequential(\n        (0): BatchNorm1d(1000, eps=1e-05, momentum=0.1, affine=True, track_running_stats=True)\n        (1): Linear(in_features=4, out_features=32, bias=True)\n        (2): ReLU()\n        (3): BatchNorm1d(1000, eps=1e-05, momentum=0.1, affine=True, track_running_stats=True)\n        (4): Linear(in_features=32, out_features=64, bias=True)\n        (5): ReLU()\n      )\n    )\n    (qf0): Sequential(\n      (0): BatchNorm1d(1000, eps=1e-05, momentum=0.1, affine=True, track_running_stats=True)\n      (1): Linear(in_features=65, out_features=4, bias=True)\n      (2): ReLU()\n      (3): Linear(in_features=4, out_features=1, bias=True)\n    )\n    (qf1): Sequential(\n      (0): BatchNorm1d(1000, eps=1e-05, momentum=0.1, affine=True, track_running_stats=True)\n      (1): Linear(in_features=65, out_features=4, bias=True)\n      (2): ReLU()\n      (3): Linear(in_features=4, out_features=1, bias=True)\n    )\n  )\n  (critic_target): CustomContinuousCritic(\n    (features_extractor): MarketObsExtractor(\n      (layers): Sequential(\n        (0): BatchNorm1d(1000, eps=1e-05, momentum=0.1, affine=True, track_running_stats=True)\n        (1): Linear(in_features=4, out_features=32, bias=True)\n        (2): ReLU()\n        (3): BatchNorm1d(1000, eps=1e-05, momentum=0.1, affine=True, track_running_stats=True)\n        (4): Linear(in_features=32, out_features=64, bias=True)\n        (5): ReLU()\n      )\n    )\n    (qf0): Sequential(\n      (0): BatchNorm1d(1000, eps=1e-05, momentum=0.1, affine=True, track_running_stats=True)\n      (1): Linear(in_features=65, out_features=16, bias=True)\n      (2): ReLU()\n      (3): Linear(in_features=16, out_features=1, bias=True)\n    )\n  )\n  (critic2_target): CustomContinuousCritic(\n    (features_extractor): MarketObsExtractor(\n      (layers): Sequential(\n        (0): BatchNorm1d(1000, eps=1e-05, momentum=0.1, affine=True, track_running_stats=True)\n        (1): Linear(in_features=4, out_features=32, bias=True)\n        (2): ReLU()\n        (3): BatchNorm1d(1000, eps=1e-05, momentum=0.1, affine=True, track_running_stats=True)\n        (4): Linear(in_features=32, out_features=64, bias=True)\n        (5): ReLU()\n      )\n    )\n    (qf0): Sequential(\n      (0): BatchNorm1d(1000, eps=1e-05, momentum=0.1, affine=True, track_running_stats=True)\n      (1): Linear(in_features=65, out_features=4, bias=True)\n      (2): ReLU()\n      (3): Linear(in_features=4, out_features=1, bias=True)\n    )\n    (qf1): Sequential(\n      (0): BatchNorm1d(1000, eps=1e-05, momentum=0.1, affine=True, track_running_stats=True)\n      (1): Linear(in_features=65, out_features=4, bias=True)\n      (2): ReLU()\n      (3): Linear(in_features=4, out_features=1, bias=True)\n    )\n  )\n)"
     },
     "execution_count": 49,
     "metadata": {},
     "output_type": "execute_result"
    }
   ],
   "source": [
    "model.policy"
   ],
   "metadata": {
    "collapsed": false,
    "pycharm": {
     "name": "#%%\n"
    }
   }
  },
  {
   "cell_type": "markdown",
   "source": [
    "# 2. Learning"
   ],
   "metadata": {
    "collapsed": false
   }
  },
  {
   "cell_type": "code",
   "execution_count": 50,
   "outputs": [
    {
     "name": "stdout",
     "output_type": "stream",
     "text": [
      "[Training Start]\n",
      "Eval num_timesteps=30, episode_reward=-0.05 +/- 0.00\n",
      "Episode length: 30.00 +/- 0.00\n",
      "New best mean reward!\n",
      "Eval num_timesteps=60, episode_reward=-0.05 +/- 0.00\n",
      "Episode length: 30.00 +/- 0.00\n",
      "New best mean reward!\n",
      "Eval num_timesteps=90, episode_reward=-0.05 +/- 0.00\n",
      "Episode length: 30.00 +/- 0.00\n",
      "Eval num_timesteps=120, episode_reward=-0.05 +/- 0.00\n",
      "Episode length: 30.00 +/- 0.00\n",
      "Eval num_timesteps=150, episode_reward=-0.05 +/- 0.00\n",
      "Episode length: 30.00 +/- 0.00\n",
      "New best mean reward!\n",
      "Eval num_timesteps=180, episode_reward=-0.05 +/- 0.00\n",
      "Episode length: 30.00 +/- 0.00\n",
      "Eval num_timesteps=210, episode_reward=-0.05 +/- 0.00\n",
      "Episode length: 30.00 +/- 0.00\n",
      "Eval num_timesteps=240, episode_reward=-0.05 +/- 0.00\n",
      "Episode length: 30.00 +/- 0.00\n",
      "Eval num_timesteps=270, episode_reward=-0.05 +/- 0.00\n",
      "Episode length: 30.00 +/- 0.00\n",
      "Eval num_timesteps=300, episode_reward=-0.05 +/- 0.00\n",
      "Episode length: 30.00 +/- 0.00\n",
      "Eval num_timesteps=330, episode_reward=-0.05 +/- 0.00\n",
      "Episode length: 30.00 +/- 0.00\n",
      "Eval num_timesteps=360, episode_reward=-0.07 +/- 0.00\n",
      "Episode length: 30.00 +/- 0.00\n",
      "Eval num_timesteps=390, episode_reward=-0.06 +/- 0.00\n",
      "Episode length: 30.00 +/- 0.00\n",
      "Eval num_timesteps=420, episode_reward=-0.06 +/- 0.00\n",
      "Episode length: 30.00 +/- 0.00\n",
      "Eval num_timesteps=450, episode_reward=-0.06 +/- 0.00\n",
      "Episode length: 30.00 +/- 0.00\n",
      "Eval num_timesteps=480, episode_reward=-0.07 +/- 0.00\n",
      "Episode length: 30.00 +/- 0.00\n",
      "Eval num_timesteps=510, episode_reward=-0.07 +/- 0.00\n",
      "Episode length: 30.00 +/- 0.00\n",
      "Eval num_timesteps=540, episode_reward=-0.07 +/- 0.00\n",
      "Episode length: 30.00 +/- 0.00\n",
      "Eval num_timesteps=570, episode_reward=-0.07 +/- 0.00\n",
      "Episode length: 30.00 +/- 0.00\n",
      "Eval num_timesteps=600, episode_reward=-0.06 +/- 0.00\n",
      "Episode length: 30.00 +/- 0.00\n",
      "Eval num_timesteps=630, episode_reward=-0.06 +/- 0.00\n",
      "Episode length: 30.00 +/- 0.00\n",
      "Eval num_timesteps=660, episode_reward=-0.07 +/- 0.00\n",
      "Episode length: 30.00 +/- 0.00\n",
      "Eval num_timesteps=690, episode_reward=-0.07 +/- 0.00\n",
      "Episode length: 30.00 +/- 0.00\n",
      "Eval num_timesteps=720, episode_reward=-0.07 +/- 0.00\n",
      "Episode length: 30.00 +/- 0.00\n",
      "Eval num_timesteps=750, episode_reward=-0.07 +/- 0.00\n",
      "Episode length: 30.00 +/- 0.00\n",
      "Eval num_timesteps=780, episode_reward=-0.07 +/- 0.00\n",
      "Episode length: 30.00 +/- 0.00\n",
      "Eval num_timesteps=810, episode_reward=-0.07 +/- 0.00\n",
      "Episode length: 30.00 +/- 0.00\n",
      "Eval num_timesteps=840, episode_reward=-0.07 +/- 0.00\n",
      "Episode length: 30.00 +/- 0.00\n",
      "Eval num_timesteps=870, episode_reward=-0.07 +/- 0.00\n",
      "Episode length: 30.00 +/- 0.00\n",
      "Eval num_timesteps=900, episode_reward=-0.07 +/- 0.00\n",
      "Episode length: 30.00 +/- 0.00\n",
      "Eval num_timesteps=930, episode_reward=-0.07 +/- 0.00\n",
      "Episode length: 30.00 +/- 0.00\n",
      "Eval num_timesteps=960, episode_reward=-0.07 +/- 0.00\n",
      "Episode length: 30.00 +/- 0.00\n",
      "Eval num_timesteps=990, episode_reward=-0.06 +/- 0.00\n",
      "Episode length: 30.00 +/- 0.00\n",
      "Eval num_timesteps=1020, episode_reward=-0.06 +/- 0.00\n",
      "Episode length: 30.00 +/- 0.00\n",
      "Eval num_timesteps=1050, episode_reward=-0.07 +/- 0.00\n",
      "Episode length: 30.00 +/- 0.00\n",
      "Eval num_timesteps=1080, episode_reward=-0.07 +/- 0.00\n",
      "Episode length: 30.00 +/- 0.00\n",
      "Eval num_timesteps=1110, episode_reward=-0.06 +/- 0.00\n",
      "Episode length: 30.00 +/- 0.00\n",
      "Eval num_timesteps=1140, episode_reward=-0.07 +/- 0.00\n",
      "Episode length: 30.00 +/- 0.00\n",
      "Eval num_timesteps=1170, episode_reward=-0.06 +/- 0.00\n",
      "Episode length: 30.00 +/- 0.00\n",
      "Eval num_timesteps=1200, episode_reward=-0.06 +/- 0.00\n",
      "Episode length: 30.00 +/- 0.00\n",
      "Eval num_timesteps=1230, episode_reward=-0.06 +/- 0.00\n",
      "Episode length: 30.00 +/- 0.00\n",
      "Eval num_timesteps=1260, episode_reward=-0.06 +/- 0.00\n",
      "Episode length: 30.00 +/- 0.00\n",
      "Eval num_timesteps=1290, episode_reward=-0.06 +/- 0.00\n",
      "Episode length: 30.00 +/- 0.00\n",
      "Eval num_timesteps=1320, episode_reward=-0.06 +/- 0.00\n",
      "Episode length: 30.00 +/- 0.00\n",
      "Eval num_timesteps=1350, episode_reward=-0.06 +/- 0.00\n",
      "Episode length: 30.00 +/- 0.00\n",
      "Eval num_timesteps=1380, episode_reward=-0.07 +/- 0.00\n",
      "Episode length: 30.00 +/- 0.00\n",
      "Eval num_timesteps=1410, episode_reward=-0.07 +/- 0.00\n",
      "Episode length: 30.00 +/- 0.00\n",
      "Eval num_timesteps=1440, episode_reward=-0.07 +/- 0.00\n",
      "Episode length: 30.00 +/- 0.00\n",
      "Eval num_timesteps=1470, episode_reward=-0.06 +/- 0.00\n",
      "Episode length: 30.00 +/- 0.00\n",
      "Eval num_timesteps=1500, episode_reward=-0.06 +/- 0.00\n",
      "Episode length: 30.00 +/- 0.00\n",
      "Eval num_timesteps=1530, episode_reward=-0.06 +/- 0.00\n",
      "Episode length: 30.00 +/- 0.00\n",
      "Eval num_timesteps=1560, episode_reward=-0.07 +/- 0.00\n",
      "Episode length: 30.00 +/- 0.00\n",
      "Eval num_timesteps=1590, episode_reward=-0.06 +/- 0.00\n",
      "Episode length: 30.00 +/- 0.00\n",
      "Eval num_timesteps=1620, episode_reward=-0.06 +/- 0.00\n",
      "Episode length: 30.00 +/- 0.00\n",
      "Eval num_timesteps=1650, episode_reward=-0.06 +/- 0.00\n",
      "Episode length: 30.00 +/- 0.00\n",
      "Eval num_timesteps=1680, episode_reward=-0.07 +/- 0.00\n",
      "Episode length: 30.00 +/- 0.00\n",
      "Eval num_timesteps=1710, episode_reward=-0.06 +/- 0.00\n",
      "Episode length: 30.00 +/- 0.00\n",
      "Eval num_timesteps=1740, episode_reward=-0.06 +/- 0.00\n",
      "Episode length: 30.00 +/- 0.00\n",
      "Eval num_timesteps=1770, episode_reward=-0.06 +/- 0.00\n",
      "Episode length: 30.00 +/- 0.00\n",
      "Eval num_timesteps=1800, episode_reward=-0.07 +/- 0.00\n",
      "Episode length: 30.00 +/- 0.00\n",
      "Eval num_timesteps=1830, episode_reward=-0.06 +/- 0.00\n",
      "Episode length: 30.00 +/- 0.00\n",
      "Eval num_timesteps=1860, episode_reward=-0.06 +/- 0.00\n",
      "Episode length: 30.00 +/- 0.00\n",
      "Eval num_timesteps=1890, episode_reward=-0.06 +/- 0.00\n",
      "Episode length: 30.00 +/- 0.00\n",
      "Eval num_timesteps=1920, episode_reward=-0.06 +/- 0.00\n",
      "Episode length: 30.00 +/- 0.00\n",
      "Eval num_timesteps=1950, episode_reward=-0.06 +/- 0.00\n",
      "Episode length: 30.00 +/- 0.00\n",
      "Eval num_timesteps=1980, episode_reward=-0.06 +/- 0.00\n",
      "Episode length: 30.00 +/- 0.00\n",
      "Eval num_timesteps=2010, episode_reward=-0.06 +/- 0.00\n",
      "Episode length: 30.00 +/- 0.00\n",
      "Eval num_timesteps=2040, episode_reward=-0.07 +/- 0.00\n",
      "Episode length: 30.00 +/- 0.00\n",
      "Eval num_timesteps=2070, episode_reward=-0.06 +/- 0.00\n",
      "Episode length: 30.00 +/- 0.00\n",
      "Eval num_timesteps=2100, episode_reward=-0.06 +/- 0.00\n",
      "Episode length: 30.00 +/- 0.00\n",
      "Eval num_timesteps=2130, episode_reward=-0.06 +/- 0.00\n",
      "Episode length: 30.00 +/- 0.00\n",
      "Eval num_timesteps=2160, episode_reward=-0.06 +/- 0.00\n",
      "Episode length: 30.00 +/- 0.00\n",
      "Eval num_timesteps=2190, episode_reward=-0.06 +/- 0.00\n",
      "Episode length: 30.00 +/- 0.00\n",
      "Eval num_timesteps=2220, episode_reward=-0.06 +/- 0.00\n",
      "Episode length: 30.00 +/- 0.00\n",
      "Eval num_timesteps=2250, episode_reward=-0.06 +/- 0.00\n",
      "Episode length: 30.00 +/- 0.00\n",
      "Eval num_timesteps=2280, episode_reward=-0.06 +/- 0.00\n",
      "Episode length: 30.00 +/- 0.00\n",
      "Eval num_timesteps=2310, episode_reward=-0.06 +/- 0.00\n",
      "Episode length: 30.00 +/- 0.00\n",
      "Eval num_timesteps=2340, episode_reward=-0.07 +/- 0.00\n",
      "Episode length: 30.00 +/- 0.00\n",
      "Eval num_timesteps=2370, episode_reward=-0.06 +/- 0.00\n",
      "Episode length: 30.00 +/- 0.00\n",
      "Eval num_timesteps=2400, episode_reward=-0.06 +/- 0.00\n",
      "Episode length: 30.00 +/- 0.00\n",
      "Eval num_timesteps=2430, episode_reward=-0.07 +/- 0.00\n",
      "Episode length: 30.00 +/- 0.00\n",
      "Eval num_timesteps=2460, episode_reward=-0.06 +/- 0.00\n",
      "Episode length: 30.00 +/- 0.00\n",
      "Eval num_timesteps=2490, episode_reward=-0.06 +/- 0.00\n",
      "Episode length: 30.00 +/- 0.00\n",
      "Eval num_timesteps=2520, episode_reward=-0.07 +/- 0.00\n",
      "Episode length: 30.00 +/- 0.00\n",
      "Eval num_timesteps=2550, episode_reward=-0.06 +/- 0.00\n",
      "Episode length: 30.00 +/- 0.00\n",
      "Eval num_timesteps=2580, episode_reward=-0.05 +/- 0.00\n",
      "Episode length: 30.00 +/- 0.00\n",
      "Eval num_timesteps=2610, episode_reward=-0.06 +/- 0.00\n",
      "Episode length: 30.00 +/- 0.00\n",
      "Eval num_timesteps=2640, episode_reward=-0.05 +/- 0.00\n",
      "Episode length: 30.00 +/- 0.00\n",
      "Eval num_timesteps=2670, episode_reward=-0.07 +/- 0.00\n",
      "Episode length: 30.00 +/- 0.00\n",
      "Eval num_timesteps=2700, episode_reward=-0.06 +/- 0.00\n",
      "Episode length: 30.00 +/- 0.00\n",
      "Eval num_timesteps=2730, episode_reward=-0.06 +/- 0.00\n",
      "Episode length: 30.00 +/- 0.00\n",
      "Eval num_timesteps=2760, episode_reward=-0.06 +/- 0.00\n",
      "Episode length: 30.00 +/- 0.00\n",
      "Eval num_timesteps=2790, episode_reward=-0.06 +/- 0.00\n",
      "Episode length: 30.00 +/- 0.00\n",
      "Eval num_timesteps=2820, episode_reward=-0.07 +/- 0.00\n",
      "Episode length: 30.00 +/- 0.00\n",
      "Eval num_timesteps=2850, episode_reward=-0.05 +/- 0.00\n",
      "Episode length: 30.00 +/- 0.00\n",
      "Eval num_timesteps=2880, episode_reward=-0.04 +/- 0.00\n",
      "Episode length: 30.00 +/- 0.00\n",
      "New best mean reward!\n",
      "Eval num_timesteps=2910, episode_reward=-0.05 +/- 0.00\n",
      "Episode length: 30.00 +/- 0.00\n",
      "Eval num_timesteps=2940, episode_reward=-0.06 +/- 0.00\n",
      "Episode length: 30.00 +/- 0.00\n",
      "Eval num_timesteps=2970, episode_reward=-0.05 +/- 0.00\n",
      "Episode length: 30.00 +/- 0.00\n",
      "Eval num_timesteps=3000, episode_reward=-0.05 +/- 0.00\n",
      "Episode length: 30.00 +/- 0.00\n",
      "Eval num_timesteps=3030, episode_reward=-0.04 +/- 0.00\n",
      "Episode length: 30.00 +/- 0.00\n",
      "New best mean reward!\n",
      "Eval num_timesteps=3060, episode_reward=-0.05 +/- 0.00\n",
      "Episode length: 30.00 +/- 0.00\n",
      "Eval num_timesteps=3090, episode_reward=-0.04 +/- 0.00\n",
      "Episode length: 30.00 +/- 0.00\n",
      "New best mean reward!\n",
      "Eval num_timesteps=3120, episode_reward=-0.05 +/- 0.00\n",
      "Episode length: 30.00 +/- 0.00\n",
      "Eval num_timesteps=3150, episode_reward=-0.04 +/- 0.00\n",
      "Episode length: 30.00 +/- 0.00\n",
      "Eval num_timesteps=3180, episode_reward=-0.04 +/- 0.00\n",
      "Episode length: 30.00 +/- 0.00\n",
      "Eval num_timesteps=3210, episode_reward=-0.05 +/- 0.00\n",
      "Episode length: 30.00 +/- 0.00\n",
      "Eval num_timesteps=3240, episode_reward=-0.06 +/- 0.00\n",
      "Episode length: 30.00 +/- 0.00\n",
      "Eval num_timesteps=3270, episode_reward=-0.06 +/- 0.00\n",
      "Episode length: 30.00 +/- 0.00\n",
      "Eval num_timesteps=3300, episode_reward=-0.07 +/- 0.00\n",
      "Episode length: 30.00 +/- 0.00\n",
      "Eval num_timesteps=3330, episode_reward=-0.06 +/- 0.00\n",
      "Episode length: 30.00 +/- 0.00\n",
      "Eval num_timesteps=3360, episode_reward=-0.05 +/- 0.00\n",
      "Episode length: 30.00 +/- 0.00\n",
      "Eval num_timesteps=3390, episode_reward=-0.05 +/- 0.00\n",
      "Episode length: 30.00 +/- 0.00\n",
      "Eval num_timesteps=3420, episode_reward=-0.05 +/- 0.00\n",
      "Episode length: 30.00 +/- 0.00\n",
      "Eval num_timesteps=3450, episode_reward=-0.05 +/- 0.00\n",
      "Episode length: 30.00 +/- 0.00\n",
      "Eval num_timesteps=3480, episode_reward=-0.04 +/- 0.00\n",
      "Episode length: 30.00 +/- 0.00\n",
      "New best mean reward!\n",
      "Eval num_timesteps=3510, episode_reward=-0.05 +/- 0.00\n",
      "Episode length: 30.00 +/- 0.00\n",
      "Eval num_timesteps=3540, episode_reward=-0.05 +/- 0.00\n",
      "Episode length: 30.00 +/- 0.00\n",
      "Eval num_timesteps=3570, episode_reward=-0.05 +/- 0.00\n",
      "Episode length: 30.00 +/- 0.00\n",
      "Eval num_timesteps=3600, episode_reward=-0.05 +/- 0.00\n",
      "Episode length: 30.00 +/- 0.00\n",
      "Eval num_timesteps=3630, episode_reward=-0.05 +/- 0.00\n",
      "Episode length: 30.00 +/- 0.00\n",
      "Eval num_timesteps=3660, episode_reward=-0.05 +/- 0.00\n",
      "Episode length: 30.00 +/- 0.00\n",
      "Eval num_timesteps=3690, episode_reward=-0.06 +/- 0.00\n",
      "Episode length: 30.00 +/- 0.00\n",
      "Eval num_timesteps=3720, episode_reward=-0.06 +/- 0.00\n",
      "Episode length: 30.00 +/- 0.00\n",
      "Eval num_timesteps=3750, episode_reward=-0.06 +/- 0.00\n",
      "Episode length: 30.00 +/- 0.00\n",
      "Eval num_timesteps=3780, episode_reward=-0.07 +/- 0.00\n",
      "Episode length: 30.00 +/- 0.00\n",
      "Eval num_timesteps=3810, episode_reward=-0.06 +/- 0.00\n",
      "Episode length: 30.00 +/- 0.00\n",
      "Eval num_timesteps=3840, episode_reward=-0.06 +/- 0.00\n",
      "Episode length: 30.00 +/- 0.00\n",
      "Eval num_timesteps=3870, episode_reward=-0.06 +/- 0.00\n",
      "Episode length: 30.00 +/- 0.00\n",
      "Eval num_timesteps=3900, episode_reward=-0.06 +/- 0.00\n",
      "Episode length: 30.00 +/- 0.00\n",
      "Eval num_timesteps=3930, episode_reward=-0.06 +/- 0.00\n",
      "Episode length: 30.00 +/- 0.00\n",
      "Eval num_timesteps=3960, episode_reward=-0.06 +/- 0.00\n",
      "Episode length: 30.00 +/- 0.00\n",
      "Eval num_timesteps=3990, episode_reward=-0.06 +/- 0.00\n",
      "Episode length: 30.00 +/- 0.00\n",
      "Eval num_timesteps=4020, episode_reward=-0.06 +/- 0.00\n",
      "Episode length: 30.00 +/- 0.00\n",
      "Eval num_timesteps=4050, episode_reward=-0.06 +/- 0.00\n",
      "Episode length: 30.00 +/- 0.00\n",
      "Eval num_timesteps=4080, episode_reward=-0.05 +/- 0.00\n",
      "Episode length: 30.00 +/- 0.00\n",
      "Eval num_timesteps=4110, episode_reward=-0.06 +/- 0.00\n",
      "Episode length: 30.00 +/- 0.00\n",
      "Eval num_timesteps=4140, episode_reward=-0.06 +/- 0.00\n",
      "Episode length: 30.00 +/- 0.00\n",
      "Eval num_timesteps=4170, episode_reward=-0.06 +/- 0.00\n",
      "Episode length: 30.00 +/- 0.00\n",
      "Eval num_timesteps=4200, episode_reward=-0.06 +/- 0.00\n",
      "Episode length: 30.00 +/- 0.00\n",
      "Eval num_timesteps=4230, episode_reward=-0.07 +/- 0.00\n",
      "Episode length: 30.00 +/- 0.00\n",
      "Eval num_timesteps=4260, episode_reward=-0.05 +/- 0.00\n",
      "Episode length: 30.00 +/- 0.00\n",
      "Eval num_timesteps=4290, episode_reward=-0.05 +/- 0.00\n",
      "Episode length: 30.00 +/- 0.00\n",
      "Eval num_timesteps=4320, episode_reward=-0.04 +/- 0.00\n",
      "Episode length: 30.00 +/- 0.00\n",
      "Eval num_timesteps=4350, episode_reward=-0.04 +/- 0.00\n",
      "Episode length: 30.00 +/- 0.00\n",
      "Eval num_timesteps=4380, episode_reward=-0.04 +/- 0.00\n",
      "Episode length: 30.00 +/- 0.00\n",
      "New best mean reward!\n",
      "Eval num_timesteps=4410, episode_reward=-0.04 +/- 0.00\n",
      "Episode length: 30.00 +/- 0.00\n",
      "New best mean reward!\n",
      "Eval num_timesteps=4440, episode_reward=-0.04 +/- 0.00\n",
      "Episode length: 30.00 +/- 0.00\n",
      "New best mean reward!\n",
      "Eval num_timesteps=4470, episode_reward=-0.04 +/- 0.00\n",
      "Episode length: 30.00 +/- 0.00\n",
      "New best mean reward!\n",
      "Eval num_timesteps=4500, episode_reward=-0.04 +/- 0.00\n",
      "Episode length: 30.00 +/- 0.00\n",
      "Eval num_timesteps=4530, episode_reward=-0.04 +/- 0.00\n",
      "Episode length: 30.00 +/- 0.00\n",
      "Eval num_timesteps=4560, episode_reward=-0.04 +/- 0.00\n",
      "Episode length: 30.00 +/- 0.00\n",
      "New best mean reward!\n",
      "Eval num_timesteps=4590, episode_reward=-0.04 +/- 0.00\n",
      "Episode length: 30.00 +/- 0.00\n",
      "Eval num_timesteps=4620, episode_reward=-0.04 +/- 0.00\n",
      "Episode length: 30.00 +/- 0.00\n",
      "Eval num_timesteps=4650, episode_reward=-0.04 +/- 0.00\n",
      "Episode length: 30.00 +/- 0.00\n",
      "Eval num_timesteps=4680, episode_reward=-0.04 +/- 0.00\n",
      "Episode length: 30.00 +/- 0.00\n",
      "New best mean reward!\n",
      "Eval num_timesteps=4710, episode_reward=-0.04 +/- 0.00\n",
      "Episode length: 30.00 +/- 0.00\n",
      "Eval num_timesteps=4740, episode_reward=-0.04 +/- 0.00\n",
      "Episode length: 30.00 +/- 0.00\n",
      "Eval num_timesteps=4770, episode_reward=-0.04 +/- 0.00\n",
      "Episode length: 30.00 +/- 0.00\n",
      "New best mean reward!\n",
      "Eval num_timesteps=4800, episode_reward=-0.04 +/- 0.00\n",
      "Episode length: 30.00 +/- 0.00\n",
      "Eval num_timesteps=4830, episode_reward=-0.04 +/- 0.00\n",
      "Episode length: 30.00 +/- 0.00\n",
      "Eval num_timesteps=4860, episode_reward=-0.04 +/- 0.00\n",
      "Episode length: 30.00 +/- 0.00\n",
      "Eval num_timesteps=4890, episode_reward=-0.04 +/- 0.00\n",
      "Episode length: 30.00 +/- 0.00\n",
      "Eval num_timesteps=4920, episode_reward=-0.04 +/- 0.00\n",
      "Episode length: 30.00 +/- 0.00\n",
      "Eval num_timesteps=4950, episode_reward=-0.04 +/- 0.00\n",
      "Episode length: 30.00 +/- 0.00\n",
      "Eval num_timesteps=4980, episode_reward=-0.04 +/- 0.00\n",
      "Episode length: 30.00 +/- 0.00\n",
      "Eval num_timesteps=5010, episode_reward=-0.04 +/- 0.00\n",
      "Episode length: 30.00 +/- 0.00\n",
      "[Training End]  steps: 0\ttimes: 352.41052532196045\n"
     ]
    }
   ],
   "source": [
    "model = model.learn(**learn_kwargs)"
   ],
   "metadata": {
    "collapsed": false,
    "pycharm": {
     "name": "#%%\n"
    }
   }
  },
  {
   "cell_type": "code",
   "execution_count": 37,
   "outputs": [
    {
     "name": "stdout",
     "output_type": "stream",
     "text": [
      "<BSMarket instance> will be save as name. env_kwargs not in kwargs!\n",
      "<BSMarketEval instance> will be save as name. eval_env_kwargs not in kwargs!\n",
      "<Algorithms.sac.callbacks.ReportCallbacks object at 0x0000014A9CAF5070> will be save as name. callback_kwargs not in kwargs!\n",
      "../logs/tb_logs/sac_220619-2330_1/config.yaml was saved.\n"
     ]
    }
   ],
   "source": [
    "config.save_config(f'{learn_kwargs[\"eval_log_path\"]}/config.yaml', env_kwargs, model_kwargs, learn_kwargs)"
   ],
   "metadata": {
    "collapsed": false,
    "pycharm": {
     "name": "#%%\n"
    }
   }
  },
  {
   "cell_type": "markdown",
   "source": [
    "# 3. P&L Evaluation"
   ],
   "metadata": {
    "collapsed": false
   }
  },
  {
   "cell_type": "code",
   "execution_count": 38,
   "outputs": [
    {
     "name": "stdout",
     "output_type": "stream",
     "text": [
      "../logs/tb_logs/sac_220619-2330_1/best_model\n"
     ]
    }
   ],
   "source": [
    "model = model.load('../logs/tb_logs/sac_220619-2312_1'+'/best_model')\n",
    "# model = model.load(learn_kwargs['eval_log_path'] + '/best_model')\n",
    "print(learn_kwargs['eval_log_path'] + '/best_model')"
   ],
   "metadata": {
    "collapsed": false,
    "pycharm": {
     "name": "#%%\n"
    }
   }
  },
  {
   "cell_type": "code",
   "execution_count": 39,
   "outputs": [],
   "source": [
    "eval_env = learn_kwargs['eval_env']\n",
    "eval_env.reward_mode = 'pnl'"
   ],
   "metadata": {
    "collapsed": false,
    "pycharm": {
     "name": "#%%\n"
    }
   }
  },
  {
   "cell_type": "code",
   "execution_count": 13,
   "outputs": [],
   "source": [
    "# zero_pnl = np.load('best_results/zero_pnl.npy')\n",
    "# random_pnl = np.load('best_results/random_pnl.npy')\n",
    "\n",
    "# rl_pnl = np.load('best_results/pnl_train/rl_pnl_drift.npy')\n",
    "# rl_cash = np.load('best_results/pnl_train/rl_cash.npy')\n",
    "\n",
    "# ntb_pnl = np.load('best_results/pnl_train/ntb_pnl.npy')\n",
    "# ntb_cash = np.load('best_results/pnl_train/ntb_cash.npy')"
   ],
   "metadata": {
    "collapsed": false,
    "pycharm": {
     "name": "#%%\n"
    }
   }
  },
  {
   "cell_type": "code",
   "execution_count": 40,
   "outputs": [],
   "source": [
    "zero_pnl = np.load('best_results/zero_pnl.npy')\n",
    "random_pnl = np.load('best_results/random_pnl.npy')"
   ],
   "metadata": {
    "collapsed": false,
    "pycharm": {
     "name": "#%%\n"
    }
   }
  },
  {
   "cell_type": "code",
   "execution_count": 41,
   "outputs": [],
   "source": [
    "rl_pnl = eval_env.eval(model, 'pnl', 100)"
   ],
   "metadata": {
    "collapsed": false,
    "pycharm": {
     "name": "#%%\n"
    }
   }
  },
  {
   "cell_type": "code",
   "execution_count": 16,
   "outputs": [],
   "source": [
    "# ntb_pnl = np.mean([eval_env.pnl_eval(model) for _ in range(30)], axis=0)"
   ],
   "metadata": {
    "collapsed": false,
    "pycharm": {
     "name": "#%%\n"
    }
   }
  },
  {
   "cell_type": "code",
   "execution_count": 17,
   "outputs": [],
   "source": [
    "def pnl_reward(pnl):\n",
    "    mean = np.mean(pnl)\n",
    "    std = np.std(pnl)\n",
    "    return [mean - 0.02 * std , mean, std]\n",
    "\n",
    "def sharpe_ratio(pnl):\n",
    "    return pnl.mean()/pnl.std()\n",
    "\n",
    "def var(pnl, ratio):\n",
    "    losses = np.sort(-pnl)\n",
    "    boundary = int(np.ceil(losses.shape[-1]*ratio))\n",
    "    return losses[boundary]\n",
    "\n",
    "def cvar(pnl, ratio=0.95):\n",
    "    losses = np.sort(-pnl)\n",
    "    boundary = int(np.ceil(losses.shape[-1]*ratio))\n",
    "    return np.mean(losses[boundary:], axis=-1)"
   ],
   "metadata": {
    "collapsed": false,
    "pycharm": {
     "name": "#%%\n"
    }
   }
  },
  {
   "cell_type": "code",
   "execution_count": 42,
   "outputs": [
    {
     "data": {
      "text/plain": "<Figure size 1000x500 with 1 Axes>",
      "image/png": "[encoded data removed]"
     },
     "metadata": {},
     "output_type": "display_data"
    },
    {
     "name": "stdout",
     "output_type": "stream",
     "text": [
      "rl pnl: \t\t[-0.2176 -0.2175  0.0065]\n",
      "zero pnl: \t\t[-0.0649 -0.0648  0.0058]\n",
      "random pnl: \t[-0.2445 -0.2444  0.0049]\n",
      "\n",
      "rl cvar:\t\t0.22951\n",
      "zero cvar:\t\t0.07669\n",
      "random cvar:\t0.25457\n",
      "\n"
     ]
    }
   ],
   "source": [
    "plt_kwargs = {'bins': 100,\n",
    "              # 'range': (-0.06, -0.03),\n",
    "              'alpha': 0.6}\n",
    "\n",
    "plt.xlabel('P&L')\n",
    "# plt.hist(ntb_pnl,**plt_kwargs, label='DDPG+NTB')\n",
    "plt.hist(rl_pnl, **plt_kwargs, label='SAC')\n",
    "plt.hist(zero_pnl,**plt_kwargs, label='zero')\n",
    "plt.hist(random_pnl,**plt_kwargs, label='random')\n",
    "# plt.hist(delta_pnl,**plt_kwargs, label='delta')\n",
    "plt.legend()\n",
    "plt.show()\n",
    "\n",
    "# print(f'ntb pnl: \\t\\t{np.round(pnl_reward(ntb_pnl), 4)}')\n",
    "print(f'rl pnl: \\t\\t{np.round(pnl_reward(rl_pnl), 4)}')\n",
    "print(f'zero pnl: \\t\\t{np.round(pnl_reward(zero_pnl), 4)}')\n",
    "print(f'random pnl: \\t{np.round(pnl_reward(random_pnl), 4)}')\n",
    "# print(f'delta pnl: \\t\\t{np.round(pnl_reward(delta_pnl), 4)}')\n",
    "print()\n",
    "\n",
    "# print(f'ntb cvar:\\t\\t{cvar(ntb_pnl):.5f}')\n",
    "print(f'rl cvar:\\t\\t{cvar(rl_pnl):.5f}')\n",
    "print(f'zero cvar:\\t\\t{cvar(zero_pnl):.5f}')\n",
    "print(f'random cvar:\\t{cvar(random_pnl):.5f}')\n",
    "# print(f'delta cvar:\\t\\t{cvar(delta_pnl):.5f}')\n",
    "print()"
   ],
   "metadata": {
    "collapsed": false,
    "pycharm": {
     "name": "#%%\n"
    }
   }
  },
  {
   "cell_type": "code",
   "execution_count": 28,
   "outputs": [
    {
     "name": "stderr",
     "output_type": "stream",
     "text": [
      "C:\\Users\\bluesun\\anaconda3\\envs\\rl\\lib\\site-packages\\stable_baselines3\\common\\evaluation.py:65: UserWarning: Evaluation environment is not wrapped with a ``Monitor`` wrapper. This may result in reporting modified episode lengths and rewards, if other wrappers happen to modify these. Consider wrapping environment first with ``Monitor`` wrapper.\n",
      "  warnings.warn(\n"
     ]
    }
   ],
   "source": [
    "from stable_baselines3.common.evaluation import evaluate_policy\n",
    "\n",
    "ep_rewards, ep_lens = evaluate_policy(model, eval_env,\n",
    "                                      n_eval_episodes=1, render=False, deterministic=True,\n",
    "                                      return_episode_rewards=True,\n",
    "                                      warn=True,\n",
    "                                      callback=None)"
   ],
   "metadata": {
    "collapsed": false,
    "pycharm": {
     "name": "#%%\n"
    }
   }
  },
  {
   "cell_type": "code",
   "execution_count": 17,
   "outputs": [
    {
     "data": {
      "text/plain": "<Figure size 1000x500 with 1 Axes>",
      "image/png": "[encoded data removed]"
     },
     "metadata": {},
     "output_type": "display_data"
    }
   ],
   "source": [
    "plt.hist(delta_pnl, bins=100, range=(-0.1, 0.05), alpha=0.6, label='delta')\n",
    "plt.hist(np.mean([eval_env.delta_eval2() for _ in range(30)], axis=0), bins=100, range=(-0.1, 0.05), alpha=0.6, label='delta2')\n",
    "plt.hist(np.load('best_results/delta_pnl.npy'), bins=100, range=(-0.1, 0.05), alpha=0.6, label='best_delta')\n",
    "plt.hist(ntb_pnl, bins=100, range=(-0.1, 0.05), alpha=0.6, label='ntb')\n",
    "plt.hist(rl_pnl, bins=100, range=(-0.1, 0.05), alpha=0.6, label='rl')\n",
    "plt.legend()\n",
    "plt.show()"
   ],
   "metadata": {
    "collapsed": false,
    "pycharm": {
     "name": "#%%\n"
    }
   }
  },
  {
   "cell_type": "code",
   "execution_count": 2,
   "outputs": [],
   "source": [
    "delta_pnl = np.load('../ddpg/best_results/delta_pnl.npy')\n",
    "ddpg_pnl = np.load('../ddpg/best_results/rl_pnl.npy')\n",
    "ddpg_ntb_pnl = np.load('../ddpg/best_results//ntb_pnl.npy')\n",
    "sac_ntb_pnl = np.load('best_results/ntb_pnl.npy')\n",
    "sac_pnl = np.load('best_results/sac_pnl.npy')"
   ],
   "metadata": {
    "collapsed": false,
    "pycharm": {
     "name": "#%%\n"
    }
   }
  },
  {
   "cell_type": "code",
   "execution_count": 7,
   "outputs": [
    {
     "data": {
      "text/plain": "0.01135903044001691"
     },
     "execution_count": 7,
     "metadata": {},
     "output_type": "execute_result"
    }
   ],
   "source": [
    "delta_pnl.std()"
   ],
   "metadata": {
    "collapsed": false,
    "pycharm": {
     "name": "#%%\n"
    }
   }
  },
  {
   "cell_type": "code",
   "execution_count": 13,
   "outputs": [
    {
     "data": {
      "text/plain": "<Figure size 1000x500 with 1 Axes>",
      "image/png": "[encoded data removed]"
     },
     "metadata": {},
     "output_type": "display_data"
    }
   ],
   "source": [
    "plt.xlabel('P&L')\n",
    "plot_range = (-0.25, 0.05)\n",
    "bins = 110\n",
    "\n",
    "plt.hist(delta_pnl, bins=bins, range=plot_range, alpha=0.6, label='delta')\n",
    "plt.axvline(delta_pnl.mean(), ls=':', lw=2, c='C0')\n",
    "\n",
    "plt.hist(ddpg_ntb_pnl, bins=bins, range=plot_range, alpha=0.6, label='DDPG+NTB')\n",
    "plt.axvline(ddpg_ntb_pnl.mean(), ls=':', lw=2, c='C1')\n",
    "\n",
    "plt.hist(ddpg_pnl, bins=bins, range=plot_range, alpha=0.6, label='DDPG')\n",
    "plt.axvline(ddpg_pnl.mean(), ls=':', lw=2, c='C2')\n",
    "\n",
    "plt.hist(sac_ntb_pnl, bins=bins, range=plot_range, alpha=0.6, label='SAC+NTB')\n",
    "plt.axvline(sac_ntb_pnl.mean(), ls=':', lw=2, c='C3')\n",
    "\n",
    "plt.hist(sac_pnl, bins=bins, range=plot_range, alpha=0.6, label='SAC')\n",
    "plt.axvline(sac_pnl.mean(), ls=':', lw=2, c='C4')\n",
    "\n",
    "plt.legend()\n",
    "plt.show()"
   ],
   "metadata": {
    "collapsed": false,
    "pycharm": {
     "name": "#%%\n"
    }
   }
  },
  {
   "cell_type": "code",
   "execution_count": 18,
   "outputs": [
    {
     "name": "stdout",
     "output_type": "stream",
     "text": [
      "delta:\t    -0.0307\t0.0114\t\t-2.6984\n",
      "ddpg_ntb:\t-0.0161\t0.0089\t\t-1.8122\n",
      "ddpg:\t    -0.0000\t0.0060\t\t-0.0055\n",
      "sac_ntb:\t-0.2091\t0.0119\t\t-17.6009\n",
      "sac:\t    -0.2115\t0.0116\t\t-18.2100\n"
     ]
    }
   ],
   "source": [
    "def r1(pnl):\n",
    "    return pnl.mean()/pnl.std()\n",
    "\n",
    "def performance_print(pnl, name):\n",
    "    print(f'{name}:\\t{\"\" if len(name)>5 else \"    \"}{pnl.mean():.4f}\\t{pnl.std():.4f}\\t\\t{r1(pnl):.4f}')\n",
    "\n",
    "# print(f'delta:\\t\\t{delta_pnl.mean():.4f}\\t{delta_pnl.std():.4f}\\t\\t{r1(delta_pnl):.4f}')\n",
    "# print(f'ddpg+ntb:\\t{ddpg_ntb_pnl.mean():.4f}\\t{ddpg_ntb_pnl.std():.4f}\\t\\t{r1(ddpg_ntb_pnl)}')\n",
    "# print(f'ddpg:\\t\\t{ddpg_pnl.mean():.4f}\\t{ddpg_pnl.std():.4f}')\n",
    "# print(f'sac+ntb:\\t{sac_ntb_pnl.mean():.4f}\\t{sac_ntb_pnl.std():.4f}')\n",
    "# print(f'sac:\\t\\t{sac_pnl.mean():.4f}\\t{sac_pnl.std():.4f}')\n",
    "\n",
    "performance_print(delta_pnl, 'delta')\n",
    "performance_print(ddpg_ntb_pnl, 'ddpg_ntb')\n",
    "performance_print(ddpg_pnl, 'ddpg')\n",
    "performance_print(sac_ntb_pnl, 'sac_ntb')\n",
    "performance_print(sac_pnl, 'sac')"
   ],
   "metadata": {
    "collapsed": false,
    "pycharm": {
     "name": "#%%\n"
    }
   }
  },
  {
   "cell_type": "code",
   "execution_count": 22,
   "outputs": [],
   "source": [
    "import pandas as pd\n",
    "def performance_print(pnl, name):\n",
    "    return [name, round(pnl.mean(), 4), round(pnl.std(), 4), round(r1(pnl), 4)]\n",
    "\n",
    "df = pd.DataFrame([performance_print(delta_pnl, 'delta'),\n",
    "                   performance_print(ddpg_ntb_pnl, 'ddpg_ntb'),\n",
    "                   performance_print(ddpg_pnl, 'ddpg'),\n",
    "                   performance_print(sac_ntb_pnl, 'sac_ntb'),\n",
    "                   performance_print(sac_pnl, 'sac')],\n",
    "                  columns=['name', 'mean', 'std', 'sharpe ratio'])"
   ],
   "metadata": {
    "collapsed": false,
    "pycharm": {
     "name": "#%%\n"
    }
   }
  },
  {
   "cell_type": "code",
   "execution_count": 23,
   "outputs": [
    {
     "data": {
      "text/plain": "       name    mean     std  sharpe ratio\n0     delta -0.0307  0.0114       -2.6984\n1  ddpg_ntb -0.0161  0.0089       -1.8122\n2      ddpg -0.0000  0.0060       -0.0055\n3   sac_ntb -0.2091  0.0119      -17.6009\n4       sac -0.2115  0.0116      -18.2100",
      "text/html": "<div>\n<style scoped>\n    .dataframe tbody tr th:only-of-type {\n        vertical-align: middle;\n    }\n\n    .dataframe tbody tr th {\n        vertical-align: top;\n    }\n\n    .dataframe thead th {\n        text-align: right;\n    }\n</style>\n<table border=\"1\" class=\"dataframe\">\n  <thead>\n    <tr style=\"text-align: right;\">\n      <th></th>\n      <th>name</th>\n      <th>mean</th>\n      <th>std</th>\n      <th>sharpe ratio</th>\n    </tr>\n  </thead>\n  <tbody>\n    <tr>\n      <th>0</th>\n      <td>delta</td>\n      <td>-0.0307</td>\n      <td>0.0114</td>\n      <td>-2.6984</td>\n    </tr>\n    <tr>\n      <th>1</th>\n      <td>ddpg_ntb</td>\n      <td>-0.0161</td>\n      <td>0.0089</td>\n      <td>-1.8122</td>\n    </tr>\n    <tr>\n      <th>2</th>\n      <td>ddpg</td>\n      <td>-0.0000</td>\n      <td>0.0060</td>\n      <td>-0.0055</td>\n    </tr>\n    <tr>\n      <th>3</th>\n      <td>sac_ntb</td>\n      <td>-0.2091</td>\n      <td>0.0119</td>\n      <td>-17.6009</td>\n    </tr>\n    <tr>\n      <th>4</th>\n      <td>sac</td>\n      <td>-0.2115</td>\n      <td>0.0116</td>\n      <td>-18.2100</td>\n    </tr>\n  </tbody>\n</table>\n</div>"
     },
     "execution_count": 23,
     "metadata": {},
     "output_type": "execute_result"
    }
   ],
   "source": [
    "df"
   ],
   "metadata": {
    "collapsed": false,
    "pycharm": {
     "name": "#%%\n"
    }
   }
  },
  {
   "cell_type": "code",
   "execution_count": null,
   "outputs": [],
   "source": [],
   "metadata": {
    "collapsed": false,
    "pycharm": {
     "name": "#%%\n"
    }
   }
  }
 ],
 "metadata": {
  "kernelspec": {
   "display_name": "Python 3",
   "language": "python",
   "name": "python3"
  },
  "language_info": {
   "codemirror_mode": {
    "name": "ipython",
    "version": 2
   },
   "file_extension": ".py",
   "mimetype": "text/x-python",
   "name": "python",
   "nbconvert_exporter": "python",
   "pygments_lexer": "ipython2",
   "version": "2.7.6"
  }
 },
 "nbformat": 4,
 "nbformat_minor": 0
}