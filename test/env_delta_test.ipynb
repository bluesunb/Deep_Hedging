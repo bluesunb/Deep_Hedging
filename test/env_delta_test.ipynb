{
 "cells": [
  {
   "cell_type": "code",
   "execution_count": 1,
   "metadata": {
    "collapsed": true
   },
   "outputs": [],
   "source": [
    "import numpy as np\n",
    "import matplotlib.pyplot as plt\n",
    "\n",
    "from Algorithms.ddpg import config"
   ]
  },
  {
   "cell_type": "markdown",
   "source": [
    "# 0. Plot setting"
   ],
   "metadata": {
    "collapsed": false
   }
  },
  {
   "cell_type": "code",
   "execution_count": 2,
   "outputs": [],
   "source": [
    "import seaborn as sb\n",
    "import matplotlib\n",
    "\n",
    "sb.set_style('whitegrid')\n",
    "\n",
    "FONTSIZE = 10\n",
    "matplotlib.rcParams[\"figure.figsize\"] = (10, 5)\n",
    "matplotlib.rcParams[\"figure.dpi\"] = 100\n",
    "matplotlib.rcParams[\"figure.titlesize\"] = FONTSIZE\n",
    "matplotlib.rcParams[\"legend.fontsize\"] = FONTSIZE\n",
    "matplotlib.rcParams[\"xtick.labelsize\"] = FONTSIZE\n",
    "matplotlib.rcParams[\"ytick.labelsize\"] = FONTSIZE\n",
    "matplotlib.rcParams[\"axes.labelsize\"] = FONTSIZE\n",
    "matplotlib.rcParams[\"axes.titlesize\"] = FONTSIZE\n",
    "matplotlib.rcParams[\"savefig.bbox\"] = \"tight\"\n",
    "matplotlib.rcParams[\"savefig.pad_inches\"] = 0.1\n",
    "matplotlib.rcParams[\"lines.linewidth\"] = 2\n",
    "matplotlib.rcParams[\"axes.linewidth\"] = 1.6"
   ],
   "metadata": {
    "collapsed": false,
    "pycharm": {
     "name": "#%%\n"
    }
   }
  },
  {
   "cell_type": "markdown",
   "source": [
    "# Seed Setting"
   ],
   "metadata": {
    "collapsed": false
   }
  },
  {
   "cell_type": "code",
   "execution_count": 3,
   "outputs": [],
   "source": [
    "import torch as th\n",
    "import torch.nn as nn\n",
    "import random"
   ],
   "metadata": {
    "collapsed": false,
    "pycharm": {
     "name": "#%%\n"
    }
   }
  },
  {
   "cell_type": "code",
   "execution_count": 4,
   "outputs": [],
   "source": [
    "def set_seed(seed: int = 42):\n",
    "    random.seed(seed) # random\n",
    "    np.random.seed(seed) # numpy\n",
    "    # os.environ[\"PYTHONHASHSEED\"] = str(seed) # os\n",
    "    th.manual_seed(seed)\n",
    "    # th.cuda.manual_seed(seed)\n",
    "    # th.backends.cudnn.deterministic = True\n",
    "    # th.backends.cudnn.benchmark = False"
   ],
   "metadata": {
    "collapsed": false,
    "pycharm": {
     "name": "#%%\n"
    }
   }
  },
  {
   "cell_type": "markdown",
   "source": [
    "# 1. Recall results"
   ],
   "metadata": {
    "collapsed": false
   }
  },
  {
   "cell_type": "markdown",
   "source": [
    "## 1. GBM"
   ],
   "metadata": {
    "collapsed": false
   }
  },
  {
   "cell_type": "code",
   "execution_count": 27,
   "outputs": [],
   "source": [
    "def geometric_brownian_motion(n_paths, maturity=30, dt=1 / 365, drift=0.0, volatility=0.2, device=None) -> th.Tensor:\n",
    "\n",
    "    # normal_rand = th.randn(size=(maturity, n_paths))\n",
    "    normal_rand = th.from_numpy(np.random.randn(maturity, n_paths))\n",
    "    normal_rand[0, :] = 0.0\n",
    "\n",
    "    noise_term = volatility * (dt ** 0.5) * normal_rand.cumsum(dim=0)   # normal_variable에 대한 cumsum이므로 variance가 dt만큼 가중돼 누적되어 나중에는 t만큼 벌어진다.\n",
    "    t = th.linspace(0, maturity*dt, maturity)[:, None]    # set same device with noise_term\n",
    "    return th.exp((drift - 0.5*volatility**2)*t + noise_term)\n",
    "\n",
    "\n",
    "def geometric_brownian_motion2(n_paths: int, n_periods: int = 30,\n",
    "                               drift: float = 0.0, volatility: float = 0.2,\n",
    "                               init_price: float = 1.0, dt: float = 1/365) -> np.ndarray:\n",
    "\n",
    "    z = np.random.standard_normal((n_periods, n_paths))\n",
    "    z[0, :] = 0.0\n",
    "\n",
    "    noise_term = volatility * np.sqrt(dt) * z.cumsum(axis=0)\n",
    "\n",
    "    t = np.linspace(0, n_periods*dt, n_periods).reshape(-1, 1)\n",
    "    # t = np.arange(0, n_periods*dt, dt).reshape(-1, 1)\n",
    "    return init_price*np.exp((drift - 0.5 * volatility ** 2) * t + noise_term)"
   ],
   "metadata": {
    "collapsed": false,
    "pycharm": {
     "name": "#%%\n"
    }
   }
  },
  {
   "cell_type": "code",
   "execution_count": 32,
   "outputs": [
    {
     "data": {
      "text/plain": "tensor(True)"
     },
     "execution_count": 32,
     "metadata": {},
     "output_type": "execute_result"
    }
   ],
   "source": [
    "set_seed()\n",
    "gbm1 = geometric_brownian_motion(1)\n",
    "set_seed()\n",
    "gbm2 = th.tensor(geometric_brownian_motion2(1))\n",
    "\n",
    "th.all(gbm1 - gbm2 < 1e-7)"
   ],
   "metadata": {
    "collapsed": false,
    "pycharm": {
     "name": "#%%\n"
    }
   }
  },
  {
   "cell_type": "markdown",
   "source": [
    "## 1.2 Delta"
   ],
   "metadata": {
    "collapsed": false
   }
  },
  {
   "cell_type": "code",
   "execution_count": 33,
   "outputs": [],
   "source": [
    "# from Utils.prices import european_call_delta\n",
    "from scipy.stats.distributions import norm\n",
    "\n",
    "def european_option_delta(moneyness, expiry, volatility):\n",
    "    s, t, v = map(th.as_tensor, (moneyness, expiry, volatility))\n",
    "    normal = th.distributions.Normal(loc=th.tensor(0.), scale=th.tensor(1.))\n",
    "    delta = normal.cdf((s.log()+(v**2/2)*t) / (v*th.sqrt(t)))\n",
    "    return delta\n",
    "\n",
    "def european_option_delta2(moneyness: np.ndarray,\n",
    "                        expiry: np.ndarray,\n",
    "                        volatility: float,\n",
    "                        risk_free_interest: float = 0.0,\n",
    "                        strike: float = 1.0, dividend: float = 0.0) -> np.ndarray:\n",
    "\n",
    "    normal = norm(loc=0.0, scale=1.0)\n",
    "    d1 = european_option_d1(moneyness, expiry, volatility, risk_free_interest)\n",
    "    return normal.cdf(d1) * np.exp(-dividend * expiry)\n",
    "\n",
    "def european_option_d1(moneyness: np.ndarray,\n",
    "                       expiry: np.ndarray,\n",
    "                       volatility: float,\n",
    "                       risk_free_interest: float=0.0) -> np.ndarray:\n",
    "\n",
    "    a = np.log(moneyness) + (risk_free_interest + 0.5 * volatility ** 2) * expiry\n",
    "    b = volatility * np.sqrt(expiry)\n",
    "\n",
    "    return a / b"
   ],
   "metadata": {
    "collapsed": false,
    "pycharm": {
     "name": "#%%\n"
    }
   }
  },
  {
   "cell_type": "code",
   "execution_count": 34,
   "outputs": [
    {
     "data": {
      "text/plain": "True"
     },
     "execution_count": 34,
     "metadata": {},
     "output_type": "execute_result"
    }
   ],
   "source": [
    "moneyness = th.distributions.Normal(1., 0.2).sample((10, ))\n",
    "expiry = th.full_like(moneyness, 15/365)\n",
    "vol = th.full_like(moneyness, 0.2)\n",
    "\n",
    "\n",
    "delta1 = european_option_delta(moneyness, expiry, vol).numpy()\n",
    "delta2 = european_option_delta2(moneyness.numpy(), expiry.numpy(), vol.numpy())\n",
    "# delta2 = european_option_d1(moneyness.numpy(), expiry.numpy(), vol.numpy())\n",
    "\n",
    "np.all(delta1 - delta2 < 1e-7)"
   ],
   "metadata": {
    "collapsed": false,
    "pycharm": {
     "name": "#%%\n"
    }
   }
  },
  {
   "cell_type": "markdown",
   "source": [
    "## 1.3 Payoff"
   ],
   "metadata": {
    "collapsed": false
   }
  },
  {
   "cell_type": "code",
   "execution_count": 35,
   "outputs": [],
   "source": [
    "def european_option_payoff(prices: th.Tensor, strike=1.0) -> th.Tensor:\n",
    "    return th.nn.functional.relu(prices - strike)\n",
    "\n",
    "def european_option_payoff2(prices: np.ndarray, strike: float = 1.0) -> np.ndarray:\n",
    "    return np.clip(prices - strike, 0.0, np.inf)"
   ],
   "metadata": {
    "collapsed": false,
    "pycharm": {
     "name": "#%%\n"
    }
   }
  },
  {
   "cell_type": "code",
   "execution_count": 36,
   "outputs": [
    {
     "data": {
      "text/plain": "True"
     },
     "execution_count": 36,
     "metadata": {},
     "output_type": "execute_result"
    }
   ],
   "source": [
    "tmp = th.randn(100)\n",
    "np.all(european_option_payoff(tmp).numpy()==european_option_payoff2(tmp.numpy()))"
   ],
   "metadata": {
    "collapsed": false,
    "pycharm": {
     "name": "#%%\n"
    }
   }
  },
  {
   "cell_type": "markdown",
   "source": [
    "## 1.4 P&L"
   ],
   "metadata": {
    "collapsed": false
   }
  },
  {
   "cell_type": "code",
   "execution_count": 108,
   "outputs": [],
   "source": [
    "# def compute_pnl(n_assets=1000):\n",
    "#\n",
    "#     prices = geometric_brownian_motion(n_assets)  # prices over all time, shape (n_steps, n_paths)\n",
    "#\n",
    "#     hedge = th.zeros_like(prices[0])        # positions, shape (n_paths, )\n",
    "#     pnl = 0\n",
    "#\n",
    "#     maturity = 30\n",
    "#     dt = 1/365\n",
    "#     vol_arg = 0.2\n",
    "#     transaction_cost = 1e-3\n",
    "#\n",
    "#     for i in range(prices.shape[0] - 1):\n",
    "#         # env's observations\n",
    "#         moneyness = prices[i]  # obs_1, shape (n_paths, 1)\n",
    "#         time_expiry = th.full_like(moneyness, (maturity - i)*dt)\n",
    "#         volatility = th.full_like(moneyness, vol_arg)\n",
    "#\n",
    "#         prev_hedge = hedge\n",
    "#         hedge = european_option_delta(moneyness, time_expiry, volatility)\n",
    "#\n",
    "#         # gain from price movement + loss from hedge movement\n",
    "#         pnl += hedge * (prices[i+1]-prices[i]) - transaction_cost * th.abs(hedge - prev_hedge) * prices[i]\n",
    "#\n",
    "#     # buyer's option execution (so, it is loss for seller=(us))\n",
    "#\n",
    "#     pnl -= european_option_payoff(prices[-1])\n",
    "#\n",
    "#     return pnl\n",
    "\n",
    "from Utils.prices import geometric_brownian_motion, european_call_delta, european_option_payoff\n",
    "def compute_pnl2(n_assets=1000):\n",
    "\n",
    "    prices = geometric_brownian_motion(n_assets, 30, 0.0, 0.2, 1.0, 1/365)  # prices over all time, shape (n_steps, n_paths)\n",
    "    hedge = np.zeros_like(prices[0])        # positions, shape (n_paths, )\n",
    "    pnl = 0\n",
    "\n",
    "    maturity = 30\n",
    "    dt = 1/365\n",
    "    vol_arg = 0.2\n",
    "    # transaction_cost = 2e-2\n",
    "    transaction_cost = 1e-3\n",
    "\n",
    "    for i in range(prices.shape[0] - 1):\n",
    "        # env's observations\n",
    "        z = i\n",
    "        moneyness = prices[z]  # obs_1, shape (n_paths, 1)\n",
    "        time_expiry = np.full_like(moneyness, (maturity - z)*dt)\n",
    "        volatility = np.full_like(moneyness, vol_arg)\n",
    "\n",
    "        prev_hedge = hedge\n",
    "        hedge = european_call_delta(moneyness, time_expiry, volatility)\n",
    "\n",
    "        # gain from price movement + loss from hedge movement\n",
    "        gain = hedge * (prices[i+1]-prices[i]) - transaction_cost * np.abs(hedge - prev_hedge) * prices[i]\n",
    "        print(np.round(hedge[:5], 4), end=\" \")\n",
    "        print(np.round(gain[:5], 4))\n",
    "        pnl += gain\n",
    "\n",
    "    # buyer's option execution (so, it is loss for seller=(us))\n",
    "\n",
    "    pnl -= european_option_payoff(prices[-1])\n",
    "    print(np.round(european_option_payoff(prices[-1])[:5], 4))\n",
    "\n",
    "    return pnl, prices"
   ],
   "metadata": {
    "collapsed": false,
    "pycharm": {
     "name": "#%%\n"
    }
   }
  },
  {
   "cell_type": "code",
   "execution_count": 109,
   "outputs": [],
   "source": [
    "# set_seed()\n",
    "# pnl = compute_pnl().numpy()"
   ],
   "metadata": {
    "collapsed": false,
    "pycharm": {
     "name": "#%%\n"
    }
   }
  },
  {
   "cell_type": "code",
   "execution_count": 110,
   "outputs": [
    {
     "name": "stdout",
     "output_type": "stream",
     "text": [
      "[0.5114 0.5114 0.5114 0.5114 0.5114] [ 0.007   0.0044 -0.0002 -0.004   0.0032]\n",
      "[0.613  0.5788 0.5153 0.463  0.5623] [-0.0045 -0.001  -0.0043 -0.0016 -0.0112]\n",
      "[0.5646 0.5687 0.4551 0.4385 0.4207] [-0.0113 -0.0052 -0.002   0.0086  0.0023]\n",
      "[0.4193 0.5035 0.4221 0.5807 0.4607] [-0.0039 -0.0003  0.      0.0027 -0.0066]\n",
      "[0.3524 0.5003 0.4212 0.6172 0.3554] [-0.0016 -0.0024 -0.0078 -0.0022  0.0026]\n",
      "[0.318  0.4633 0.2864 0.5933 0.4076] [-0.0036 -0.0031 -0.0029 -0.0035 -0.001 ]\n",
      "[0.2381 0.411  0.2207 0.5505 0.3881] [ 0.0018 -0.0076  0.0015 -0.0014  0.0028]\n",
      "[0.2856 0.2734 0.2612 0.5314 0.4423] [-0.0002 -0.0015 -0.0005  0.004   0.0058]\n",
      "[0.2782 0.234  0.2442 0.5912 0.5485] [ 0.0021  0.0025  0.0012 -0.0121 -0.001 ]\n",
      "[0.3309 0.3047 0.2733 0.4246 0.5353] [-0.0024 -0.001  -0.0017  0.0003  0.0067]\n",
      "[0.2735 0.2762 0.2256 0.4315 0.6391] [-0.0033  0.0012  0.0025  0.0034  0.0073]\n",
      "[0.1866 0.3041 0.3013 0.4976 0.7296] [ 0.0021 -0.0058 -0.0011 -0.0003 -0.    ]\n",
      "[0.2609 0.1655 0.2694 0.4926 0.7356] [-0.0001  0.0007 -0.0044 -0.0047 -0.0012]\n",
      "[0.255  0.1908 0.1525 0.4033 0.7289] [-0.0006 -0.0004  0.0033  0.0033  0.0196]\n",
      "[0.2303 0.1693 0.3081 0.479  0.8936] [-0.0004 -0.0001  0.      0.0047 -0.0076]\n",
      "[0.2113 0.1588 0.3072 0.5744 0.8624] [ 0.0019  0.     -0.0029 -0.0029  0.0032]\n",
      "[0.275  0.1522 0.2213 0.527  0.8884] [-0.001   0.0003  0.003  -0.0003 -0.0087]\n",
      "[0.2366 0.1543 0.3362 0.5219 0.8451] [ 0.0007 -0.0012  0.0023 -0.0033  0.0068]\n",
      "[0.2557 0.0988 0.4038 0.4537 0.898 ] [ 0.0007 -0.0005 -0.0015 -0.0028  0.0189]\n",
      "[0.2712 0.0684 0.3597 0.3827 0.9714] [ 0.0009  0.0002 -0.0035  0.0022 -0.0162]\n",
      "[0.2973 0.0703 0.2494 0.4471 0.9357] [ 0.0077 -0.     -0.0009 -0.0025  0.0038]\n",
      "[0.6074 0.0589 0.2059 0.3754 0.9577] [-0.009  -0.0001  0.0024  0.0002  0.0099]\n",
      "[0.4229 0.0439 0.3205 0.3758 0.9845] [ 0.0096  0.0001 -0.0009  0.0038  0.0092]\n",
      "[0.7321 0.0446 0.2774 0.5108 0.9956] [-0.0056 -0.0003  0.004   0.0099 -0.0104]\n",
      "[0.6519 0.0165 0.4759 0.7841 0.9928] [ 0.0011 -0.     -0.0024 -0.0003  0.0054]\n",
      "[0.6912 0.0098 0.396  0.8038 0.9981] [-0.0011 -0.0001 -0.0006  0.0012  0.0058]\n",
      "[6.852e-01 7.000e-04 3.595e-01 8.473e-01 9.998e-01] [-0.0057 -0.      0.0029 -0.0003  0.0016]\n",
      "[0.5392 0.0012 0.5122 0.878  1.    ] [ 0.0099  0.      0.0034 -0.0085  0.0201]\n",
      "[9.133e-01 6.000e-04 6.938e-01 7.838e-01 1.000e+00] [ 0.0054  0.      0.0248 -0.009  -0.0072]\n",
      "[0.0266 0.     0.0434 0.0002 0.09  ]\n"
     ]
    }
   ],
   "source": [
    "set_seed()\n",
    "pnl2, prices = compute_pnl2()"
   ],
   "metadata": {
    "collapsed": false,
    "pycharm": {
     "name": "#%%\n"
    }
   }
  },
  {
   "cell_type": "code",
   "execution_count": 66,
   "outputs": [],
   "source": [
    "delta_best = np.load('delta_best.npy')"
   ],
   "metadata": {
    "collapsed": false,
    "pycharm": {
     "name": "#%%\n"
    }
   }
  },
  {
   "cell_type": "code",
   "execution_count": 90,
   "outputs": [
    {
     "data": {
      "text/plain": "<Figure size 1000x500 with 1 Axes>",
      "image/png": "[encoded data removed]"
     },
     "metadata": {},
     "output_type": "display_data"
    },
    {
     "name": "stdout",
     "output_type": "stream",
     "text": [
      "-0.024656186791497874\n"
     ]
    }
   ],
   "source": [
    "plt.hist(pnl2, bins=100, alpha=0.6, label='pnl2')\n",
    "plt.hist(delta_best, bins=100, alpha=0.6, label='best')\n",
    "# plt.hist(delta_pnl, bins=100, alpha=0.6, label='rl')\n",
    "plt.legend()\n",
    "plt.show()\n",
    "\n",
    "# print(np.mean(delta_pnl))\n",
    "print(np.mean(pnl2))"
   ],
   "metadata": {
    "collapsed": false,
    "pycharm": {
     "name": "#%%\n"
    }
   }
  },
  {
   "cell_type": "markdown",
   "source": [
    "# 2. For Env"
   ],
   "metadata": {
    "collapsed": false
   }
  },
  {
   "cell_type": "code",
   "execution_count": 120,
   "outputs": [
    {
     "name": "stdout",
     "output_type": "stream",
     "text": [
      "env 'BSMarket was created!\n"
     ]
    }
   ],
   "source": [
    "from Env.env import BSMarket\n",
    "env = BSMarket(1000, cost=1e-3, payoff_coeff=0.0)"
   ],
   "metadata": {
    "collapsed": false,
    "pycharm": {
     "name": "#%%\n"
    }
   }
  },
  {
   "cell_type": "code",
   "execution_count": 80,
   "outputs": [
    {
     "data": {
      "text/plain": "(30, 1000)"
     },
     "execution_count": 80,
     "metadata": {},
     "output_type": "execute_result"
    }
   ],
   "source": [
    "env.underlying_prices.shape"
   ],
   "metadata": {
    "collapsed": false,
    "pycharm": {
     "name": "#%%\n"
    }
   }
  },
  {
   "cell_type": "code",
   "execution_count": 121,
   "outputs": [],
   "source": [
    "def delta_eval2():\n",
    "    # env.now = 0\n",
    "    # env.hold = np.zeros_like(env.hold)\n",
    "    # obs = env.get_obs()\n",
    "    obs = env.reset()\n",
    "    reward, done, info = 0, False, {}\n",
    "    total_raw_reward = 0\n",
    "    # i = 0\n",
    "    while not done:\n",
    "        moneyness, expiry, volatility = [obs[..., j] for j in range(3)]\n",
    "        action = european_call_delta(moneyness, expiry, volatility)\n",
    "        assert np.all(action - env.delta[env.now] < 1e-7)\n",
    "        obs, reward, done, info = env.step(action)\n",
    "        total_raw_reward += info['raw_reward']\n",
    "        print(np.round(action[:5], 4), end=\" \")\n",
    "        print(np.round(info['raw_reward'][:5], 4))\n",
    "        # i += 1\n",
    "\n",
    "    return total_raw_reward"
   ],
   "metadata": {
    "collapsed": false,
    "pycharm": {
     "name": "#%%\n"
    }
   }
  },
  {
   "cell_type": "code",
   "execution_count": 122,
   "outputs": [
    {
     "name": "stdout",
     "output_type": "stream",
     "text": [
      "[0.5114 0.5114 0.5114 0.5114 0.5114] [-0.0052  0.0018 -0.0016  0.0037 -0.0075]\n",
      "[0.4461 0.543  0.4965 0.5686 0.4151] [ 0.0001 -0.0034  0.0015  0.0067 -0.0014]\n",
      "[0.4473 0.4989 0.518  0.6504 0.3911] [ 0.0059 -0.      0.0113  0.0058  0.0023]\n",
      "[0.5421 0.4987 0.6707 0.7106 0.4313] [ 0.001  -0.0015  0.0032 -0.0123  0.0049]\n",
      "[0.5571 0.475  0.7052 0.5981 0.5152] [-0.003  -0.0047 -0.0009  0.0021 -0.0013]\n",
      "[0.517  0.3988 0.7009 0.6261 0.4966] [ 0.0027 -0.0014  0.01   -0.008   0.0031]\n",
      "[0.5582 0.3703 0.7901 0.5324 0.5453] [ 0.0103 -0.0005 -0.0007 -0.0012  0.0031]\n",
      "[0.6953 0.3586 0.7903 0.5163 0.5908] [-0.0024 -0.0022  0.0127  0.0063  0.0033]\n",
      "[0.6757 0.3088 0.8722 0.613  0.6355] [ 0.0098 -0.0018 -0.0004 -0.0061 -0.0004]\n",
      "[0.7764 0.264  0.8759 0.5354 0.634 ] [ 0.0086 -0.0031  0.0055 -0.0036 -0.0022]\n",
      "[0.8431 0.1821 0.9048 0.4802 0.6085] [ 0.0105 -0.0006  0.0127  0.0054  0.003 ]\n",
      "[0.9022 0.1602 0.9484 0.5771 0.651 ] [-0.0075 -0.0007 -0.0194  0.0073  0.004 ]\n",
      "[0.8755 0.1315 0.8929 0.6855 0.7036] [-0.0064 -0.0016 -0.0037  0.0067 -0.0044]\n",
      "[0.847  0.0732 0.8825 0.7641 0.6586] [-0.0064  0.0002 -0.0214 -0.0092 -0.013 ]\n",
      "[0.8108 0.0786 0.7473 0.6784 0.4813] [-0.0004  0.0002  0.0017  0.0048 -0.0047]\n",
      "[0.8153 0.0813 0.7719 0.7423 0.3875] [ 0.0032 -0.0003  0.0012 -0.0088 -0.0001]\n",
      "[0.8469 0.0631 0.7903 0.6472 0.3835] [-0.0062  0.0009 -0.0047 -0.0013  0.0076]\n",
      "[0.8088 0.1195 0.7533 0.6337 0.587 ] [-0.0199 -0.0004 -0.0167  0.0053  0.0019]\n",
      "[0.5958 0.0968 0.5442 0.7189 0.6274] [ 0.0076  0.0005 -0.0007  0.0061  0.0063]\n",
      "[0.7339 0.1134 0.5362 0.8012 0.7332] [ 0.0061 -0.0001 -0.0025  0.0013 -0.0166]\n",
      "[0.8173 0.0992 0.4804 0.8256 0.4908] [-0.0058  0.0011 -0.0117 -0.0155  0.0006]\n",
      "[0.7694 0.1598 0.2013 0.6564 0.5127] [-0.0077  0.0015 -0.0001 -0.0028  0.0056]\n",
      "[0.6732 0.2385 0.1945 0.6149 0.6543] [-0.0067  0.0022  0.0012 -0.0065  0.0022]\n",
      "[0.5496 0.3429 0.2447 0.474  0.7081] [-0.004  -0.0019 -0.005  -0.0023  0.0015]\n",
      "[0.4438 0.2594 0.0586 0.4004 0.7492] [-0.0034  0.0017 -0.0009 -0.0051 -0.0016]\n",
      "[0.3167 0.3397 0.0119 0.205  0.7412] [-0.0035 -0.0025  0.0001  0.0025  0.0094]\n",
      "[0.1468 0.2092 0.0335 0.3909 0.9055] [-0.0031 -0.0017 -0.0005  0.0066  0.0065]\n",
      "[0.0094 0.0868 0.0015 0.7371 0.9719] [-0.0001  0.0005 -0.     -0.0051 -0.0067]\n",
      "[0.0031 0.1214 0.     0.6345 0.9703] [-0.      0.0015 -0.     -0.0059  0.001 ]\n"
     ]
    }
   ],
   "source": [
    "delta_pnl = delta_eval2()"
   ],
   "metadata": {
    "collapsed": false,
    "pycharm": {
     "name": "#%%\n"
    }
   }
  },
  {
   "cell_type": "code",
   "execution_count": 123,
   "outputs": [
    {
     "data": {
      "text/plain": "<Figure size 1000x500 with 1 Axes>",
      "image/png": "[encoded data removed]"
     },
     "metadata": {},
     "output_type": "display_data"
    },
    {
     "name": "stdout",
     "output_type": "stream",
     "text": [
      "-0.024656186791497874\n",
      "-0.0029054321398454394\n"
     ]
    }
   ],
   "source": [
    "plt.hist(pnl2, bins=100, alpha=0.6, label='pnl2')\n",
    "plt.hist(delta_best, bins=100, alpha=0.6, label='best')\n",
    "plt.hist(delta_pnl, bins=100, alpha=0.6, label='rl')\n",
    "plt.legend()\n",
    "plt.show()\n",
    "\n",
    "print(np.mean(pnl2))\n",
    "print(np.mean(delta_pnl))"
   ],
   "metadata": {
    "collapsed": false,
    "pycharm": {
     "name": "#%%\n"
    }
   }
  },
  {
   "cell_type": "code",
   "execution_count": null,
   "outputs": [],
   "source": [],
   "metadata": {
    "collapsed": false,
    "pycharm": {
     "name": "#%%\n"
    }
   }
  }
 ],
 "metadata": {
  "kernelspec": {
   "display_name": "Python 3",
   "language": "python",
   "name": "python3"
  },
  "language_info": {
   "codemirror_mode": {
    "name": "ipython",
    "version": 2
   },
   "file_extension": ".py",
   "mimetype": "text/x-python",
   "name": "python",
   "nbconvert_exporter": "python",
   "pygments_lexer": "ipython2",
   "version": "2.7.6"
  }
 },
 "nbformat": 4,
 "nbformat_minor": 0
}