{
 "cells": [
  {
   "cell_type": "code",
   "execution_count": 1,
   "metadata": {
    "collapsed": true
   },
   "outputs": [],
   "source": [
    "import numpy as np\n",
    "import matplotlib.pyplot as plt\n",
    "\n",
    "from Algorithms.ddpg import config"
   ]
  },
  {
   "cell_type": "markdown",
   "source": [
    "# 0. Plot setting"
   ],
   "metadata": {
    "collapsed": false
   }
  },
  {
   "cell_type": "code",
   "execution_count": 2,
   "outputs": [],
   "source": [
    "import seaborn as sb\n",
    "import matplotlib\n",
    "\n",
    "sb.set_style('whitegrid')\n",
    "\n",
    "FONTSIZE = 10\n",
    "matplotlib.rcParams[\"figure.figsize\"] = (10, 5)\n",
    "matplotlib.rcParams[\"figure.dpi\"] = 100\n",
    "matplotlib.rcParams[\"figure.titlesize\"] = FONTSIZE\n",
    "matplotlib.rcParams[\"legend.fontsize\"] = FONTSIZE\n",
    "matplotlib.rcParams[\"xtick.labelsize\"] = FONTSIZE\n",
    "matplotlib.rcParams[\"ytick.labelsize\"] = FONTSIZE\n",
    "matplotlib.rcParams[\"axes.labelsize\"] = FONTSIZE\n",
    "matplotlib.rcParams[\"axes.titlesize\"] = FONTSIZE\n",
    "matplotlib.rcParams[\"savefig.bbox\"] = \"tight\"\n",
    "matplotlib.rcParams[\"savefig.pad_inches\"] = 0.1\n",
    "matplotlib.rcParams[\"lines.linewidth\"] = 2\n",
    "matplotlib.rcParams[\"axes.linewidth\"] = 1.6"
   ],
   "metadata": {
    "collapsed": false,
    "pycharm": {
     "name": "#%%\n"
    }
   }
  },
  {
   "cell_type": "markdown",
   "source": [
    "# Seed Setting"
   ],
   "metadata": {
    "collapsed": false
   }
  },
  {
   "cell_type": "code",
   "execution_count": 3,
   "outputs": [],
   "source": [
    "import torch as th\n",
    "import torch.nn as nn\n",
    "import random"
   ],
   "metadata": {
    "collapsed": false,
    "pycharm": {
     "name": "#%%\n"
    }
   }
  },
  {
   "cell_type": "code",
   "execution_count": 4,
   "outputs": [],
   "source": [
    "def set_seed(seed: int = 42):\n",
    "    random.seed(seed) # random\n",
    "    np.random.seed(seed) # numpy\n",
    "    # os.environ[\"PYTHONHASHSEED\"] = str(seed) # os\n",
    "    th.manual_seed(seed)\n",
    "    # th.cuda.manual_seed(seed)\n",
    "    # th.backends.cudnn.deterministic = True\n",
    "    # th.backends.cudnn.benchmark = False"
   ],
   "metadata": {
    "collapsed": false,
    "pycharm": {
     "name": "#%%\n"
    }
   }
  },
  {
   "cell_type": "markdown",
   "source": [
    "# 1. Recall results"
   ],
   "metadata": {
    "collapsed": false
   }
  },
  {
   "cell_type": "markdown",
   "source": [
    "## 1. GBM"
   ],
   "metadata": {
    "collapsed": false
   }
  },
  {
   "cell_type": "code",
   "execution_count": 171,
   "outputs": [],
   "source": [
    "# def geometric_brownian_motion(n_paths, maturity=30, dt=1 / 365, drift=0.0, volatility=0.2, device=None) -> th.Tensor:\n",
    "#\n",
    "#     # normal_rand = th.randn(size=(maturity, n_paths))\n",
    "#     normal_rand = th.from_numpy(np.random.randn(maturity, n_paths))\n",
    "#     normal_rand[0, :] = 0.0\n",
    "#\n",
    "#     noise_term = volatility * (dt ** 0.5) * normal_rand.cumsum(dim=0)   # normal_variable에 대한 cumsum이므로 variance가 dt만큼 가중돼 누적되어 나중에는 t만큼 벌어진다.\n",
    "#     t = th.linspace(0, maturity*dt, maturity)[:, None]    # set same device with noise_term\n",
    "#\n",
    "#     return th.exp((drift - 0.5*volatility**2)*t + noise_term)\n",
    "#\n",
    "#\n",
    "# def geometric_brownian_motion2(n_paths: int, n_periods: int = 30,\n",
    "#                                drift: float = 0.0, volatility: float = 0.2,\n",
    "#                                init_price: float = 1.0, dt: float = 1/365) -> np.ndarray:\n",
    "#\n",
    "#     z = np.random.standard_normal((n_periods, n_paths))\n",
    "#     z[0, :] = 0.0\n",
    "#\n",
    "#     noise_term = volatility * np.sqrt(dt) * z.cumsum(axis=0)\n",
    "#     # t = np.linspace(0, n_periods*dt, n_periods).reshape(-1, 1)\n",
    "#     t = np.arange(0, n_periods*dt, dt).reshape(-1, 1)\n",
    "#     return init_price*np.exp((drift - 0.5 * volatility ** 2) * t + noise_term)"
   ],
   "metadata": {
    "collapsed": false,
    "pycharm": {
     "name": "#%%\n"
    }
   }
  },
  {
   "cell_type": "markdown",
   "source": [
    "## 1.2 Delta"
   ],
   "metadata": {
    "collapsed": false
   }
  },
  {
   "cell_type": "code",
   "execution_count": 163,
   "outputs": [],
   "source": [
    "# # from Utils.prices import european_call_delta\n",
    "# from scipy.stats.distributions import norm\n",
    "#\n",
    "# def european_option_delta(moneyness, expiry, volatility):\n",
    "#     s, t, v = map(th.as_tensor, (moneyness, expiry, volatility))\n",
    "#     normal = th.distributions.Normal(loc=th.tensor(0.), scale=th.tensor(1.))\n",
    "#     delta = normal.cdf((s.log()+(v**2/2)*t) / (v*th.sqrt(t)))\n",
    "#     return delta\n",
    "#\n",
    "# def european_option_delta2(moneyness: np.ndarray,\n",
    "#                         expiry: np.ndarray,\n",
    "#                         volatility: float,\n",
    "#                         risk_free_interest: float = 0.0,\n",
    "#                         strike: float = 1.0, dividend: float = 0.0) -> np.ndarray:\n",
    "#\n",
    "#     normal = norm(loc=0.0, scale=1.0)\n",
    "#     d1 = european_option_d1(moneyness, expiry, volatility, risk_free_interest)\n",
    "#     return normal.cdf(d1) * np.exp(-dividend * expiry)\n",
    "#\n",
    "# def european_option_d1(moneyness: np.ndarray,\n",
    "#                        expiry: np.ndarray,\n",
    "#                        volatility: float,\n",
    "#                        risk_free_interest: float=0.0) -> np.ndarray:\n",
    "#\n",
    "#     a = np.log(moneyness) + (risk_free_interest + 0.5 * volatility ** 2) * expiry\n",
    "#     b = volatility * np.sqrt(expiry)\n",
    "#\n",
    "#     return a / b"
   ],
   "metadata": {
    "collapsed": false,
    "pycharm": {
     "name": "#%%\n"
    }
   }
  },
  {
   "cell_type": "code",
   "execution_count": 164,
   "outputs": [
    {
     "data": {
      "text/plain": "True"
     },
     "execution_count": 164,
     "metadata": {},
     "output_type": "execute_result"
    }
   ],
   "source": [
    "# moneyness = th.distributions.Normal(1., 0.2).sample((10, ))\n",
    "# expiry = th.full_like(moneyness, 15/365)\n",
    "# vol = th.full_like(moneyness, 0.2)\n",
    "#\n",
    "#\n",
    "# delta1 = european_option_delta(moneyness, expiry, vol).numpy()\n",
    "# delta2 = european_option_delta2(moneyness.numpy(), expiry.numpy(), vol.numpy())\n",
    "# # delta2 = european_option_d1(moneyness.numpy(), expiry.numpy(), vol.numpy())\n",
    "#\n",
    "# np.all(delta1 - delta2 < 1e-7)"
   ],
   "metadata": {
    "collapsed": false,
    "pycharm": {
     "name": "#%%\n"
    }
   }
  },
  {
   "cell_type": "markdown",
   "source": [
    "## 1.3 Payoff"
   ],
   "metadata": {
    "collapsed": false
   }
  },
  {
   "cell_type": "code",
   "execution_count": 165,
   "outputs": [],
   "source": [
    "# def european_option_payoff(prices: th.Tensor, strike=1.0) -> th.Tensor:\n",
    "#     return th.nn.functional.relu(prices - strike)\n",
    "#\n",
    "# def european_option_payoff2(prices: np.ndarray, strike: float = 1.0) -> np.ndarray:\n",
    "#     return np.clip(prices - strike, 0.0, np.inf)"
   ],
   "metadata": {
    "collapsed": false,
    "pycharm": {
     "name": "#%%\n"
    }
   }
  },
  {
   "cell_type": "code",
   "execution_count": 166,
   "outputs": [
    {
     "data": {
      "text/plain": "True"
     },
     "execution_count": 166,
     "metadata": {},
     "output_type": "execute_result"
    }
   ],
   "source": [
    "# tmp = th.randn(100)\n",
    "# np.all(european_option_payoff(tmp).numpy()==european_option_payoff2(tmp.numpy()))"
   ],
   "metadata": {
    "collapsed": false,
    "pycharm": {
     "name": "#%%\n"
    }
   }
  },
  {
   "cell_type": "markdown",
   "source": [
    "## 1.4 P&L"
   ],
   "metadata": {
    "collapsed": false
   }
  },
  {
   "cell_type": "code",
   "execution_count": 32,
   "outputs": [],
   "source": [
    "# def compute_pnl(n_assets=1000):\n",
    "#\n",
    "#     prices = geometric_brownian_motion(n_assets)  # prices over all time, shape (n_steps, n_paths)\n",
    "#     hedge = th.zeros_like(prices[0])        # positions, shape (n_paths, )\n",
    "#     pnl = 0\n",
    "#\n",
    "#     maturity = 30\n",
    "#     dt = 1/365\n",
    "#     vol_arg = 0.2\n",
    "#     transaction_cost = 1e-3\n",
    "#\n",
    "#     for i in range(prices.shape[0] - 1):\n",
    "#         # env's observations\n",
    "#         moneyness = prices[i]  # obs_1, shape (n_paths, 1)\n",
    "#         time_expiry = th.full_like(moneyness, (maturity - i)*dt)\n",
    "#         volatility = th.full_like(moneyness, vol_arg)\n",
    "#\n",
    "#         prev_hedge = hedge\n",
    "#         hedge = european_option_delta(moneyness, time_expiry, volatility)\n",
    "#\n",
    "#         # gain from price movement + loss from hedge movement\n",
    "#         pnl += hedge * (prices[i+1]-prices[i]) - transaction_cost * th.abs(hedge - prev_hedge) * prices[i]\n",
    "#\n",
    "#     # buyer's option execution (so, it is loss for seller=(us))\n",
    "#\n",
    "#     pnl -= european_option_payoff(prices[-1])\n",
    "#\n",
    "#     return pnl\n",
    "\n",
    "from Utils.prices import geometric_brownian_motion, european_call_delta, european_option_payoff\n",
    "def compute_pnl2(n_assets=1000):\n",
    "\n",
    "    prices = geometric_brownian_motion(n_assets, 30, 0.0, 0.2, 1.0, 1/365)  # prices over all time, shape (n_steps, n_paths)\n",
    "    hedge = np.zeros_like(prices[0])        # positions, shape (n_paths, )\n",
    "    pnl = 0\n",
    "\n",
    "    maturity = 30\n",
    "    dt = 1/365\n",
    "    vol_arg = 0.2\n",
    "    # transaction_cost = 2e-2\n",
    "    transaction_cost = 1e-3\n",
    "\n",
    "    for i in range(prices.shape[0] - 1):\n",
    "        # env's observations\n",
    "        z = i + 1\n",
    "        moneyness = prices[z]  # obs_1, shape (n_paths, 1)\n",
    "        time_expiry = np.full_like(moneyness, (maturity - z)*dt)\n",
    "        volatility = np.full_like(moneyness, vol_arg)\n",
    "\n",
    "        prev_hedge = hedge\n",
    "        hedge = european_call_delta(moneyness, time_expiry, volatility)\n",
    "\n",
    "        # gain from price movement + loss from hedge movement\n",
    "        pnl += hedge * (prices[i+1]-prices[i]) - transaction_cost * np.abs(hedge - prev_hedge) * prices[i]\n",
    "\n",
    "    # buyer's option execution (so, it is loss for seller=(us))\n",
    "\n",
    "    pnl -= european_option_payoff(prices[-1])\n",
    "\n",
    "    return pnl, prices"
   ],
   "metadata": {
    "collapsed": false,
    "pycharm": {
     "name": "#%%\n"
    }
   }
  },
  {
   "cell_type": "code",
   "execution_count": 39,
   "outputs": [],
   "source": [
    "set_seed()\n",
    "pnl2, prices = compute_pnl2()"
   ],
   "metadata": {
    "collapsed": false,
    "pycharm": {
     "name": "#%%\n"
    }
   }
  },
  {
   "cell_type": "code",
   "execution_count": 41,
   "outputs": [
    {
     "name": "stdout",
     "output_type": "stream",
     "text": [
      "env 'BSMarket was created!\n"
     ]
    },
    {
     "data": {
      "text/plain": "array([[1.        , 0.08219178, 0.2       , 0.        ],\n       [1.        , 0.08219178, 0.2       , 0.        ],\n       [1.        , 0.08219178, 0.2       , 0.        ],\n       ...,\n       [1.        , 0.08219178, 0.2       , 0.        ],\n       [1.        , 0.08219178, 0.2       , 0.        ],\n       [1.        , 0.08219178, 0.2       , 0.        ]])"
     },
     "execution_count": 41,
     "metadata": {},
     "output_type": "execute_result"
    }
   ],
   "source": [
    "from Env.env import BSMarket\n",
    "set_seed()\n",
    "env = BSMarket(1000, cost=1e-3, payoff_coeff=0.0)\n",
    "set_seed()\n",
    "env.reset()"
   ],
   "metadata": {
    "collapsed": false,
    "pycharm": {
     "name": "#%%\n"
    }
   }
  },
  {
   "cell_type": "code",
   "execution_count": 42,
   "outputs": [
    {
     "data": {
      "text/plain": "array([0.97113157, 0.97150435, 0.96427834, 0.9908707 , 1.01569597,\n       0.98746589, 1.01967154, 0.99520127, 1.03350343, 1.04248849])"
     },
     "execution_count": 42,
     "metadata": {},
     "output_type": "execute_result"
    }
   ],
   "source": [
    "env.underlying_prices[10, :10]"
   ],
   "metadata": {
    "collapsed": false,
    "pycharm": {
     "name": "#%%\n"
    }
   }
  },
  {
   "cell_type": "code",
   "execution_count": 43,
   "outputs": [
    {
     "data": {
      "text/plain": "array([0.97113157, 0.97150435, 0.96427834, 0.9908707 , 1.01569597,\n       0.98746589, 1.01967154, 0.99520127, 1.03350343, 1.04248849])"
     },
     "execution_count": 43,
     "metadata": {},
     "output_type": "execute_result"
    }
   ],
   "source": [
    "prices[10, :10]"
   ],
   "metadata": {
    "collapsed": false,
    "pycharm": {
     "name": "#%%\n"
    }
   }
  },
  {
   "cell_type": "code",
   "execution_count": 47,
   "outputs": [],
   "source": [
    "def delta_eval2():\n",
    "    set_seed()\n",
    "    # obs = env.reset()\n",
    "    env.underlying_prices = prices.copy()\n",
    "    env.now = 0\n",
    "    obs = env.get_obs()\n",
    "\n",
    "    reward, done, info = 0, False, {}\n",
    "    total_raw_reward = 0\n",
    "    # i = 0\n",
    "    while not done:\n",
    "        moneyness, expiry, volatility = [obs[..., j] for j in range(3)]\n",
    "        action = european_call_delta(moneyness, expiry, volatility)\n",
    "        # moneyness, expiry, volatility = [obs[..., j] for j in range(3)]\n",
    "        # action = european_call_delta(moneyness, expiry, volatility)\n",
    "        # assert np.all(abs(action - self.delta[i]) < 1e-5)\n",
    "        obs, reward, done, info = env.step(action)\n",
    "        total_raw_reward += info['raw_reward']\n",
    "        # i += 1\n",
    "\n",
    "    return total_raw_reward"
   ],
   "metadata": {
    "collapsed": false,
    "pycharm": {
     "name": "#%%\n"
    }
   }
  },
  {
   "cell_type": "code",
   "execution_count": 48,
   "outputs": [],
   "source": [
    "delta_pnl = delta_eval2()"
   ],
   "metadata": {
    "collapsed": false,
    "pycharm": {
     "name": "#%%\n"
    }
   }
  },
  {
   "cell_type": "code",
   "execution_count": 9,
   "outputs": [],
   "source": [
    "delta_best = np.load('delta_best.npy')"
   ],
   "metadata": {
    "collapsed": false,
    "pycharm": {
     "name": "#%%\n"
    }
   }
  },
  {
   "cell_type": "code",
   "execution_count": 49,
   "outputs": [
    {
     "data": {
      "text/plain": "<Figure size 1000x500 with 1 Axes>",
      "image/png": "[encoded data removed]"
     },
     "metadata": {},
     "output_type": "display_data"
    },
    {
     "name": "stdout",
     "output_type": "stream",
     "text": [
      "-0.002435079770266602\n",
      "-0.002477997416248388\n"
     ]
    }
   ],
   "source": [
    "plt.hist(pnl2, bins=100, alpha=0.6, label='pnl2')\n",
    "plt.hist(delta_best, bins=100, alpha=0.6, label='best')\n",
    "plt.hist(delta_pnl, bins=100, alpha=0.6, label='rl')\n",
    "plt.legend()\n",
    "plt.show()\n",
    "\n",
    "print(np.mean(delta_pnl))\n",
    "print(np.mean(pnl2))"
   ],
   "metadata": {
    "collapsed": false,
    "pycharm": {
     "name": "#%%\n"
    }
   }
  },
  {
   "cell_type": "markdown",
   "source": [
    "# 2. For Env"
   ],
   "metadata": {
    "collapsed": false
   }
  },
  {
   "cell_type": "code",
   "execution_count": 11,
   "outputs": [
    {
     "name": "stdout",
     "output_type": "stream",
     "text": [
      "env 'BSMarket was created!\n"
     ]
    }
   ],
   "source": [
    "from Env.env import BSMarket\n",
    "env = BSMarket(1000, cost=1e-3)"
   ],
   "metadata": {
    "collapsed": false,
    "pycharm": {
     "name": "#%%\n"
    }
   }
  },
  {
   "cell_type": "code",
   "execution_count": 12,
   "outputs": [
    {
     "data": {
      "text/plain": "(30, 1000)"
     },
     "execution_count": 12,
     "metadata": {},
     "output_type": "execute_result"
    }
   ],
   "source": [
    "env.underlying_prices.shape"
   ],
   "metadata": {
    "collapsed": false,
    "pycharm": {
     "name": "#%%\n"
    }
   }
  },
  {
   "cell_type": "code",
   "execution_count": 24,
   "outputs": [],
   "source": [
    "def delta_eval2():\n",
    "    obs = env.reset()\n",
    "    reward, done, info = 0, False, {}\n",
    "    total_raw_reward = 0\n",
    "    # i = 0\n",
    "    while not done:\n",
    "        action = env.delta[env.now+1].copy()\n",
    "        # moneyness, expiry, volatility = [obs[..., j] for j in range(3)]\n",
    "        # action = european_call_delta(moneyness, expiry, volatility)\n",
    "        # moneyness, expiry, volatility = [obs[..., j] for j in range(3)]\n",
    "        # action = european_call_delta(moneyness, expiry, volatility)\n",
    "        # assert np.all(abs(action - self.delta[i]) < 1e-5)\n",
    "        obs, reward, done, info = env.step(action)\n",
    "        total_raw_reward += info['raw_reward']\n",
    "        # i += 1\n",
    "\n",
    "    return total_raw_reward"
   ],
   "metadata": {
    "collapsed": false,
    "pycharm": {
     "name": "#%%\n"
    }
   }
  },
  {
   "cell_type": "code",
   "execution_count": 25,
   "outputs": [],
   "source": [
    "delta_pnl = delta_eval2()"
   ],
   "metadata": {
    "collapsed": false,
    "pycharm": {
     "name": "#%%\n"
    }
   }
  },
  {
   "cell_type": "code",
   "execution_count": null,
   "outputs": [],
   "source": [],
   "metadata": {
    "collapsed": false,
    "pycharm": {
     "name": "#%%\n"
    }
   }
  }
 ],
 "metadata": {
  "kernelspec": {
   "display_name": "Python 3",
   "language": "python",
   "name": "python3"
  },
  "language_info": {
   "codemirror_mode": {
    "name": "ipython",
    "version": 2
   },
   "file_extension": ".py",
   "mimetype": "text/x-python",
   "name": "python",
   "nbconvert_exporter": "python",
   "pygments_lexer": "ipython2",
   "version": "2.7.6"
  }
 },
 "nbformat": 4,
 "nbformat_minor": 0
}