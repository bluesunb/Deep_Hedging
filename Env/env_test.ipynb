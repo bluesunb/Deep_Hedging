{
 "cells": [
  {
   "cell_type": "code",
   "execution_count": 2,
   "metadata": {
    "collapsed": true
   },
   "outputs": [],
   "source": [
    "import numpy as np\n",
    "import torch as th\n",
    "import gym\n",
    "import gym.spaces as spaces\n",
    "\n",
    "from Env.env import BSMarket"
   ]
  },
  {
   "cell_type": "code",
   "execution_count": 3,
   "outputs": [],
   "source": [
    "env = BSMarket(n_assets=50000,\n",
    "               cost=0.02,\n",
    "                 n_periods=30,\n",
    "                 freq=1,\n",
    "                 period_unit=365,\n",
    "                 drift=0.0,\n",
    "                 volatility=0.2,\n",
    "                 init_price=1.0,\n",
    "                 risk_free_interest=0.0,\n",
    "                 strike=1.0,\n",
    "                 dividend=0.0,\n",
    "                 payoff=\"european\",\n",
    "                 gen_name=\"gbm\",\n",
    "                 reward_mode=\"pnl\")"
   ],
   "metadata": {
    "collapsed": false,
    "pycharm": {
     "name": "#%%\n"
    }
   }
  },
  {
   "cell_type": "code",
   "execution_count": null,
   "outputs": [],
   "source": [],
   "metadata": {
    "collapsed": false,
    "pycharm": {
     "name": "#%%\n"
    }
   }
  }
 ],
 "metadata": {
  "kernelspec": {
   "display_name": "Python 3",
   "language": "python",
   "name": "python3"
  },
  "language_info": {
   "codemirror_mode": {
    "name": "ipython",
    "version": 2
   },
   "file_extension": ".py",
   "mimetype": "text/x-python",
   "name": "python",
   "nbconvert_exporter": "python",
   "pygments_lexer": "ipython2",
   "version": "2.7.6"
  }
 },
 "nbformat": 4,
 "nbformat_minor": 0
}